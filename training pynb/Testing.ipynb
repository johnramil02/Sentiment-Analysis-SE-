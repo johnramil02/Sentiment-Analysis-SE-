{
  "nbformat": 4,
  "nbformat_minor": 0,
  "metadata": {
    "colab": {
      "name": "Testing.ipynb",
      "provenance": [],
      "collapsed_sections": []
    },
    "kernelspec": {
      "display_name": "Python 3",
      "language": "python",
      "name": "python3"
    },
    "language_info": {
      "codemirror_mode": {
        "name": "ipython",
        "version": 3
      },
      "file_extension": ".py",
      "mimetype": "text/x-python",
      "name": "python",
      "nbconvert_exporter": "python",
      "pygments_lexer": "ipython3",
      "version": "3.6.5"
    }
  },
  "cells": [
    {
      "cell_type": "code",
      "metadata": {
        "colab": {
          "base_uri": "https://localhost:8080/"
        },
        "id": "4fKv5eY73AZp",
        "outputId": "e87ff56b-c2eb-4dcd-a7bb-446c9c6ce073"
      },
      "source": [
        "\n",
        "from google.colab import drive\n",
        " \n",
        "drive.mount(\"/content/gdrive\")"
      ],
      "execution_count": 215,
      "outputs": [
        {
          "output_type": "stream",
          "name": "stdout",
          "text": [
            "Drive already mounted at /content/gdrive; to attempt to forcibly remount, call drive.mount(\"/content/gdrive\", force_remount=True).\n"
          ]
        }
      ]
    },
    {
      "cell_type": "code",
      "metadata": {
        "id": "2z4dFcqBZTAA"
      },
      "source": [
        ""
      ],
      "execution_count": 215,
      "outputs": []
    },
    {
      "cell_type": "code",
      "metadata": {
        "id": "KHpalLshWAk0",
        "scrolled": true
      },
      "source": [
        "from __future__ import division, print_function\n",
        "import gensim\n",
        "from gensim import models\n",
        "from keras.callbacks import ModelCheckpoint\n",
        "from keras.layers import Dense, Dropout, Reshape, Flatten, concatenate, Input, Conv1D, GlobalMaxPooling1D, Embedding\n",
        "from keras.layers.recurrent import LSTM\n",
        "from keras.models import Sequential\n",
        "from keras.preprocessing.text import Tokenizer\n",
        "from keras.preprocessing.sequence import pad_sequences\n",
        "from keras.models import Model\n",
        "from sklearn.model_selection import train_test_split\n",
        "import numpy as np\n",
        "import pandas as pd\n",
        "import os\n",
        "import collections\n",
        "import re\n",
        "import string"
      ],
      "execution_count": 216,
      "outputs": []
    },
    {
      "cell_type": "markdown",
      "metadata": {
        "id": "T_aCNzoRWAk2"
      },
      "source": [
        "### Read data"
      ]
    },
    {
      "cell_type": "code",
      "metadata": {
        "id": "izDu_tYqWAk2"
      },
      "source": [
        "#data = pd.read_csv('/content/gdrive/MyDrive/dataset/csv/mergr_draft.csv',header = None)\n",
        "data = pd.read_csv('/content/merge.csv',header = None)\n"
      ],
      "execution_count": 217,
      "outputs": []
    },
    {
      "cell_type": "code",
      "metadata": {
        "id": "ZGGFPwDEWAk3"
      },
      "source": [
        "data.columns = ['Text', 'Label']"
      ],
      "execution_count": 218,
      "outputs": []
    },
    {
      "cell_type": "code",
      "metadata": {
        "colab": {
          "base_uri": "https://localhost:8080/",
          "height": 206
        },
        "id": "mu3yHG4UWAk3",
        "outputId": "fbda87a3-ad29-4f08-a7ff-d728699de443"
      },
      "source": [
        "data.head()"
      ],
      "execution_count": 219,
      "outputs": [
        {
          "output_type": "execute_result",
          "data": {
            "text/html": [
              "<div>\n",
              "<style scoped>\n",
              "    .dataframe tbody tr th:only-of-type {\n",
              "        vertical-align: middle;\n",
              "    }\n",
              "\n",
              "    .dataframe tbody tr th {\n",
              "        vertical-align: top;\n",
              "    }\n",
              "\n",
              "    .dataframe thead th {\n",
              "        text-align: right;\n",
              "    }\n",
              "</style>\n",
              "<table border=\"1\" class=\"dataframe\">\n",
              "  <thead>\n",
              "    <tr style=\"text-align: right;\">\n",
              "      <th></th>\n",
              "      <th>Text</th>\n",
              "      <th>Label</th>\n",
              "    </tr>\n",
              "  </thead>\n",
              "  <tbody>\n",
              "    <tr>\n",
              "      <th>0</th>\n",
              "      <td>Super ganda sya and kasyang kasya i like it th...</td>\n",
              "      <td>2</td>\n",
              "    </tr>\n",
              "    <tr>\n",
              "      <th>1</th>\n",
              "      <td>Maganda naman siyaaaaa and ang bilis magship n...</td>\n",
              "      <td>2</td>\n",
              "    </tr>\n",
              "    <tr>\n",
              "      <th>2</th>\n",
              "      <td>OKS LANG BAGAY KAY BFâ¤ï¸\\nThank you â¤ï¸</td>\n",
              "      <td>2</td>\n",
              "    </tr>\n",
              "    <tr>\n",
              "      <th>3</th>\n",
              "      <td>The items were delivered securely! Although it...</td>\n",
              "      <td>2</td>\n",
              "    </tr>\n",
              "    <tr>\n",
              "      <th>4</th>\n",
              "      <td>maganda highly recommend\\nokay nmn  worth it d...</td>\n",
              "      <td>2</td>\n",
              "    </tr>\n",
              "  </tbody>\n",
              "</table>\n",
              "</div>"
            ],
            "text/plain": [
              "                                                Text  Label\n",
              "0  Super ganda sya and kasyang kasya i like it th...      2\n",
              "1  Maganda naman siyaaaaa and ang bilis magship n...      2\n",
              "2      OKS LANG BAGAY KAY BFâ¤ï¸\\nThank you â¤ï¸      2\n",
              "3  The items were delivered securely! Although it...      2\n",
              "4  maganda highly recommend\\nokay nmn  worth it d...      2"
            ]
          },
          "metadata": {},
          "execution_count": 219
        }
      ]
    },
    {
      "cell_type": "code",
      "metadata": {
        "colab": {
          "base_uri": "https://localhost:8080/"
        },
        "id": "y62_pDuGWAk5",
        "outputId": "40ac84ab-0509-46c1-e0a2-d910aef345b5"
      },
      "source": [
        "data.Label.unique()"
      ],
      "execution_count": 220,
      "outputs": [
        {
          "output_type": "execute_result",
          "data": {
            "text/plain": [
              "array([2, 1, 0])"
            ]
          },
          "metadata": {},
          "execution_count": 220
        }
      ]
    },
    {
      "cell_type": "code",
      "metadata": {
        "colab": {
          "base_uri": "https://localhost:8080/"
        },
        "id": "-gCEm0iNWAk5",
        "outputId": "2e06dfd5-ee91-4ee3-f661-ec02524a998a"
      },
      "source": [
        "data.shape\n",
        "len(data)"
      ],
      "execution_count": 221,
      "outputs": [
        {
          "output_type": "execute_result",
          "data": {
            "text/plain": [
              "3002"
            ]
          },
          "metadata": {},
          "execution_count": 221
        }
      ]
    },
    {
      "cell_type": "code",
      "metadata": {
        "id": "NPxtmUWZWAk6"
      },
      "source": [
        "pos = []\n",
        "neg = []\n",
        "neu = []\n",
        "\n",
        "for l in data.Label:\n",
        "    if l == 0:\n",
        "        pos.append(0)\n",
        "        neg.append(1)\n",
        "        neu.append(0)\n",
        "    elif l == 1:\n",
        "        pos.append(0)\n",
        "        neg.append(0)\n",
        "        neu.append(1)\n",
        "    elif l == 2:\n",
        "        pos.append(1)\n",
        "        neg.append(0)\n",
        "        neu.append(0)"
      ],
      "execution_count": 222,
      "outputs": []
    },
    {
      "cell_type": "code",
      "metadata": {
        "colab": {
          "base_uri": "https://localhost:8080/"
        },
        "id": "OidOXJCOBUfi",
        "outputId": "692cd3f5-a062-4247-961a-d76f40e36fac"
      },
      "source": [
        "len(neu)"
      ],
      "execution_count": 223,
      "outputs": [
        {
          "output_type": "execute_result",
          "data": {
            "text/plain": [
              "3002"
            ]
          },
          "metadata": {},
          "execution_count": 223
        }
      ]
    },
    {
      "cell_type": "code",
      "metadata": {
        "id": "lY5E-R9HWAk7"
      },
      "source": [
        "data['Pos']= pos\n",
        "data['Neg']= neg\n",
        "data['Neu'] = neu"
      ],
      "execution_count": 224,
      "outputs": []
    },
    {
      "cell_type": "code",
      "metadata": {
        "colab": {
          "base_uri": "https://localhost:8080/",
          "height": 206
        },
        "id": "ys2pYhP4WAk7",
        "outputId": "cd08cbf0-da64-47fe-8627-2dff960490ab"
      },
      "source": [
        "data.head()"
      ],
      "execution_count": 225,
      "outputs": [
        {
          "output_type": "execute_result",
          "data": {
            "text/html": [
              "<div>\n",
              "<style scoped>\n",
              "    .dataframe tbody tr th:only-of-type {\n",
              "        vertical-align: middle;\n",
              "    }\n",
              "\n",
              "    .dataframe tbody tr th {\n",
              "        vertical-align: top;\n",
              "    }\n",
              "\n",
              "    .dataframe thead th {\n",
              "        text-align: right;\n",
              "    }\n",
              "</style>\n",
              "<table border=\"1\" class=\"dataframe\">\n",
              "  <thead>\n",
              "    <tr style=\"text-align: right;\">\n",
              "      <th></th>\n",
              "      <th>Text</th>\n",
              "      <th>Label</th>\n",
              "      <th>Pos</th>\n",
              "      <th>Neg</th>\n",
              "      <th>Neu</th>\n",
              "    </tr>\n",
              "  </thead>\n",
              "  <tbody>\n",
              "    <tr>\n",
              "      <th>0</th>\n",
              "      <td>Super ganda sya and kasyang kasya i like it th...</td>\n",
              "      <td>2</td>\n",
              "      <td>1</td>\n",
              "      <td>0</td>\n",
              "      <td>0</td>\n",
              "    </tr>\n",
              "    <tr>\n",
              "      <th>1</th>\n",
              "      <td>Maganda naman siyaaaaa and ang bilis magship n...</td>\n",
              "      <td>2</td>\n",
              "      <td>1</td>\n",
              "      <td>0</td>\n",
              "      <td>0</td>\n",
              "    </tr>\n",
              "    <tr>\n",
              "      <th>2</th>\n",
              "      <td>OKS LANG BAGAY KAY BFâ¤ï¸\\nThank you â¤ï¸</td>\n",
              "      <td>2</td>\n",
              "      <td>1</td>\n",
              "      <td>0</td>\n",
              "      <td>0</td>\n",
              "    </tr>\n",
              "    <tr>\n",
              "      <th>3</th>\n",
              "      <td>The items were delivered securely! Although it...</td>\n",
              "      <td>2</td>\n",
              "      <td>1</td>\n",
              "      <td>0</td>\n",
              "      <td>0</td>\n",
              "    </tr>\n",
              "    <tr>\n",
              "      <th>4</th>\n",
              "      <td>maganda highly recommend\\nokay nmn  worth it d...</td>\n",
              "      <td>2</td>\n",
              "      <td>1</td>\n",
              "      <td>0</td>\n",
              "      <td>0</td>\n",
              "    </tr>\n",
              "  </tbody>\n",
              "</table>\n",
              "</div>"
            ],
            "text/plain": [
              "                                                Text  Label  Pos  Neg  Neu\n",
              "0  Super ganda sya and kasyang kasya i like it th...      2    1    0    0\n",
              "1  Maganda naman siyaaaaa and ang bilis magship n...      2    1    0    0\n",
              "2      OKS LANG BAGAY KAY BFâ¤ï¸\\nThank you â¤ï¸      2    1    0    0\n",
              "3  The items were delivered securely! Although it...      2    1    0    0\n",
              "4  maganda highly recommend\\nokay nmn  worth it d...      2    1    0    0"
            ]
          },
          "metadata": {},
          "execution_count": 225
        }
      ]
    },
    {
      "cell_type": "code",
      "metadata": {
        "id": "m56aR6vebcKV"
      },
      "source": [
        ""
      ],
      "execution_count": 225,
      "outputs": []
    },
    {
      "cell_type": "markdown",
      "metadata": {
        "id": "GGpZSG-vWAk8"
      },
      "source": [
        "### Clean data"
      ]
    },
    {
      "cell_type": "code",
      "metadata": {
        "id": "g8nHAnEdWAk8"
      },
      "source": [
        "def remove_punct(text):\n",
        "    text_nopunct = ''\n",
        "    text_nopunct = re.sub('['+string.punctuation+']', '', text)\n",
        "    return text_nopunct\n",
        "\n",
        "data['Text_Clean'] = data['Text'].apply(lambda x: remove_punct(x))"
      ],
      "execution_count": 226,
      "outputs": []
    },
    {
      "cell_type": "code",
      "metadata": {
        "colab": {
          "base_uri": "https://localhost:8080/"
        },
        "id": "xy5xxR9SWAk9",
        "outputId": "413777d9-0e4f-493c-d9e1-dcd774e45402"
      },
      "source": [
        "from nltk import word_tokenize, WordNetLemmatizer\n",
        "import nltk\n",
        "nltk.download('punkt')\n",
        "tokens = [word_tokenize(tweet) for tweet in data.Text_Clean]"
      ],
      "execution_count": 227,
      "outputs": [
        {
          "output_type": "stream",
          "name": "stdout",
          "text": [
            "[nltk_data] Downloading package punkt to /root/nltk_data...\n",
            "[nltk_data]   Package punkt is already up-to-date!\n"
          ]
        }
      ]
    },
    {
      "cell_type": "code",
      "metadata": {
        "id": "G9kkM9JWDueu"
      },
      "source": [
        ""
      ],
      "execution_count": 227,
      "outputs": []
    },
    {
      "cell_type": "code",
      "metadata": {
        "id": "Jf9MPcMLWAk9"
      },
      "source": [
        "def lowerStemmer(tokens): \n",
        "    return [w.lower() for w in tokens]    \n",
        "    \n",
        "lower_tokens = [lowerStemmer(token) for token in tokens]"
      ],
      "execution_count": 228,
      "outputs": []
    },
    {
      "cell_type": "code",
      "metadata": {
        "id": "ivIpkB6tWAk-",
        "colab": {
          "base_uri": "https://localhost:8080/"
        },
        "outputId": "1e403cae-8170-4d66-aa4c-89f07bc9596c"
      },
      "source": [
        "stoplist = \"\"\n",
        "with open('/content/gdrive/MyDrive/dataset/stopword/stopwords.txt') as f:\n",
        "  contents = f.read()\n",
        "  stoplist = stoplist + contents\n",
        "stopwords = word_tokenize(stoplist)\n",
        "print(stoplist)"
      ],
      "execution_count": 229,
      "outputs": [
        {
          "output_type": "stream",
          "name": "stdout",
          "text": [
            "i\n",
            "me\n",
            "my\n",
            "myself\n",
            "we\n",
            "our\n",
            "ours\n",
            "ourselves\n",
            "you\n",
            "you're\n",
            "you've\n",
            "you'll\n",
            "you'd\n",
            "your\n",
            "yours\n",
            "yourself\n",
            "yourselves\n",
            "he\n",
            "him\n",
            "his\n",
            "himself\n",
            "she\n",
            "she's\n",
            "her\n",
            "hers\n",
            "herself\n",
            "it\n",
            "it's\n",
            "its\n",
            "itself\n",
            "they\n",
            "them\n",
            "their\n",
            "theirs\n",
            "themselves\n",
            "what\n",
            "which\n",
            "who\n",
            "whom\n",
            "this\n",
            "that\n",
            "that'll\n",
            "these\n",
            "those\n",
            "am\n",
            "is\n",
            "are\n",
            "was\n",
            "were\n",
            "be\n",
            "been\n",
            "being\n",
            "have\n",
            "has\n",
            "had\n",
            "having\n",
            "do\n",
            "does\n",
            "did\n",
            "doing\n",
            "a\n",
            "an\n",
            "the\n",
            "and\n",
            "if\n",
            "or\n",
            "as\n",
            "until\n",
            "while\n",
            "of\n",
            "at\n",
            "by\n",
            "for\n",
            "with\n",
            "about\n",
            "between\n",
            "into\n",
            "through\n",
            "during\n",
            "before\n",
            "after\n",
            "to\n",
            "from\n",
            "in\n",
            "out\n",
            "further\n",
            "then\n",
            "once\n",
            "here\n",
            "there\n",
            "when\n",
            "where\n",
            "why\n",
            "how\n",
            "all\n",
            "any\n",
            "both\n",
            "each\n",
            "other\n",
            "some\n",
            "such\n",
            "own\n",
            "so\n",
            "than\n",
            "s\n",
            "t\n",
            "can\n",
            "will\n",
            "just\n",
            "don\n",
            "should\n",
            "should've\n",
            "now\n",
            "d\n",
            "ll\n",
            "m\n",
            "o\n",
            "re\n",
            "ve\n",
            "y\n",
            "ain\n",
            "aren\n",
            "couldn\n",
            "didn\n",
            "doesn\n",
            "hadn\n",
            "hasn\n",
            "haven\n",
            "isn\n",
            "ma\n",
            "mightn\n",
            "mustn\n",
            "needn\n",
            "shan\n",
            "shan't\n",
            "shouldn\n",
            "wasn\n",
            "weren\n",
            "won\n",
            "wouldn\n",
            "akin\n",
            "aking\n",
            "ako\n",
            "alin\n",
            "am\n",
            "amin\n",
            "aming\n",
            "ang\n",
            "ano\n",
            "anumang\n",
            "apat\n",
            "at\n",
            "atin\n",
            "ating\n",
            "ay\n",
            "bakit\n",
            "bawat\n",
            "bilang\n",
            "dahil\n",
            "din\n",
            "dito\n",
            "doon\n",
            "gagawin\n",
            "gayunman\n",
            "ginagawa\n",
            "ginawa\n",
            "ginawang\n",
            "gumawa\n",
            "habang\n",
            "hanggang\n",
            "iba\n",
            "ibabaw\n",
            "ibig\n",
            "ikaw\n",
            "ilagay\n",
            "ilalim\n",
            "ilan\n",
            "inyong\n",
            "isang\n",
            "ito\n",
            "iyo\n",
            "iyon\n",
            "iyong\n",
            "ka\n",
            "kailanman\n",
            "kami\n",
            "kanila\n",
            "kanilang\n",
            "kanino\n",
            "kanya\n",
            "kanyang\n",
            "kapag\n",
            "kapwa\n",
            "ko\n",
            "kong\n",
            "kumuha\n",
            "kung\n",
            "laban\n",
            "likod\n",
            "maging\n",
            "makita\n",
            "may\n",
            "mga\n",
            "mula\n",
            "muli\n",
            "na\n",
            "nabanggit\n",
            "namin\n",
            "narito\n",
            "ng\n",
            "ni\n",
            "nila\n",
            "nilang\n",
            "nito\n",
            "niya\n",
            "niyang\n",
            "noon\n",
            "o\n",
            "pa\n",
            "pagitan\n",
            "pagkakaroon\n",
            "palabas\n",
            "pamamagitan\n",
            "panahon\n",
            "para\n",
            "pumunta\n",
            "pumupunta\n",
            "sa\n",
            "sabi\n",
            "sabihin\n",
            "sarili\n",
            "sila\n",
            "sino\n",
            "siya\n",
            "tayo\n",
            "tungkol\n",
            "\n",
            "\n"
          ]
        }
      ]
    },
    {
      "cell_type": "code",
      "metadata": {
        "id": "yYcmwEXFWAk-"
      },
      "source": [
        "def removeStopWords(tokens): \n",
        "    return [word for word in tokens if word not in stoplist]"
      ],
      "execution_count": 230,
      "outputs": []
    },
    {
      "cell_type": "code",
      "metadata": {
        "colab": {
          "base_uri": "https://localhost:8080/"
        },
        "id": "he0oYp3nWAk-",
        "outputId": "ebdce736-f225-4258-965a-e798f2a4e4d8"
      },
      "source": [
        "filtered_words = [removeStopWords(sen) for sen in lower_tokens]\n",
        "print(filtered_words)"
      ],
      "execution_count": 231,
      "outputs": [
        {
          "output_type": "stream",
          "name": "stdout",
          "text": [
            "[['super', 'ganda', 'sya', 'kasyang', 'kasya', 'like', 'thank', 'seller', 'araw', 'dumating', 'agad', 'super', 'ganda', 'sya', 'kasyang', 'kasya', 'like', 'thank', 'seller', 'araw', 'dumating', 'agad', 'super', 'ganda', 'sya', 'kasyang', 'kasya', 'like', 'thank', 'seller', 'araw', 'dumating', 'agad', 'super', 'ganda', 'sya'], ['maganda', 'naman', 'siyaaaaa', 'bilis', 'magship', 'item'], ['oks', 'bagay', 'kay', 'bfâ\\x9d¤ï¸\\x8f', 'thank', 'â\\x9d¤ï¸\\x8f'], ['items', 'delivered', 'securely', 'although', 'takes', 'couple', 'days', 'received', 'order', 'items', 'complete', 'look', 'okay', 'anyways', 'thank', 'seller'], ['maganda', 'highly', 'recommend', 'okay', 'nmn', 'worth', 'nmn', 'survived', 'maganda', 'tsaka', 'wort', 'dear', 'seller', 'wanted', 'tell', 'satisfied', 'greatful', 'product'], ['thank', 'thank', 'ðÿ', '’', '•', 'god', 'blessed', 'ðÿ˜‡', 'next', 'trasaction', 'ðÿ¤—ðÿ˜˜ðÿ–¤ðÿ–¤ðÿ–¤thank', 'thank', 'ðÿ', '’', '•', 'god', 'blessed', 'ðÿ˜‡', 'next', 'trasaction', 'ðÿ¤—ðÿ˜˜ðÿ–¤ðÿ–¤ðÿ–¤thank', 'thank', 'ðÿ', '’', '•', 'god', 'blessed', 'ðÿ˜‡', 'next', 'trasaction', 'ðÿ¤—ðÿ˜˜ðÿ–¤ðÿ–¤ðÿ–¤thank', 'thank', 'ðÿ', '’', '•', 'god', 'blessed', 'ðÿ˜‡', 'next', 'trasaction', 'ðÿ¤—ðÿ˜˜ðÿ–¤ðÿ–¤ðÿ–¤thank', 'thank', 'ðÿ', '’', '•'], ['high', 'quality', 'products', 'yet', 'affordable', 'thank', 'much', 'seller', 'shopee', 'really', 'like', 'product', 'fast', 'shipping', 'highly', 'recommended', 'definitely', 'buy', 'again', 'thank', 'more', 'power', 'ordered', 'item', 'last', '1015', 'sale', '12mn', 'received', '1016', 'think', 'bilis', 'transaction', 'delivery', 'etc', 'packaging', 'super', 'safe', 'naka', 'bubble', 'wrap', 'super', 'secured', 'oorder', 'ulit', 'next', 'time', 'thank', 'seller', 'ðÿ§¡', 'maganda', 'maganda', 'maganda', 'maganda', 'maganda', 'maganda', 'maganda', 'maganda', 'maganda', 'maganda', 'maganda', 'maganda', 'maganda', 'maganda', 'maganda', 'maganda', 'ok', 'yung', 'item', 'maayos', 'nung', 'dumating', 'mabilis', 'nadeliver', 'maganda', 'sya'], ['ð\\x9dš\\x81ð\\x9dšžð\\x9dšœð\\x9dš', '’', 'ð\\x9dšžð\\x9dšÿð\\x9dšž', 'ð\\x9dš', '”', 'ð\\x9dš˜', 'ð\\x9dš—', 'ð\\x9dš™ð\\x9dš˜ð\\x9dššð\\x9dš—ð\\x9dš\\x90', 'ð\\x9dš\\x90ð\\x9dššð\\x9dš—ð\\x9dš\\x8d', 'ð\\x9dš™ð\\x9dš˜', 'ð\\x9dš—ð\\x9dš\\x90ð\\x9dšžð\\x9dšœð\\x9dš\\x9dð\\x9dšžð\\x9dš', '‘', 'ð\\x9dššð\\x9dš—', 'ð\\x9dš—ð\\x9dš\\x90', 'ð\\x9dššð\\x9dš—ð\\x9dš', '”', 'ð\\x9dš', '”', 'ð\\x9dš˜ð\\x9dš\\x9dð\\x9dš', '‘', 'ð\\x9dššð\\x9dš—ð\\x9dš', '”', 'ð\\x9dšžâ\\x9d¤ï¸\\x8fâ\\x9d¤ï¸\\x8fð\\x9dš\\x9dð\\x9dš', '‘', 'ð\\x9dššð\\x9dš—ð\\x9dš', '”', 'ð\\x9dšœ', 'ð\\x9dš\\x8dð\\x9dš—', 'ð\\x9dš™ð\\x9dš˜', 'ð\\x9dš', '”', 'ð\\x9dšž', 'ð\\x9dš', '”', 'ð\\x9dšžð\\x9dšš', 'ð\\x9dš›ð\\x9dš', '’', 'ð\\x9dš\\x8dð\\x9dšžð\\x9dš›', 'ð\\x9dšœð\\x9dšš', 'ð\\x9dš™ð\\x9dš\\x90ð\\x9dš\\x8dð\\x9dš•ð\\x9dšÿð\\x9dšžð\\x9dš›ð\\x9dšœð\\x9dššð\\x9dš\\x9dð\\x9dš', '’', 'ð\\x9dšœð\\x9dš\\x8fð\\x9dš', '’', 'ð\\x9dšžð\\x9dš\\x8d', 'ð\\x9dšœð\\x9dš˜ð\\x9dšœð\\x9dš\\x9dð\\x9dšžð\\x9dš–ð\\x9dšžð\\x9dš›', 'ð\\x9dš', '‘', 'ð\\x9dšžð\\x9dš›ð\\x9dšžðÿ˜šðÿ¤—', 'ð\\x9d™¶ð\\x9dš˜ð\\x9dš\\x8d', 'ð\\x9dš‹ð\\x9dš•ð\\x9dšžð\\x9dšœð\\x9dšœ', 'ð\\x9dš™ð\\x9dš˜', 'ð\\x9dš', '”', 'ð\\x9dšžð\\x9dšžð\\x9dš™', 'ð\\x9dšœð\\x9dššð\\x9dš\\x8fð\\x9dšžðÿ˜‡ðÿ™\\x8f'], ['items', 'wellpacked', 'ordered', 'last', '1010', 'received', 'today', '1017', 'not', 'too', 'long', 'naman', 'yung', 'waiting', 'time', 'thank', 'po', 'kay', 'seller', 'tsaka', 'kay', 'kuyang', 'nagdeliver', 'order', 'again', 'soon'], ['thank', 'po', 'seller', 'thank', 'po', 'seller', 'thank', 'po', 'seller', 'thank', 'po', 'seller', 'thank', 'po', 'seller', 'thank', 'po', 'seller', 'thank', 'po', 'seller', 'thank', 'po', 'seller', 'thank', 'po', 'seller', 'thank', 'po', 'seller'], ['thankyou', 'thankyou', 'ththankyou', 'thankyou', 'thankyou', 'thankyou', 'thankyou', 'thankyouthankyou', 'thankyou', 'thankyouthankyou', 'thankyou', 'thankyouthankyou', 'thankyou', 'thankyouthankyou', 'thankyou', 'thankyouthankyou', 'thankyou', 'thankyouthankyou', 'thankyou', 'thankyouthankyou', 'thankyou', 'thankyouthankyou', 'thankyou', 'thankyouthankyou', 'thankyou'], ['parcel', 'received', 'item', 'cute', 'wants', 'long', 'lanyard', 'not', 'advisable', 'pero', 'budget', 'friendly', 'hanap', 'thanks', 'shopee'], ['ganda', 'mareeee'], ['nice', 'po', 'bad', 'really', 'like', 'po', 'thank', 'hopefully', 'business', 'blessed', 'keep', 'safe', 'po', 'always', 'ðÿ˜šâ˜ºï¸\\x8f'], ['wrong', 'color', 'sent', 'ordered', '2', 'black', 'lanyard', 'but', 'sent', 'white', 'checklist', 'naman', 'nasunod', 'ðÿ˜…', 'sobrang', 'iksi', 'pearl', 'type', 'umabot', 'dibdib', 'mas', 'ok', 'yung', 'klase', 'mas', 'mahaba', 'sya', 'vs', 'pearl'], ['nice', 'product', 'but', 'kinda', 'regret', 'decisions', 'bc', 'sure', 'lanyard', 'rust', 'turn', 'brown', 'but', 'ok', 'think', 'more', 'cheaper', 'like', '24', 'pesos', 'but', 'ok', 'understand', 'thank', 'sorry', 'pics', 'vid', 'not', 'related'], ['order', 'complete', 'without', 'damage'], ['maganda', 'sya', 'kaso', 'napicturan', 'pinabili', 'kase', 'sya', 'sakin', 'okay', 'okay', 'sya', 'price', 'kahit', 'mangitim', 'yung', 'pinaka', 'gold', 'okay', 'kase', 'reasonable', 'naman', 'price'], ['kailangan', 'kailangan', 'ngayon', 'got', 'one', 'whole', 'family', 'ilalapag', 'facemask', 'saan', 'saan', 'nakasabit', 'leeg', 'thank', 'much', 'po'], ['nice', 'product', 'â\\x9d¤ï¸\\x8fâ\\x9d¤ï¸\\x8fâ\\x9d¤ï¸\\x8fâ\\x9d¤ï¸\\x8fâ\\x9d¤ï¸\\x8fâ\\x9d¤ï¸\\x8fâ\\x9d¤ï¸\\x8fâ\\x9d¤ï¸\\x8fâ\\x9d¤ï¸\\x8fâ\\x9d¤ï¸\\x8fâ\\x9d¤ï¸\\x8fâ\\x9d¤ï¸\\x8fâ\\x9d¤ï¸\\x8fâ\\x9d¤ï¸\\x8fâ\\x9d¤ï¸\\x8fâ\\x9d¤ï¸\\x8fâ\\x9d¤ï¸\\x8fâ\\x9d¤ï¸\\x8fâ\\x9d¤ï¸\\x8fâ\\x9d¤ï¸\\x8fâ\\x9d¤ï¸\\x8fâ\\x9d¤ï¸\\x8fâ\\x9d¤ï¸\\x8fâ\\x9d¤ï¸\\x8fâ\\x9d¤ï¸\\x8fâ\\x9d¤ï¸\\x8fâ\\x9d¤ï¸\\x8fâ\\x9d¤ï¸\\x8fâ\\x9d¤ï¸\\x8fâ\\x9d¤ï¸\\x8fâ\\x9d¤ï¸\\x8fâ\\x9d¤ï¸\\x8fâ\\x9d¤ï¸\\x8fâ\\x9d¤ï¸\\x8fâ\\x9d¤ï¸\\x8fâ\\x9d¤ï¸\\x8fâ\\x9d¤ï¸\\x8fâ\\x9d¤ï¸\\x8fâ\\x9d¤ï¸\\x8fâ\\x9d¤ï¸\\x8fâ\\x9d¤ï¸\\x8fâ\\x9d¤ï¸\\x8fâ\\x9d¤ï¸\\x8fâ\\x9d¤ï¸\\x8fâ\\x9d¤ï¸\\x8fâ\\x9d¤ï¸\\x8fâ\\x9d¤ï¸\\x8fâ\\x9d¤ï¸\\x8fâ\\x9d¤ï¸\\x8fâ\\x9d¤ï¸\\x8fâ\\x9d¤ï¸\\x8fâ\\x9d¤ï¸\\x8fâ\\x9d¤ï¸\\x8fâ\\x9d¤ï¸\\x8fâ\\x9d¤ï¸\\x8fâ\\x9d¤ï¸\\x8fâ\\x9d¤ï¸\\x8fâ\\x9d¤ï¸\\x8fâ\\x9d¤ï¸\\x8fâ\\x9d¤ï¸\\x8fâ\\x9d¤ï¸\\x8fâ\\x9d¤ï¸\\x8fâ\\x9d¤ï¸\\x8fâ\\x9d¤ï¸\\x8fâ\\x9d¤ï¸\\x8fâ\\x9d¤ï¸\\x8fâ\\x9d¤ï¸\\x8fâ\\x9d¤ï¸\\x8fâ\\x9d¤ï¸\\x8fâ\\x9d¤ï¸\\x8fâ\\x9d¤ï¸\\x8fâ\\x9d¤ï¸\\x8fâ\\x9d¤ï¸\\x8fâ\\x9d¤ï¸\\x8fâ\\x9d¤ï¸\\x8fâ\\x9d¤ï¸\\x8fâ\\x9d¤ï¸\\x8fâ\\x9d¤ï¸\\x8fâ\\x9d¤ï¸\\x8fâ\\x9d¤ï¸\\x8fâ\\x9d¤ï¸\\x8fâ\\x9d¤ï¸\\x8fâ\\x9d¤ï¸\\x8fâ\\x9d¤ï¸\\x8fâ\\x9d¤ï¸\\x8f'], ['really', 'satisfied', 'not', 'one', 'items', 'not', 'defective', 'ganda', 'naman', 'sana', 'kaso', 'yung', 'hook', 'nung', 'black', 'pearl', 'ayaw', 'maunlocked', 'but', 'items', 'purchased', 'really', 'beautiful', 'hope', 'next', 'time', 'more', 'cautious', 'quality', 'control'], ['uahzgyshsbshsjsbsbzhshshsgsvshshshsushhsjjsjsjssnxnxjzjzbzhzhzhuzhshzhshsjsnsnsksknxbzhznznsnshshshshshsjs'], ['excellent', 'quality', 'very', 'useful', 'especially', 'nowadays', 'pandemic', 'face', 'mask', 'cover', 'mouth', 'viruses', 'bacteria', 'useful', 'toolitem', 'everyone'], ['recieved', 'items', 'good', 'conditionvery', 'nice', 'affordablevery', 'fast', 'shippingi', 'like', 'iti', 'use', 'also', 'eyeglass'], ['thank', 'much', 'seller', 'got', 'order', 'â\\x9d¤ï¸\\x8fâ\\x9d¤ï¸\\x8f', 'bilis', 'shipping', 'fee', 'kahit', '2', 'pcs', 'lng', 'kinuha', 'dinispatch', 'thank', 'much', 'pati', 'kay', 'kuya', 'rider', 'â\\x9d¤ï¸\\x8fâ\\x9d¤ï¸\\x8fâ\\x9d¤ï¸\\x8f'], ['order', 'again', 'â€¼ï¸\\x8f'], ['ðÿ˜\\x8dðÿ¥³ðÿ˜˜ðÿ¥³ðÿ˜\\x8dðÿ˜‚ðÿ¥³âœœï¸\\x8fðÿž‰ðÿ˜\\x81ðÿž‰ðÿ', '’', '\\x81ðÿ¥°ðÿ', '’', '”', 'ðÿ¤—ðÿ˜…ðÿ¤¦ðÿž¼ðÿ¤\\x8dðÿž¼ðÿ™„ðÿ\\x8d\\x8fðÿ', '’', '•ðÿ™‚ðÿ™‚ðÿ', '’', '•ðÿ¤ªâ˜ºï¸\\x8fðÿ¤ªðÿ', '’', 'ªðÿžµðÿ\\x8džðÿž¼ðÿ˜\\x9dðÿ', '‘', 'œðÿ¥°ðÿ', '’', '\\x81ðÿ™\\x8fðÿ', '’', '”', 'ðÿ™\\x8fðÿ¥ºðÿ¥°ðÿž‰ðÿ¥°ðÿž‚ðÿ¥ºðÿ˜\\x81ðÿ', '’', '”', 'ðÿž‚ðÿ¥°ðÿ˜‚ðÿ¤—ðÿ¥³ðÿ¤—ðÿ¥ºðÿ¤\\x8dðÿžµðÿ¤\\x8dðÿžµðÿ', '’', 'ªðÿ', '’', '•ðÿ\\x8džðÿ¤ªâ˜ºï¸\\x8fðÿ˜´ðÿ', '’', '•ðÿ\\x8d\\x8fðÿžµðÿ', '’', '\\x81ðÿ˜…ðÿ', '’', '\\x81ðÿ¥ºâœœï¸\\x8fðÿž‰âœœï¸\\x8fðÿ¥°ðÿ˜‚ðÿ˜\\x8dðÿž‰ðÿ¥³ðÿ¤—ðÿžµðÿ¤\\x8dðÿžµðÿ¤\\x8dðÿž¶ðÿ˜\\x9dðÿž¶ðÿ˜\\x9dðÿž¼ðÿ', '’', '•ðÿž¶ðÿ™„ðÿ\\x8d\\x8fðÿžµðÿ\\x8d\\x8fðÿžµðÿ', '‘', 'œðÿ˜…ðÿ', '’', '\\x81ðÿ¥°ðÿ', '’', '”', 'ðÿ', '’', '”', 'ðÿ™\\x8fðÿ¥ºðÿžµðÿ¤¦ðÿžµðÿ\\x8džðÿž¶â˜ºï¸\\x8fðÿž¼ðÿ', '’', '•ðÿ\\x8d\\x8fðÿ™„ðÿ', '’', '\\x81ðÿ˜\\x9dðÿž¼ðÿ˜\\x9dðÿž¼ðÿ˜\\x9dðÿž¶ðÿ˜\\x9dðÿž¶ðÿ¤\\x8dðÿ¥ºðÿ¥°ðÿ¥ºðÿ¥°ðÿ¥³ðÿ˜˜ðÿ˜\\x8dâ™¥ï¸\\x8fðÿ˜\\x8dâ™¥ï¸\\x8fðÿ˜‚ðÿ˜\\x8dðÿž‚ðÿ˜…ðÿž‚ðÿ', '‘', 'œðÿ', '’', '”', 'ðÿ', '‘', 'œðÿ¥ºðÿ', '’', '\\x81ðÿ˜…ðÿ¥ºðÿ™\\x8fðÿ¥ºðÿ¤\\x8d'], ['thank', 'much', 'seller', 'rider', 'good', 'quality', 'yung', 'item', 'godbless'], ['thank', 'seller', 'kahit', '9pesos', 'nilagay', 'mo', 'maliit', 'pouch', 'yung', 'kasi', 'kpag', 'ganyan', 'basta', 'nalng', 'plastic', 'jnt', 'thank', 'tlga', 'â˜ºï¸\\x8fðÿ˜‰ðÿ', '‘', '\\x8dðÿ', '‘', '\\x8dðÿ', '‘', '\\x8d'], ['ganda', 'nang', 'bids', 'hopefully', 'wag', 'fade', 'kulay', 'lakas', 'maka', 'sosyal', 'design', 'same', 'expected', 'nung', 'inorder', 'sya', 'kaya', '5', 'star', 'saken', 'ðÿ˜š'], ['thank', 'seller', 'well', 'packaged', 'excellent', 'quality', 'item', 'shipped', 'immediately', 'thank', 'seller', 'well', 'packaged', 'excellent', 'quality', 'item', 'shipped', 'immediately'], ['tnx', 'seller', 'maganda', 'po', 'damageâ\\x9d¤ï¸\\x8fâ\\x9d¤ï¸\\x8fâœœï¸\\x8fâœœï¸\\x8fâœœï¸\\x8fâœœï¸\\x8fâœœï¸\\x8fmabilis', 'po', 'dumating', 'ðÿ', '‘', '\\x8dðÿ', '‘', '\\x8dðÿ', '‘', '\\x8dðÿ', '‘', '\\x8dðÿ', '‘', '\\x8dðÿ', '‘', '\\x8dgod', 'bless', 'po'], ['pretty', 'worth', 'price', 'nagkaroon', 'konting', 'problem', 'face', 'mask', 'lanyard', 'but', 'seller', 'resolved', 'issue', 'really', 'quick', 'thank', 'much', 'smooth', 'transaction', 'â\\x9d¤ï¸\\x8fðÿ¥°'], ['âœ…', 'love', 'âœ…', 'mabilis', 'shipping', 'âœ…', 'garterized', 'adjustable'], ['thank', 'thank', 'thank', 'thank'], ['ordered', '3', 'designs', 'gaganda', 'lahat', 'super', 'havent', 'tried', 'use', 'yet', 'but', 'surely', 'go', 'worth', 'very', 'cheap', 'price'], ['ganda', 'good', 'qualityyy', 'kddmfn', 'brnfjn', 'dngnnctmvkdjdjvjfjfkkffkxnsmnekfosoelgkckfkfjckfkfkcfkjffjj', 'jfkjdfjvjfjfjfjdjtnndncntnfncncnfbnddn'], ['items', 'complete', 'shipped', 'delivered', 'immediately', 'very', 'affordable', 'well', 'trinkets', 'cute', 'face', 'mask', 'holder', 'definitely', 'pandemic', 'more', 'power', 'shop', 'âœ¨'], ['oks', 'yung', 'item', 'kaya', 'tagal', 'iship', 'seller', 'yung', 'order', 'kaya', 'matagal', 'dumating', 'oks', 'yung', 'item', 'kaya', 'tagal', 'iship', 'seller', 'yung', 'order', 'kaya', 'matagal', 'dumating'], ['maganda', 'yung', 'item', 'nagustuhan', 'asawa', 'anak', 'mabilis', 'dumating', 'maayos', 'kumpleto', 'sobrang', 'ganda', 'more', 'oorder', 'kudos', 'seller'], ['cute', 'complete', 'orders', 'thank', 'youang', 'cute', 'complete', 'orders', 'thank', 'youang', 'cute', 'complete', 'orders', 'thank', 'youang', 'cute', 'complete', 'orders', 'thank'], ['tamang', 'variatin', 'dumating', 'ðÿ˜š', 'good', 'quality', 'lalpna', 'yung', 'silver', 'chain', 'mukhang', 'mamahalin', 'haha', 'very', 'useful', 'thank'], ['inorder', 'nung', '1010', '2', 'days', 'dumating', 'kumpleto', 'yung', 'order', 'mura', 'nabili', 'lahat', 'thank', 'seller'], ['thank', 'shopee', 'seller', 'kay', 'kuya', 'deliver', 'sobrang', 'ganda', 'po', 'cute', 'pah', 'nagustohan', 'ðÿ˜\\x8dðÿ˜\\x8dðÿ˜\\x8dðÿ¥°ðÿ¥°ðÿ¥°', 'next', 'transaction', 'ðÿ¥°'], ['ganda', 'nitoooooo', 'perfect', 'ladies', 'maganda', 'siyang', 'gift', 'sulit', 'price', 'great', 'packaging', 'thank', 'much'], ['maikli', 'lng', 'pla', 'xa', 'hehe', 'prang', 'pang', 'kids', 'yung', 'lace', 'pro', 'cute', 'thankyou', 'seller', 'thankyou', 'shopee', 'maikli', 'lng', 'pla', 'xa', 'hehe', 'prang', 'pang', 'kids', 'yung', 'lace', 'pro', 'cute', 'thankyou', 'seller', 'thankyou', 'shopee'], ['maganda', 'po', 'sya', 'verry', 'affordable', 'priceðÿ', '‘', '\\x8dðÿ', '‘', '\\x8d', 'thanks', 'sellerðÿ˜šðÿ˜š', 'give', '5', 'starðÿœÿðÿœÿðÿœÿðÿœÿðÿœÿ', 'ayos', 'walang', 'lugi', 'kaya', 'okay', 'alright', 'solved', 'solusyon', 'neto', 'kaya', 'bili', 'shopee', 'salamat', 'shopee', 'salamat', 'seller', 'items', 'excellent', 'quality', 'wellpackaged', 'shipped', 'immediately', 'thanks', 'seller'], ['good', 'quality', 'ganda', 'ðÿ¥°ðÿ¥°ðÿ¥°ðÿ¥°', 'super', 'thank', 'seller', 'more', 'sales', 'come', 'ðÿ', '’', 'ªðÿ', '’', 'ªðÿ¤—ðÿ¤—ðÿ¤—ðÿ¤—', 'thank', 'delivery', 'rider', 'ðÿ¤—', 'ride', 'safe'], ['nice', 'nice', 'nice', 'nice', 'nice', 'nice', 'nice', 'nice', 'nice', 'nice', 'nice', 'nice', 'nice', 'nice', 'nice', 'nice', 'nice', 'nice', 'nice', 'nice', 'nice', 'nice', 'nice', 'nice'], ['maganda', 'ðÿ', '’', 'œðÿ', '’', 'œðÿ', '’', 'œðÿ', '’', 'œðÿ', '’', 'œðÿ', '’', 'œðÿ', '’', 'œðÿ', '’', 'œðÿ', '’', 'œðÿ', '’', 'œðÿ', '’', 'œðÿ', '’', 'œðÿ', '’', 'œðÿ', '’', 'œðÿ', '’', 'œðÿ', '’', 'œðÿ', '’', 'œðÿ', '’', 'œðÿ', '’', 'œðÿ', '’', 'œðÿ', '’', 'œðÿ', '’', 'œðÿ', '’', 'œðÿ', '’', 'œðÿ', '’', 'œðÿ', '’', 'œðÿ', '’', 'œðÿ', '’', 'œðÿ', '’', 'œðÿ', '’', 'œðÿ', '’', 'œðÿ', '’', 'œðÿ', '’', 'œðÿ', '’', 'œðÿ', '’', 'œðÿ', '’', 'œðÿ', '’', 'œðÿ', '’', 'œðÿ', '’', 'œðÿ', '’', 'œðÿ', '’', 'œðÿ', '’', 'œðÿ', '’', 'œðÿ', '’', 'œðÿ', '’', 'œðÿ', '’', 'œðÿ', '’', 'œðÿ', '’', 'œðÿ', '’', 'œðÿ', '’', 'œðÿ', '’', 'œðÿ', '’', 'œðÿ', '’', 'œðÿ', '’', 'œðÿ', '’', 'œðÿ', '’', 'œðÿ', '’', 'œðÿ', '’', 'œðÿ', '’', 'œðÿ', '’', 'œðÿ', '’', 'œðÿ', '’', 'œðÿ', '’', 'œðÿ', '’', 'œðÿ', '’', 'œðÿ', '’', 'œðÿ', '’', 'œðÿ', '’', 'œðÿ', '’', 'œðÿ', '’', 'œðÿ', '’', 'œðÿ', '’', 'œðÿ', '’', 'œðÿ', '’', 'œðÿ', '’', 'œðÿ', '’', 'œðÿ', '’', 'œðÿ', '’', 'œðÿ', '’', 'œðÿ', '’', 'œðÿ', '’', 'œðÿ', '’', 'œðÿ', '’', 'œðÿ', '’', 'œðÿ', '’', 'œðÿ', '’', 'œðÿ', '’', 'œðÿ', '’', 'œðÿ', '’', 'œðÿ', '’', 'œðÿ', '’', 'œðÿ', '’', 'œðÿ', '’', 'œðÿ', '’', 'œðÿ', '’', 'œ'], ['maganda', 'po', 'sya', 'nagustuhan', 'sakto', 'sakin', 'bilis', 'ship', 'order', 'ulit', 'nasira'], ['complete', 'order', 'damage', 'excellent', 'quality', 'item', 'shipped', 'immediately', 'thank', 'seller', 'god', 'bless', 'business'], ['niceeeee', 'thank', 'youuuu', 'seller', 'shopeeeee', 'â\\x9d¤ï¸\\x8fâ\\x9d¤ï¸\\x8fâ\\x9d¤ï¸\\x8fâ\\x9d¤ï¸\\x8fâ\\x9d¤ï¸\\x8fâ\\x9d¤ï¸\\x8f', 'niceeeee', 'thank', 'youuuu', 'seller', 'shopeeeee', 'â\\x9d¤ï¸\\x8fâ\\x9d¤ï¸\\x8fâ\\x9d¤ï¸\\x8fâ\\x9d¤ï¸\\x8fâ\\x9d¤ï¸\\x8fâ\\x9d¤ï¸\\x8f'], ['complete', 'items', 'fst', 'shipped', 'order', 'againnnnnnnnnnnnnnnnnnnn', 'againnnnnnnnnnnnnnnnnnnn', 'againnnnnnnnnnnnnnnnnnnn'], ['ðÿ', '’', 'œðÿ', '’', 'œðÿ', '’', 'œðÿ', '’', 'œðÿž‚ðÿ', '’', 'œðÿ', '’', 'œðÿ', '’', 'œðÿ', '’', 'œðÿ', '’', 'œðÿ', '’', 'œðÿ', '’', 'œðÿ', '’', 'œðÿ', '’', 'œðÿ', '’', 'œðÿ', '’', 'œðÿ', '’', 'œðÿ', '’', 'œðÿ', '’', 'œðÿ', '’', 'œðÿ', '’', 'œðÿ', '’', 'œðÿ', '’', 'œðÿ', '’', 'œðÿ', '’', 'œðÿ', '’', 'œðÿ', '’', 'œðÿ', '’', 'œðÿ', '’', 'œðÿ', '’', 'œðÿ', '’', 'œðÿ', '’', 'œðÿ', '’', 'œðÿ', '’', 'œðÿ', '’', 'œðÿ', '’', 'œðÿ', '’', 'œðÿ', '’', 'œðÿ', '’', 'œðÿ', '’', 'œðÿ', '’', 'œðÿ', '’', 'œðÿ', '’', 'œðÿ', '’', 'œðÿ', '’', 'œðÿ', '’', 'œðÿ', '’', 'œðÿ', '’', 'œðÿ', '’', 'œðÿ', '’', 'œðÿ', '’', 'œðÿ', '’', 'œðÿ', '’', 'œðÿ', '’', 'œðÿ', '’', 'œðÿ', '’', 'œðÿ', '’', 'œðÿ', '’', 'œðÿ', '’', 'œðÿ', '’', 'œðÿ', '’', 'œðÿ', '’', 'œðÿ', '’', 'œðÿ', '’', 'œðÿ', '’', 'œðÿ', '’', 'œðÿ', '’', 'œðÿ', '’', 'œðÿ', '’', 'œðÿ', '’', 'œðÿ', '’', 'œðÿ', '’', 'œðÿ', '’', 'œðÿ', '’', 'œðÿ', '’', 'œðÿ', '’', 'œðÿ', '’', 'œðÿ', '’', 'œðÿ', '’', 'œðÿ', '’', 'œðÿ', '’', 'œðÿ', '’', 'œðÿ', '’', 'œðÿ', '’', 'œðÿ', '’', 'œðÿ', '’', 'œðÿ', '’', 'œðÿ', '’', 'œðÿ', '’', 'œðÿ', '’', 'œðÿ', '’', 'œðÿ', '’', 'œðÿ', '’', 'œðÿ', '’', 'œðÿ', '’', 'œðÿ', '’', 'œðÿ', '’', 'œðÿ', '’', 'œðÿ', '’', 'œðÿ', '’', 'œ'], ['ganda', 'complete', 'order', 'mabilis', 'naman', 'dumating', 'mukha', 'namang', 'matibay', 'magtatagal', 'thanks', 'seller', 'kay', 'kuya', 'rider'], ['package', 'arrived', 'earlier', 'expected', 'jewelry', 'plastic', 'container', 'really', 'love', 'mask', 'lanyard', 'simple', 'yet', 'elegant', 'got', 'very', 'affordable', 'price', 'thank', 'seller', 'sure', 'buy', 'again', 'next', 'time', 'try', 'black', 'pearl', 'design', 'ðÿ˜\\x8dðÿ˜\\x8dðÿ˜\\x8d'], ['goods', 'yung', 'lanyard', 'lakas', 'maka', 'sosyal', 'since', 'pearl', 'pearl', 'style', 'happy', 'naman', 'purchase', 'koooo', 'thanks'], ['very', 'nice', 'quality', 'mask', 'holders', 'tapos', 'affordable', 'andami', 'nabili', 'shop', 'thank', 'much', 'po', 'surely', 'order', 'againâ\\x9d¤ï¸\\x8f'], ['sulit', 'lanyard', 'facemaskðÿ', '‘', '\\x8dðÿ', '‘', '\\x8dðÿ', '‘', '\\x8d', 'order', 'again', 'sulit', 'cable', 'cord', 'protector', 'order', '1m', 'sukatðÿ', '‘', '\\x8dðÿ', '‘', '\\x8dðÿ', '‘', '\\x8d'], ['magandaa', 'syaa', 'but', 'nangingitim', 'agad', 'unang', 'gamit', 'palang', 'maganda', 'yung', 'pearl', 'bids', 'lahat', 'recommend', 'shop', 'thankyou'], ['goods', 'namanðÿ', '‘', 'œ', 'lagayan', 'mismong', 'itemðÿ', '’', '¯', 'tama', 'yung', 'dumating', 'item', 'sakinðÿ˜‰', 'thats', 'allâ€¼ï¸\\x8f', 'got', 'order', 'thank', 'seller', 'satisfied', 'purchase', 'shipment', 'process', 'too', 'fast'], ['ganda', 'mahaba', 'thank', 'seller', 'thank', 'seller', 'love', 'item', 'well', 'order', 'again', 'fast', 'delivery', 'thank', 'youuuuuuuhhuhh', 'ðÿ', '’', 'œðÿ', '’', 'œðÿ', '’', 'œðÿ', '’', 'œ', 'thank', 'much', 'mejo', 'maiksi', 'sya', 'pero', 'maganda', 'slmat', 'mabilis', 'nkarating', 'order', 'kudos', 'seller', 'rider', 'maaga', 'naideliver', 'godblesss', 'keep', 'safeðÿ™\\x8fâ\\x9d¤â\\x9d¤â\\x9d¤â\\x9d¤', 'maganda', 'âœ…', 'fast', 'delivery', 'completely', 'secured', 'sealed', 'plastic', 'âœ…', 'received', 'complete', 'orders'], ['delivery', 'time', 'still', 'ok', 'items', 'packed', 'individually', 'although', 'bubble', 'wrap', 'but', 'still', 'ok', 'itrms', 'look', 'nice', 'functional'], ['sobrang', 'worth', 'price', 'see', 'getâ™¥ï¸\\x8f', 'sure', 'buy', 'again', 'ginamit', 'kona', 'hindi', 'pade', 'araw', 'konang', 'ginamit', 'kahit', 'napapawisan', 'hindi', 'kumukupasðÿ˜\\x8d', 'love', 'quality'], ['got', '99', 'thanks', 'fast', 'shipping', 'seller', 'able', 'use', 'serves', 'purpose', 'naman', 'hoping', 'use', 'long', 'time'], ['items', 'received', 'fast', 'shipping', 'see', 'get', 'very', 'beautiful', 'good', 'know', 'came', 'event', 'ehe'], ['thank', 'much', 'po', 'thank', 'much', 'po', 'thank', 'much', 'po', 'thank', 'much', 'po', 'thank', 'much', 'po', 'thank', 'much', 'po'], ['already', 'using', 'sobrang', 'satisfied', 'hahahahaha', 'thank', 'much', 'po', 'sasusunod', 'nalang', 'hahahahaha', 'thanks'], ['cute', 'cute', 'cute', 'cute', 'cute', 'cute', 'cute', 'cute', 'cute', 'cute', 'cute', 'cute', 'cute', 'cute', 'cute'], ['maganda', 'hindi', 'agad', 'nadudurog', 'beads', 'sana', 'hindi', 'agad', 'maputol', 'salamat', 'shopee', 'salamat', 'shopee', 'kudos', 'rider', 'suki', 'hehe'], ['thank', 'thank', 'seller', 'â\\x9d¤ï¸\\x8fâ\\x9d¤ï¸\\x8fðÿ˜\\x8d', 'mabilis', 'deliver', 'yung', 'order', 'super', 'happy', 'kasi', '60', 'pesos', 'binili', 'ðÿ˜\\x8d'], ['okay', 'naman', 'po', 'thank', 'youuuokay', 'naman', 'po', 'thank', 'youuuokay', 'naman', 'po', 'thank', 'youuuokay', 'naman', 'po', 'thank', 'youuuokay', 'naman', 'po', 'thank', 'youuuokay', 'naman', 'po', 'thank', 'youuuokay', 'naman', 'po', 'thank', 'youuuokay', 'naman', 'po', 'thank', 'youuuokay', 'naman', 'po', 'thank', 'youuu'], ['ðÿ˜\\x81', 'over', 'ok', 'lahat', 'nung', 'item', 'sobrang', 'satisfied', 'unexpected', 'nung', 'glass', 'chain', 'compared', 'dalawang', 'same', 'style', 'yung', 'black', 'white', 'thank', 'seller', 'kay', 'kuya', 'delivery', 'rider', 'ðÿ˜\\x81'], ['complete', 'package', 'goods', 'lahatâ™¥ï¸\\x8f', 'wala', 'masabi', 'ðÿ¤£ðÿ¤£ðÿ¤£ðÿ¤£ðÿ¤£'], ['gandaaaaa', 'kumpletooooooo'], ['thank', 'youuuu', 'poooo', 'ðÿ', '’', 'žthank', 'youuuu', 'poooo', 'ðÿ', '’', 'žthank', 'youuuu', 'poooo', 'ðÿ', '’', 'žthank', 'youuuu', 'poooo', 'ðÿ', '’', 'žthank', 'youuuu', 'poooo', 'ðÿ', '’', 'žthank', 'youuuu', 'poooo', 'ðÿ', '’', 'ž'], ['sorry', 'picture', 'video', 'not', 'related', 'product', 'napicturan', 'kc', 'excited', 'kapatid', 'gamitin', 'maganda', 'sya', 'like', 'ðÿ¥°ðÿ¥°'], ['cutie', 'size', 'hindi', 'malaki', 'hindi', 'sobrang', 'liit', 'mura', 'maganda', 'paa', 'maganda', 'yunh', 'package', 'try', 'buyingg', 'guys', 'hindi', 'sayang'], ['maganda', 'naman', 'kompleto', 'naman', 'lahat'], ['very', 'cute', 'elegant', 'hope', 'color', 'wont', 'fade', 'thank', 'very', 'much', 'seller', 'rider', 'fast', 'delivery'], ['parents', 'kasi', 'pinadeliver', 'anyway', 'tuwang', 'tuwa', 'naman', 'sulit', 'naman', 'binayad', 'naiwala', 'lahat', 'order', 'ulit', 'haha'], ['order', 'complete', 'fast', 'delivery', 'super', 'affordable', 'products', 'definitely', 'order', 'againâ\\x9d¤ï¸\\x8fâ\\x9d¤ï¸\\x8fâ\\x9d¤ï¸\\x8fâ\\x9d¤ï¸\\x8fâ\\x9d¤ï¸\\x8fâ\\x9d¤ï¸\\x8f'], ['mabilis', 'shipping', 'complete', 'orders', 'thankyouu'], ['completo', 'item', 'maiksi', 'nga', 'tapos', 'yung', 'wala', 'yung', 'sabitan', 'dulo', 'ðÿ', '‘', '\\x8dðÿ', '‘', '\\x8dðÿ', '‘', '\\x8dðÿ', '‘', '\\x8dðÿ', '‘', '\\x8dðÿ', '‘', '\\x8dðÿ', '‘', '\\x8dðÿ', '‘', '\\x8dðÿ', '‘', '\\x8dðÿ¥°ðÿ', '‘', '\\x8dðÿ', '‘', '\\x8dðÿ', '‘', '\\x8dðÿ', '‘', '\\x8dðÿ', '‘', '\\x8dðÿ', '‘', '\\x8dðÿ', '‘', '\\x8dðÿ', '‘', '\\x8dðÿ', '‘', '\\x8dðÿ', '‘', '\\x8dðÿ¥°ðÿ¥°ðÿ¥°ðÿ¥°ðÿ', '‘', '\\x8dðÿ', '‘', '\\x8dðÿ', '‘', '\\x8dðÿ', '‘', '\\x8dðÿ', '‘', '\\x8dðÿ', '‘', '\\x8dðÿ', '‘', '\\x8dðÿ', '‘', '\\x8dðÿ', '‘', '\\x8dðÿ', '‘', '\\x8dðÿ', '‘', '\\x8dðÿ', '‘', '\\x8dðÿ', '‘', '\\x8dðÿ', '‘', '\\x8dðÿ', '‘', '\\x8dðÿ', '‘', '\\x8dðÿ', '‘', '\\x8dðÿ', '‘', '\\x8dðÿ', '‘', '\\x8dðÿ', '‘', '\\x8dðÿ', '‘', '\\x8dðÿ', '‘', '\\x8dðÿ', '‘', '\\x8dðÿ', '‘', '\\x8dðÿ', '‘', '\\x8dðÿ', '‘', '\\x8dðÿ', '‘', '\\x8dðÿ', '‘', '\\x8dðÿ', '‘', '\\x8dðÿ', '‘', '\\x8dðÿ', '‘', '\\x8dðÿ', '‘', '\\x8dðÿ', '‘', '\\x8dðÿ', '‘', '\\x8dðÿ', '‘', '\\x8dðÿ', '‘', '\\x8dðÿ', '‘', '\\x8dðÿ', '‘', '\\x8dðÿ', '‘', '\\x8dðÿ', '‘', '\\x8dðÿ', '‘', '\\x8dðÿ', '‘', '\\x8d'], ['ganda', 'po', 'thankyou', 'seller', 'thankyou', 'shopee', 'ganda', 'po'], ['super', 'mura', 'qualityyyyyyyyy', 'maraming', 'salamaaaaaaaaaat', 'ðÿ¤\\x8dðÿ¤\\x8dðÿ¤\\x8dâ˜\\x81ï¸\\x8fâ˜\\x81ï¸\\x8fâ˜\\x81ï¸\\x8fâ˜\\x81ï¸\\x8fðÿ¤\\x8dðÿ¤\\x8dðÿ¤\\x8dðÿ¤\\x8dðÿ¤\\x8dðÿ¤\\x8dðÿ¤\\x8dðÿ¤\\x8dðÿ¤\\x8d', 'love', 'ittt', 'ðÿ¤\\x8dðÿ¤\\x8dðÿ¤\\x8dðÿ¤\\x8dðÿ¤\\x8dðÿ¤\\x8dðÿ¤\\x8dðÿ¤\\x8dðÿ¤\\x8dðÿ¤\\x8dðÿ¤\\x8dðÿ¤\\x8dðÿ¤\\x8dðÿ¤\\x8dðÿ¤\\x8dðÿ¤\\x8dðÿ¤\\x8dðÿ¤\\x8dðÿ¤\\x8dðÿ¤\\x8d'], ['iksi', 'nun', 'pero', 'ayos', 'salamat', 'seller', 'shoppe', 'kahit', 'super', 'tagal', 'shipped', 'tagal', 'dumating', 'slsjsndnsllanansklsbsnslslsnsbbsbshjskwmbsbannanaka'], ['not', 'long', 'but', 'cool', 'price'], ['love', 'itðÿ˜˜â\\x9d¤ï¸\\x8f', 'thank', 'seller', 'bibili', 'ulit', 'soon', 'thank', 'very', 'much', 'item', 'hope', 'more', 'power', 'business', 'â\\x9d¤ï¸\\x8fâ\\x9d¤ï¸\\x8f'], ['cute', 'po', 'lanyards', 'wala', 'pong', 'damage', 'something', 'thank', 'much', 'po', 'seller', 'nagustuhan', 'po', 'nang', 'kapatid', 'god', 'bless', 'po'], ['order', 'received', 'mabilis', 'naman', 'dumating', 'maship', 'pang', 'time', 'umorder', 'thank', 'seller'], ['quick', 'easy', 'transaction', 'item', 'lightly', 'packed', 'but', 'doesnt', 'bother', 'looks', 'nice', 'sturdy', 'definitely', 'recommended', 'want', 'add', 'little', 'oomf', 'outfits'], ['complete', 'order', 'kahit', 'matagal', 'pagshipped', 'hirap', 'akung', 'ikabit', 'buhok', 'nung', 'wig', 'ðÿ˜‚ðÿ˜‚ðÿ˜‚ðÿ˜‚ðÿ˜‚', 'neweys', 'thank', 'seller', 'shopee'], ['one', 'sooo', 'cutee', 'buy', 'guys', 'worth', 'lalo', 'nat', 'magagamit', 'paglabas', 'natin', 'cheap', 'price', 'godbless', 'yall', 'stay', 'safe', 'mabait', 'seller', 'ðÿ', '’', '›'], ['ganda', 'po', 'talagang', 'necklace', 'sana', 'magtagal', 'thank', 'kay', 'kuya', 'deliver'], ['manipis', 'yung', 'scrunchies', 'see', 'pero', 'cute', 'naman', 'earrings', 'naman', 'mali', 'yung', 'pinadala', 'pero', 'okay', 'nagustuhan', 'naman', 'pero', 'next', 'time', 'please', 'inform', 'customer', 'hindi', 'available', 'yung', 'item', 'inorder', 'tnx'], ['thank', 'shopee', 'salamat', 'seller', 'maganda', 'po', 'sya', 'sakto', 'order', 'po', 'ulet', 'next', 'time', 'mabilis', 'po', 'dumating'], ['cutee', 'magkakaiba', 'ziplock', 'but', 'wala', 'syang', 'bubble', 'wrap', 'pero', 'wala', 'namang', 'damage', 'yung', 'item', 'kaya', '5', 'star', 'rin33'], ['ganda', 'item', 'mabilis', 'naideliver', 'worth', 'naman', 'sya', 'price', 'magagamit', 'talaga', 'sya', 'arawaraw', 'thank', 'youuuuu'], ['mom', 'boyfriend', 'liked', 'thanks', 'seller', 'ðÿ', '’', '—ðÿ˜šðÿ˜šðÿ˜šðÿ˜šðÿ', '’', '—ðÿ', '’', '—ðÿ', '’', '—ðÿ', '’', '—ðÿ', '’', '—ðÿ', '’', '—ðÿ', '’', '—ðÿ', '’', '—ðÿ', '’', '—ðÿ', '’', '—ðÿ', '’', '—ðÿ', '’', '—ðÿ', '’', '—ðÿ', '’', '—ðÿ', '’', '—ðÿ', '’', '—ðÿ', '’', '—ðÿ', '’', '—ðÿ', '’', '—ðÿ', '’', '—ðÿ', '’', '—ðÿ', '’', '—ðÿ', '’', '—ðÿž€ðÿž€ðÿž€ðÿž€ðÿž€ðÿž€ðÿž€ðÿž€ðÿž€ðÿž€ðÿž€ðÿž€ðÿž€ðÿž€ðÿž€ðÿž€ðÿž€ðÿž€ðÿž€ðÿž€ðÿž€ðÿ', '’', '—ðÿž€ðÿ', '’', '—ðÿž€ðÿ', '’', '—ðÿž€ðÿž€ðÿž€ðÿž€ðÿž€ðÿž€ðÿž€ðÿž€ðÿ', '’', '—ðÿ', '’', '—ðÿž€ðÿž€ðÿž€ðÿž€ðÿ', '’', '—ðÿ', '’', '—', 'letlenilead'], ['thank', 'fast', 'transaction', 'seller', 'shipping', 'order', 'quickly', 'order', 'shop', 'too', 'next', 'timeeee'], ['super', 'ganda', 'po', 'quality', 'kayo', 'bumili', 'bilis', 'nadeliver', 'thank', 'po', 'seller', 'nagdeliver', 'ðÿ', '’', '–ðÿ', '’', '–ðÿ', '’', '–ðÿ', '’', '–ðÿ', '’', '–ðÿ', '’', '–ðÿ', '’', '–ðÿ', '’', '–ðÿ', '’', '–ðÿ', '’', '–ðÿ', '’', '–'], ['â\\x9d¤ï¸\\x8fâ\\x9d¤ï¸\\x8fâ\\x9d¤ï¸\\x8f'], ['fast', 'delivery', 'thank', 'seller', 'really', 'like', 'mahihirapan', 'minsan', 'hinahanap', 'facemask', 'saan', 'nilalagay', 'salamat', 'po'], ['maganda', 'quality', 'sosyal', 'tignan', 'kaso', 'masyadong', 'maikli', 'pero', 'oks', 'very', 'affordable', 'naman', 'yung', 'price', 'thank', 'seller', 'â\\x9d¤ï¸\\x8f', 'god', 'bless'], ['simple', 'ok', 'sya', 'price'], ['thank', 'seller', 'ganda', 'medyo', 'matagal', 'shipping', 'pero', 'oks', 'hindi', 'naman', 'nagmamadali', 'ðÿ˜‚', 'thank', 'seller', 'thank', 'shopee', 'ðÿ¤—'], ['item', 'nice', 'but', 'beads', 'fragile', 'but', 'still', 'worth', 'family', 'love', 'much', 'â\\x9d¤â\\x9d¤â\\x9d¤â\\x9d¤â\\x9d¤â\\x9d¤â\\x9d¤â\\x9d¤â\\x9d¤â\\x9d¤â\\x9d¤â\\x9d¤â\\x9d¤â\\x9d¤â\\x9d¤â\\x9d¤â\\x9d¤â\\x9d¤â\\x9d¤â\\x9d¤â\\x9d¤â\\x9d¤â\\x9d¤â\\x9d¤â\\x9d¤â\\x9d¤â\\x9d¤â\\x9d¤â\\x9d¤â\\x9d¤â\\x9d¤â\\x9d¤â\\x9d¤â\\x9d¤â\\x9d¤â\\x9d¤â\\x9d¤â\\x9d¤â\\x9d¤â\\x9d¤â\\x9d¤â\\x9d¤â\\x9d¤â\\x9d¤â\\x9d¤â\\x9d¤â\\x9d¤â\\x9d¤â\\x9d¤â\\x9d¤â\\x9d¤â\\x9d¤â\\x9d¤â\\x9d¤â\\x9d¤â\\x9d¤â\\x9d¤â\\x9d¤â\\x9d¤â\\x9d¤â\\x9d¤â\\x9d¤â\\x9d¤â\\x9d¤â\\x9d¤', 'buy', 'again', 'â\\x9d¤â\\x9d¤â\\x9d¤â\\x9d¤â\\x9d¤â\\x9d¤â\\x9d¤â\\x9d¤â\\x9d¤â\\x9d¤â\\x9d¤ðÿ\\x8d‰â\\x9d¤â\\x9d¤ðÿ\\x8d‰ðÿ\\x8d‰'], ['super', 'cute', 'ganda', 'naka', 'suot', 'ðÿ˜\\x8dðÿ˜\\x8dðÿ˜\\x8dðÿ˜\\x8dðÿ˜\\x8dðÿ˜\\x8dðÿ˜\\x8dðÿ˜\\x8dðÿ˜\\x8dðÿ˜\\x8dðÿ˜\\x8dðÿ˜\\x8dðÿ˜\\x8dðÿ˜\\x8dðÿ˜\\x8dðÿ˜\\x8dðÿ˜\\x8dðÿ', '’', '•ðÿ', '’', '•ðÿ', '’', '•ðÿ', '’', '•ðÿ', '’', '•ðÿ', '’', '•ðÿ', '’', '•ðÿ', '’', '•ðÿ', '’', '•ðÿ', '’', '•ðÿ', '’', '›ðÿ', '’', '›ðÿ', '’', '›ðÿ', '’', '›ðÿ', '’', '›ðÿ', '’', '›ðÿ', '’', '›', 'love', 'itttttt', 'ðÿ', '’', 'œðÿ', '’', 'œðÿ', '’', 'œðÿ', '’', 'œðÿ', '’', 'œðÿ', '’', 'šðÿ', '’', 'šðÿ', '’', '™ðÿ', '’', '™ðÿ', '’', '–ðÿ', '’', 'žðÿ', '’', 'žðÿ', '’', 'žâ\\x9d£ï¸\\x8fâ\\x9d£ï¸\\x8fâ\\x9d£ï¸\\x8fâ\\x9d£ï¸\\x8fâ\\x9d£ï¸\\x8fâ\\x9d£ï¸\\x8fâ\\x9d£ï¸\\x8fâ\\x9d£ï¸\\x8fâ\\x9d£ï¸\\x8fâ\\x9d£ï¸\\x8fâ\\x9d¤ï¸\\x8fâ\\x9d¤ï¸\\x8fðÿ', '’', '‹ðÿ', '’', '‹ðÿ', '’', '‹'], ['thank', 'much', 'seller', 'items', 'complete', 'hopefully', 'useful', 'thank', 'very', 'much', 'again', 'ðÿ˜š', 'shipped', 'immediately', 'well'], ['sobrang', 'bilis', 'po', 'shipment', 'sobrang', 'sulit', 'sobrang', 'ganda', 'nice', 'quality', 'thhhhaaaannnkk', 'yyooouuu', 'sellleeerrr'], ['thank', 'shopee', 'thank', 'kay', 'seller', 'ganda', 'sulit', 'sya', 'price', 'bilis', 'dumatingbibili', 'ulit', 'soon', 'thank', 'ulit'], ['maganda', 'po', 'worth', 'price', 'sakto', 'facemask', 'thank', 'seller', 'more', 'customers', 'come', 'god', 'bless', 'take', 'care'], ['thank', 'seller', 'love', 'sobrang', 'happy', 'dalaginding', 'thank', 'kuya', 'ridergodblessðÿ™\\x8fðÿ˜˜ðÿ˜˜ðÿ˜˜ðÿ˜˜'], ['thank', 'youuuuuuuuuuuuuuuuu', 'sooooooooooooooo', 'muuuuuuuuuuuuuuuuuuuuuuuuuuuuuuuuuuuuuuuuuuuuuuuuuuuuuchhhhh'], ['thank', 'poooooo', 'really', 'love', 'pooooooo', 'thank', 'poooooo', 'really', 'love', 'pooooooo', 'thank', 'poooooo', 'really', 'love', 'pooooooo'], ['ganda', 'nabili', 'simple', 'ðÿ˜š', 'oder', '3', 'family', 'nagustuhan', 'nanay', 'yubg', 'kulay', 'saka', 'design'], ['maganda', 'sya', 'worth', 'naman', 'price', 'item', 'pang', 'fashion', 'ðÿ™‚ðÿ™‚ðÿ™‚ðÿ™‚ðÿ¤£ðÿ™‚ðÿ™‚ðÿ™‚ðÿ™‚ðÿ™‚ðÿ¤£ðÿ™‚ðÿ™‚ðÿ™‚ðÿ™‚ðÿ™‚ðÿ™‚ðÿ™‚ðÿ™‚ðÿ™‚ðÿ™‚ðÿ™‚ðÿ™‚ðÿ™‚ðÿ™‚ðÿ™‚ðÿ™‚ðÿ™‚ðÿ™‚ðÿ™‚ðÿ™‚ðÿ™‚ðÿ™‚ðÿ™‚ðÿ™‚ðÿ™‚ðÿ™‚ðÿ™‚ðÿ™‚ðÿ™‚ðÿ™‚ðÿ™‚ðÿ™‚ðÿ™‚ðÿ™‚'], ['items', 'well', 'packaged', 'delivered', 'immediately', 'rider', 'also', 'accommodating'], ['ganda', 'medyo', 'maiksi', 'pero', 'nasa', 'mask', 'naman', 'humahaba', 'tignan', 'string', 'nilagay', 'tenga', 'bili', 'ulit', 'next', 'time', 'thank'], ['item', 'dainty', 'pretty', 'hopefully', 'doesnâ€™t', 'tarnish', 'itâ€™s', 'bit', 'fragile', 'like', 'beautiful', 'design', 'thank'], ['items', 'good', 'condition', 'maganda', 'kaso', 'lng', 'liit', 'nang', 'beads', 'personal', 'ðÿ˜…', 'expectation', 'vs', 'reality', 'anyways', 'thank', 'parin', 'seller', 'ðÿ˜š'], ['goods', 'naman', 'medyo', 'maigsi', 'inexpect', 'pero', 'sakto', 'naman', 'den', 'thankyouverymuch', 'godbless', 'second', 'purchasing', 'item'], ['ganda', 'product', 'ðÿ˜šðÿ˜šðÿ˜š', 'yung', 'kinuha', 'kuya', 'ganda', 'daw', 'kase', 'kaya', 'kinuha', 'bilis', 'deliver', 'parcel', 'â˜ºï¸\\x8fâ˜ºï¸\\x8fâ˜ºï¸\\x8fâ\\x9d¤ï¸\\x8fâ\\x9d¤ï¸\\x8fâ\\x9d¤ï¸\\x8fðÿ¤—ðÿ¤—ðÿ¤—â\\x9d¤ï¸\\x8fðÿ¤—ðÿ¤—'], ['good', 'good', 'quality', 'good', 'quality', 'good', 'quality', 'good', 'good', 'quality', 'good', 'quality', 'good', 'quality', 'good', 'good', 'quality', 'good', 'quality', 'good', 'quality'], ['thank', 'seller', '3', 'beautiful', 'mask', 'holder', 'bought'], ['yung', 'gold', 'chain', 'pearl', 'po', 'sira', 'yung', 'white', 'naman', 'okay', 'okay', 'sana', 'check', 'muna', 'sira', 'po', 'video', 'isnt', 'related', 'but', 'product'], ['thank', 'youuuu', 'thank', 'youuuu', 'thank', 'youuuu', 'thank', 'youuuu', 'thank', 'youuuu', 'thank', 'youuuu', 'thank', 'youuuu'], ['maganda', 'naman', 'yung', 'item', 'maayos', 'nung', 'dumating', 'walang', 'damage', 'salamaattttttttttttttttt'], ['happy', 'laki', 'natipid', 'salamat', 'seller', 'salamat', 'shopee', 'really', 'happy', 'salamuch'], ['satisfied', 'costumer', 'thank', 'much', 'ganda', 'quality', 'productsðÿ', '’', '•ðÿ', '’', '•ðÿ', '’', '•ðÿ', '’', '•ðÿ', '’', '•ðÿ', '’', '•ðÿ', '’', '•ðÿ', '’', '•ðÿ', '’', '•ðÿ', '’', '•ðÿ', '’', '•ðÿ', '’', '•ðÿ', '’', '•ðÿ', '’', '•ðÿ', '’', '•ðÿ', '’', '•ðÿ', '’', '•ðÿ', '’', '•ðÿ', '’', '•ðÿ', '’', '•ðÿ', '’', '•ðÿ', '’', '•ðÿ', '’', '•ðÿ', '’', '•ðÿ', '’', '•ðÿ', '’', '•ðÿ', '’', '•ðÿ', '’', '•ðÿ', '’', '•ðÿ', '’', '•ðÿ', '’', '•ðÿ', '’', '•ðÿ', '’', '•ðÿ', '’', '•ðÿ', '’', '•ðÿ', '’', '•ðÿ', '’', '•ðÿ', '’', '•ðÿ', '’', '•'], ['very', 'nice', 'product', 'like', 'thanks', 'seller', 'thank', 'den', 'very', 'kind', 'rider', 'order', 'again', 'next', 'time', 'promo', 'salefor', 'daughter', 'nieces', 'dinthank', 'talagaang', 'gandaibang', 'klase', 'naman', 'next', 'time', 'orderin', 'maraming', 'salamat', 'producthave', 'used', 'immediately'], ['cute', 'ðÿ¥°', 'very', 'useful', 'facemaskðÿ', '‘', 'œðÿ', '‘', 'œ', 'new', 'normal', 'fashion', 'ðÿ˜š'], ['cute', 'ganda', 'salamat', 'reseller', 'bilis', 'dumatingðÿ˜š'], ['omggggg', 'gandaaaðÿ˜\\x8dðÿ˜\\x8dðÿ˜\\x8d', 'lakas', 'maka', 'awra', 'beshiee', 'ganda', 'sana', 'tumagal', 'sakin', 'hahaha', 'baka', 'masira', 'agad', 'yung', 'chain', 'pero', 'wahhhh', 'ganda', 'talagaðÿ˜\\x8dðÿ˜\\x8dðÿ˜\\x8d', 'thank', 'po', 'sellerðÿ˜š'], ['gaganda', 'lahat', 'good', 'thing', 'complete', 'lahat', 'order', 'super', 'thank', 'youuu', 'seller', 'â\\x9d¤ï¸\\x8fâ\\x9d¤ï¸\\x8fâ\\x9d¤ï¸\\x8fâ\\x9d¤ï¸\\x8fâ\\x9d¤ï¸\\x8fâ\\x9d¤ï¸\\x8fâ\\x9d¤ï¸\\x8fâ\\x9d¤ï¸\\x8fâ\\x9d¤ï¸\\x8fâ\\x9d¤ï¸\\x8fâ\\x9d¤ï¸\\x8fâ\\x9d¤ï¸\\x8fâ\\x9d¤ï¸\\x8fâ\\x9d¤ï¸\\x8f'], ['gaaaaaaaaaaaaaaaaaaannnnnnnnnnnnnnnnndaaaaaaaaaaaaaaaaaaaaaa', 'soooooobbbbbbrrrrraaaaaaaaaaaaa', 'ðÿ˜\\x8dðÿ˜\\x8dðÿ˜\\x8dðÿ˜\\x8dðÿ˜\\x8dðÿ˜\\x8dðÿ˜\\x8dðÿ˜\\x8dðÿ˜\\x8dðÿ˜\\x8dðÿ˜\\x8dðÿ˜\\x8dðÿ˜\\x8d'], ['sobrabg', 'cute', 'face', 'mask', 'holder', 'sakto', 'matibay', 'naman', 'sya', 'mabilis', 'ship', 'order', 'againðÿ˜šðÿ˜šðÿ˜šðÿ˜šðÿ˜šðÿ˜šðÿ˜š', 'thank', 'kay', 'seller', 'shipping', 'correct', 'item', 'meðÿ˜šðÿ˜šðÿ˜šðÿ˜šðÿ˜šðÿ˜šðÿ˜šðÿ˜šðÿ˜šðÿ˜šðÿ˜šðÿ˜šðÿ', '’', 'žðÿ', '’', 'žðÿ', '’', 'žðÿ', '’', 'žðÿ', '’', 'žðÿ', '’', '–ðÿ', '’', '–ðÿ', '’', 'žðÿ', '’', '–ðÿ', '’', 'žðÿ', '’', '–ðÿ', '’', 'žðÿ', '’', '–ðÿ', '’', 'žðÿ', '’', '–ðÿ', '’', 'žðÿ', '’', '–ðÿ', '’', 'žðÿ', '’', 'žðÿ', '’', '–ðÿ', '’', 'žðÿ', '’', '–ðÿ', '’', 'žðÿ', '’', '–ðÿ', '’', 'žðÿ', '’', '–ðÿ', '’', 'žðÿ', '’', 'ž'], ['very', 'thank', 'seller'], ['nice', 'quality', 'cute', 'very', 'affordable', 'price', 'definitely', 'order', 'again', 'ibang', 'colors', 'naman', 'thank', 'seller', 'â\\x9d¤ï¸\\x8f', 'thank', 'shopeeðÿ', '‘', '\\x8d'], ['maganda'], ['cute', 'nyaang', 'sosyal', 'tingnanpero', 'magaan', 'syasana', 'nga', 'hindi', 'sya', 'mangupas', 'magtarnishexcited', 'gamitinnagustuhan', 'kapatid', 'inorderan', 'tatay', 'yung', 'panlalakiok', 'pricepangporma', 'pero', 'hindi', 'sya', 'ganun', 'katibay', 'sana', 'magtagal', 'sya', 'ginamit', 'ðÿ˜‰ðÿ¤—'], ['maganda', 'syaðÿ˜\\x8dðÿ˜\\x8dðÿ˜\\x8d', 'worth', 'naman', 'price', 'nga', 'fade', 'agad', 'yung', 'gold', 'nung', 'lock', 'siguro', 'pawis', 'but', 'overall', 'good', 'thank', 'seller', 'thank', 'shoppeeðÿ˜\\x8dðÿ˜\\x8dðÿ˜\\x8d'], ['product', 'same', 'provided', 'picturesdescription', 'walang', 'sira', 'package', 'tapos', 'nakalagay', 'product', 'mismo', 'loob', 'maliit', 'plastic', 'bago', 'pouch', 'carrier'], ['maayos', 'naman', 'dumating', 'parcel', 'maganda', 'item', 'though', 'white', 'pearl', 'medyo', 'naiiklian', 'tsaka', 'medyo', 'matagal', 'shipping', 'tanong', 'update', 'parcel', 'hindi', 'ata', 'maaasikaso', 'ðÿ˜…anyway', 'thanks', 'padin', 'reaponce', 'action', 'msg', 'thankyou', 'seller', 'thanks', 'shoppeðÿ˜˜'], ['ok', 'ok', 'ok', 'ok', 'ok', 'polahat', 'uulit', 'aq', 'order', 'd2', 'salamat'], ['okay', 'naman', 'kaso', 'tanggal', 'pearl', 'sya', 'pantay', 'pero', 'overall', 'okay', 'naman', 'order', 'ulet', 'next', 'time', 'nasira'], ['got', 'â‚±35', 'only', 'ganda', 'sakto', 'ðÿ˜\\x8d', 'mukha', 'naman', 'ding', 'matibay', 'mabilis', 'maputol', 'maayos', 'nakarating', 'item', 'mej', 'matagal', 'nga', 'bago', 'naideliver', 'but', 'anw', 'tysm', 'seller', 'next', 'time', 'bili', 'kayo', 'ðÿ˜\\x81', 'ganda', 'product', 'love', 'thank', 'michfor', 'seller', 'okay', 'naman', 'sya'], ['mabait', 'kuyang', 'rider', 'hope', 'magkaroon', 'pang', 'men', 'order', 'again'], ['received', 'po', 'cute', 'holder', 'sana', 'magtagal', 'mura', 'nagamit', 'baka', 'bumili', 'ulit', 'ty', 'seller'], ['yay', 'parcel', 'received', 'po', 'seller', 'ok', 'sana', 'feedbackan', 'naman', 'jt', 'not', 'around', 'andto', 'kahapon', 'parcel', 'received', 'nga', 'kahapon', 'utot', 'wahaha', 'delivery', 'partner', 'napili', 'problema', 'wag', 'feedback', 'talaga', 'namang', 'nagpunta', 'kakahiya', 'ayan', 'po', 'ilagaynyo'], ['hello', 'good', 'day', 'thank', 'seller', 'face', 'mask', 'holder', 'nice', 'like', 'pearl', 'thank', 'seller', 'shopee', 'also', 'raider', 'parcel', 'thank', 'much', 'â\\x9d¤ï¸\\x8fâ\\x9d¤ï¸\\x8fâ\\x9d¤ï¸\\x8fâ\\x9d¤ï¸\\x8fðÿ', '‘', '\\x8d', 'give', '5', 'ðÿœÿ', 'ðÿœÿðÿœÿðÿœÿðÿœÿ', 'shop', 'god', 'bless'], ['ok', 'alright', 'solved', 'solusyon', 'matindi', 'tong', 'item', 'walang', 'lugi', 'salamat', 'seller', 'salamat', 'shopee', 'salamat', 'delivery', 'rider'], ['sorry', 'pocs', 'vid', 'pooooo', 'huhuhuhuhh', 'pero', 'maganda', 'po', 'yung', 'lanyard', 'super', 'bait', 'po', 'sellerrrreeeeeeeereeeeeeee'], ['ganda', 'face', 'mask', 'holder', 'natanggal', 'yung', 'pang', 'kabit', 'pero', 'naayos', 'naman', 'mura', 'mabilis', 'dumating', '99', 'inorder', '913', 'dumating'], ['ive', 'got', 'order', 'right', 'complete', 'thank', 'much', 'seller', 'really', 'love', 'â\\x9d¤ï¸\\x8f'], ['love', 'good', 'buy', 'thank', 'seller'], ['thank', 'po', 'maganda', 'wala', 'namang', 'sira', 'shipping', 'took', '34', 'days', 'arrive', 'mahaba', 'naman', 'sakto', 'po', 'thank', 'seller'], ['liked', 'selected', 'orders', 'lanyard', 'see', 'picture', 'thats', 'exactly', 'same', 'actual', 'shipped', 'immediately'], ['items', 'arrived', 'good', 'condition', 'orders', 'complete', 'order', 'again', 'soon', 'nagustuhan', 'pinagbigyan', 'thanks', 'ðÿ', '’', '›'], ['sobrang', 'gandahindi', '5', 'star10star', 'sakinðÿ¤—ðÿ¤—ðÿ¤—ðÿ¤—ðÿ', '‘', '\\x8dðÿ', '‘', '\\x8dðÿ', '‘', '\\x8dðÿ', '‘', '\\x8dðÿ', '‘', '\\x8dðÿ', '‘', '\\x8d'], ['hopefully', 'mabilis', 'maubos', 'tong', 'paninda', 'kosalamat', 'seller'], ['ok', 'naman', 'narecieve', 'maganda', 'cute', 'sya', 'tyaka', 'mahaba', 'yung', 'pinaka', 'chain', 'nyathank', 'po', 'ky', 'kuya', 'nagdeliver', 'tnx', 'po'], ['thank', 'youâ\\x9d¤ï¸\\x8fðÿ', '‘', '\\x8dðÿ', '‘', '\\x8dðÿ', '‘', '\\x8dðÿ˜\\x8dthank', 'youâ\\x9d¤ï¸\\x8fðÿ', '‘', '\\x8dðÿ', '‘', '\\x8dðÿ', '‘', '\\x8dðÿ˜\\x8dthank', 'youâ\\x9d¤ï¸\\x8fðÿ', '‘', '\\x8dðÿ', '‘', '\\x8dðÿ', '‘', '\\x8dðÿ˜\\x8dthank', 'youâ\\x9d¤ï¸\\x8fðÿ', '‘', '\\x8dðÿ', '‘', '\\x8dðÿ', '‘', '\\x8dðÿ˜\\x8dthank', 'youâ\\x9d¤ï¸\\x8fðÿ', '‘', '\\x8dðÿ', '‘', '\\x8dðÿ', '‘', '\\x8dðÿ˜\\x8dthank', 'youâ\\x9d¤ï¸\\x8fðÿ', '‘', '\\x8dðÿ', '‘', '\\x8dðÿ', '‘', '\\x8dðÿ˜\\x8dthank', 'youâ\\x9d¤ï¸\\x8fðÿ', '‘', '\\x8dðÿ', '‘', '\\x8dðÿ', '‘', '\\x8dðÿ˜\\x8dthank', 'youâ\\x9d¤ï¸\\x8fðÿ', '‘', '\\x8dðÿ', '‘', '\\x8dðÿ', '‘', '\\x8dðÿ˜\\x8dthank', 'youâ\\x9d¤ï¸\\x8fðÿ', '‘', '\\x8dðÿ', '‘', '\\x8dðÿ', '‘', '\\x8dðÿ˜\\x8dthank', 'youâ\\x9d¤ï¸\\x8fðÿ', '‘', '\\x8dðÿ', '‘', '\\x8dðÿ', '‘', '\\x8dðÿ˜\\x8dthank', 'youâ\\x9d¤ï¸\\x8fðÿ', '‘', '\\x8dðÿ', '‘', '\\x8dðÿ', '‘', '\\x8dðÿ˜\\x8dthank', 'youâ\\x9d¤ï¸\\x8fðÿ', '‘', '\\x8dðÿ', '‘', '\\x8dðÿ', '‘', '\\x8dðÿ˜\\x8dthank', 'youâ\\x9d¤ï¸\\x8fðÿ', '‘', '\\x8dðÿ', '‘', '\\x8dðÿ', '‘', '\\x8dðÿ˜\\x8dthank', 'youâ\\x9d¤ï¸\\x8fðÿ', '‘', '\\x8dðÿ', '‘', '\\x8dðÿ', '‘', '\\x8dðÿ˜\\x8dthank', 'youâ\\x9d¤ï¸\\x8fðÿ', '‘', '\\x8dðÿ', '‘', '\\x8dðÿ', '‘', '\\x8dðÿ˜\\x8dthank', 'youâ\\x9d¤ï¸\\x8fðÿ', '‘', '\\x8dðÿ', '‘', '\\x8d'], ['love', 'â\\x9d¤ï¸\\x8f'], ['ok', 'naman', 'sana', 'kaso', 'yung', 'black', 'kulang', 'hook', 'masabitan', 'masks'], ['maganda', 'po', 'yung', 'items', 'complete', 'naman', 'kaso', 'yung', 'black', 'po', 'kulang', 'lock', 'sana', 'po', 'pacheck', 'mabuti', 'items', 'bago', 'maship', 'po', 'sure', 'maayos', 'condition', 'items', 'thanks', 'seller'], ['thank', 'thank', 'youthank', 'youthank', 'youthank', 'youthank', 'youthank', 'youthank', 'youthank', 'youthank', 'youthank', 'youthank', 'youthank', 'youthank', 'youthank', 'youthank', 'youthank', 'youthank'], ['thank', 'much', 'wonderful', 'product', 'good', 'quality', 'indeed', 'very', 'worth', 'money', 'especially', 'very', 'affordable', 'glad', 'buy', 'shop', 'also', 'tysm', 'fast', 'delivery'], ['pasinsiya', 'seller', 'matagal', 'nakapag', 'rate', 'busy', 'langnagustuhan', 'item', 'maganda', 'maraming', 'salamat', 'sellershopee', 'thank', 'kay', 'kuya', 'rider', 'thank', 'ðÿ', '‘', '\\x8dðÿ', '‘', '\\x8dðÿ', '‘', '\\x8dðÿ', '‘', '\\x8dðÿ', '‘', '\\x8dðÿ', '‘', '\\x8dðÿ', '‘', '\\x8dðÿ', '‘', '\\x8dðÿ', '‘', '\\x8dðÿ', '‘', '\\x8dðÿ', '‘', '\\x8dðÿ', '‘', '\\x8dðÿ', '‘', '\\x8dðÿ', '‘', '\\x8dðÿ', '‘', '\\x8dðÿ', '‘', '\\x8dðÿ', '‘', '\\x8dðÿ', '‘', '\\x8dðÿ', '‘', '\\x8dðÿ', '‘', '\\x8dðÿ', '‘', '\\x8dðÿ', '‘', '\\x8dðÿ', '‘', '\\x8dðÿ', '‘', '\\x8dðÿ', '‘', '\\x8dðÿ', '‘', '\\x8dðÿ', '‘', '\\x8dðÿ', '‘', '\\x8dðÿ', '‘', '\\x8dðÿ', '‘', '\\x8dðÿ', '‘', '\\x8d'], ['received', 'poðÿ˜š', 'sobrang', 'ganda', 'po', 'sobrang', 'best', 'seller'], ['thank', 'youâ™¥ï¸\\x8fâ™¥ï¸\\x8fâ™¥ï¸\\x8f'], ['gandaaaaa', 'medyo', 'maliit', 'nga', 'pero', 'besh', 'hahahahshhahahahahaha', 'super', 'bilis', 'dumating', 'inorder', 'sya', 'nung', '15', 'tas', '2', 'days', 'yata', 'ganoin'], ['thank', 'thank', 'thank', 'thank', 'thank', 'thnk', 'thank', 'thank', 'thank', 'thank', 'thank', 'muchhhhhhhhh', 'complete', 'order', 'fast', 'delivery'], ['good', 'morning', 'posted', 'examgood', 'morning', 'posted', 'examgood', 'morning', 'posted', 'examgood', 'morning', 'posted', 'examgood', 'morning', 'posted', 'examgood', 'morning', 'posted', 'examgood', 'morning', 'posted', 'examgood', 'morning', 'posted', 'examgood', 'morning', 'posted', 'examgood', 'morning', 'posted'], ['received', 'order', 'correctly', 'items', 'good', 'quality', 'well', 'packaged', 'shipped', 'immediately', 'thankyou', 'seller', 'definitely', 'order', 'again'], ['second', 'time', 'order', 'shop', 'highly', 'recommend', 'items', 'arrived', 'good', 'condition', 'ganda', 'sakto', 'thanksss', 'seller'], ['dumating', 'po', 'cya', 'gandaâ€¦', 'salamat', 'seller', 'thank', 'shoppee'], ['ganda', 'po', 'items', 'mabilis', 'ship', 'seller', 'items', 'order', 'nung', 'thursday', 'andito', 'agad', 'saturday', 'ðÿ¤—', 'thank', 'seller', 'god', 'bless', 'shop', 'ðÿ', '’', '–'], ['salamat', 'seller', 'nareceive', 'order', 'ganda', 'sobra'], ['fast', 'delivery', 'packaging', 'good', 'secure', 'damaged', 'thank', 'surely', 'order', 'again'], ['ganda', 'hehe', 'order', 'ibang', 'variations', 'bilis', 'shipping', 'thanks', 'seller', 'courier', 'keep', 'good', 'work'], ['complete', 'items', 'thanks', 'po'], ['cute', 'nipis', 'nung', 'lace', 'basta', 'goods', 'presyo', 'maaga', 'dumating', 'gartered', 'eh', 'tas', 'pwede', 'maadjust', 'goods'], ['bilis', 'po', 'ship', 'nung', 'pay', 'day', 'sya', 'inorder', 'hehehe', 'thanku', 'seller'], ['love', 'cute', 'pretty', 'love', 'cute', 'pretty', 'thank', 'po', 'gagandaðÿ˜\\x8dðÿ˜\\x8dðÿ˜\\x8d'], ['salamat', 'sellersalamat', 'shoppeeðÿ', '’', 'œðÿ', '’', 'œðÿ', '’', 'œðÿ', '’', 'œ'], ['mom', 'really', 'like', 'love', 'â\\x9d¤ï¸\\x8fâ\\x9d¤ï¸\\x8fâ\\x9d¤ï¸\\x8fâ\\x9d¤ï¸\\x8fâ\\x9d¤ï¸\\x8fâ\\x9d¤ï¸\\x8fâ\\x9d¤ï¸\\x8fâ\\x9d¤ï¸\\x8fâ\\x9d¤ï¸\\x8fâ\\x9d¤ï¸\\x8fðÿ', '‘', '\\x8dðÿ\\x8f¼ðÿ', '‘', '\\x8dðÿ\\x8f¼ðÿ', '‘', '\\x8dðÿ\\x8f¼ðÿ', '‘', '\\x8dðÿ\\x8f¼ðÿ', '‘', '\\x8dðÿ\\x8f¼ðÿ', '‘', '\\x8dðÿ\\x8f¼ðÿ', '‘', '\\x8dðÿ\\x8f¼ðÿ', '‘', '\\x8dðÿ\\x8f¼ðÿ', '‘', '\\x8dðÿ\\x8f¼ðÿ', '‘', '\\x8dðÿ\\x8f¼ðÿ', '‘', '\\x8dðÿ\\x8f¼ðÿ', '‘', '\\x8dðÿ\\x8f¼ðÿ', '‘', '\\x8dðÿ\\x8f¼ðÿ™\\x8fðÿ\\x8f¼ðÿ™\\x8fðÿ\\x8f¼ðÿ™\\x8fðÿ\\x8f¼ðÿ™\\x8fðÿ\\x8f¼ðÿ™\\x8fðÿ\\x8f¼ðÿ™\\x8fðÿ\\x8f¼ðÿ™\\x8fðÿ\\x8f¼ðÿ™\\x8fðÿ\\x8f¼ðÿ™\\x8fðÿ\\x8f¼ðÿ™\\x8fðÿ\\x8f¼ðÿ™\\x8fðÿ\\x8f¼ðÿ™\\x8fðÿ\\x8f¼ðÿ™\\x8fðÿ\\x8f¼', 'god', 'bless', 'seller'], ['nice', 'quality', 'good', 'length', 'ordered', '100i', 'received', '1010', 'ðÿ', '’', '•'], ['sulit', 'sã', 'price', 'maganda', 'item', 'thank', 'seller', 'â\\x9d¤â\\x9d¤â\\x9d¤â\\x9d¤â\\x9d¤'], ['thank', 'seller', 'gandaâ\\x9d¤ï¸\\x8fâ\\x9d¤ï¸\\x8fâ\\x9d¤ï¸\\x8fâ\\x9d¤ï¸\\x8fâ\\x9d¤ï¸\\x8fâ\\x9d¤ï¸\\x8fthank', 'seller', 'gandaâ\\x9d¤ï¸\\x8fâ\\x9d¤ï¸\\x8fâ\\x9d¤ï¸\\x8fâ\\x9d¤ï¸\\x8fâ\\x9d¤ï¸\\x8fâ\\x9d¤ï¸\\x8fthank', 'seller', 'gandaâ\\x9d¤ï¸\\x8fâ\\x9d¤ï¸\\x8fâ\\x9d¤ï¸\\x8fâ\\x9d¤ï¸\\x8fâ\\x9d¤ï¸\\x8fâ\\x9d¤ï¸\\x8f'], ['okay', 'po', 'ganda'], ['sulit', 'finds', 'talaga', 'buti', 'nakita', 'tong', 'promo', 'ðÿ', '‘', 'œ', 'thank', 'seller', 'shopee', 'ðÿ', '’', 'œ'], ['gandawala', 'masabiang', 'bait', 'sellerthank', 'god', 'blessðÿ', '’', 'ž'], ['thank', 'beautiful', 'ðÿ¥°ðÿ¥°ðÿ¥°'], ['magandathank'], ['sooo', 'pretty', 'sorry', 'photo', 'haha'], ['maganda', 'sana', 'tagal', 'ðÿ˜š'], ['thank', 'seller'], ['sobrang', 'ganda', 'ndi', 'kuna', 'napicturan', 'lahat', 'order', 'tama', 'salamat', 'ðÿ', '‘', '\\x8dðÿ˜‰'], ['very', 'fast', 'delivery', 'product', 'made', 'premium', 'quality', 'thanks', 'seller'], ['cute', 'naman'], ['kudos', 'fast', 'delivery', 'medyo', 'maigsi', 'yung', 'lanyard', 'chest', 'level', 'but', 'quality', 'ðÿ', '’', '¯', 'thank', 'seller'], ['maganda', 'sana', 'kaso', 'maikli', 'sya', 'masyado', 'sayang', 'pero', 'maganda', 'okay', 'yung', 'quality'], ['maganda', 'po', 'mabilis', 'nareceive', 'ðÿ¥°ðÿ¥°ðÿ¥°ðÿ¥°ðÿ¥°ðÿ¥°ðÿ¥°ðÿ¥°ðÿ¥°ðÿ¥°ðÿ¥°ðÿ¥°ðÿ¥°ðÿ¥°ðÿ¥°ðÿ¥°ðÿ¥°ðÿ¥°ðÿ˜\\xadðÿ¥°ðÿ¥°ðÿ¥°ðÿ¥°ðÿ¥°ðÿ¥°ðÿ¥°ðÿ¥°ðÿ¥°ðÿ¥°ðÿ¥°ðÿ¥°ðÿ¥°ðÿ¥°ðÿ¥°ðÿ¥°ðÿ¥°ðÿ¥°ðÿ¥°ðÿ¥°ðÿ¥°ðÿ¥°ðÿ¥°ðÿ¥°ðÿ¥°ðÿ¥°ðÿ¥°', 'nagustuhan', 'kapatid'], ['received', 'items', 'compltethank'], ['good', 'quality', 'good', 'job', 'seller', 'salamat', 'shopee'], ['omgggggg', 'legiiitt', 'gandaaaaa', 'thank', 'seller', 'wonderful', 'item', 'give', 'yung', 'lng', 'keep', 'safe', 'yall'], ['thanks', 'naubos', 'naman', 'ata', 'hipag', 'yung', 'lanyard', 'pang', 'benta', 'hahahahahaha', 'thanks', 'seller', 'order', 'again', 'next', 'time', 'pagnaubos', 'salamat', 'salamat', 'salamat', 'thanks', 'super', 'thanks', 'thanks', 'thanks', 'supeeeer', 'order', 'again'], ['thanks', 'seller', 'ganda'], ['bit', 'problem', 'first', 'but', 'seller', 'quick', 'fix', 'shop', 'one', 'most', 'responsive', 'one', 'ive', 'encountered', 'ive', 'experienced', 'lots', 'order', 'discrepancies', 'but', 'far', 'only', 'shop', 'able', 'address', 'compromise', 'concern', 'thank', 'very', 'much'], ['thanks', 'shopee', 'seller', 'love'], ['love', 'order', 'ulit'], ['simple', 'but', 'elegant', 'like'], ['maganda', 'po'], ['ganda', 'nung', 'hair', 'clip', 'maganda', 'yung', 'lanyard', 'order', 'again', 'â™¥ï¸\\x8f'], ['thanky', 'sellerâ˜ºï¸\\x8fâ˜ºï¸\\x8fâ˜ºï¸\\x8f'], ['cuteee', 'thanknyouuu'], ['thank', 'po', 'shoppeeang', 'ganda', 'poâ˜ºï¸\\x8fâ˜ºï¸\\x8f'], ['excellent', 'quality', 'very', 'accommodating', 'seller', 'wellpackaged', 'item', 'shipped', 'immediately', 'surely', 'order', 'againthank', 'much', 'seller'], ['nice', 'buyðÿ', '‘', '\\x8d', 'thank'], ['thank', 'seller', 'kuyang', 'deliver', 'nagustuhan', 'po', 'ðÿ˜š'], ['ganda', 'ðÿ¥°'], ['ganda', 'niyaaa', 'perfect', 'gala', 'diba', 'ket', 'naka', 'mask', 'pormado', 'padinâœ¨'], ['very', 'nice', 'nice', 'nice', 'nice', 'nice', 'nice', 'nice', 'nice', 'product'], ['gnda', 'sana', 'mabilis', 'maputol', 'sorry'], ['very', 'useful', 'items', 'dont', 'put', 'down', 'mask', 'anywhere', 'not', 'use', 'always', 'anytime', 'because', 'handle', 'larnyard', 'eyeglasses', 'faceshield', 'ear', 'support', 'helps', 'lot', 'too', 'avoid', 'falling', 'off', 'unnecessarily', 'thanks', 'seller', 'great', 'items'], ['thank'], ['tnx', 'seller'], ['akala', 'mahaba', 'yung', 'chain', 'mask', 'but', 'maiksi', 'lanh', 'sya', 'pero', 'okay', 'naman', 'yung', 'pearl', 'white', 'defective', 'dulo', 'pareho', 'lock', 'but', 'okay', 'maganda', 'yung', 'packaging'], ['love', 'ðÿ', '’', '–'], ['gaganda', 'ðÿ˜\\x8d'], ['sobrang', 'sulit'], ['gandaaaaaaaã', 'aaaaaa', 'okay', 'salamat', 'diko', 'po', 'napic', 'kinuha', 'agad', 'pamangkin', 'koðÿ˜\\x8dâ\\x9d¤ï¸\\x8f'], ['soaper', 'ganda', 'very', 'satisfied'], ['short', 'sya', 'ðÿ˜•', 'kala', 'mahaba'], ['receive', 'right', 'item', 'strap', 'nice', 'black', 'white', 'pearl', 'strapbut', 'recommend', 'shop', 'want', 'elegant', 'look', 'strap', 'mask', 'thank', 'seller', 'god', 'bless'], ['thank', 'seller', 'rcved', 'already', 'ðÿ˜\\x8dðÿ˜\\x8dðÿ˜\\x8dðÿ˜\\x8d'], ['thank', 'seller', 'good', 'item', 'mabilis', 'naideliver', 'thank', 'po', 'sosyal', 'ngayon', 'facemask', 'holder', 'thank', 'po', 'delivery', 'rider', 'salamat', 'shopee', 'ðÿ˜š'], ['nice', 'thanks', 'seller'], ['yung', 'ginamit', 'haha', 'very', 'nice', 'ðÿ', '‘', '\\x8d'], ['2nd', 'time', 'order', 'hehe', 'goods', 'goods', 'bilis', 'dumating'], ['black', 'yonq', 'inorder', 'bat', 'white', 'dumatinqðÿ™„ðÿ™„ðÿ™„'], ['ganda', 'nakaka', 'sosyal', 'ðÿ¤©sana', 'hindi', 'fade', 'gold'], ['thankyou', 'seller', 'buy', 'free', 'godbless'], ['sira', 'yung', 'item', 'received', 'po', 'yung', 'first', 'time', 'super', 'disappoint', 'po', 'tagal', 'ngang', 'dumating', 'sira', 'dating'], ['happy', 'satisfied', 'products', 'delivery', 'shopee', 'service'], ['gaganda', 'larnyards', 'â\\x9d¤ï¸\\x8fâ\\x9d¤ï¸\\x8fâ\\x9d¤ï¸\\x8f'], ['â™¥ï¸\\x8f'], ['â\\x9d¤ï¸\\x8fâ\\x9d¤ï¸\\x8fâ\\x9d¤ï¸\\x8fâ\\x9d¤ï¸\\x8fâ\\x9d¤ï¸\\x8fâ\\x9d¤ï¸\\x8fâ\\x9d¤ï¸\\x8fâ\\x9d¤ï¸\\x8fâ\\x9d¤ï¸\\x8fâ\\x9d¤ï¸\\x8fâ\\x9d¤ï¸\\x8fâ\\x9d¤ï¸\\x8fâ\\x9d¤ï¸\\x8fâ\\x9d¤ï¸\\x8fâ\\x9d¤ï¸\\x8fâ\\x9d¤ï¸\\x8fâ\\x9d¤ï¸\\x8fâ\\x9d¤ï¸\\x8fâ\\x9d¤ï¸\\x8fâ\\x9d¤ï¸\\x8fâ\\x9d¤ï¸\\x8fâ\\x9d¤ï¸\\x8fâ\\x9d¤ï¸\\x8fâ\\x9d¤ï¸\\x8fâ\\x9d¤ï¸\\x8fâ\\x9d¤ï¸\\x8fâ\\x9d¤ï¸\\x8fâ\\x9d¤ï¸\\x8fâ\\x9d¤ï¸\\x8fâ\\x9d¤ï¸\\x8fâ\\x9d¤ï¸\\x8fâ\\x9d¤ï¸\\x8fâ\\x9d¤ï¸\\x8fâ\\x9d¤ï¸\\x8fâ\\x9d¤ï¸\\x8fâ\\x9d¤ï¸\\x8fâ\\x9d¤ï¸\\x8fâ\\x9d¤ï¸\\x8fâ\\x9d¤ï¸\\x8fâ\\x9d¤ï¸\\x8fâ\\x9d¤ï¸\\x8fâ\\x9d¤ï¸\\x8fâ\\x9d¤ï¸\\x8fâ\\x9d¤ï¸\\x8fâ\\x9d¤ï¸\\x8fâ\\x9d¤ï¸\\x8fâ\\x9d¤ï¸\\x8fâ\\x9d¤ï¸\\x8fâ\\x9d¤ï¸\\x8fâ\\x9d¤ï¸\\x8fâ\\x9d¤ï¸\\x8fâ\\x9d¤ï¸\\x8fâ\\x9d¤ï¸\\x8fâ\\x9d¤ï¸\\x8fâ\\x9d¤ï¸\\x8fâ\\x9d¤ï¸\\x8fâ\\x9d¤ï¸\\x8fâ\\x9d¤ï¸\\x8fâ\\x9d¤ï¸\\x8fâ\\x9d¤ï¸\\x8fâ\\x9d¤ï¸\\x8fâ\\x9d¤ï¸\\x8fâ\\x9d¤ï¸\\x8fâ\\x9d¤ï¸\\x8fâ\\x9d¤ï¸\\x8fâ\\x9d¤ï¸\\x8fâ\\x9d¤ï¸\\x8fâ\\x9d¤ï¸\\x8f'], ['maganda', 'subraaa', 'kaso', 'rider', 'napakasungit', 'yung', 'nagpunta', 'town', 'recieve', 'yung', 'parcel', 'pero', 'maganda', 'naman'], ['mavideo', 'alis', 'plastic', 'kasi', 'pabili', 'tama', 'naman', 'yung', 'kulay', 'walang', 'damages', 'item', 'bilis', 'dumating', 'thank', 'seller'], ['thank', 'po', 'sobrang', 'ganda', 'po', 'product', 'ðÿ¥°'], ['hahahahahahaha', 'nakakatawa', 'salamat', 'po', 'sobrang', 'ganda', 'po', 'lahat', 'kompleto', 'po', 'lahat', 'salamat', 'po', 'uliiiii', 'next', 'time', 'po', 'godblessâ™¥ï¸\\x8f'], ['maiksi', 'yung', 'black', 'akala', 'magkasing', 'ðÿ˜¢'], ['goods', 'naman', 'lahat', 'thank'], ['maganda', 'yung', 'item', 'medyo', 'maikli', 'black', 'pero', 'okay', 'ðÿ˜„', 'mabilis', 'dumating'], ['goods', 'ðÿ¤—'], ['thank', 'seller', 'shoppee', 'â\\x9d¤ï¸\\x8f'], ['good'], ['perfect', 'pang', 'ootd', 'kahit', 'anong', 'kulay', 'damit', 'mo'], ['next', 'time', 'check', 'damage', 'wala', 'ship', 'thanks'], ['hindi', 'napicturan', 'pero', 'ganda', 'mask', 'lanyardsvery', 'satisfied', 'po', 'nabili', 'koðÿ˜šðÿ˜šðÿ˜š'], ['thank', 'po', 'especially', 'kay', 'kuya', 'raider', 'hindi', 'naman', 'nasabihan', 'thank', 'hayss', 'thank', 'kuyaa', 'godbless', 'ðÿ¤\\x8dðÿ¤\\x8d'], ['loved', 'ðÿ¥°'], ['like', 'items', 'nabili', 'mabilis', 'pagkaship', 'kinabukasan', 'agad', 'makapag', 'order', 'received', 'item'], ['already', 'used', 'itthank', 'seller'], ['thankyouuuuu', 'seller', 'gandaa', 'â™¥ï¸\\x8f'], ['cute', 'nung', 'mask', 'holder', 'kaso', 'yung', 'pang', 'clip', 'earring', 'something', 'sira', 'pati', 'yung', 'hikaw', 'yupe', 'pero', 'overall', 'okay', 'nmn', 'next', 'time', 'nga', 'lng', 'sana', 'safe', 'yung', 'lalagyan', 'yuyupe'], ['damage', 'complete', 'orders', 'ganda', 'fast', 'delivery', 'po', 'thank', 'seller', 'ðÿ˜š'], ['cute'], ['qt', 'nia', 'ganda', 'yung', 'nasa', 'pic', 'yung', 'dadating', 'sayo'], ['ganda'], ['gandagandagandagamdagandagndagandagnda', 'ganda', 'love', 'much', 'lakassosyal', 'lanyard', 'ahhhh', 'thanks', 'much', 'sellerrrr'], ['thank', 'youuuu', 'â\\x9d¤ï¸\\x8f'], ['maganda', 'sobra', 'mahaba', 'dinâ\\x9d¤ï¸\\x8fâ\\x9d¤ï¸\\x8f'], ['cute', 'pretty', 'nilaaa', 'obsessed', 'ðÿ', '’', '—ðÿ', '’', '—ðÿ', '’', '—'], ['maganda', 'pi', 'sya', 'maganda', 'kulay'], ['nice', 'facemask', 'holder', 'woth', 'affordable', 'price'], ['ganda'], ['ðÿ', '‘', '\\x8dðÿ\\x8f', '»', 'ðÿ', '‘', '\\x8dðÿ\\x8f', '»'], ['already', 'received', 'exact', 'number', 'items', 'process', 'very', 'fast'], ['very', 'fashionable', 'lanyard', 'but', 'cheap', 'same', 'time', 'good', 'nice', 'trend'], ['good', 'quality', 'fast', 'delivery', 'thank'], ['responsive', 'seller', 'concern', 'thank', 'much', 'po', 'â˜ºï¸\\x8f'], ['thankyou', 'seller', 'nagustuhan', 'anak', 'dapat', 'samin', 'jowa', 'haha', 'ðÿ', '’', '—', 'buy', 'again'], ['tama', 'yung', 'nabigay', 'sakin', 'pero', 'sana', 'hindi', 'makati', 'yung', 'chain', 'leeg', 'hehe', 'thanks', 'seller'], ['very', 'good', 'product', 'very', 'good', 'product', 'very', 'good', 'product', 'very', 'good', 'product', 'very', 'good', 'product', 'very', 'good', 'product', 'very', 'good', 'product', 'very', 'good', 'product'], ['very', 'nice', 'ðÿ', '‘', '\\x8d'], ['ok', 'nmn', 'sya', 'sana', 'masira', 'agad', 'manipis', 'kasiby', 'dway', 'ty', 'deliver'], ['â\\xad\\x90â\\xad\\x90â\\xad\\x90â\\xad\\x90â\\xad\\x90'], ['thank', 'much', 'fast', 'delivery', 'good', 'products'], ['iloveit'], ['thanks', 'seller', 'very', 'fast', 'delivery', 'items', 'exactly', 'same', 'pic'], ['gandaaa', 'ðÿ¥°ðÿ¥°', 'kumpleto', 'naman', 'ðÿ¥°', 'order', 'nalang', 'ulit', 'thank', 'seller'], ['mabilis', 'ship', 'item'], ['super', 'gnda'], ['â\\x9d¤'], ['thanks', 'seller', 'â\\x9d¤ï¸\\x8f'], ['ganda', 'product', 'eventhough', 'cheap', 'price', 'try', 'akong', 'ibenta', 'sold', 'agad', 'kaya', 'purchase', 'ulit', 'thank', 'seller', 'napaka', 'resposive', 'godbless', 'po', 'â˜\\x9dðÿ™\\x8fâ\\x9d¤'], ['gandaaaa'], ['maganda', 'siyaðÿ˜šðÿ˜š'], ['manipis', 'pla'], ['maganda', 'kaso', 'maiksi'], ['ganda', 'mukhang', 'yayamanin', 'sana', 'hindi', 'kumupas', 'pearl'], ['love', 'muchðÿ', '’', '•ðÿ', '’', '•ðÿ', '’', '•', 'order', 'again'], ['thank', 'fast', 'service', 'ðÿ', '’', '›'], ['wow', 'thank', 'ðÿ˜\\x8dðÿ˜\\x8dðÿ˜\\x8dang', 'gaganda', 'po'], ['okay'], ['ok', 'naman', 'po', 'maganda', 'yung', 'itemnabuhol', 'po', 'yung', 'kaya', 'natanggal', 'yung', 'hook', 'pero', 'naayos', 'naman', 'overall', 'good'], ['ok', 'kang', 'naman', 'mabilis', 'dumating', 'hahaha', 'kaso', 'nga', 'mali', 'yung', 'kulay', 'face', 'mask', 'holder', 'lanyard', 'face', 'mask', 'strap'], ['thankyou', 'ðÿ˜\\x8dðÿ˜\\x8d'], ['ganda', 'ðÿ¤©'], ['nice'], ['maganda', 'sya'], ['okay', 'po', 'sya'], ['ganda', 'items', 'super', 'affordable', 'thanks', 'seller'], ['maganda', 'sya', 'tapos', '2', 'days', 'dumating'], ['thank', 'youuuuuðÿ¥°ðÿ¥°'], ['maganda', 'naman', 'po', 'product'], ['ðÿ¤˜ðÿ¤žðÿœ´ðÿœµðÿª´'], ['maganda', 'sana', 'kso', 'wala', 'lock'], ['nice', 'item', 'very', 'useful'], ['good'], ['goods', 'naka', 'astig'], ['very', 'nice'], ['cute', 'niyaðÿ˜\\x8d'], ['super', 'nice'], ['â\\x9d¤ï¸\\x8fâ\\x9d¤ï¸\\x8fâ\\x9d¤ï¸\\x8f'], ['thank', 'sellerðÿ˜šðÿ˜šðÿ˜š'], ['luv'], ['thumbs', 'meðÿ', '‘', 'œ'], ['cute', 'itemsmedyo', 'maiksi', 'cia'], ['ganda', 'supper', 'nagustuhan', 'sya'], ['gandaaaa', 'ðÿ', '’', '–'], ['napakaganda', 'thank', 'sellerâ\\x9d¤ï¸\\x8fðÿ˜\\x8d'], ['good', 'quality', 'sure', 'order', 'againâ\\x9d¤ï¸\\x8f'], ['cute', 'ganda', 'item', 'order', 'agian'], ['cutee', 'nyaaa', 'gandaaaaâ\\x9d¤ï¸\\x8fâ\\x9d¤ï¸\\x8fâ\\x9d¤ï¸\\x8f'], ['nice'], ['ok', 'sya'], ['maganda'], ['complete', 'items', 'satisfied'], ['slamat', 'po', 'ganda', 'po', 'sulit', 'ok', 'po', 'deliver', 'slamat', 'po', 'seller', 'ðÿ˜‡ðÿ˜˜ðÿ˜˜'], ['ok', 'po', 'xa', 'ðÿ™\\x81'], ['ok', 'naman', 'yung', 'quality', 'kaso', 'sungit', 'nung', 'rider'], ['thankyou', 'lanyard', 'beautiful', 'thankyou', 'seller'], ['super', 'legit', 'salamat', 'sellerðÿ¤—'], ['maganda', 'gustohan', 'cute', 'â\\xad\\x90â\\xad\\x90â\\xad\\x90â\\xad\\x90â\\xad\\x90', 'kay', 'seller', 'kay', 'kuya', 'deliver', 'shopee', 'xpressðÿ', '‘', '\\x8dðÿ', '‘', '\\x8d'], ['nung', 'sinukat', 'natanggal', 'agad', 'kaya', 'dinugtong', 'ulit', 'hahaha', 'pero', 'ok', 'naman', 'ganda', 'naman', 'design'], ['super', 'ganda'], ['cute', 'ðÿ˜\\x8d'], ['ok', 'pero', 'eh', 'ok', 'gumana', 'lock', 'nmin', 'mbuksan'], ['ganda', 'lanyard', 'ðÿ˜\\x8d'], ['ganda', 'thanks'], ['love', 'thanks', 'seller'], ['love', 'kaso', 'bilis', 'mapiglas', 'â˜¹ï¸\\x8f'], ['ganda', 'good', 'condition', 'damage', 'thanks', 'seller'], ['maganda', 'sobra'], ['nice'], ['super', 'pretty'], ['nice'], ['thank', 'godbless'], ['ganda', 'ðÿ', '’', '–'], ['super', 'satisfying', 'ðÿ˜\\x8d'], ['gandaðÿ˜\\x8dðÿ˜\\x8dðÿ˜\\x8d'], ['maganda', 'po', 'sya', 'good', 'quality', 'yung', 'binili', 'product', 'nilq'], ['pretty', 'thank', 'youuu', 'â\\x9d¤ï¸\\x8fâ\\x9d¤ï¸\\x8fâ\\x9d¤ï¸\\x8fâ\\x9d¤ï¸\\x8f'], ['first', 'time', 'ordered', 'satisfied', 'very', 'good', 'packaging', 'products', 'surely', 'secured', 'because', 'excellent', 'packaging', 'recommended', 'everyone', 'thank', 'seller', 'courier'], ['perfect', 'love', 'order', 'again', 'ðÿ˜šâ\\x9d¤ï¸\\x8fðÿ', '’', '•'], ['nice'], ['worth', 'price', 'kasi', 'maganda', 'product'], ['items', 'goodthanks', 'seller'], ['till', 'next', 'order'], ['supper', 'ganda', 'sulit', 'bayad', 'thank', 'sellerðÿ˜\\x8d'], ['cute', 'cute', 'orders'], ['maganda', 'nagustohan', 'pinsan', 'salamat'], ['excellent'], ['love', 'itencouraging', 'buyy'], ['thank', 'seller', 'ganda', 'ambilis', 'dumating'], ['maganda'], ['maganda', 'lanyard', 'nagustohan', 'ate'], ['gustong', 'gusto', 'ðÿ˜šâ\\x9d¤ï¸\\x8f'], ['maganda', 'po', 'thank'], ['maganda', 'naman', 'bagay', 'pamangkin', 'koðÿ˜\\x8d'], ['poor', 'quality'], ['nice', 'product', 'ðÿ', '‘', '\\x8d'], ['quality', 'good'], ['packaging', 'not', 'okay'], ['okay', 'naman', 'ganda'], ['thanks', 'okay', 'naman', 'yung', 'products'], ['liked', 'itwill', 'refer', 'friends'], ['super', 'ganda', 'po', 'item', 'super', 'cute'], ['super', 'gandaaa', 'wala', 'nakong', 'masabi', 'ðÿ˜™'], ['sira', 'sya', 'natangal', 'yung', 'beads'], ['very', 'niceðÿ˜\\x8d'], ['ganda', 'thank', 'seller', 'â\\x9d¤ï¸\\x8f'], ['wla', 'akong', 'pic', 'pero', 'ganda', 'huh'], ['ganda', 'po', 'napakasulit', 'po', 'ðÿ˜\\x8dðÿ˜\\x8dðÿ˜\\x8d'], ['gandaa'], ['satisfied', 'customer', 'hereðÿ¤—'], ['ganda', 'salamat', 'seller'], ['maganda', 'itemsðÿ˜\\x8dðÿ˜\\x8d'], ['nicee', 'order', 'again'], ['maganda', 'po', 'yung', 'design'], ['maganda', 'nagustuhan'], ['nagustuhan', 'anak'], ['thank', 'seller', 'ðÿ˜š'], ['nagustuhan', 'sya'], ['sobrang', 'ganda', 'guys'], ['maganda', 'po', 'salamat'], ['super', 'duper', 'ganda', 'love', 'itâ\\x9d£ï¸\\x8f'], ['ganda', 'nyaðÿ˜\\xadðÿ˜\\xadðÿ˜\\xadðÿ˜\\xad'], ['good', 'naman'], ['ganda', 'ðÿ¥°'], ['beautiful'], ['good', 'quality'], ['thankyouâ\\x9d¤ï¸\\x8fâ\\x9d¤ï¸\\x8f'], ['good', 'quality'], ['maganda', 'syaa'], ['maganda', 'sya'], ['thank', 'ðÿ˜š'], ['satisfied'], ['excellent'], ['goods'], ['ganda'], ['paikli'], ['good'], ['pearl', 'maganda', 'kaya', 'black', 'beads', 'nangitim', 'kaagad', 'chain', 'hahahaha'], ['nakakatuwa', 'maganda', 'po', 'yung', 'items', 'super', 'sulit', 'po'], ['thank'], ['happy', 'satisfied', 'productso', 'nice', 'look', 'durablethank', 'seller'], ['maganda', 'sana', 'magtagal', 'maganda', 'sana', 'magtagal', 'maganda', 'sana', 'magtagal', 'maganda', 'sana', 'magtagal'], ['ðÿ', '’', '“', 'ðÿ', '’', '“', 'ðÿ', '’', '“', 'âœ¨âœ¨âœ¨ðÿ¥³ðÿ¥³ðÿ¥³ðÿ', '’', '“', 'ðÿ', '’', '“'], ['nice', 'mask', 'holder'], ['ganda', 'salamat', 'seller', 'ky', 'kua', 'rider', 'lagi', 'q', 'narecieve', 'yung', 'item', 'q', 'pero', 'naibibigay', 'pinapaiwana', 'q', 'rerecieve'], ['cutenagustuhan', 'tama', 'lng', 'nyathank', 'po'], ['nice', 'thank', 'seller'], ['sobrang', 'ganda', 'bilis', 'deliver'], ['ty', 'best', 'lanyardðÿ˜š'], ['complete', 'damage', 'thank', 'ðÿ˜\\x81ðÿ', '’', '•'], ['cutie'], ['lanyard', 'cuteâ\\x9d¤ï¸\\x8f', 'well', 'definitely', 'gon', 'order', 'again', 'thank', 'seller'], ['thank', 'â™¥ï¸\\x8fðÿ', '’', '“', 'ðÿ', '’', '“'], ['nice'], ['okay', 'naman', 'quality'], ['clearly', 'not', 'buy', 'again', 'recommend', 'store', 'others'], ['complete', 'order', 'thank'], ['very', 'good', 'items', 'cutie', 'thanks', 'seller'], ['maganda', 'item', 'kala', 'sobrang', 'sakto', 'siyaang', 'cute', 'nung', 'pamusod', 'gustong', 'gusto', 'nang', 'pamangkin', 'koginawang', 'laruan'], ['salamat', 'seller', 'best', 'mabilis', 'shipping', 'hassle', 'uulitin', 'order', 'again', 'iloveyou', 'mwah', 'hahaha', 'kuya'], ['ðÿ¤©ðÿ˜\\x8dðÿ', '‘', '\\x8d'], ['wrong', 'item', 'pinadala', 'kulang', 'yung', 'inorder', 'happy', 'birthday', 'sinama', 'order', 'pakisend', 'yung', 'kulang'], ['thank', 'ganda'], ['very', 'useful'], ['super', 'ganda'], ['looks', 'great'], ['very', 'nice', 'thank'], ['very', 'nice', 'â\\x9d¤ï¸\\x8fðÿ', '‘', 'œ'], ['thank', 'po', 'nice', 'item'], ['simply', 'beautifulâ\\x9d¤ï¸\\x8fðÿ', '‘', '\\x8dðÿ', '‘', '\\x8dâ\\x9d¤ï¸\\x8f'], ['thank', 'seller', 'thank', 'shopee', 'free', 'shipping', 'po', 'thank', 'rider', 'thank', 'youðÿž¶thank', 'youðÿž¶thank', 'very', 'much', 'thank', 'youðÿž¶ðÿž¶ðÿž¶ðÿž¶ðÿž¶ðÿž¶ðÿž¶ðÿž¶ðÿž¶ðÿž¶ðÿž¶ðÿž¶'], ['nice', 'good', 'quality', '5', 'star', 'item', 'ðÿ', '‘', '\\x8d'], ['very', 'well', 'packaged', 'lovely', 'item', 'thank', 'â™¥ï¸\\x8f'], ['gandaaaaa'], ['really', 'like'], ['thank', 'ðÿ', '’', 'ž'], ['mali', 'yung', 'order', 'kulay', 'pink', 'dumating'], ['very', 'good', 'thankyou', 'seller'], ['yay', 'got', 'cutie', 'cutie', 'lanyard', 'thanks', 'much', 'seller', 'ðÿ¥°ðÿ¤—ðÿ˜˜'], ['ð\\x9dš†ð\\x9dš˜ð\\x9dš', 'ð\\x9dš—ð\\x9dš', '’', 'ð\\x9dšœð\\x9dšž', 'ðÿ', '‘', '\\x8dðÿ', '‘', '\\x8dðÿ', '‘', '\\x8d', 'ð\\x9dšƒð\\x9dš', '‘', 'ð\\x9dššð\\x9dš—ð\\x9dš', '”', 'ð\\x9dšž', 'ð\\x9dšœð\\x9dšžð\\x9dš•ð\\x9dš•ð\\x9dšžð\\x9dš›', 'ð\\x9dššð\\x9dš—ð\\x9dš\\x8d', 'ð\\x9dš\\x9dð\\x9dš˜', 'ð\\x9dš›ð\\x9dš', '’', 'ð\\x9dš\\x8dð\\x9dšžð\\x9dš›', 'ð\\x9dššð\\x9dšœ', 'ð\\x9dššð\\x9dš•ð\\x9dš', 'ð\\x9dššð\\x9dš¢ð\\x9dšœ'], ['picture', 'not', 'related', 'item', 'good', 'ship', 'immediately', 'dont', 'picture', 'item', 'cause', 'pick', 'immediately', 'thabk'], ['love', 'item', 'order', 'again', 'next', 'time'], ['very', 'nice'], ['love', 'items', 'very', 'well', 'packed', 'order', 'ulit', 'thanks', 'shoppee', 'thanks', 'seller'], ['thank', 'shopee', 'seller', 'nagustuhan', 'mami', 'apra', 'salamin', 'nia', 'tpos', 'pwede', 'mask', 'godbless'], ['super', 'gandaaaa'], ['nice'], ['bagay', 'bagay', 'eyeglasses', 'â˜ºï¸\\x8f'], ['cute', 'ðÿ¤—', 'bilis', 'nadeliver', 'saken', 'ðÿ¤—'], ['maganda', 'naman', 'katulad', 'nasa', 'picture', 'maayos', 'package', 'although', 'nasa', 'plastic', 'talaga', 'walang', 'ibang', 'lagayan'], ['good', 'quality', 'â˜ºï¸\\x8fðÿ˜šâ˜ºï¸\\x8fðÿ˜šâ˜ºï¸\\x8f', 'affordable', 'price', 'â˜ºï¸\\x8fâ˜ºï¸\\x8fâ˜ºï¸\\x8fâ˜ºï¸\\x8fâ˜ºï¸\\x8fâ˜ºï¸\\x8f'], ['thank', 'much'], ['love', 'productsang', 'ganda', 'ganda', 'ðÿ˜šðÿ˜š', 'thank', 'seller', 'bait', 'rider', 'thank', 'shoppee'], ['cute', 'ganda', 'salamat', 'seller'], ['bilis', 'shipment', 'thankyou', 'ðÿ', '‘', '\\x8d'], ['ok', 'naman', 'sya', 'makaka', 'order', 'ulet'], ['nice'], ['thanks', 'maganda', 'po', 'item', 'nio'], ['maganda', 'po', 'sya', 'cuteðÿ˜šðÿ', '‘', '\\x8d'], ['cutieee', 'ðÿ˜\\x8d'], ['ganda', 'bilis', 'dumating'], ['very', 'nice'], ['ganda', 'thank', 'seller', 'â\\x9d¤ï¸\\x8f'], ['super', 'cutie', 'items', 'ðÿ˜„ðÿ˜„'], ['grabe', 'bilis', 'pagkakaship', 'halos', '5', 'days', 'lng', 'nandito', 'nadelay', 'lng', 'konti', 'bagyo', 'pero', 'okay', 'naman', 'naideliver', 'naman', 'maayos', 'okay', 'item', 'kasi', 'walang', 'kahit', 'anong', 'damages', 'maganda', 'pagkakapack', 'gumagana', 'siyathank', 'seller', 'thank', 'kay', 'rider'], ['maganda', 'sya', 'mura', 'fast', 'shipping', 'den', 'po', 'sya', 'order', 'again', 'actually', 'umorder', 'ulit', 'thank'], ['yehhheyy', 'recieve', 'po', 'ganda', 'po', 'nia', '2nd', 'order', 'q', 'shop', 'kumpleto', 'sya', 'thanku', 'seller', 'mabait', 'rider', 'yehhheyy', 'recieve', 'po', 'ganda', 'po', 'nia', '2nd', 'order', 'q', 'shop', 'kumpleto', 'sya', 'thanku', 'seller', 'mabait', 'rider', 'yehhheyy', 'recieve', 'po'], ['worth', 'flashdeal', 'shopee', 'thank', 'seller', 'maganda', 'quality', 'makapal', 'magaganda', 'yung', 'kulay', 'tama', 'nabigau', 'seller', 'sakin', 'thank', 'thank', 'oorder', 'po', 'ulit', 'thank', 'shopee', 'express', 'agarnag', 'delver', 'po', 'godbless', 'more', 'benta', 'seller', 'complet'], ['super', 'ganda', 'super', 'mura', 'bumili', 'pako', 'complete', 'sya', 'thank', 'much', 'seller', 'thank', 'god', 'bless', 'stay', 'safe', 'order', 'again'], ['loooooooove', 'fabric', 'super', 'nice', 'not', 'tooo', 'not', 'tooo', 'small', 'true', 'size', 'color', 'exactly', 'same', 'picture', 'packed', 'well', 'damage', 'very', 'convenient', 'use', 'love', 'buy', 'again', 'feeling', 'happy', 'right', 'money', 'worth', 'affordable'], ['ordered', 'recieve', 'excellent', 'quality', 'complete', 'order', 'kaso', 'mali', 'tlga', 'nasa', 'photo', 'po', 'syakhaki', 'order', 'pero', 'yung', 'dumating', 'cream', 'color', 'po', 'sya', 'sana', 'nexttym', 'walang', 'khaki', 'wag', 'po', 'variation', 'thanks', 'po'], ['bilis', 'delivery', 'although', 'walang', 'update', 'kay', 'seller', 'pero', 'mabilis', 'kahit', 'province', 'wala', 'pang', '1', 'week', 'dumating', 'mask', 'amazing', 'good', 'job', 'order', 'ulit'], ['quality', 'great', 'thank', 'love', 'thank', 'love', 'thank', 'love', 'thank', 'love', 'thank', 'love', 'thank', 'love', 'thank', 'love', 'thank', 'love', 'thank', 'love', 'thank', 'love', 'thank', 'love', 'thank', 'love', 'thank', 'love', 'thank', 'love'], ['love', 'color', 'masks', 'looks', 'durable', 'thick', 'comfortable', 'wear', 'too', 'well', 'packed', 'correct', 'color', 'sent', 'orders'], ['happy', 'purchase', 'received', 'items', 'good', 'condition', 'surely', 'purchase', 'shop', 'again', 'thank', 'thank', 'thank', 'thank', 'thank', 'thank', 'thank', 'thank', 'seller'], ['gaganda', 'colorsuper', 'love', 'itbreathable', 'pati', 'syaits', 'second', 'purchase', 'shop', 'very', 'satisfied', 'products', 'thank', 'shopee', 'sellerdefinitely', 'order', 'again'], ['complete', 'orders', 'tama', 'color', 'good', 'quality', 'thanks', 'seller', 'complete', 'orders', 'tama', 'color', 'good', 'quality', 'thanks', 'seller', 'complete', 'orders', 'tama', 'color', 'good', 'quality', 'thanks', 'seller', 'complete', 'orders', 'tama', 'color', 'good', 'quality', 'thanks', 'seller', 'comp'], ['thank', 'seller', 'thank', 'seller', 'thank', 'seller', 'thank', 'seller', 'thank', 'seller', 'thank', 'seller', 'thank', 'seller'], ['honest', 'review', 'nice', 'quality', 'affordable', 'responsive', 'seller', 'item', 'shipped', 'asap', 'seller', 'sent', 'pics', 'shipping', 'tysm', 'tysm', 'tysm', 'next', 'transaction'], ['quality', 'good', 'price', 'makapal', 'ordered', '10', 'items', 'correct', 'lahat', 'yung', 'items', 'dumating', 'well', 'package', 'sobrang', 'bilis', 'dumating', 'didnt', 'expect', 'came', 'early', 'because', 'ordered', '1010', 'but', 'still', 'dumating', '4', 'days', 'thank', 'seller', 'order', 'again'], ['maganda', 'promise', 'kaya', 'buy', 'maganda', 'promise', 'kaya', 'buy', 'maganda', 'promise', 'kaya', 'buy', 'maganda', 'promise', 'kaya', 'buy', 'maganda', 'promise', 'kaya', 'buy', 'maganda', 'promise', 'kaya', 'buy', 'maganda', 'promise', 'kaya', 'buy', 'maganda', 'promise', 'kaya', 'buy'], ['great', 'items', 'fast', 'delivery', 'great', 'items', 'fast', 'delivery', 'great', 'items', 'fast', 'delivery', 'great', 'items', 'fast', 'delivery', 'great', 'items', 'fast', 'delivery', 'great', 'items', 'fast', 'delivery', 'great', 'items', 'fast', 'delivery', 'great', 'items', 'fast', 'delivery', 'great', 'items', 'fast', 'delivery', 'great', 'items', 'fast'], ['thank', 'love', 'colors', 'sss', 'fast', 'shipping', 'also', 'thank', 'thank', 'godbless', 'shop', 'more', 'colorful', 'facemask', 'comeeeeee'], ['thank', 'very', 'much', 'po', 'seller', 'very', 'nice', 'quality', 'kn', '94', 'face', 'mask', 'buy', 'again', 'shop'], ['super', 'legit', 'itong', 'shop', 'hindi', 'magsisis', 'umorder', 'kadito', 'kasi', 'items', 'minamake', 'sure', 'complete', 'correctly', 'ishiship', 'thank', 'complete', 'correctly', 'well', 'packaged', 'parcel', 'nasunod', 'gusto', 'po', 'ulit', 'oorder', 'promise', 'po'], ['parcel', 'received', 'po', 'maraming', 'salamat', 'po', 'kay', 'seller', 'suking', 'rider', 'jnt', 'god', 'bless', 'po'], ['nice', 'nice', 'nice', 'super', 'nice', 'nice', 'nice', 'nice', 'super', 'nice', 'nice', 'nice', 'nice', 'super', 'nice', 'nice', 'nice', 'nice', 'super', 'nice', 'nice', 'nice', 'nice', 'super', 'nice', 'nice', 'nice', 'nice', 'super', 'nice', 'nice', 'nice', 'nice', 'super', 'nice'], ['thank', 'thank', 'tou', 'thank', 'thank', 'thank', 'thank', 'tou', 'thank', 'thank', 'thank', 'thank', 'tou', 'thank', 'thank', 'thank', 'thank', 'tou', 'thank', 'thank', 'thank', 'thank', 'tou', 'thank', 'thank', 'thank', 'thank', 'tou', 'thank', 'thank', 'thank', 'thank', 'tou', 'thank', 'thank'], ['love', 'item', 'arrived', 'time', 'thank'], ['super', 'sulit', 'binayad', 'kumpletong', '12', 'packs', 'dumating', 'sakenat', 'nasunod', 'kulay', 'siguradong', 'makakaulit', 'sayang', 'peratnx', 'seller', 'order', 'again', '3', 'days', 'andito', 'agad', 'kahit', 'tawid', 'dagat', 'tong', 'samen'], ['thank', 'very', 'much', 'very', 'satisfied', 'items', 'ive', 'ordered', 'excellent', 'quality', 'well', 'packaged', 'items', 'shipped', 'immediately', 'very', 'accommodating', 'seller', 'sure', 'order', 'again'], ['super', 'maganda', 'talaga', 'itong', 'naorder', 'sobrang', 'nagustuhan', 'sya', 'sobrang', 'ganda', 'diko', 'napicturan', 'heheheheh', 'nagamit', 'agad', 'super', 'duper', 'okay', 'quality', 'very', 'affordable', 'price', 'thankyou', 'kay', 'seller', 'kuya', 'nagdeliver', 'order', 'hehe', 'kudos', 'saluteeee'], ['ambilis', 'deliver', 'lahat', 'good', 'quality', 'complete', 'lahat', 'order', 'order', 'again', 'malapit', 'maubos', 'mas', 'nakakahinga', 'kasi', 'gamit', 'thank', 'again', 'satisfied', 'customer'], ['sobrang', 'gandaaaa', 'quality', 'kitang', 'mo', 'talaga', 'ayus', 'mura', 'thank', 'seller', 'complete', 'lahat', 'item', 'sakto', 'lahat'], ['mabilis', 'nadeliver', 'nice', 'product', 'sulit', 'presyo', 'ganda', 'kulay', 'sana', 'dinamihan', 'hahaha', 'mabait', 'kuyang', 'ridersulit', 'presyomabilis', 'nadeliver', 'nice', 'product', 'sulit', 'presyo', 'ganda', 'kulay'], ['nice', 'item', 'compmete', 'naman', 'thnx'], ['good', 'quality', 'items', 'sulit', 'price', 'kulang', 'po', 'yung', 'black', 'mask12', 'packs', 'inorder', '11', 'lng', 'nung', 'dumatingpero', 'ok', 'lng', 'naman', 'satisfied', 'nmn', 'qualityshhdjsjsjxbbxnnzmzksjjakmnxbxbxhhdjsjaknznxbxbbdbhdhsjkshhshdjdjjsnznxnbdbsjjajhajkznxbxbbxbxbxbnxnsnsnsnjksks'], ['maganda', 'po', 'yung', 'product', 'complete', 'receive', '3', 'days', 'also', 'sorry', 'po', 'memes', 'ayaw', 'umayos', 'camera', 'laptop'], ['ganda', 'ganda', 'hahahhahahakhwhwhwkalzuahsnslzbzyaoanzghanzzyjznzkzolanauzyzpabzhhznzbgzkkang', 'ganda', 'hahahhahahakhwhwhwkalzuahsnslzbzyaoanzghanzzyjznzkzolanauzyzpabzhhznzbgzkkang', 'ganda', 'hahahhahahakhwhwhwkalzuahsnslzbzyaoanzghanzzyjznzkzolanauzyzpabzhhznzbgzkk'], ['always', 'complete', 'items', 'order', 'order', 'order', 'order', 'again', 'thank', 'seller', 'thank', 'shopee', 'always', 'complete', 'items', 'order', 'order', 'order', 'order', 'again', 'thank', 'seller', 'thank', 'shopee'], ['thank', 'much', 'despite', 'bulk', 'order', 'seller', 'not', 'miss', 'one', 'complete', 'well', 'packaged', 'order', 'again'], ['magandaaa', 'quality', 'very', 'nice', 'breathable', 'yung', 'mask', 'overall', 'super', 'nice', 'fitted', 'face', 'fashionable', 'also', 'wear', 'anytime'], ['complete', 'orders', 'obsessed', 'gold', 'packaging', 'pink', 'one', 'wooow', 'anyway', 'everything', 'good', 'condition', 'glad', 'hours', 'scrolling', 'finding', 'best', 'face', 'mask', 'finally', 'came'], ['2nd', 'order', 'shop', 'never', 'disappoint', 'thank', 'seller', 'color', 'qualitt', 'mask', 'good', 'thank', 'youu', 'thank', 'youu', 'order', 'again'], ['thank', 'thank', 'thank', 'thank', 'thank', 'thank', 'thank', 'thank', 'thank', 'thank', 'thank', 'thank', 'thank', 'thank', 'thank', 'thank', 'thank', 'thank', 'thank', 'thank', 'thank', 'thank', 'thank', 'thank', 'thank', 'thank', 'thank', 'thank', 'thank', 'thank'], ['salamat', 'seller', 'good', 'quality', 'masks', 'complete', 'orders', 'maganda', 'maayos', 'fit', 'sakto', 'nakaka', 'hinga', 'maayos', 'walang', 'amoy', 'masakit', 'tenga', 'garter', '6', 'sets', 'inorder', 'pero', 'binigay', 'friend', 'dalawa', 'order', 'ulit', 'next', 'time', 'marami', 'mura', 'tapos', 'ganda', 'quality'], ['nice', 'nice', 'nice', 'nice', 'nice', 'nice', 'nice', 'nice', 'nice', 'order', 'again', 'soon', 'well', 'packed', 'excellent', 'quality', 'thanks', 'god', 'bless'], ['received', 'order', 'bilis', 'shipment', 'tsaka', 'quality', 'yung', 'product', 'order', 'again', '1111', 'sale', 'thank', 'seller'], ['complete', 'tama', 'nakakailang', 'order', 'shop', 'salamat', 'binibigo'], ['very', 'food', 'wuality', 'lakas', 'maka', 'oppa', 'thanks', 'seller', 'thanks', 'shoppee', 'meron', 'magagamit', 'pero', 'not', 'like', 'lumalabas', 'parati', 'pero', 'magagamit', 'tenchu'], ['ordered', '1010', 'received', 'parcel', '1012', 'ambilis', 'madeliver', 'maganda', 'mask', 'mukang', 'matibay', 'classy', 'tignan', 'hopefully', 'serve', 'purpose', 'salamat', 'seller', 'delivery', 'boy'], ['ganda', 'poh', 'maskmura', 'dnorder', 'ulit', 'nitoganda', 'kulaythanksssssssssssssssssssssssssssssssssss'], ['order', 'received', 'today', 'bilis', 'shipping', 'ganda', 'quality', 'mask', 'mukhang', 'mas', 'matibay', 'sya', 'kesa', 'much', 'affordable', 'kesa', 'mas', 'light', 'nga', 'yung', 'color', 'bg', 'gray', 'compare', 'picture', 'thank', 'seller', 'godbless', 'stay', 'safe', 'po'], ['thanks', 'lot', 'seller', 'shoppeeee', 'kf94', 'product', 'nice', 'well', 'packed', 'good', 'quality', 'thanks', 'rider', 'more', 'power'], ['2nd', 'time', 'order', 'mas', 'pretty', 'quality', 'kesa', 'nung', 'una', 'hehe', 'thanks', 'seller', 'shopee', 'next', 'time', 'po', 'sulit', 'talaga', 'sya', 'price', 'item', 'ship', 'quickly', 'highly', 'recommend', 'shop', 'mwa', 'ahahahahahahahhahhahahhha'], ['grabe', 'gagandaa', 'got', '1010', 'bilis', 'dumating', 'probably', 'order', 'again', 'next', 'time', 'po', 'hihi', 'thank', 'soo', 'much', 'po', 'seller', 'shopeee'], ['sobrang', 'gaganda', 'po', 'item', 'nabili', 'murang', 'halaga', 'thank', 'po', 'seller', 'siguradong', 'oorder', 'po', 'ngpaulit', 'ulit'], ['good', 'condition', 'lahat', 'itemsang', 'dami', 'nabili', 'shop', 'never', 'nadisappoint', 'super', 'cute', 'items', 'nilamas', 'mura', 'compared', 'salamat', 'shopee', 'seller', 'god', 'bless'], ['po', 'parcel', 'maraming', 'salamat', 'po', 'kay', 'seller', 'maraming', 'salamat', 'kay', 'delivery', 'boy', 'jnt', 'laking', 'tulong', 'po', 'sakin', 'item', 'pambenta', '5', 'star', 'po', 'kayo', 'sakin'], ['ganda', 'stand', 'mabigat', 'tlga', 'thank', 'seller'], ['love', 'product', 'cheap', 'price', 'very', 'affordable', 'always', 'order', 'shop', 'very', 'recommended', 'order', '10', 'pcs', 'per', 'balot', 'thankyou', 'seller', 'pasobrang', '2', 'balot', 'happy', 'surely', 'order', 'again', 'thank'], ['maganda', 'quality', 'bagay', 'sakin', 'lalo', 'naging', 'pogi', 'habulin', 'shawty', 'haha'], ['affordable', 'supper', 'comfortable', 'used'], ['thank', 'thankyou', 'thank', 'thank', 'seller', 'good', 'job', 'thank', 'kay', 'kuya', 'rider', 'rara', 'hahaha', 'nice', 'nice', 'thank', 'thankyou', 'thank', 'thank', 'seller', 'good', 'job', 'thank', 'kay', 'kuya', 'rider', 'rara', 'hahaha', 'nice', 'nice'], ['lahat', 'magaganda', 'kulay', 'maganda', 'quality', 'lahat', 'kompleto', 'saya', 'saya', 'bait', 'kuyang', 'rider', 'mabilis', 'naishipout', 'oorder', 'ulit', 'naubos', 'kaso', 'andami', 'inorder', 'pang', '5mos', 'yata', 'salamaats'], ['ganda', 'sana', 'hindi', 'makati', 'ilong', 'complete', 'items', '10', 'pcs', 'lahat', '56', 'days', 'dumating', 'pero', 'ganda', 'naman', 'kahit', 'papaano', 'murang', 'mura'], ['thank', 'sellerthank', 'sellerthank', 'sellerthank', 'sellerthank', 'sellerthank', 'sellerthank', 'sellerthank', 'sellerthank', 'sellerthank', 'sellerthank', 'sellerthank', 'sellerthank', 'sellerthank', 'sellerthank', 'sellerthank', 'sellerthank', 'seller'], ['pero', 'kumpleto', 'naman', 'saka', 'maayos', 'product', 'gaya', 'nung', 'unang', 'order', 'q'], ['casual', 'ganda', 'qualityilang', 'beses', 'umorder', 'shop', 'nagustuhan', 'qualityhoping', 'more', 'ordersthank', 'seller'], ['good', 'quality', 'definitely', 'order', 'again'], ['date', 'ordered', '10102021', 'date', 'received', '10122021', 'item', 'shipped', 'good', 'condition', 'wellpackaged', '2nd', 'time', 'order', 'khaki', 'color', 'most', 'suitable', 'but', 'satisfied', 'buyer', 'thank', 'seller', 'courier'], ['okay', 'naman', 'sya', 'sakto', 'price', 'quality', 'tama', 'lahat', 'yung', 'color', 'order', 'again', 'damage', 'ok', 'ok', 'okokokokokokokokokok', 'salamat', 'salamat', 'thankyou', 'seller', 'thankyou', 'rider'], ['thank', 'seller', 'items', 'well', 'packed', 'bubble', 'wrap', 'received', 'items', 'very', 'good', 'condition', 'correct', 'items', 'too', 'definitely', 'buy', 'again'], ['thank', 'seller', 'received', '10', 'days', 'complete', 'damage', 'maganda', 'quality', 'facemask', 'malambot', 'loob', 'makati', 'face', 'unlike', 'kf94', 'mask', 'also', 'love', 'color', 'mint', 'green', 'medyo', 'unique', 'highly', 'recommended'], ['item', 'lit', 'very', 'affordale', 'item', 'good', 'order', 'again', 'fast', 'delivery', 'thank', 'thank', 'youuuu', 'thank', 'selle'], ['first', 'time', 'ordering', 'shop', 'took', 'only', '4', 'days', 'items', 'arrived', 'highly', 'recommended', 'shop', 'masks', 'good', 'love', 'quality', 'order', 'again'], ['nice', 'maaga', 'nadeliver', 'mura'], ['ganda', 'quality'], ['good', 'product'], ['sobrang', 'gandasobrang', 'gandasobrang', 'gandasobrang', 'gandasobrang', 'gandasobrang', 'gandasobrang', 'gandasobrang', 'gandasobrang', 'gandasobrang', 'gandasobrang', 'gandasobrang', 'gandasobrang', 'gandasobrang', 'gandasobrang', 'gandasobrang', 'gandasobrang', 'gandasobrang', 'gandasobrang', 'gandasobrang', 'gandasobrang', 'gandasobrang', 'gandasobrang', 'gandas'], ['nice', 'product', 'complete', 'order', 'thank', 'seller', 'nice', 'product', 'complete', 'order', 'thank', 'seller', 'nice', 'product', 'complete', 'order', 'thank', 'seller', 'nice', 'product', 'complete', 'order', 'thank', 'seller'], ['thank', 'quality', 'good', 'thank', 'quality', 'good', 'thank', 'quality', 'good', 'thank', 'quality', 'good', 'thank', 'quality', 'good', 'thank', 'quality', 'good', 'thank', 'quality', 'good', 'thank', 'quality', 'good', 'thank', 'quality', 'good', 'thank', 'quality', 'good'], ['well', 'packed', 'mabilis', 'yung', 'delivery', 'maganda', 'yung', 'mask', 'except', 'yung', 'navy', 'color', 'yung', 'dumating', 'royal', 'blue', 'color', 'yung', 'kulay', 'gray', 'peach', 'white', 'yung', 'khaki', 'naman', 'ok', 'naman', 'sya', 'sana', 'magka', 'stocks', 'ulit', 'brown', 'color'], ['superrrrrr', 'ganda', 'lahat', 'itemsss', 'nagustuhan', 'nang', 'buyers', 'yung', 'mask', 'maganda', 'makapal', 'items', 'good', 'condition', 'ooder', 'po', 'ulit', 'shop', 'itoo'], ['3rd', 'time', 'purchase', 'store', 'same', 'items', '’', 'never', 'disappointed', 'super', 'satistfied', '3rd', 'time', 'purchase', 'store', 'same', 'items', '’', 'never', 'disappointed', 'super', 'satistfied'], ['ganda', 'ganda', 'sarap', 'suotin', 'agad', 'lahat', 'cute', 'cute', 'kulay', 'matibaybdi', 'agad', 'napuputol', 'bibili', 'ulit', 'naubos', 'thank'], ['thank', 'much', 'po', 'completo', 'order', 'kuya', 'delivery', 'boy', '7pm', 'pass', 'dedeliver', 'grabe', 'lakas', 'hangin', 'ulan', 'tumuloy', 'parin', 'sya', 'godbless', 'po'], ['legitlegitlegitlegitlegitlegitlegitlegit'], ['complete', 'order', 'thank', 'much'], ['natanggap', 'po', 'order', 'maayos', 'naman', 'po', 'lahat', 'maraming', 'salamat', 'po', 'kay', 'seller', 'maraming', 'salamat', 'po', 'kay', 'shopee', 'kay', 'mr', 'rider', 'shopee', 'always', 'best', 'thank', 'much', 'keep', 'safe', 'god', 'bless'], ['very', 'nice', 'colors', 'loved', 'shipping', 'fast', 'quality', 'good', 'very', 'nice', 'colors', 'loved', 'shipping', 'fast', 'quality', 'good'], ['ganda', 'ganda', 'quality', 'super', 'ganda', 'lahat', 'pero', 'yung', 'violet', 'nakaka', 'aesthetic', 'hehe', 'complete', 'lahat', 'order', 'tama', 'yung', 'kulay', 'dumating', 'thank', 'shop', 'nato', 'order', 'again', 'rate', '5stars', 'kasi', 'ganda', 'quality', 'super', 'love'], ['ganda', 'ganda', 'order', 'face', 'mask', 'tama', 'yung', 'kulay', 'order', 'ulit'], ['recieve', 'order', 'posuper', 'affordablewell', 'pack', 'nmn', 'pocorrect', 'nmn', 'po', 'color', 'order', 'ko2nd', 'time', 'order', 'shopmdyo', 'manipis', 'lng', 'xa', 'keysa', 'una', 'kng', 'naorder', 'mdyo', 'amoy', 'xapro', 'thanku', 'sellergod', 'bless', 'po'], ['super', 'ganda', 'quality', 'mask', 'order', 'again', '1010', 'hihihi', 'thank', 'much', 'pooo'], ['excellent', 'quality', 'masks', 'highly', 'recommended', 'shop', 'seller'], ['sulit', 'mura', 'complete', 'lahat', 'tama', 'lahat', 'colors', 'order', 'again', 'nxt', 'time', 'sakto', 'lng', 'sya', 'mukhang', 'maliit', 'hndi', 'msakit', 'tenga', 'yung', 'garter', 'love'], ['cheap', 'maganda', 'quality', 'mask', 'definitely', 'buy', 'again', 'thank', 'seller', 'shopee'], ['super', 'gandaa', 'tsaka', 'mura', 'nakakatuwa', 'yung', 'shop', 'nato', 'kahit', 'daming', 'oorder', 'sakanila', 'kasi', 'top', 'sale', 'facemask', 'ganito', 'tama', 'padin', 'lahat', 'pinadala', 'maayos', 'mabilis', 'shio', 'salamat', 'po'], ['complete', 'item', 'thank', 'seller', 'shopee', 'thank', 'ky', 'rider', 'mabait', 'sya', 'bilis', 'dumating', 'order', 'again', 'kayo', 'skin'], ['thank', 'much', 'great', 'service', 'pleasure', 'transaction', 'shop', 'quality', 'really', 'nice', 'surely', 'last', 'long', 'period', 'time', 'seems', 'durable', 'long', 'lasting', 'see', 'get', 'transact', 'again', 'shop', 'again', 'thank'], ['kumpleto', 'lo', 'lahat', 'order', 'kodi', 'kailangan', 'bumili', 'facemask', 'lakadthank', 'seller', 'maayos', 'pagkakapack', 'items', 'salamat', 'kay', 'kuyah', 'rider', 'siyang', 'palaging', 'ngdadala', 'parcel'], ['order', 'receive', 'thank', 'much', 'order', 'receive', 'thank', 'much', 'order', 'receive', 'thank', 'much', 'order', 'receive', 'thank', 'much', 'order', 'receive', 'thank', 'much', 'order', 'receive', 'thank', 'much', 'order', 'receive', 'thank', 'much', 'order', 'receive', 'thank', 'much', 'order', 'receive', 'thank', 'much'], ['salamat', 'shoppe', 'salamat', 'shoppe', 'salamat', 'shoppe', 'salamat', 'shoppe', 'salamat', 'shoppe', 'salamat', 'shoppe', 'salamat', 'shoppe', 'salamat', 'shoppe', 'salamat', 'shoppe', 'salamat', 'shoppe', 'salamat', 'shoppe', 'salamat', 'shoppe', 'salamat', 'shoppe', 'salamat', 'shoppe', 'salamat', 'shoppe', 'salamat', 'shoppe', 'salamat', 'shoppe', 'salamat', 'shoppe', 'salamat', 'shoppe', 'salamat', 'shoppe'], ['maganda', 'naman', 'though', 'havent', 'tried', 'wear', 'outside', 'house', 'update', 'review', 'natry', 'super', 'cheap', '10', 'pieces', 'thank', 'youuu', 'maganda', 'naman', 'though', 'havent', 'tried', 'wear', 'outside', 'house', 'update', 'review'], ['second', 'time', 'ordered', 'shop', 'last', 'time', 'navy', 'blue', 'pink', 'never', 'disappointed', 'masks', 'keeps', 'safe', 'same', 'time', 'fashionable', 'keep', 'safe', 'everyone'], ['cute', 'mask', 'khaki', 'dark', 'tas', 'peach', 'parang', 'super', 'light', 'pink', 'maganda', 'quality', 'surely', 'order', 'again', 'thank', 'seller', 'pang', 'kids', 'nagka', 'problem', 'pang', 'girl', 'pinadala', 'sana', 'next', 'time', 'option', 'pang', 'girl', 'boy'], ['shipped', 'immediately', 'thank', 'po'], ['maganda', 'po', 'yung', 'product', 'oorder', 'po', 'ulit'], ['ganda', 'ganda', 'ganda', 'ganda', 'ganda', 'ganda', 'ganda', 'ganda', 'ganda', 'ganda', 'ganda', 'ganda', 'ganda', 'ganda', 'ganda', 'ganda', 'ganda', 'ganda', 'ganda', 'ganda', 'ganda', 'ganda', 'ganda', 'ganda', 'ganda', 'ganda', 'ganda', 'ganda', 'ganda', 'ganda', 'ganda', 'ganda', 'ganda', 'ganda', 'ganda', 'ganda', 'ganda', 'ganda', 'ganda', 'ganda', 'ganda', 'ganda', 'ganda', 'ganda', 'ganda', 'ganda', 'ganda', 'ganda'], ['arrived', 'time', 'worth', 'price', 'thank', 'very', 'much', 'purchase', 'again', 'soon'], ['received', 'good', 'condition', 'masmaganda', 'kesa', 'kn95', 'bili', 'kayo', 'masmura', 'kesa'], ['thankyou', 'much', 'pothankyou', 'much', 'pothankyou', 'much', 'pothankyou', 'much', 'pothankyou', 'much', 'pothankyou', 'much', 'pothankyou', 'much', 'pothankyou', 'much', 'pothankyou', 'much', 'pothankyou', 'much', 'pothankyou', 'much', 'pothankyou', 'much', 'pothankyou', 'much', 'pothankyou', 'much', 'pothanky'], ['super', 'affordable', 'gaganda', 'mask', 'kaya', 'naman', 'nagorder', 'ulet', 'dinamihan', 'lalo', 'hehehehe', 'thank', 'pagdating', 'order', 'agad', 'much', 'appreciated'], ['like', 'maganda', 'packaging', 'very', 'safe', 'gaganda', 'mask', 'color', 'attractive', 'ingat', 'lahat', 'new', 'normal'], ['highly', 'recommend', 'shop', 'face', 'masks', 'made', 'good', 'quality', 'material', 'also', 'got', 'righ', 'variation', 'colors', 'navy', 'peach', 'really', 'cute', 'surely', 'buy', 'more', 'face', 'mask', 'soon'], ['thank', 'seller', 'kahit', 'matagal', 'ok', 'naman', 'po', 'item', 'makapal', 'mask', 'ganda', 'kahit', 'anung', 'outfit', 'malinis', 'tignan', 'pati', 'baby', '20mos', 'ganda', 'fit', 'pang', 'baby', 'order', 'po', 'ulit', 'pero', 'sana', 'cod', 'susunod', 'haha', 'sigurista', 'seller', 'thank', 'thank'], ['thank', 'seller', 'items', 'good', 'condition', 'satisfying', 'definitely', 'order', 'again', 'shop', 'keep', 'good', 'work'], ['received', 'items', 'complete', 'excellent', 'condition', 'face', 'masks', 'makapal', 'maganda', 'fit', 'mukha', 'garbage', 'bag', 'ok', 'naman', 'price', 'definitely', 'order', 'again', 'thanks'], ['maganda', 'maganda', 'maganda', 'maganda', 'maganda', 'maganda', 'maganda', 'maganda', 'maganda', 'maganda', 'maganda', 'maganda', 'magandamaganda', 'maganda', 'maganda', 'maganda', 'maganda', 'maganda', 'maganda', 'maganda'], ['excellent', 'quality', 'excellent', 'quality', 'excellent', 'quality', 'excellent', 'quality', 'excellent', 'quality', 'excellent', 'quality', 'excellent', 'quality'], ['wow', 'didnt', 'expect', 'receive', 'soon', 'ordered', '1010', 'received', 'today', '1014', 'wellpacked', 'mask', 'although', 'lukot', 'box', 'okay', 'lng', 'kc', 'ginagamit', 'happy', 'kc', 'lahat', 'color', 'pinadala', 'tama', 'pafreebie', 'kakakilig', 'thank', 'seller'], ['complete', 'lahat', 'orders', 'orders', 'well', 'package', 'deliver', 'kulang', 'box', 'yung', 'face', 'mask', 'pero', 'okay', 'very', 'affordable'], ['super', 'nice', 'ganda', 'super', 'nice', 'ganda', 'niyasuper', 'nice', 'ganda', 'super', 'nice', 'ganda', 'super', 'nice', 'ganda', 'super', 'nice', 'ganda', 'niyasuper', 'nice', 'ganda', 'super', 'nice', 'ganda', 'super', 'nice', 'ganda', 'super', 'nice', 'ganda', 'niyasuper', 'nice', 'ganda', 'super', 'nice'], ['ordered', 'last', 'oct16', 'received', 'today', 'oct18', 'super', 'bilis', 'shipping', 'usual', 'bery', 'good', 'quality', 'thank', 'seller'], ['super', 'ganda', 'usual', 'ky', 'paulit', 'ulit', 'order', 'sulit', 'sulit', 'mmmwwwaahhhh', 'best', 'susunod', 'transaction'], ['love', 'colors', 'navy', 'blue', 'khaki', 'order', 'again', 'try', 'colours', 'shop', 'too', 'thank', 'much'], ['third', 'time', 'arounnd', 'ganda', 'quality', 'tsaka', 'kahitmaramihan', 'order', 'lahat', 'sakto', 'tsaka', 'nakukuha', 'yung', 'gusto', 'kulay', 'good', 'job'], ['super', 'legit', 'pang', 'beses', 'order', 'salamat', 'seller', 'complete', 'orders', 'salamat', 'shopee'], ['but', 'thing', 'ok', 'naman', 'sya', 'well', 'pack', 'kaya', 'medyo', 'ok', 'color', 'medyo', 'light', 'masyado', 'compare', 'yung', 'nasa', 'picture', 'kaya', 'medyo', 'ok', 'color', 'medyo', 'light', 'masyado', 'compare', 'yung', 'nasa', 'picture'], ['galing', 'seller', 'ganda', 'quality', 'masks', 'definitely', 'order', 'again', 'more', 'affordable', 'compared', 'sellers', 'shipped', 'delivered', '24', 'hrs', 'posted', 'hope', 'matuwa', 'pagbbigyan', 'godbless', 'more', 'power', 'thanks', 'seller', 'shopee', 'courier'], ['order', 'complete', 'thank', 'much', 'seller', 'also', 'rider'], ['thank', 'sellerthe', 'parcel', 'complete', 'damage', 'right', 'variations', 'colors', 'arrived', 'safely', 'placeresponsive', 'accommodating', 'seller', 'keep', 'excellent', 'service'], ['items', 'arrived', 'immediately', 'correct', 'quantity', 'colors', 'nice', 'personal', 'good', 'quality', 'affordable', 'price', 'definitely', 'order', 'again', 'thank', 'seller', 'maintain', 'high', 'standard', 'every', 'transactions', 'thank', 'again', 'happy', 'customer'], ['nice', 'product', 'excellent', 'quaaality', 'super', 'faaaaaast', 'shipmeeeenttt', 'nga', 'siiiis', 'baaa', 'hahahaha', 'biliii', 'kuesssssss'], ['arrived', 'time', 'complete', 'delivery', 'damage', 'maganda', 'quality', 'first', 'time', 'order', 'supplier', 'decided', 'place', 'another', 'set', 'order', 'magaganda', 'mask', 'same', 'color', 'naka', 'display'], ['thank', 'bilis', 'dumating', 'great', 'quality', 'super', 'thick', 'sya', 'thank', 'youuu', '2nd', 'time', 'order', 'next', 'time', 'uliiit', 'thankk', 'youuuuu', 'soo', 'mucccchhhh', 'thank', 'bilis', 'dumating', 'great', 'quality'], ['always', 'complete', 'orders', 'walang', 'damage', 'suki', 'pang', 'order', 'kahit', 'minsan', 'hindi', 'nagkulang', 'seller', 'sana', 'thank', 'much', 'mabilis', 'magship', 'susunod', 'ulit'], ['thank', 'thank', 'thank', 'thank', 'thank', 'thank', 'thank', 'thank', 'thank', 'thank', 'thank', 'thank', 'thank', 'thank', 'thank', 'thank', 'thank', 'thank', 'thank', 'thank', 'thank', 'thank', 'thank', 'thank', 'thank', 'thank', 'thank', 'thank', 'thank', 'thank'], ['receive', 'order', 'completecorrect', 'quantity', 'color', 'good', 'quality', 'affordable', 'thank', 'shopee', 'seller', 'god', 'bless'], ['super', 'ganda', 'kyut', 'color', 'super', 'ganda', 'kyut', 'color', 'super', 'ganda', 'kyut', 'color', 'super', 'ganda', 'kyut', 'colorsuper', 'ganda', 'kyut', 'color', 'super', 'ganda', 'kyut', 'color', 'super', 'ganda', 'kyut', 'colorsuper', 'ganda', 'kyut', 'color', 'super', 'ganda', 'kyut', 'color', 'super', 'ganda', 'kyut', 'color', 'super', 'ganda', 'kyut', 'color', 'super', 'ganda', 'kyut', 'color'], ['maganda', 'po', 'quality', 'mura', 'lng', 'po', 'mabilis', 'dumating', '3', 'days', 'lng', 'hihi', 'thanks', 'seller', 'bili', 'ulit', 'nxt', 'time'], ['excellent', 'quality', 'facemask', 'super', 'ganda', 'colors', 'see', 'get', 'excellent', 'quality', 'facemask', 'super', 'ganda', 'colors', 'see', 'get', 'excellent', 'quality', 'facemask', 'super', 'ganda', 'colors', 'see', 'get'], ['order', 'recieved', 'thank', 'seller', 'complete', 'items', 'good', 'condition', 'second', 'times', 'q', 'umorder', 'order', 'again', 'soon', 'thank', 'kuya', 'rider', 'thanks', 'shopee'], ['maganda', 'yung', 'quality', 'makapal', 'sulit', 'pera', 'mo', 'sure', 'order', 'again', 'thank', 'seller', 'good', 'quality', 'items', 'kumpleto', 'kahit', 'madami'], ['good', 'quality', 'complete', 'delivery', 'well', 'packaged', 'items', 'fast', 'delivery', 'thanks', 'shopee', 'kay', 'kuya', 'nagdeliver', 'tyak', 'order'], ['gamda', 'talaga', 'nang', 'quality', 'beses', 'umorder', 'same', 'quality', 'po', 'kaya', 'nagugustuhan', 'suki', 'kothank', 'seller'], ['very', 'nice', 'quality', 'products', 'po', 'like', 'surely', 'order', 'again', 'shop', 'mabilis', 'maship', 'item', 'love', 'love', 'love'], ['thanks', 'thanks', 'thanks', 'thanks', 'thanks', 'thanks', 'thanks', 'thanks', 'thanks', 'thanks', 'thanks', 'thanks', 'thanks', 'thanks', 'thanks', 'thanks', 'thanks', 'thanks', 'thanks', 'thanks', 'thanks', 'thanks', 'thanks', 'thanks', 'thanks', 'thanks', 'thanks', 'thanks', 'thanks', 'thanks', 'thanks', 'thanks', 'thanks', 'thanks', 'thanks', 'thanks'], ['thank', 'seller', 'complete', 'correct', 'lahat', 'binigo', 'seller', 'till', 'next', 'order', 'po', 'god', 'bless', 'keep', 'more', 'sales', 'come', 'good', 'quality', 'sya', 'happy', 'purchased', 'thanks', 'shopee', 'courier'], ['mabilisdumating', 'wellpackedmagaganda'], ['excellent', 'quality', 'excellent', 'quality', 'excellent', 'quality', 'excellent', 'quality', 'excellent', 'qualityexcellent', 'excellent', 'quality', 'excellent', 'qualityexcellent', 'quality'], ['quality', 'facemask', 'good', 'very', 'affordable', 'hole', 'nose', 'preferred', 'thank', 'seller', 'order', 'again', 'next', 'time', 'different', 'colors'], ['yaaaaaassssssss', 'orders', 'complete', 'good', 'condition', 'good', 'quality', 'fast', 'ship', 'items', 'thanks', 'seller', 'definitely', 'order', 'again'], ['super', 'ganda', 'po', 'quality', 'makapal', 'hindi', 'madaling', 'masira', 'oorder', 'ulit', 'promise', 'mejo', 'naadik', 'mask', 'ngyn', 'matagal', 'delivery', 'but', 'anyways', 'thank', 'seller', 'god', 'bless'], ['thank', 'shopee', 'thank', 'shopee', 'thank', 'shopee', 'thank', 'shopee', 'thank', 'shopee', 'thank', 'shopee', 'thank', 'shopee', 'thank', 'shopee', 'thank', 'shopee', 'thank', 'shopee', 'thank', 'shopee'], ['thank', 'seller', 'thank', 'freebies', 'ok', 'quality'], ['nice', 'quality', 'safe', 'safe', 'talaga', 'thank', 'high', 'quality', 'but', 'inexpensive', 'product'], ['order', 'again', 'order', 'again', 'order', 'again', 'order', 'again', 'order', 'again', 'order', 'again', 'order', 'again', 'order', 'again', 'order', 'again', 'order', 'again', 'order', 'again'], ['nice', 'fast', 'shipping', 'good', 'qual', 'prods', 'thanks'], ['good', 'transaction', 'quality', 'products', 'low', 'price', 'sulittipid', 'thank', 'seller', 'thank', 'shoppee', 'order', 'again', 'soon', 'buy'], ['items', 'correct', 'well', 'packed', 'shipped', 'immediately'], ['complete', 'nareceive', 'yung', 'items', 'good', 'quality', 'mura', 'sya', 'thank', 'seller', 'makakaulit', 'order', 'shop'], ['thank', 'much', 'seller', 'good', 'item', 'fast', 'delivery', 'po'], ['items', 'arrived', 'good', 'condition', 'damage', 'fast', 'delivery', 'thumbs', 'seller', 'selling', 'good', 'quality', 'mask'], ['mabilis', 'dumating', 'complete', 'safe', 'thank', 'seller', 'nagdeliver'], ['thank', 'seller', 'nagustuhan', 'anak', 'yung', 'design', 'face', 'mask'], ['nareceive', 'po', 'order', 'facemask', 'aloe', 'vera', 'shampoo', 'nasunod', 'naman', 'po', 'order', 'especially', 'color', 'order', 'again', 'maraming', 'salamat', 'po'], ['delivery', 'fast', 'wellpacked', 'complete', 'orders', 'thank', 'delivery', 'fast', 'wellpacked', 'complete', 'orders', 'thank', 'delivery', 'fast', 'wellpacked', 'complete', 'orders', 'thank', 'delivery', 'fast', 'wellpacked', 'complete', 'orders', 'thank'], ['thank', 'thankyou', 'thank', 'thank', 'thank', 'thankyou', 'thank', 'thank', 'thank', 'thankyou', 'thank', 'thankyou', 'thank', 'thank', 'thank', 'thankyou', 'thank', 'thank', 'thank', 'thank', 'thank', 'thankyou', 'thank', 'thank', 'thank', 'thankyou', 'thank', 'thank', 'thank'], ['legit', 'napaka', 'mura', 'dati', 'mahal', 'ganto', 'eh', 'buti', 'nagmura', 'ngayon', 'hahahhahahahah', 'diyan', 'bibili', 'ulit', 'ibang', 'kulay', 'legit', 'napaka', 'mura', 'dati', 'mahal', 'ganto', 'eh', 'buti', 'nagmura', 'ngayon', 'hahahhahahahah', 'diyan', 'bibili', 'ulit', 'ibang', 'kulay', 'legit', 'napaka', 'mura'], ['10', 'stars', 'thank', 'seller', 'matibay', 'facemasks', 'love', 'colors', 'fits', 'face', 'standard', 'packaging', 'order', 'again', 'highly', 'recommended', 'seller'], ['complete', 'package', 'mabilis', 'dumating', 'salamat', 'shoppee', 'complete', 'package', 'mabilis', 'dumating', 'salamat', 'shoppee', 'complete', 'package', 'mabilis', 'dumating', 'salamat', 'shoppee', 'complete', 'package', 'mabilis', 'dumating', 'salamat', 'shoppee', 'complete', 'package', 'mabilis', 'dumating', 'salamat', 'shoppee', 'complete', 'package', 'mabilis', 'dumating', 'salamat'], ['masks', 'good', 'condition', 'lahat', 'makakapal', 'good', 'quality', 'think', 'buy', 'again', 'store', 'masks', 'good', 'condition', 'lahat', 'makakapal', 'good', 'quality', 'think', 'buy', 'again', 'store', 'masks', 'good', 'condition', 'lahat', 'makakapal', 'good', 'quality', 'keep'], ['picture', 'video', 'not', 'related', 'pero', 'yuh', 'maganda', 'yung', 'product', 'bilis', 'dumating'], ['items', 'arrivedwell', 'complete', 'damage', 'packaging', 'okay', 'everything', 'good', 'condition', 'serving', 'purpose', 'thank', 'seller', 'rider'], ['nice', 'quality', 'thank', 'pobibile', 'ulit', 'naubos', 'makapal', 'sakop', 'talaga', 'muka', 'thank', 'thank', 'thank', 'seller'], ['thank', 'much', 'seller', 'maayos', 'po', 'naming', 'nareceived', 'mask', 'ok', 'po', 'quality', 'base', 'price', 'cute', 'colors', 'godbless', 'po'], ['thanks', 'much', 'good', 'quality', 'product', 'very', 'much', 'satisfied', 'even', 'packaging', 'very', 'secured', 'till', 'next', 'transaction', 'more', 'power', 'shop', 'thanks', 'much', 'good', 'quality', 'product', 'very', 'much', 'satisfied', 'even', 'packaging', 'very', 'secured', 'till', 'next', 'transaction'], ['ganda', 'first', 'time', 'bumili', 'kf94', 'mask', 'online', 'binigo', 'shop', 'nato', 'quality', 'matibay', 'maayosss', 'legit', 'naman', 'nasa', '1m', 'sold', 'kasi', 'legit', 'tlga', 'salamatssss', 'next', 'time', 'ulit'], ['maganda', 'quality', 'second', 'time', 'order', 'makati', 'feeling', 'tsaka', 'mas', 'early', 'checked', 'pwede', 'maisend', 'seller', 'agad', 'parcel', 'kaya', 'pwedeng', 'arrived', 'agad', 'kinabukasan', 'thats', 'happened'], ['super', 'legit', 'fast', 'shipping', 'super', 'legit', 'fast', 'shipping', 'super', 'legit', 'fast', 'shipping', 'super', 'legit', 'fast', 'shipping', 'super', 'legit', 'fast', 'shipping', 'super', 'legit', 'fast', 'shipping', 'super', 'legit', 'fast', 'shipping', 'super', 'legit', 'fast', 'shipping'], ['2nd', 'time', 'ordering', 'items', 'advertised', 'well', 'packaged', 'very', 'cheap', 'yet', 'very', 'good', 'quality', 'package', 'arrived', 'earlier', 'expected', 'fast', 'smooth', 'transaction', 'thank'], ['colors', 'correct', 'thank', 'seller'], ['thank', 'seller', 'nakamura', 'double', 'priced', 'pla', 'pg', 'binili', 'ulit', 'oorder', 'pg', 'naubossakto', 'pati', 'kulay', 'unlike', 'more', 'power', 'po', 'shop', 'ninyo'], ['thanks', 'seller', 'tama', 'lahat', 'kulay', 'pinadala', 'mo', 'maganda', 'po', 'product', 'ninyo', 'mask', 'makapal', 'po', 'sya', 'five', 'stars', 'seller'], ['super', 'gaganda', 'kulay', 'mask', 'bilis', 'napaship', 'tama', 'pinadala', 'seller', 'oorder', 'ulit', 'shop', 'thank', 'seller'], ['maganda', 'quality', 'order', 'again', 'shipped', 'immediaetely', 'well', 'packaged', 'ithank', 'seller', 'hehhehehee'], ['fantastic', 'service', 'item', 'great', 'quality', 'quick', 'delivery', 'packaging', 'immensely', 'wonderful', 'item', 'great', 'quality', 'exceptionally', 'sterling', 'delivery', 'item', 'optimum', 'standout', 'packaging', 'outstanding'], ['ordered', 'last', 'pay', 'day', 'sale', '1015', 'received', 'today', 'second', 'time', 'order', 'ganda', 'talaga', 'quality', 'kumpleto', '10pcs', 'talaga', 'sya', 'salamat', 'seller', 'payment', 'via', 'shopee', 'pay', 'salamat', 'shopee', 'kuya', 'rider', 'stay', 'safe'], ['2nd', 'tym', 'nagorder', 'shop', 'complete', 'naman', 'po', 'salamat', 'seller', 'thank', 'shoppee', 'kuya', 'rider', 'stay', 'safe', 'god', 'bless'], ['parcel', 'received', 'ganda', 'yung', 'yellow', 'order', 'again', 'naubos', 'bait', 'rider', 'thank', 'much', 'seller'], ['thanksss', 'guysss', 'fast', 'delivery', 'gray', 'color', 'love', 'thanksss', 'guysss', 'fast', 'delivery', 'gray', 'color', 'love', 'thanksss', 'guysss', 'fast', 'delivery', 'gray', 'color', 'love', 'thanksss', 'guysss', 'fast', 'delivery', 'gray', 'color', 'love'], ['thank', 'thank', 'thank', 'thank', 'thank', 'thank', 'thank', 'thank', 'thank', 'thank', 'thank', 'thank', 'thank', 'thank', 'thank', 'thank', 'thank', 'thank', 'thank', 'thank'], ['recieve', 'pokumpleto', 'deliver', 'ganda', 'po', 'niathanku', 'seller', 'mabait', 'rider', 'recieve', 'pokumpleto', 'deliver', 'ganda', 'po', 'niathanku', 'seller', 'mabait', 'rider', 'recieve', 'pokumpleto', 'deliver', 'ganda', 'po', 'niathanku', 'seller', 'mabait', 'rider'], ['maganda', 'thank', 'seller'], ['think', '3rd', 'time', 'order', 'shop', 'bukod', 'mura', 'super', 'nice', 'quality', 'thank', 'much', 'seller', 'order', 'again', 'soon'], ['nice', 'sulit', 'yung', 'order', 'nakailang', 'order', 'nako', 'binigo', 'seller', 'salamat', 'godbless', 'order', 'kayo', 'guys'], ['salamaaaaat', 'pooo', 'shoppppp', 'napakamuraaa', 'hehehe', 'bilis', 'shipp', 'salamaaaat', 'po', 'talagaaaaa', 'thank', 'youuuuuuuuuu7u77uu'], ['thanks', 'seller', 'thanks', 'seller', 'thanks', 'seller', 'thanks', 'seller', 'thanks', 'seller', 'thanks', 'seller', 'thanks', 'seller', 'thanks', 'seller', 'thanks', 'seller', 'thanks', 'seller', 'thanks', 'seller', 'thanks', 'seller', 'thanks', 'seller', 'thanks', 'seller', 'thanks', 'seller', 'thanks', 'seller', 'thanks', 'seller', 'thank'], ['maraming', 'salamat', 'jt', 'seller', 'shopee', 'kompleto', 'maayos', 'po', 'packaging', 'safe', 'safe', 'pagkabalot', 'salamat', 'marami'], ['tadaaaaaan', 'haha', 'murang', 'mura', 'free', 'shipping', 'nxt', 'tym', 'po', 'ulet', 'mabilis', 'lng', 'shipping', 'thank', 'shopee', 'kay', 'seller'], ['bilis', 'delivery', 'manipis', 'yung', 'mask', 'ganda', 'pink', 'khaki', 'thank', 'seller', 'bilis', 'delivery', 'manipis', 'yung', 'mask', 'ganda', 'pink', 'khaki', 'thank', 'seller', 'bilis', 'delivery', 'manipis', 'yung', 'mask', 'ganda', 'pink', 'khaki', 'thank', 'seller'], ['ganda', 'po', 'item', 'nakakarami', 'purchase', 'mask', 'mabili', 'kasi', 'hehe', 'tama', 'po', 'yung', 'colors', 'dumating', 'bilis', 'po', 'dumating', 'thank', 'much', 'po', 'seller', 'shopee', 'deliveryman', 'god', 'bless', 'keep', 'safe', 'always'], ['superrrrrr', 'excited', 'po', 'talaga', 'nitong', 'masksupeerrrr', 'like', 'completo', 'po', 'lahat', 'yung', 'dumating', 'thank', 'seller', 'shopeeeeee'], ['thank', 'seller', 'orders', 'complete', 'thank', 'seller', 'orders', 'complete', 'thank', 'seller', 'orders', 'complete', 'thank', 'seller', 'orders', 'complete', 'thank', 'seller', 'orders', 'complete', 'thank', 'seller', 'orders', 'complete', 'thank', 'seller', 'orders', 'complete'], ['great', 'purchase', 'consider', 'ordering', 'again', 'wellpackaged', 'good', 'quality', 'sulit', 'sulit', 'great', 'purchase', 'consider', 'ordering', 'again', 'wellpackaged', 'good', 'quality', 'sulit', 'sulit'], ['excellent', 'quality', 'very', 'accommodating', 'seller', 'wellpackaged', 'item', 'shipped', 'immediately', 'order', 'again', 'thank', 'much', 'poooo'], ['nice', 'quality', 'super', 'affordable', 'bilis', 'ship', 'deliversana', 'dnamihan', 'order', 'hehe', 'bale', 'nxt', 'tym', 'namanthank', 'thank'], ['ganda', 'worth', 'mura', 'pang', 'order', 'ata', 'sakanila', 'thank', 'seller', '333', 'asdfghjklqwertyuiopaskzn'], ['super', 'good', 'quality', 'wala', 'masay', 'haha', 'gaganda', 'colors', 'hindi', 'sya', 'masakit', 'mata', 'actually', 'kakareceive', 'umorder', 'ulit', 'hehe', 'ganun', 'tiwala', 'naman', 'nagkamali'], ['excellent', 'quality', 'very', 'accomodating', 'seller', 'well', 'packaged', 'item', 'shipped', 'immediately', 'order', 'again', 'saktong', 'sakto', 'fit', 'salamat'], ['thank', 'much', 'pooo', 'complete', 'items', 'received', 'damages', 'murangmura', 'compared', 'bumili', 'order', 'ulit', 'next', 'time'], ['orders', 'already', 'received', 'po', 'thank', 'seller', 'complete', 'item', 'dumating', 'thank', 'also', 'secured', 'packaging', 'item'], ['thank', 'much', 'fast', 'delivery', 'complete', 'lahat', 'orders', 'very', 'good', 'condition', 'really', 'like', 'colors', 'chose'], ['suppppppeeeeerrr', 'thankssss', 'seller', 'gaganda', 'mask', 'tama', 'yung', 'kulay', 'quantity', 'dumating', 'sobrang', 'bilis', 'delivery', 'thanks', 'seller', 'courier', 'definitely', 'buy', 'again', 'shop'], ['fast', 'delivery', 'tama', 'lahat', 'items', 'nagustuhan', 'q', 'very', 'affordable'], ['fast', 'delivery', 'complete', 'accurate', 'orders', 'damagedents', 'good', 'quality', 'makapal', 'sya', 'very', 'affordable', 'thanks', 'seller', 'order', 'again'], ['grabe', 'quality', 'superb', 'ganda', 'katulad', 'ibang', 'shop', 'pero', 'mura', 'bili', 'ulit', 'naubos', 'thank', 'much', 'seller', 'rider', 'napakabilis', 'dumating', 'sakin'], ['super', 'legit', 'ganda', 'masktill', 'next', 'transition', 'yayyyy'], ['gandaa'], ['cute', 'naman', 'neto', 'favorite', 'color', 'kapatid', 'kaya', 'binili', 'dadagdagan', 'salamat', 'seller', 'syempre', 'salamat', 'shopee'], ['gaganda', 'mask', 'mabilis', 'po', 'dumating', 'thankyou', 'po'], ['gaganda', 'kulaaaay', 'hehe', 'sana', 'dinamihan', 'huhu', 'pero', 'order', 'next', 'timee', 'maganda', 'quality', 'makapal', 'yung', 'mask'], ['excellent', 'quality', 'very', 'accommodating', 'seller', 'well', 'packaged', 'item', 'shipped', 'immediately', 'order', 'again', 'excellent', 'quality', 'very', 'accommodating', 'seller', 'well', 'packaged', 'item', 'shipped', 'immediately', 'order', 'again'], ['ganda', 'kulay', 'mabilis', 'lng', 'dumating', 'mura', 'well', 'package', 'order', 'more', 'thank', 'seller', 'god', 'bless'], ['thank', 'youuuuuuuuuuuuuuuuuuuuuuuuuuuuuuuuuuuuuuuuuuu', 'poooooooooooooooooooooooooooooooooooooooooooooooooooooooooooooooooooooooooooooooooooooooooooo'], ['thank', 'much', 'seller', 'definitely', 'order', 'again', 'well', 'packaged', 'item', 'shipped', 'immediately'], ['maganda', 'yung', 'facemask', 'bibili', 'ulit', 'naubos', 'sya', 'maganda', 'yung', 'facemask', 'bibili', 'ulit', 'naubos', 'sya', 'maganda', 'yung', 'facemask', 'bibili', 'ulit', 'naubos', 'sya', 'maganda', 'yung', 'facemask', 'bibili', 'ulit', 'naubos', 'sya'], ['got', 'mine', 'product', 'cute', 'also', 'quality', 'affordable', 'price'], ['ganda', 'talaga', 'pang', 'order', 'shop', 'pero', 'ibang', 'acc', 'gamjt', 'naubos', 'hahahaha', 'thank', 'youuuuuu', 'po', 'buy', 'again', 'tom', '1010', '´', '’', '333'], ['complete', 'order', 'shipping', 'within', 'expected', 'time', 'thank', 'much', 'seller', 'restock', 'kasi'], ['thank', 'seller', 'thank', 'shopee', 'surely', 'buy', 'again', 'thank', 'shopee', 'thank', 'seller', 'surely', 'buy', 'again', 'good', 'quality', 'product'], ['thankyouusoooomuuchhhhh', 'sobrangg', 'gandaaa', 'talagaaaa', 'nanggg', 'mask', 'affordable', 'mura', 'sya', 'godblesa', 'more', 'sales', 'come', 'biliss', 'ship', 'salamat', 'iuuuwi', 'nang', 'italy', 'hhee', 'thank', 'ulit'], ['very', 'nice', 'medyo', 'matagal', 'dumating', 'pero', 'ok', 'ok', 'color', 'tamang', 'tama', 'sinend', 'sakin', 'order', 'again', 'naubos'], ['thank'], ['complete', 'order', 'received', 'thank', 'youuuuuuuuuuuuu', 'thankyouuuuuuu', 'thankyouuuuuuu', 'thankyouuuuuuu', 'thankyouuuuuuu', 'thankyouuuuuuu', 'thankyouuuuuuu', 'thankyouuuuuuu', 'thankyouuuuuuu', 'thankyouuuuuuu'], ['thank', 'much', 'po', 'seller', 'thank', 'much', 'po', 'seller', 'thank', 'much', 'po', 'seller', 'thank', 'much', 'po', 'seller', 'thank', 'much', 'po', 'seller', 'thank', 'much', 'po', 'seller', 'thank', 'much', 'po', 'seller', 'thank', 'much', 'po', 'seller', 'thank', 'much', 'po', 'seller', 'xxx'], ['excellent', 'quality', 'excellent', 'quality', 'excellent', 'quality', 'excellent', 'quality', 'excellent', 'quality', 'excellent', 'quality', 'excellent', 'quality', 'excellent', 'quality', 'excellent', 'quality', 'excellent', 'quality', 'excellent', 'quality', 'excellent', 'quality', 'excellent', 'quality', 'excellent', 'quality', 'excellent', 'quality', 'excellent', 'quality', 'excellen'], ['thank', 'fast', 'smooth', 'transaction', 'product', 'arrived', 'safely', 'packaged', 'carefully', 'defects', 'flaws', 'product', 'super', 'worth', 'definitely', 'order', 'again'], ['thankyou', 'po', 'salamat', 'salamat', 'sakamat', 'sakamat', 'salamt', 'salamat', 'salamat', 'salamat', 'samalat', 'salamat', 'salamat', 'salamat', 'salamat', 'salamat', 'sakamat', 'salamat', 'salamat', 'thankyou', 'po', 'salamat', 'salamat', 'sakamat', 'sakamat', 'salamt', 'salamat', 'salamat', 'salamat', 'samalat', 'salamat', 'salamat', 'salamat', 'salamat', 'salamat', 'sakamat', 'salamat', 'salama'], ['thank', 'legit', 'items', 'legit', 'seller', 'thank', 'seller', 'thank', 'shopee', 'thank', 'rider', 'next', 'purchase'], ['excellent', 'quality', 'accomodating', 'seller', 'well', 'packaged', 'item', 'shipped', 'immediatelywill', 'order', 'again'], ['order', 'received', 'complete', 'po', 'dumating', 'salamat', 'seller', 'wll', 'order', 'again', 'excellent', 'quality', 'very', 'accomodating', 'well', 'pack10', 'star', 'thank', 'thank', 'complete', 'order', 'godbless', 'seller'], ['ganda', 'items', 'perfect', 'yung', 'kulay', 'sukat', 'ok', 'overall', 'okay', 'alright', 'maganda', 'pagkawrap', 'items', 'order', 'again', 'kailangin', 'ulit', 'thank', 'seller'], ['far', 'eto', 'yung', 'kf94', 'good', 'yung', 'quality', 'yey', 'best', 'quality', 'thank', 'shoppee', 'seller', 'bait', 'nung', 'delivery', 'rider', 'huhuhu', 'till', 'next', 'transaction', 'god', 'bless'], ['second', 'time', 'order', 'good', 'quality', 'parin', 'thanks', 'seller', 'matutuwa', 'yung', 'pasabay', 'sakin', 'hehehe', 'good', 'job', 'bilis', 'dumating', 'itemssss'], ['items', 'complete', 'good', 'condition', 'items', 'complete', 'good', 'condition', 'items', 'complete', 'good', 'condition', 'items', 'complete', 'good', 'condition', 'items', 'complete', 'good', 'condition', 'items', 'complete', 'good', 'condition', 'items', 'complete', 'good', 'condition'], ['complete', 'orders', 'tyaka', 'good', 'quality', 'sorry', 'unrelated', 'pic', 'vid', 'also', 'late', 'rating', 'thank', 'order', 'again'], ['thank', 'much', 'seller', 'fast', 'delivery', 'thankful', 'cause', 'really', 'like', 'cheaper', 'different', 'masks', 'choose'], ['order', 'again', 'soon', 'item', 'shipped', 'immediately', 'wellpacked', 'damage', 'syempre', 'maasekasong', 'seller', 'complete', 'missing', 'item', 'excellent', 'quality', 'kf94', 'facemask', 'makapal'], ['thanks', 'receive', 'po', 'po', 'order', 'unamasydo', 'makapal', 'una', 'ngun', 'pangalawa', 'order', 'manipis', 'kso', 'ok', 'walang', 'amoy', 'katulad', 'nung', 'una', 'inorder', 'kotama', 'quantity', 'variation', 'colorgood', 'job', 'sana', 'makapal', '4layer', 'talaga', 'thank', 'seller'], ['excellent', 'material', 'quality', 'very', 'affordable', 'price', 'wellpackaged', 'items', 'shipped', 'immediately', 'thank', 'seller', 'love', 'product', 'definitely', 'order', 'again'], ['fast', 'delivery', 'nice', 'product', 'order', 'again', 'naubos', 'stocks', 'kothank', 'godbless', 'yhank', 'thank', 'thank', 'thank', 'thank', 'thank'], ['ganda', 'masksobrang', 'mura', 'bilis', 'deliveryganda', 'pati', 'kulaynagustuhan', 'anak', 'komukhang', 'matibay', 'kc', 'makapal', 'wire', 'gitnacomplete', 'orderswill', 'order', 'again', 'sure', 'thank', 'sellerlove', 'masks'], ['thank', 'seller', 'ganda', 'sakto', 'po', 'price', 'thanks', 'also', 'shopee', 'kuya', 'rider', 'jt', 'express', 'care', 'product'], ['ganda', 'daw', 'nang', 'mask', 'nang', 'anak', 'kokorean', 'korean', 'dawapaka', 'angas', 'nang', 'datingmukhang', 'matibay', 'mura', 'pasalamat', 'kay', 'seller', 'altough', 'mas', 'nauna', 'yung', 'parcell', 'nakasabay', 'nang', 'order', 'eh', 'salamat', 'denbaka', 'courier', 'diperensyasalamat', 'seller', 'driver', 'nagdeliver'], ['love', 'package', 'arrived', 'early', 'expected', 'waited', 'rating', 'cause', 'wanted', 'use', 'first', 'know', 'good', 'product', 'highly', 'recommend'], ['thank', 'seller', 'complete', 'orders', 'first', 'time', 'try', 'otwoo', 'products', 'like', 'buy', 'again', 'thanks'], ['expected', 'excellent', 'quality', 'securely', 'packed', 'received', 'earlier', 'expected', 'love', 'alllllllllll', 'surely', 'order', 'agaaaaaaiiinnnnnn'], ['magandaaaaa', 'syaaaa', 'promiseeeeee', 'nagustohan', 'koooo', 'jehehdhehehshehehehehehehehehehehheheheheheheheheehheehhehe'], ['got', '88', 'sale', 'good', 'packaging', 'item', 'shipped', 'immediately', 'brow', 'soap', 'trend', 'right', 'try', 'soon'], ['excellent', 'quality', 'item', 'nicely', 'packed', 'damage', 'highly', 'recommended', 'thank', 'seller', 'kay', 'kuyang', 'driver'], ['second', 'time', 'ordering', 'shop', 'thank', 'much', 'otwoo'], ['super', 'secured', 'po', 'yung', 'packaging', 'quality', 'definitely', 'good', 'hope', 'mahiyang', 'thank', 'seller', 'worth', 'price'], ['order', 'arrived', 'complete', 'wellpacked', 'damage', 'excited', 'use'], ['nice', 'productthank'], ['thank', 'muchhh'], ['super', 'ganda', 'quality', 'product', 'ngl', 'guyssss', 'bait', 'bait', 'talaga', 'seller', 'freebie', 'syang', 'nose', 'pore', 'strips', 'bongga', 'packaging', 'products', 'napaka', 'susyal', 'mamahaling', 'tignan', 'hinding', 'hindi', 'kayo', 'magsisisi', 'otwoo', 'products', 'btw', 'stan', 'enhypen', 'narin', 'better', 'life'], ['order', 'shipped', 'immediately', 'love', 'makeup', 'feels', 'very', 'light', 'really', 'beautiful', 'even', 'play', 'mixing', 'colors', 'love', '2nd', 'time', 'ordering', 'item', 'time', 'sent', 'freebie', 'thanks', 'seller', 'next', 'order'], ['received', 'products', 'correct', 'colors', 'quantity', 'goood', 'nakakatuwa', 'kasi', 'almost', 'same', 'shade', 'lipsticks', 'yung', 'napili', 'hahaha', 'peru', 'worth', 'naman', 'salamat', 'seller'], ['ganda', 'talagaaaaaa'], ['thank', 'much', 'shop', 'super', 'satisfied', 'mascara', 'yeheeeeeey', 'order', 'again', 'again', 'try', 'ibang', 'products'], ['maganda', 'tama', 'yung', 'pinadala', 'seller', 'thank', 'much'], ['best', 'packaging', 'among', 'shopee', 'orders', 'colors', 'really', 'pretty', 'perfect', 'contour', 'cold', 'even', 'work', 'blush', 'deeper', 'skintones', 'high', 'quality'], ['highly', 'recommended', 'shop', 'till', 'products', 'good', 'well', 'packed', 'complete', 'thank', 'very', 'much', 'seller', 'god', 'bless'], ['maganda', 'po', 'lahat', 'superb', 'waahhh', 'happy', 'orders', 'po', 'safe', 'walang', 'damage', 'complete', 'dingrabi', 'love', 'first', 'time', 'order', 'po', 'never', 'failed', 'satisfied', 'customer', 'kudos', 'po', 'order', 'again', 'soon', 'superbbb', 'gandaa', 'contour'], ['super', 'well', 'packed', 'wala', 'aq', 'masabimaganda', 'po', 'product', 'aupdate', 'sellerthanks', 'po', 'smooth', 'transaction'], ['great', 'quality', 'items', 'very', 'affordable', 'price', 'sobrang', 'ganda', 'packaging', 'meron', 'siyang', 'parang', 'malaking', 'plastic', 'bubble', 'pouch', 'hindi', 'mabasag', 'items', 'maski', 'package', 'nung', 'item', 'mismo', 'sobrang', 'gandaaaa', 'lakas', 'maka', 'sosyal', 'grabe', 'definitely', 'order', 'again'], ['third', 'time', 'bought', 'product', 'shop', 'coz', 'super', 'duper', 'cool', 'quality', 'especially', 'packaging', 'like', 'rose', 'gold', 'effects', 'also', 'product', 'great', 'quality', 'like', 'use', 'everyday', 'thank', 'much', 'seller', 'thanks', 'free', 'sponge'], ['ganda', 'love', 'inorder', 'nung', '1111', 'dumating', '1118', 'medyo', 'katagalan', 'pero', 'ok', 'kasi', 'galing', 'naman', 'siyang', 'overseas', 'pigmentation', 'good', 'really', 'like', 'style', 'muka', 'siyang', 'mamahalin', 'simple', 'sya', 'pero', 'maganda', 'talaga', 'good', 'product'], ['aaaaaaaaaaa', 'grabeee', 'supee', 'gandaaa', 'packaging', 'ngayon', 'naka', 'receive', 'bubble', 'wrap', 'napka', 'elegant', 'tignan', 'skdjsjs', 'thank', 'youuu', 'order', 'ulit', 'pang', 'item', 'pera', 'skshaha'], ['love', 'cute', 'very', 'handy', 'because', 'size', 'excellent', 'quality', 'wellpackage', 'arrived', 'without', 'damage', 'item', 'shipped', 'immediately', 'order', 'again', 'soon', 'thank', 'seller', 'thanks', 'rider', 'also', 'thank', 'youuu', 'shopeeee', 'god', 'bless', 'more', 'power', 'everyoneee'], ['thank', 'much', 'po', 'napaka', 'gandang', 'item', 'safe', 'sya', 'ganda', 'bubble', 'wrap', 'worth', 'wait', 'price'], ['wowers', 'super', 'ganda', 'grabe', 'packaging', 'wooooooooow', 'order', 'kayo', 'guys', 'promise', 'shala', 'shala', 'pak', 'pak', 'boom', 'ganern', 'wooow', 'amazing'], ['item', 'received', 'worth', 'wait', 'thank', 'shopee', 'thank', 'seller', 'thank', 'kay', 'kuyang', 'rider'], ['say', 'everything', 'service', 'item', 'amazing', '’', 'well', 'packed', 'seller', 'very', 'accommodating', 'actually', 'give', 'free', 'stuff', 'say', 'every', 'cent', 'worth', 'definitely', 'buying', 'more', 'become', 'new', 'favorite', 'store'], ['grabe', 'secure', 'secure', 'talaga', 'thank', 'super', 'satisfied'], ['satisfied', 'customer', 'fast', 'shipping', 'quality', 'makeups', 'super', 'fab', 'super', 'affordable', 'yet', 'really', 'good', 'quality', 'made', 'video', 'using', 'otwoo', 'cosmetics'], ['yehey', 'got', 'exactly', 'ordered', 'dont', 'want', 'break', 'packaging', 'but', 'because', 'too', 'sealed', 'lol', 'again', 'love', 'sanamayfreebiesoon'], ['napawow', 'talaga', 'nareceive', 'item', 'super', 'duper', 'ganda', 'very', 'affordable', '300', 'napagbayaran', '4', 'thank', 'much', 'seller', 'complete', 'orders', 'deserve', 'nitong', 'item', '5', 'stars', 'rating', 'super', 'safe', 'pati', 'nung', 'item', 'kasi', 'well', 'packaged', 'sya'], ['beautiful', 'promise', 'item', 'more', 'worth', 'price', 'super', 'duper', 'thank', 'much', 'seller', 'faster', 'transaction'], ['wow', 'excited', 'use', 'vlog', 'love', 'prudoct', 'much', 'product', 'review'], ['received', 'item', 'good', 'condition', 'fast', 'delivery', 'nice', 'packaging', 'good', 'quality', 'affordable', 'price', 'havent', 'tried', 'yet', 'legit', 'seller', 'shop', 'highly', 'recommended'], ['ganda', 'packaging', 'ganda', 'box', 'ganda', 'lalagyan', 'mismo', 'ganda', 'mata', 'mukhang', 'shalan', 'like', 'color', 'pallette', 'pwedeng', 'pang', 'natural', 'look', 'kpop', 'look', 'hindi', 'nattry', 'sana', 'okay', 'tignan', 'natin', 'natesting'], ['maganda', 'mabango', 'amoy', 'cute', 'size', 'naka', 'sealed', 'maayosgod', 'bless', 'sellershoppeeand', 'courier', 'mabait'], ['gaganda', 'products', 'naorder', 'plus', 'mura', 'sya', 'kasi', '1212', 'sya', 'nabili', 'freebie', '1sponge', 'kaya', 'naging', '2', 'order', 'kasi', 'yung', 'syper', 'sulit', 'thank', 'mr', 'hu', 'safe', 'pagkakapack', 'kasi', 'yung', 'contour', 'pallette', 'nakalagay', 'dun', 'column', 'bubble', 'wrap'], ['thank', 'seller', 'love', 'product', 'sobrang', 'sealed', 'sya', 'walang', 'damage', 'handle', 'well', 'complete', 'product', 'inorder', 'order', 'again', 'soon', 'again', 'thank', 'seller'], ['ganda', 'quality', 'yet', 'affordable', 'well', 'packed', 'nakabubble', 'wrap', 'talaga', 'order', 'again'], ['took', 'almost', '2', 'weeks', 'but', 'verrryyyy', 'worth', 'wait', 'packaging', 'bubble', 'bag', 'cute', 'everything', 'aesthetic', '’', 'wait', 'try', 'products', 'definitely', 'order', 'again', 'super', 'love', 'highly', 'recommended'], ['thank', 'much', 'well', 'packed', 'complete', 'orders', 'damage', 'great', 'buy', 'great', 'price', 'see', 'get', 'contour', 'set', 'hindi', 'ganun', 'kapigmented', 'kaharsh', 'magdefine', 'swatch', 'siguro', 'pero', 'okay', 'natural', 'look', 'cute', 'packaging'], ['received', 'good', 'condition', 'excellent', 'quality', 'wellpackaged', 'thank', 'order', 'again', 'shop', 'soon'], ['thank', 'sellerthank', 'sellermay', 'free', 'cute', 'pouch', 'sya', 'hahamatagal', 'sya', 'dumating', 'pero', 'sulit', 'hintayi', 'order', 'again', 'next', 'time'], ['awesome', 'affordable', 'good', 'quality', 'seller', 'kind', 'enough', 'product', 'packed', 'well', 'honestly', 'like', 'bubble', 'wrap', 'yet', 'product', 'too', 'light', 'though', 'purchased', 'darker', 'shades'], ['thank', 'youu', 'quality', 'good', 'safe', 'parcel', 'see', 'really', 'get', 'fast', 'transaction', 'order', 'again'], ['napaka', 'ganda', 'product', 'ineexpect', 'high', 'quality', 'yung', 'products', 'but', 'surprised', 'yung', 'products', 'mukhang', 'highend', 'magsisisi', 'sis', 'love', 'buy', 'again', 'first', 'time', 'sobrang', 'naexcite', 'natuwa', 'inorder', 'salamat', 'seller', 'even', 'tried', 'lipstick', 'immediately'], ['sobrang', 'ganda', 'packaging', 'hindi', 'nakakahiyang', 'ipanregalo', 'kasi', 'sealed', 'sya', 'maganda', 'quality', 'very', 'wholesome', 'cute', 'itsura', 'got', 'promo', 'matagal', 'shipping', 'overseas', 'but', 'overall', 'sulit', 'naman', 'nakakatuwa', 'kasi', 'secured', 'secured', 'parcel'], ['complete', 'orders', 'packaging', 'superb', 'prettyyyyy', 'products', 'arrived', 'safely', 'damage', 'tried', 'say', 'satisfied', 'everything', 'thank'], ['items', 'delivered', 'complete', 'good', 'condition', 'very', 'cute', 'clean', 'thank', 'much', 'seller', 'courier'], ['delivery', 'fast', 'even', 'overseas', 'already', 'tried', 'product', 'good', 'bubble', 'wrap', 'used', 'secure', 'thats', 'doesmt', 'damage', 'thank', 'much', 'seller'], ['great', 'contour', 'set', 'nice', 'range', 'colors', 'gives', 'lot', 'depth', 'shadows', 'overall', 'good', 'buy', 'quite', 'nice', 'price', 'actually'], ['sulit', 'price', 'definitely', 'buy', 'again', 'thank', 'po', 'not', 'bad', 'package', 'well', 'packed', 'item', 'looks', 'new', 'looks', 'good'], ['super', 'ganda', 'promise', 'lahat', 'blush', 'meron', 'walang', 'wala', 'yung', 'branded', 'palette', 'sobrang', 'ganda', 'morenafriendly', 'colors'], ['product', 'affordable', 'but', 'good', 'quality', 'very', 'satisfied', 'product', 'see', 'get', 'shop', 'responsive', 'too', 'give', 'five', 'star', 'thumbs', 'even', 'featured', 'cosmopolitanph', 'known', 'affordable', 'good', 'quality', 'make', 'products', 'thank'], ['akala', 'parang', 'liquid', 'sya', 'ewan', 'pero', 'powder', 'lng', 'sya', 'beyong', 'expectation', 'exp20231209', 'order', 'received', 'damage', 'nice', 'packing', 'good', 'condition', 'bubble', 'wrap', 'cheap', 'price'], ['omg', 'sorry', 'rating', 'late', 'already', 'use', 'product', 'twice', 'really', 'pretty', 'very', 'satisfied', 'shop', 'highly', 'recommended', 'seller', 'very', 'kind', 'godbless', 'shop', 'thank', 'very', 'much'], ['got', 'items', 'packages', 'complete', 'packed', 'securely', 'still', 'not', 'good', 'using', 'make', 'dont', 'know', 'quality', 'great'], ['sooo', 'niceee', 'sobrang', 'ayos', 'pack', 'super', 'safe', 'yung', 'peoducts', 'tamang', 'variations', 'yung', 'pinadala', 'walang', 'labis', 'walang', 'kulangg', 'hehe', 'love', 'muchh'], ['love', 'packaging', 'love', 'colors', 'items', 'bubble', 'wrappedsafe', 'tlga', 'products', 'thanks', 'seller', 'bilis', 'dumatingthanks', 'express', 'salamat', 'shopee'], ['super', 'satisfied', 'omg', 'ganda', 'wrapped', 'solid', 'talaga', 'thank', 'youuu', 'jsjsndbalslsebwbsbhdjsjsjs'], ['ganda', 'po', 'nakatulong', 'more', 'natural', 'look', 'thank', 'po', 'seller', 'excellent', 'quality', 'very', 'accommodating', 'seller', 'well', 'packaged', 'item', 'shipped', 'immediately'], ['good', 'quality', 'good', 'packaging', 'very', 'affordable', 'recommended'], ['love', 'much', 'thank', 'otwoo'], ['great', 'itemgreat', 'itemgreat', 'itemgreat', 'item', 'great', 'itemgreat', 'itemgreat', 'itemgreat', 'item', 'great', 'itemgreat', 'itemgreat', 'itemgreat', 'item', 'great', 'itemgreat', 'itemgreat', 'itemgreat', 'item', 'great', 'itemgreat', 'itemgreat', 'itemgreat', 'item'], ['really', 'love', 'products', 'packaging', 'shelf', 'products', 'products', 'also', 'fragrant', 'see', 'advertisement', 'really', 'get', 'very', 'satisfied', 'thank', 'otwoo', 'tnx', 'also', 'freebie'], ['loveee', 'super', 'elegant', 'packaging', 'kapal', 'bubble', 'wrap', 'safe', 'safe', 'talagaaa', 'nice', 'purchase', 'second', 'time', 'order', 'never', 'fails', 'expectations'], ['very', 'nice', 'contour', 'pallete', 'damage', 'kasi', 'nakalagay', 'sya', 'airbag', 'order', 'again', 'ubos', 'ulit', 'hahah'], ['perfect', 'ine', 'expect', 'pacakaging', 'very', 'safe', 'item', 'saloob', 'tumbs', 'dun', 'seller', 'ganda', 'item', 'perfect', 'nagustuhan', 'talaga', 'sana', 'seller', 'ganto'], ['pretty', 'packaging', 'not', 'disappoint', 'well', 'items', 'good', 'condition', 'correct', 'definitely', 'buy', 'again'], ['wellpacked', 'items', '’', 'tried', 'using', 'bought', 'sale', 'order', 'again', 'thank', 'god', 'bless'], ['super', 'mura', 'nagustuhan', 'po', 'salamat', 'po', 'shop', 'shopee', 'recommended', 'sya', 'susunod', 'sale', 'ulit', 'bibili', 'po', 'ulit', 'yay', 'magagamit', 'narin', 'po', 'thanks', 'po', 'ulit'], ['love', 'products', 'shop', 'affordable', 'but', 'ofcourse', 'also', 'superb', 'quality', 'work', 'propery', 'happy', 'purchase'], ['grabeeee', 'sobrang', 'ganda', 'thank', 'seller', 'fast', 'shipping', 'naka', 'bubble', 'wrap', 'yung', 'make', 'secured', 'order', 'again', 'again', '3rd', 'purchase'], ['maganda', 'looks', 'social', 'mabaho', 'ok', 'pigment', 'maganda', 'pang', 'contour', 'talaga', 'ganda', 'pagkapackage', 'protektado', 'talaga', 'order', 'again'], ['maganda', 'sya', 'gusto', 'yung', 'packaging', 'tsaka', 'yung', 'pagkakabalot', '’', 'know', 'ganito', 'palang', 'klase', 'wrap', 'hehe', 'excited', 'akong', 'gamitin', 'sya', 'salamat', 'po', 'seller', 'shopee', 'courier', 'rider'], ['inexpect', 'glitters', 'bronzer', 'contour', 'highlighter', 'blush', 'nice', 'ata', 'morena', 'nice', 'packaging', 'sakto', 'size', 'pero', 'expected', 'mas', 'malaki'], ['love', 'product', 'much', 'cant', 'wait', 'buy', 'again', 'dont', 'mind', 'picture', 'video', 'badly', 'needed', 'coins', 'hehehe', 'happy', 'shopping', 'everyone'], ['packaging', 'nice', 'secure', 'products', 'good', 'condition', 'stunned', 'products', 'because', 'looks', 'expensive', 'but', 'very', 'affordable', 'price', 'seller', 'very', 'responsive', 'kind', 'thank', 'seller', 'god', 'bless'], ['cant', 'wait', 'try', 'products', 'look', 'elegant', 'packaging', 'superb', 'too', 'love', 'try', 'more', 'products', 'soon'], ['compelete', 'items', 'sobrang', 'ganda', 'packaging', 'safe', 'secure', 'yung', 'inorder', 'bubble', 'wrap', 'thankyouuu', 'otwoo', 'never', 'failed', 'amaze'], ['love', 'contour', 'kinda', 'powdery', 'but', 'over', 'good', 'brushes', 'good', 'quality', 'okay', 'price', 'thank', 'much'], ['took', 'too', 'long', 'arrive', 'but', 'understandable', 'since', 'shipped', 'overseas', 'quality', 'very', 'good', 'packaging', 'lit', 'item', 'really', 'secured'], ['thanks', 'seller', 'product', 'nicely', 'packaged', 'even', 'only', 'ordered', '1', 'item', 'contour', 'colors', 'great', 'thank', 'kuya', 'delivery', 'kudos'], ['item', 'received', 'well', 'packed', 'completesobrang', 'secured', 'packaging', 'ganda', 'packaging', 'nyasosyal', 'datingthank', 'much', 'seller'], ['thankkkkyouuuuuuu', 'selleerrrssss', 'iloveeeeitttttttttt', 'hehehehehehehehehehehehehehehehehehehehehehehhehehe'], ['ganda', 'packaging', 'ganda', 'item', 'sakto', 'yung', 'ship', 'maganda', 'yung', 'shades', 'love', 'mukang', 'mamahalin', 'thank'], ['ganda', 'item', 'sealed', 'sealed', 'talaga', 'damages', 'thank', 'seller', 'till', 'next', 'order', 'again', 'dami', 'make', 'shop'], ['excellent', 'quality', 'well', 'packed', 'items', 'shipped', 'time', 'willl', 'order', 'again', 'damage', 'good'], ['gaganda', 'worth', 'wait', 'kasi', 'medyo', 'matagal', 'delivery', 'eh', 'hehehe', 'oorder', 'ulit', 'neto', 'thankyou', 'seller', 'well', 'packaged'], ['safe', 'delivery', 'love', 'delivery', 'package', 'wrapped', 'bubble', 'wrap', 'love', 'colors', 'more', 'bronzing', 'definitely', 'buy', 'again'], ['quality', 'good', 'price', 'also', 'affordable', 'safely', 'arrived', 'doorsteps', 'packaging', 'nice', 'thanks'], ['super', 'well', 'packaged', 'also', 'love', 'quality', '’', 'wait', 'try', 'item', 'also', 'shipped', 'immediately', 'despite', 'overseas'], ['nice', 'pigments', 'tapos', 'received', 'perfect', 'condition', 'walang', 'kahit', 'anong', 'basag', 'kahit', 'sobrang', 'tagal', 'nasa', 'courier'], ['like', 'color', 'correct', 'variant', 'secured', 'packaging', 'thank', 'seller', 'thank', 'delivery', 'shopee'], ['excellent', 'quality', 'very', 'accoommodating', 'seller', 'well', 'packaged', 'item', 'shipped', 'immediately', 'order', 'again', 'thank'], ['ambilis', 'dumating', 'considering', 'overseas', 'galing', 'hehe', 'maganda', 'po', 'yung', 'products', 'price', 'sulit', 'sulit', 'talagaaa'], ['love', 'thhe', 'color', 'easy', 'blend', 'used', 'countouring', 'high', 'lighter'], ['excited', 'one', 'recieved', 'right', 'order', 'earlier', 'time', 'love', 'much', 'give', 'five', 'well', 'packaged', 'bubble', 'wrap'], ['thank', 'thank', 'thank', 'thank', 'thank', 'thank', 'thank', 'youthankyou'], ['super', 'gaganda', 'pati', 'packaging', 'panalo', 'sale', 'nabili', 'kaya', 'nakakatuwa', 'lalo', 'thank', 'seller', 'super', 'lovvvveeeee', 'ittttt'], ['thankyou', 'much', 'otwoo', 'super', 'affordable', 'good', 'quality', 'product', '2nd', 'purchase', 'shop', 'nato', 'order', 'again', 'again'], ['super', 'ganda', 'package', 'good', 'kaya', 'safe', 'makakarating', 'sayo', 'kaya', 'nung', 'dumating', 'nagamit', 'agad'], ['love', 'thank', 'much', 'buy', 'again', 'next', 'month', 'hehehe', 'love', 'lots', 'thank', 'nice', 'packaging', 'way', 'hehehehehe'], ['gandaaa', 'sobraaaa', 'sulit', 'bayad', 'classy', 'tingnan', 'boxes', 'surrly', 'buy', 'again', 'shop', 'lol', 'xoxoxo'], ['thank', 'younice', 'lip', 'tintlipstickaffordable', 'kayang', 'kaya', 'bilhin', 'mellinials', 'quality', 'pasure', 'buy', 'again', 'thank', 'sellerthank', 'shopee', 'thank', 'ridergodbless'], ['received', 'item', 'without', 'damage', 'thank', 'seller', 'product', 'nice', 'order', 'again', 'soon', 'thank', 'also', 'rider'], ['thank', 'youuuuu', 'muuuch', 'smells', 'goodthank', 'youuuuu', 'muuuch', 'smells', 'goodthank', 'youuuuu', 'muuuch', 'smells', 'goodthank', 'youuuuu', 'muuuch', 'smells', 'goodthank', 'youuuuu', 'muuuch', 'smells', 'goodthank', 'youuuuu', 'muuuch', 'smells', 'goodthank', 'youuuuu'], ['highly', 'recommend', 'super', 'pigmented', 'legit', 'yung', 'sinabing', 'waterproof', 'super', 'ganda', 'quality', 'super', 'sulit', '90', 'pesos', 'bilis', 'dumating', 'order', '1week', 'inorder', 'nung', '1010', 'tapos', 'today', '101721', 'received', 'kasi', 'ibang', 'reseller', 'galing', 'china', 'umabot', '2week', '3', 'week'], ['super', 'gandaaaaaaaaaaa', 'safe', 'mabilis', 'dumating', 'thank', 'muchhhh', 'seller', 'thank', 'muchhhh', 'courier', 'thank', 'muchhhh', 'shopeeee'], ['ganda', 'ganda', 'nia', 'wla', 'akong', 'masabi', 'matagal', 'lng', 'dumating', 'pero', 'ok', 'maganda', 'sya', 'salamat', 'seller', 'salamat', 'shopee'], ['complete', 'item', 'naman', 'medyo', 'matagal', 'lng', 'dating', 'but', 'worth', 'naman', 'thank', 'seller', 'maganda', 'naman', 'lahat'], ['product', 'good', 'quality', 'item', 'shipped', 'immediately', 'package', 'wrapped', 'bubble', 'wrap', 'well', 'love', 'matte', 'definitely', 'order', 'again', 'thank', 'seller', 'thank', 'shopee'], ['thank', 'sm', 'seller', 'uwu', 'love', 'sm', 'uwu', 'thank', 'sm', 'seller', 'uwu', 'love', 'sm', 'uwu', 'thank', 'sm', 'seller', 'uwu', 'love', 'sm', 'uwu', 'thank', 'sm', 'seller', 'uwu', 'love', 'sm', 'uwu', 'thank', 'sm', 'seller', 'uwu', 'love', 'sm', 'uwu'], ['maganda', 'po', 'xa', 'sana', 'magragal', 'lips', 'thank', 'thank', 'thank', 'thank', 'thank', 'thank'], ['already', 'thank', 'much', 'like', 'believe', 'going', 'try', 'lips', 'gon', 'hotter', 'crush', 'gon', 'attracted', 'chaaar', 'god', 'bless', 'keep', 'safe'], ['yehey', 'got', 'noong', '1010', 'free', 'thank', 'youuuuuuuuu', 'love', 'color', 'love', 'texture', 'love', 'quick', 'dry', 'lips', 'hindi', 'magkakayat', 'facemask', 'thank', 'seller'], ['super', 'great', 'buy', 'order', 'another', 'shade', 'ganda', 'lips', 'thanks', 'nagtatagal', 'color', 'lipsgreat', 'lippieeee'], ['looove', 'iiit'], ['quality', 'incredible', 'excellent', 'seller', 'very', 'accommodating', 'products', 'wellpacked', 'sealed', 'properly'], ['good', 'quality', 'always', 'hehe', 'never', 'disappoint', 'thank', 'seller', 'rider', 'dor', 'hard', 'work', 'kudos', 'godbless'], ['thank', 'seller', 'already', 'received', 'parcel', 'damage'], ['love', 'love', 'tlga', 'tong', 'liquid', 'lip', 'tint', 'niyo', 'madaling', 'matanggal', 'salamat', 'po'], ['nice', 'cute', 'thank', 'seller', 'shoppee', 'delivery', 'guy', 'stay', 'safe'], ['good', 'quality', 'items', 'well', 'packed', 'fast', 'delivery', 'complete', 'order', 'happy', 'customer', 'thank', 'seller', 'shopee', 'till', 'next', 'purchase'], ['ganda', 'matte', 'sobrang', 'hirap', 'tanggalin', 'nakaligo', 'toohbrush', 'lahat', 'lahat', 'nasa', 'labi'], ['great', 'quality', 'kinda', 'strong', 'smell', 'though', 'bubbled', 'wrap', 'secure', 'product', 'thank', 'seller', 'first', 'liquid', 'dries', 'instant', 'ends', 'matte', 'finish'], ['thank', 'youuuuuuuuuuuu', 'gandaaaa', 'thank', 'youuuuuuuuuuuu', 'gandaaaa', 'thank', 'youuuuuuuuuuuu', 'gandaaaa'], ['maganda', 'lips', 'tas', 'mette', 'talaga', 'po', 'good', 'quality', 'free', 'kaya', 'order', 'kayo', 'kay', 'seller', 'thank', 'po'], ['order', 'complete', 'fast', 'delivery', 'items', 'well', 'packaged', 'nice', 'color', 'lipstick', 'too', 'super', 'matte', 'thank', 'much', 'seller', 'definitely', 'order', 'again'], ['eto', 'talaga', 'yung', 'pinaka', 'fav', 'shade', 'kooo', 'love', 'thank', 'seller', 'eto', 'talaga', 'yung', 'pinaka', 'fav', 'shade', 'kooo', 'love', 'thank', 'seller'], ['ganda', 'color', 'pang', 'kontrabida', 'teleserye', 'hahah', 'matte', 'hirap', 'tanggalin', 'affordablee', 'thank', 'sellerrr', 'shopeee'], ['nice', 'definitely', 'order', 'again', 'thank', 'seller', 'salamat', 'shopee'], ['thank', 'youuuuu'], ['nice', 'mabait', 'kuyang', 'courier', 'maganda', 'productwell', 'order', 'again', 'next', 'time', 'deliver', 'early', 'expected'], ['nice', 'item', 'thank'], ['magandaaaa', 'very', 'pigmenteeeeeeeeed'], ['like', 'product', 'cute', 'kasi', 'maliit', 'sya', 'pwede', 'mo', 'sya', 'dalhin', 'kahit', 'saan', 'wng', 'walang', 'dalang', 'bag', 'super', 'affordable', 'den', 'mabilis', 'syang', 'kumalat', 'lips', 'same', 'time', 'matuyo', 'matagal', 'nga', 'dumating', 'pero', 'worth', 'naman'], ['ganda', 'po', 'lipstick', 'salamat', 'po', 'seller', 'salamat', 'po', 'free', 'uulitin', 'po', 'salamat', 'kay', 'kuya', 'rider', 'thank', 'shoppe'], ['complete', 'damage', 'good', 'quality', 'satisfied', 'recommended'], ['maganda', 'cya', 'piro', 'tagal', 'dumating', '2weeks', 'bagoh', 'dumating', 'ok', 'mganda', 'cya'], ['love', 'lippies', 'decided', 'give', 'friends', 'coz', 'love', 'color', 'affordable', 'nice', 'buy', 'again', 'soon', 'suggestion', 'kindly', 'put', 'variation', 'name', 'lipstick', 'next', 'timea', 'label', 'help'], ['got', 'order', 'medyo', 'matagal', 'talaga', 'dumating', 'pero', 'okay', 'naman', 'yung', 'items', 'thank', 'seller'], ['kabog', 'pri', 'matingkad', 'kulay', 'salamat', 'shopeeeeee', 'nalibre', 'wala', 'binayaran'], ['super', 'love'], ['first', 'time', 'order', 'shop', 'naamaze', 'kasi', 'mabilis', 'dumating', 'inorder', 'damages', 'wellpacked', 'yung', 'items', 'more', 'blessings', 'shop'], ['receive', 'parcel', 'like', 'much', 'thank', 'seller', 'ordered', 'again'], ['very', 'prettyyy', 'theyre', 'easy', 'use', 'also', 'very', 'cute', 'really', 'love', 'shades', 'lippies', 'anddd', 'blush', 'also', 'eyebrow', 'soap', 'powder', 'gets', 'work', 'done', 'thank', 'youuu', 'freebie', 'eyebrow', 'outline', 'sheet', 'sum', 'worth', 'purchase'], ['love', 'thank', 'seller'], ['thanks', 'seller', 'item', 'great', 'thanks', 'seller', 'item', 'great', 'thanks', 'seller', 'item', 'great', 'thanks', 'seller', 'item', 'great', 'thanks', 'seller', 'item', 'great', 'thanks', 'seller', 'item', 'great', 'thanks', 'seller', 'item', 'great', 'thanks', 'seller', 'item', 'great', 'thanks', 'seller'], ['okay', 'goods', 'naman'], ['ganda', 'items', 'order', 'again', 'soon'], ['thank', 'seller', 'shoppe', 'beautiful'], ['nice', 'buy', 'nice', 'buy', 'nice', 'buy', 'nice', 'buy', 'nice', 'buy', 'nice', 'buy', 'nice', 'buy', 'nice', 'buy'], ['maganda', 'shadee', 'thank', 'youuuuuuuuuuuuuuuuuuuuuuuuuuuuuuuuuuuuuuuuuuuuuuuuuuuuuuuuuuuuuuuuuuuuuuuuuuuuuuuuu'], ['packed', 'ready', 'delivered', 'customers', 'ordered', 'nth', 'time', 'always', 'reliable', 'products', 'very', 'nice', 'quality', 'thank', 'seller', 'more', 'power'], ['lipsticks', 'wellpackaged', 'excellent', 'quality', 'also', 'shipped', 'immediately', 'like', 'container', 'lipstick', 'definitely', 'order', 'again'], ['satisfied', 'super', 'super', 'light', 'sya', 'lips', 'shade', 'nice', 'sobrang', 'bagal', 'sya', 'deliver', 'pero', 'oks', 'satisfied', 'naman', 'item', 'thank', 'much'], ['thank', 'sulit', 'ganda', 'po', 'lahat', 'okay', 'okay', 'po', 'god', 'bless'], ['maganda', 'colors', 'loved', 'thankyou', 'po'], ['super', 'nice', 'matte', 'talaga', 'saka', 'mahirap', 'ibura', 'nice', 'nice', 'definitely', 'buy', 'againlove', 'love', 'love'], ['super', 'thank', 'sellergood', 'qualitywill', 'order', 'again'], ['very', 'nice', 'love', 'itthank', 'seller'], ['thank', 'super', 'excited', 'use', 'new', 'lippies', 'ganda', 'pigment', 'smooth', 'inapply', 'lips'], ['excellent', 'quality', 'wellpackaged', 'napaka', 'secure', 'item', 'shipped', 'immediately', 'thank', 'also', 'freebie', 'great', 'job', 'seller', 'surely', 'order', 'again'], ['gandaaaa', 'tapos', 'ingat', 'packaging', 'maganda', 'namam', 'quality', 'products', 'lalo', 'yung', 'colors', 'swak', 'swak', 'presyo', 'thank', 'seller', 'thank', 'shoppee', 'thank', 'kay', 'kuya', 'rider', 'god', 'bless'], [], ['excellent', 'maganda', 'quality', 'thank', 'seller', 'order', 'again', 'lakas', 'makasosyal'], ['ganda', 'ndi', 'mabigat', 'lips', 'maliit', 'pero', 'worth', '40', 'pesos', 'thank', 'seller', '9ang', 'ganda', 'ndi', 'mabigat', 'lips', 'maliit', 'pero', 'worth', '40', 'pesos', 'thank', 'seller', '9'], ['great', 'experience', 'within', '2', 'days', 'marereceive', 'mo', 'agad', 'yung', 'item', 'talaga', 'yung', 'pinakahihintay', 'kailangan', 'online', 'class', 'commend', 'seller', 'kasi', 'super', 'bilis', 'actions', 'naka', 'bubblewrap', 'good', 'price', 'sana', 'tumagal'], ['good', 'quality', 'damage', 'cute', 'kulay', 'sana', 'magtagal', 'thank', 'thank', 'thank', 'thank', 'thank', 'thank', 'thank', 'thank', 'thank', 'thank', 'thank', 'thank', 'thank', 'thank', 'thank', 'thank', 'thank', 'thank', 'thank', 'thank', 'thank', 'thank', 'thank', 'thank', 'thank'], ['ordered', '1010', 'immediately', 'received', '1015', 'considering', 'reside', 'visayas', 'area', 'fast', 'shipping', 'really', 'satisfied', 'keyboard', 'love', 'colors', 'plus', 'comes', 'mouse'], ['super', 'sulit', 'price', 'nyaaaaa', 'hehehehe', 'next', 'time', 'mechanical', 'budget', 'naaa', 'sana', 'masira', 'agad', 'thank', 'youuu', 'seller'], ['thank', 'seller', 'god', 'bless', 'business', 'safe', 'okayy', 'item'], ['really', 'love', 'highly', 'recommended', 'shop', 'huhuhu', 'gandaaaaaaa'], ['gave', '5', 'stars', 'napaka', 'ganda', 'mura', 'neto', 'mall', '700', 'eto', 'fast', 'delivery', 'correct', 'item', 'delivered', 'salamat', 'shopee', 'seller', 'order', 'again'], ['ganda', 'po', 'quality', 'keyboard', 'lalo', 'nagtatype', 'sobrang', 'lambot', 'pindutin', 'highly', 'recommend', 'product', 'thankyou', 'seller', 'kay', 'kuyang', 'nagdeliver', 'shopee'], ['one', 'best', 'shopee', 'purchase', 'keyboard', 'inorder', 'pero', 'open', 'box', 'free', 'mouse', 'sya', 'tinry', 'work', 'lakad', 'ilaw', 'highly', 'recommend', 'shop', 'pare', 'marecakesss'], ['gaaaandaaa', 'worth', 'nakahabol', 'pako', 'sale', 'bilis', 'naideliver', 'sakin', 'susunod', 'ulit', 'ps', 'bait', 'kuya', 'rider', 'saludo', 'sayo', 'umorder', 'naman', 'shopee', 'pero', 'bat', 'tinuruan', 'mokong', 'magmahal', 'kuya', 'rider', 'hehehezz'], ['ganda', 'po', 'product', 'nice', 'personal', 'super', 'affordable', 'pabili', 'kayo', 'guys', 'mura', 'thanks', 'seller', 'god', 'blessgod', 'bless'], ['nung', 'una', 'hindi', 'alam', 'pano', 'pailawin', 'keyboard', 'akala', 'sira', 'sobrangg', 'gandaa', 'worth', 'presyo', 'walang', 'damage', 'keyboard', 'mouse'], ['ayos', 'salamat', 'seller', 'bilis', 'dumating', 'order', '1010', 'dumating', '1011', 'salamat', 'kay', 'kuya', 'rider', 'suki', 'koahahaha'], ['ganda', 'item', 'super', 'happy', 'anak', 'naideliver', 'agad', 'sumakto', 'birthday', 'thank', 'seller', 'shopee', 'rider', 'stay', 'safe', 'po'], ['shipping', 'delivery', 'fast', 'seller', 'very', 'responsive', 'nice', 'thank', 'seller', 'shoppe'], ['perfect', 'thank', 'perfect', 'thank', 'perfect', 'thank', 'perfect', 'thank', 'perfect', 'thank', 'youperfect', 'perfect', 'thank'], ['very', 'nice', 'item', 'not', 'damage', 'very', 'nice', 'item', 'not', 'damagevery', 'nice', 'item', 'not', 'damagevery', 'nice', 'item', 'not', 'damagevery', 'nice', 'item', 'not', 'damagevery', 'nice', 'item', 'not', 'damagevery', 'nice', 'item', 'not', 'damagevery', 'nice', 'item', 'not', 'damagevery', 'nice', 'item', 'not', 'damagevery', 'nice', 'item', 'not', 'damagevery', 'nice', 'item', 'not', 'damagevery', 'nice', 'item'], ['thank', 'nakaka', 'amaze', 'lights', 'pretty', 'love', 'thank', 'seller'], ['gandaaaaaa', 'sobra', 'buy', 'kayo', 'promise', 'kayo', 'magsisisi', 'sis', 'super', 'ganda', 'talagaaaaa', 'thank', 'much', 'seller'], ['soooooo', 'preetttyyyyy', 'delivery', 'super', 'fast', 'ordered', 'last', '1010', 'shipped', 'same', 'day', 'satisfied', 'product', 'serves', 'purpose', 'keyboard', 'mouse', 'functioning', 'well', 'highly', 'recommend'], ['love', 'keyboard', 'muse', 'muchwill', 'order', 'again', 'thankyouuuu'], ['keyboard', 'working', 'functional', 'keyboard', 'really', 'good', 'worth', 'price', 'thank', 'seller', 'brother', 'likes'], ['thank', 'seller', 'thank', 'shopee', 'sobrang', 'ganda', 'okay', 'po', 'naganan', 'naman', 'po', 'sobrang', 'thankyou', 'po'], ['omg', 'ganda', 'best', 'talaga', '‘', 'tong', 'shop', '‘', 'maliban', 'magaganda', 'quality', 'products', 'bilis', 'madeliver', 'nung', 'araw', 'inorder', 'tas', 'dumating', 'agad', 'nakakatuwa', 'mukhang', 'mapapadali', 'exam', 'nento', 'thank', 'popcorn', 'ph'], ['excellent', 'quality', 'product', 'working', 'fine', 'aesthetically', 'pleasing', 'eyes', 'because', 'lights', 'ps', 'anyone', 'dont', 'know', 'turn', 'lights', 'click', 'scroll', 'lock'], ['key', 'board', 'mouse', 'nice', 'dating', 'lng', 'ago', 'yeah', 'watever', 'fast', 'delivery', 'great', 'packing', 'bought', 'lng', 'ksi', 'always', 'finish', 'school', 'works', 'night', 'since', 'lilight', 'keyboard', 'see', 'better', 'dibaaaa', 'pic', 'vid', 'not', 'related'], ['naks', 'namarn', 'sish', 'hahahahahaahahahahaha', 'lols', 'ganda', 'product', 'bilis', 'deliver', 'surely', 'buy', 'again', 'po', 'hehe'], ['very', 'well', 'keyboard', 'mouse', 'working', 'sobrang', 'gandaaaaaaa', 'promiseee'], ['nice', 'quality', 'cheap', 'price', 'smooth', 'keys', 'grabeee', 'already', 'put', 'laptop', 'stand', 'thank', 'youuu'], ['happy', 'purchase', 'keys', 'working', 'color', 'cute', 'laptop', 'stand', 'also', 'great', 'satisfied', 'customer'], ['great', 'qualityworking', 'laptopkeys', 'gentle', 'touchang', 'gandaaavery', 'affordable', 'pathank', 'seller'], ['ganda', 'po', 'product', 'niyo', 'salamat', 'po'], ['sobrang', 'ganda', 'po', 'mura', 'pathank', 'seller'], ['maganda', 'po', 'sya', 'mbilis', 'ship', 'prang', '3', '4', 'dayslng', 'nasa', 'province', 'po'], ['pretty', 'love', 'very', 'accommodating', 'seller', 'atod', 'package', 'walang', 'damage', 'thank', 'much', 'surely', 'order', 'again', 'soon'], ['working'], ['worth', 'po'], ['maganda', 'po', 'sya', 'dumating', 'naman', 'agad'], ['thankkk', 'works', 'perfectly', 'love', 'lights', 'items', 'also', 'delivered', 'safely'], ['super', 'ganda'], ['item', 'received', 'good', 'working', 'condition', 'shipped', 'immediately'], ['ganda', 'naman', 'quality', 'nakausap', 'seller', 'packaging', 'coz', 'gusto', 'imake', 'sure', 'walang', 'sira', 'pupunta', 'sakin', 'best', 'nga', 'po', 'kaya', 'thanks'], ['superr', 'gandaa', 'quality', 'nyaaa', 'likee', 'wala', 'talaga', 'akong', 'masabi', 'thankyou', 'seller'], ['yay', 'salamat', 'shopee', 'hahahahahaha', 'satisfied', 'bili', 'kayo', 'yay', 'salamat', 'shopee', 'hahahahahaha', 'satisfied', 'bili', 'kayo'], ['worth', 'also', 'seller', 'responsive'], ['super', 'ganda', 'thank'], ['thank', 'hope', 'tumagal', 'maganda', 'maayos', 'packaging', 'mabilis', 'deliver', 'salamat', 'shopeeee'], ['maganda', 'product', 'quality', 'worth', 'price', 'mabilis', 'dumating', 'well', 'packaged'], ['thank', 'seller', 'well', 'packaged', 'secured', 'talaga', 'highly', 'recommended', 'mas', 'mura', 'kaysa', 'thank', 'much'], ['excellent', 'quality', 'item', 'shipped', 'immediately', 'super', 'satisfied', 'sobrang', 'ganda', 'thank', 'stay', 'safe', 'god', 'bless'], ['everything', 'working', 'well', 'mouse', 'changes', 'colors', 'cute'], ['gandaaa', 'worth', 'price', 'tapos', 'bilis', 'dumating', '1', 'day', 'kakatuwa', 'ganda', 'packaging', 'nahirapan', 'magtanggal', 'secure', 'haha'], ['thank', 'seller', 'thank', 'shopee', 'nagustohan', 'kovang', 'item', 'magagamit', 'talaga'], ['very', 'nice', 'good', 'quality', 'products', 'well', 'package', 'very', 'kind', 'rider', 'salute', 'seller', 'delivery', 'guy', 'order', 'again', 'soon'], ['magandaaa', 'gumagana'], ['over', 'super', 'okay', 'naman', 'yung', 'keyboard', 'aside', 'price', 'buti', 'nagreply', 'agad', 'seller', 'kase', 'nung', 'una', 'alangan', 'kasi', 'walang', 'backlight', 'yung', 'keyboard', 'yung', 'mouse', 'meronpero', 'thanksss', 'kudos', 'sellerwill', 'order', 'next', 'time'], ['acckkk', 'gandaaaa', 'sana', 'tagaaalll'], ['super', 'love', 'product'], ['super', 'ganda', 'super', 'sulit', 'malambot', 'pindutin', 'sana', 'magtagal', 'okay', 'work', 'home', 'maganda', 'yung', 'ilaw', 'working', 'naman', 'lahat', 'keys', 'pati', 'lights', 'okay', 'yung', 'mouse', 'magaan', 'hindi', 'mahirap', 'gamitin'], ['products', 'aesthetically', 'pleasing', 'sobrang', 'smooth', 'gamitin', 'keyboard', 'yung', 'mouse', 'kahit', 'magaan', 'ayos', 'gumana', 'manipis', 'yung', 'wire', 'pero', 'ok', 'naman', 'long', 'iingitan', 'thank', 'seller', 'wonderful', 'items'], ['got', 'received', 'parcel', 'hope', '’', 'completely', 'working'], ['far', 'good', 'super', 'nice', 'maganda', 'sya', 'lahat', 'naman', 'keys', 'working'], ['maganda', 'sya', 'mabilis', 'dumating', 'maganda', 'yung', 'packaging', 'gumagana', 'maayos', 'good', 'job'], ['bilis', 'dumating', 'thank', 'seller', 'kuya', 'rider', 'good', 'quality', 'price', 'working', 'well'], ['ok', 'packaging', 'items', 'nung', 'tinesting', 'gumagana', 'lahat', 'hehe', 'bibili', 'ulit', 'thanks', 'po', 'kay', 'kuya', 'rider', 'kay', 'seller'], ['fast', 'delivery', 'ordered', 'last', 'thursday', 'dumating', 'ngayong', 'araw', 'sunday', 'items', 'working', 'perfectly', 'super', 'ganda', 'quality', 'hehe', 'sana', 'tumagal', 'order', 'kayo', 'highly', 'recommended', 'po'], ['working', 'naman', 'goods', 'yung', 'product', 'angas', 'ilaw'], ['super', 'bait', 'seller', 'bilis', 'dumating', 'tapos', 'ganda', 'secure', 'yung', 'packaging', 'tapos', 'walang', 'sira', 'maayos', 'siyang', 'dumating', 'maganda', 'guys', 'thank', 'po', 'seller', 'buy', 'again', 'next', 'time'], ['gandaaaaa'], ['ganda'], ['well', 'packed', 'ganda', 'items', 'sulit', 'sulit', 'talaga', 'bili', 'thank', 'seller', 'kay', 'kuya', 'rider', 'legit', 'talaga', 'kaya', 'bili'], ['thank', 'much', 'super', 'pretty', 'working', 'yung', 'keyboard', 'mouse', 'well', 'packed', 'delivered', 'soon', 'shipped', 'def', 'order', 'again', 'soon', 'sister', 'namann'], [], ['ganda', 'poooo', 'working', 'naman', 'po', 'nailawnakaoff', 'lng', 'kaya', 'ganyan', 'hahahahathankyou', 'much', 'seller', 'god', 'bless', 'stay', 'safe3'], ['cutieeee', 'thankyouuu', 'shopeee', 'huhuhuhuhu'], ['maganda', 'sya', 'cute', 'sana', 'tumagal', 'responsive', 'seller'], ['ganda'], ['really', 'recommend', 'shop', 'solid', 'grabi', 'thankyou', 'sulit'], ['really', 'recommend', 'shop', 'solid', 'grabi', 'thankyou', 'sulit'], ['order', 'po', '2', 'tapos', 'po', 'nagana', 'yung', 'mic', 'pareho', 'nagrequest', 'po', 'masauli', 'marefund', 'pero', 'nirecognize', 'shopee', 'ok', 'naman', 'yung', 'naririnig', 'music', 'pero', 'kasi', 'mic', 'online', 'class', 'sad', 'not', 'sure', 'nasakto', 'lng', 'pero', 'hopefully', 'maranasan', 'gbu'], ['ok', 'naman', 'kaso', 'hindi', 'gumagana', 'yung', 'kabila', 'ok', 'lahat', 'colors', 'order', 'pero', 'sana', 'chineck', 'seller', 'pero', 'maganda'], ['ordered', 'black', 'white', 'pero', 'dumating', 'white', 'gray', 'naman', 'seller', 'konting', 'atention', 'rate', 'mababa', 'grounded', 'jusko'], ['received', 'parcel', 'ordered', 'two', 'earphones', 'one', 'functioned', 'properly', 'but', 'one', 'quite', 'disappointed', 'left', 'side', 'purple', 'one', 'not', 'functioning', 'very', 'disappointed', 'hope', 'soon', 'make', 'sure', 'earphones', 'function', 'properly'], ['dont', 'expect', 'good', 'quality', 'price', 'paid', 'one', 'item', 'didnt', 'last', 'week', 'nagamit', 'naman', 'cya', 'kaso', 'dna', 'humans', 'agad', 'yung'], ['gumagana', 'kaso', 'hindi', 'nasunod', 'yung', 'color'], ['sya', 'gaano', 'maganda', 'pero', 'oks', 'presyo', 'hshhsshshahhshshshshsjaahahsjsjshhshshshshshshshshshshshshhshshshshs'], ['earphones', 'work', 'pero', 'somehow', 'low', 'volume', 'anfd', 'kinda', 'hard', 'use', 'someone', 'not', 'speaking', 'loudly', 'conference', 'meeting', 'online', 'but', 'works'], ['great', 'naman', 'say', 'white', 'yung', 'inorder', 'but', 'black', 'dumating', 'haha', 'sana', 'magtagal', 'agad', 'masira', '4', 'days'], ['okay', 'quality', 'sucks', 'but', 'cheap', 'works', 'worried', 'came', 'damaged', 'wont', 'work', 'but', 'def', 'not', 'gon', 'use', 'listen', 'music', 'use', 'online', 'class', 'buy', 'more', 'high', 'quality', 'one', 'listening', 'music', 'lol', 'thanks', 'anyways'], ['maganda', 'yung', 'earphones', 'pero', 'hindi', 'nasunod', 'yung', 'kulay', '3', 'black', 'inorder', 'pero', 'naging', 'gray', 'yung', 'tatlo', 'yung', 'pink', 'gray', 'tama', 'sana', 'hindi', 'available', 'wag', 'pagpipilian', 'umaasa', 'kasi', 'customer', 'makabenta'], ['mic', 'not', 'working', 'naman', 'online', 'class', 'sayang', 'po', 'anyways', 'fast', 'shipping', 'naman', 'sana', 'po', 'nadouble', 'check', 'hais'], ['okay', 'naman', 'pero', 'black', 'order', 'hindi', 'po', 'gray', 'hindi', 'naman', 'porket', 'malapit', 'gray', 'yung', 'black', 'gray', 'yung', 'ibibigay', 'wag', 'po', 'sana', 'masanay', 'ganunðÿ˜š', 'wala', 'pong', 'black', 'sana', 'hindi', 'niyo', 'nalang', 'nilagay', 'option', 'niyo', 'sana', 'message', 'nalang', 'po', 'kayo', 'walaaa', 'pipili', 'colorðÿ˜š'], ['item', 'ship', 'time', 'sad', 'kasi', 'gumagana', 'yung', 'earphones', 'pati', 'yung', 'mic', 'hindi', 'gumagana', 'pero', 'yung', 'ok', 'naman'], ['loyal', 'customer', 'pero', 'ngayon', 'nangyari', 'kulang', 'order', 'picture', 'sinend', 'tatlo', 'earphones', 'pero', 'yung', 'received', 'dalawa', 'sana', 'po', 'wag', 'maulit', 'hahayaan', 'muna', 'pero', 'sana', 'wag', 'maulit'], ['hindi', 'gumagana', 'yung', 'left', 'side', 'nung', 'purple', 'order', 'complete', 'naman', 'pero', 'sira', 'yung', 'wala', 'naman', 'sign', 'courrier'], ['quality', 'good', 'shipping', 'fast', 'bought', 'lot', 'but', '2', 'defective', 'bud', 'wasnt', 'working', 'hopefully', 'next', 'order', 'wont', 'happen', 'again'], ['got', '9', 'pesos', 'promotion', 'kahit', '40', 'sf', 'ok', 'pero', 'product', 'dumating', 'sakin', 'hatak', 'wire', 'tumutunog', 'naman', 'kaso', 'nakalabas', 'wire', 'baka', 'madali', 'masira', 'nilagyan', 'tape', 'mahatak', 'lalo', 'wire', 'hays'], ['seller', 'shipped', 'immediately', 'sound', 'earphones', 'not', 'clear', 'bubble', 'wrap', 'packaging', 'hopefully', 'review', 'improve'], ['shipped', 'time', 'but', 'good', 'sound', 'quality', 'but', 'broke', 'week'], ['parehas', 'right', 'ear', 'earphone', 'ðÿ¤¦â€\\x8dâ™€ðÿ¤¦â€\\x8dâ™€ðÿ¤¦â€\\x8dâ™€', 'okay', 'naman', 'tunog', 'presyo', 'pero', 'ayusin', 'niyo', 'naman', 'description', 'parehas', 'syang', 'right', 'ear', 'left', 'ear', 'alam', 'buyer'], ['ok', 'naman', 'gumagana', 'kaso', 'color', 'po', 'expect', 'po', 'light', 'purple', 'pero', 'dumating', 'po', 'dark', 'blue', 'medyo', 'violet', 'po', 'sya', 'pero', 'ok', 'napo', 'tnx'], ['maganda', 'package', 'ðÿ', '“', '¦', 'nyakaso', 'yung', 'green', 'earphones', 'nagana', 'yung', 'pindutan', 'pero', 'acceptable', 'price', 'kaya', 'thank', 'kay', 'sellerðÿ˜šðÿ˜˜'], ['looks', 'good', 'but', 'also', 'look', 'damaged', 'hearing', '610', 'full', 'volume', 'like', 'listening', 'half', 'volume'], ['ive', 'ordered', '2', 'earphones', 'white', 'pink', 'pink', 'one', 'think', 'damaged', 'gumagana', 'naman', 'but', 'every', 'time', 'isasaksak', 'nagloloko', 'volume', 'level', 'ganun', 'kalakas', 'but', 'considering', 'price', 'wasnt', 'expecting', 'anything', 'still', 'thank'], ['goods', 'naman', 'kaso', 'not', 'working', 'yung', 'earphone'], ['tbh', 'disappointed', 'second', 'time', 'umorder', 'audio', 'quality', 'different', 'nauna', 'binili', 'yung', 'audio', 'quality', 'parang', 'napasukan', 'tubig', 'anyways', 'thank'], ['mukhang', 'okay', 'pero', 'hindi', 'masyado', 'durable', 'hehe'], ['ordered', '2', 'earphones', 'one', 'really', 'good', 'but', 'mic', 'quality', 'expected', 'second', 'one', 'defective', 'ðÿ˜¥'], ['gumgana', 'sya', 'mlakas', 'sakto', 'lng', 'price', 'pra', 'quality', 'kya', 'dpt', 'ingatan', 'pero', 'disappointed', 'order', 'green', 'blue', 'black', 'pero', 'dumating', 'puro', 'white', 'sana', 'wala', 'stocknang', 'iinform', 'kayo', 'umaasa', 'customer', 'give', 'good', 'service', 'customer', 'ðÿ˜¶'], ['nagorder', 'dlawa', 'tama', 'nmn', 'colors', 'pero', 'yellow', 'glitch', 'audio', 'quality', 'glitch', 'sumakit', 'ulo', 'mura', 'nmn', 'expected'], ['ok', 'naman', 'sya', 'fast', 'delivery', 'pero', 'hindi', 'masyado', 'malakas', 'cguro', 'yung', 'cell', 'phone', 'kasi', 'mahina', 'talaga', 'yung', 'volume', 'cell', 'phone', 'salamat', 'sellerâ\\x9d¤ï¸\\x8f'], ['araw', 'sira', 'napero', 'ok', 'kasi', 'nasunod', 'naman', 'yung', 'color', 'gusto'], ['pink', 'earphone', 'okay', 'but', 'white', 'earphone', 'painful', 'dont', 'know', 'good', 'sound', 'perfect'], ['mabilis', 'masira', 'kahit', 'ingat', 'mo', 'pero', 'ok'], ['hindi', 'nasunod', 'yung', 'inorder', 'colors', 'okay', 'pareho', 'naman', 'earphones', 'good', 'quality'], ['tatlo', 'inorder', 'good', 'quality', 'kaso', 'yung', 'crack'], ['very', 'approachable', 'seller', 'medyo', 'mahina', 'audio', 'product', 'still', 'thumbs'], ['medyo', 'grounded', 'pero', 'oks'], ['audio', 'quality', 'kinda', 'ehhh'], ['mejo', 'sabog', 'yung', 'tunog', 'hehehe'], ['earphones', 'except', '1', 'pink', 'one', 'works', 'fine', 'anggulo', 'hindi', 'pumapangit', 'yung', 'quality', 'sound', 'humihina', 'lumalakas', 'pero', 'ok', 'price'], ['ayos', 'naman', 'kaso', 'garalgal', 'masyado'], ['maganda', 'yung', 'tunog', 'more', 'bass', 'kaso', 'araw', 'nagloloko', 'yung', 'mouth', 'piece'], ['cutie', 'color', 'item', 'gumagana', 'yung', 'sky', 'blue', 'okay', 'sya', 'kaso', 'yung', 'kaliwang', 'bahagi', 'earphone', 'dark', 'blue', 'nakahiwalay', 'okay', 'sana', 'gumagana', 'kasi', 'pwede', 'naman', 'idikit', 'kaso', 'hindi'], ['mabilis', 'masiratatlong', 'araw', 'plang', 'nagagamit', 'hindi', 'agad', 'gumaganamasakit', 'tingapero', 'yung', 'wire', 'hindi', 'madaling', 'masira'], ['grounded', 'yung', 'panget', 'tumunog', 'sayang', 'pero', 'thank', 'ðÿ˜š'], ['goods', 'sana', 'kaso', 'baliktad', 'yung', 'sounds', 'left', 'pero', 'right', 'yung', 'naririnig'], ['ok', 'naman', 'sya', 'nagana', 'pareho', 'nga', 'kaliwa', 'yung', 'earphone', 'ðÿ˜†'], ['umaalog', 'po', 'loob', 'ear', 'piece', 'not', 'sure', 'spelling', 'tapos', 'medyo', 'sabog', 'po', 'yung', 'sound', 'eecho', 'pero', 'okay', '27', 'pesosâ\\x9d¤ï¸\\x8fâ\\x9d¤ï¸\\x8fâ\\x9d¤ï¸\\x8f', '2', 'yung', 'inorder'], ['gumagana', 'naman', 'lahat', 'kaya', 'nga', 'yung', 'macaroon'], ['ibang', 'color', 'po', 'yung', 'dumating', 'ðÿ˜ƒðÿ', '‘', '\\x8d', 'order', 'black', 'pero', 'gray', 'yung', 'nareceive', 'anyways', 'better', 'next', 'time', 'po', 'ok', 'since', 'gumagana', 'naman'], ['parehas', 'nasa', 'pic', 'high', 'expectations', 'but', 'maayos', 'nmn', 'yung', 'headset', 'good', 'quality', 'pero', 'same', 'nasa', 'pic', 'lng'], ['sira', 'yung', 'ear', 'piece', 'idol', 'tsaka', 'cute', 'tunog', 'haha', 'pero', 'syempre', 'wag', 'expect', 'murang', 'halaga', 'thanks', 'parin', 'seller', 'muapssss'], ['audio', 'muffled', 'mukhang', 'madali', 'masira', 'product', 'pero', 'worth', 'price', 'think'], ['give', '3', 'star', 'kasi', 'mali', 'mali', 'yung', 'pinadala', 'design', 'akala', 'kasi', 'parehas', 'lahat', 'tapos', 'dipa', 'gumagana', 'dala', 'pero', 'salamat'], ['nasira', 'agad', 'yung', '2', 'days', 'palang', 'nagamit', 'yung', 'still', 'working', 'oa', 'naman', 'thank'], ['four', 'products', 'yung', 'gumagana', 'maayos', 'yung', 'pede', 'naman', 'yung', 'dalawang', 'earphones', 'but', 'yung', 'speaker', 'tumutunog', 'kausap', 'well', 'expect', 'cheap', 'naman'], ['maganda', 'sya', 'kaso', 'nga', 'parang', 'natanggal', 'part', 'nasa', 'earphone', 'sana', 'magtagal', 'sya', 'kasing', 'disposable', 'sya', 'change', 'ratings', 'next', 'week', 'tatagal', 'sya'], ['ok', 'naman', 'yung', 'yung', 'gray', 'ayaw', 'gumana', 'nung', 'left', 'sidenag', 'chat', 'kay', 'seller', 'rereply'], ['1week', 'using', 'earphones', 'far', 'okay', 'naman', 'matibay', 'good', 'music', 'quality', 'pero', 'ganon', 'kalakas', 'naririnig', 'paren', 'backround', 'music', 'pero', 'not', 'bad', 'cheap', 'price'], ['hindi', 'naman', 'pareho', 'dun', 'pic', 'yung', 'oinadala', 'pero', 'nagana', 'naman', 'hehehheheheheh'], ['pong', 'earphone', 'hindi', 'gumagana', 'kabilang', 'earbuds', 'refund', 'po'], ['yung', 'earphone', 'po', 'mahina', 'yung', 'earphone', 'naman', 'mali', 'naman', 'po', 'yung', 'color', 'pero', 'malakas', 'naman', 'yung', 'sounds'], ['3star', '4', 'ok', 'sana', 'kaso', 'hindi', 'nagana', 'yung', '1item', 'buti', 'nlng', 'dalawa', 'binili'], ['maganda', 'sya', 'malakas', 'epro', 'nung', 'pangalawang', 'araw', 'nasira', 'agad', 'bilis', 'kasi', 'maputol', 'dun', 'mic', 'hindi', 'matibay', 'pero', 'okay', 'kasi', 'mura', 'naman', 'bibili', 'ulit', 'bago', 'bibili', 'kayo', 'dapag', 'hindi', 'kayo', 'malikot', 'suot', 'kasi', 'baka', 'maputol', 'ingat'], ['maganda', 'yung', 'earphone', 'medyo', 'mahina', 'yung', 'sounds', 'kabila', 'pero', 'ok', 'price'], ['second', 'time', 'purchase', 'problem', 'first', 'item', 'purchased', 'ngayong', 'pangalawa', 'one', 'headsets', 'defective', 'thanks', 'seller'], ['low', 'quality', 'sounds', 'match', 'cheap', 'price', 'cheap', 'price', 'low', 'quality', 'pero', 'still', 'ty'], ['ok', 'naman', 'po', 'yung', 'headset', 'cute', 'style', 'tas', 'maganda', 'pacaging', 'oroblema', 'lng', 'hindi', 'maganda', 'yung', 'tunog', 'pero', 'ok', 'lng', 'naman', 'gaano', 'panget', 'eh', 'thank', 'delivery', 'ðÿ', '’', '•'], ['mali', 'yung', 'binigay', 'pero', 'maganda', 'pero', 'yung', 'inaasahan', 'itchura', 'hnd', 'dumating', 'ngayun', 'lng', 'nanyari', 'beses', 'omuorder', 'walong', 'beses', 'yata', 'ngayun', 'lng', 'mali', 'order', 'ok', 'lng', 'sakin', 'pero', 'next', 'time', 'pls', 'bago', 'kayo', 'order', 'hnd', 'lng', 'sakin', 'pls', 'check', 'order', 'tama', 'ðÿ˜', '”', 'ðÿ¤¦'], ['gumagana', 'naman', 'sya', 'pagdating', 'medyo', 'kinabahan', 'una', 'nung', 'tinry', 'kasi', 'mahina', 'yung', 'sounds', 'pero', 'atleast', 'gumagana', 'naman', 'sya', 'mura', 'yung', 'price', 'puwede', 'tama', 'naman', 'yung', 'dumating', 'nancolor', 'inorder', 'anddd', 'bilis', 'dumating', 'like', 'wala', 'pang', '2', 'days', 'dumating', 'agad'], ['seehindi', 'po', 'maayos', 'yung', 'packaging', 'dipo', 'naka', 'bubble', 'rapbut', 'working', 'naman'], ['okay', 'naman', 'yung', 'design', 'yung', 'colors', 'darker', 'looks', 'like', 'pictures', 'downside', 'talaga', 'yung', 'muffled', 'audio', 'quality', 'earphones', 'yung', 'mic', 'naman', 'medyo', 'mahina', 'pickup', 'sound'], ['mali', 'yung', 'color', 'but', 'good'], ['ok', 'naman', 'yung', 'quality', 'nung', 'order', 'yung', 'mejo', 'mahina', 'pero', 'ok', 'price'], ['packaging', 'great', 'but', 'trying', 'actual', 'product', 'phone', 'only', 'produces', 'low', 'sound', 'also', 'quality', 'little', 'bit', 'ungood', 'but', 'enough', 'price', 'quality'], ['blue', 'black', 'purple', 'inorder', 'pero', 'dalawang', 'gray', 'green', 'dumating', 'manlang', 'ininform', 'seller', 'hays'], ['gray', 'yung', 'dumating', 'wrong', 'color', 'pero', 'ok', 'naman'], ['3', 'days', 'left', 'earphone', 'not', 'working', 'definitely', 'pay', 'get'], ['got', 'blue', 'colored', 'one', 'but', 'quality', 'good'], ['medyo', 'mahina', 'sya', 'not', 'worth', 'sayang', 'pera'], ['not', 'kind', 'quality', 'expecting', 'quite', 'disappointed', 'fast', 'delivery', 'naman'], ['35', 'kasee', 'araw', 'lng', 'sya', 'dumating', 'dto', 'okay', 'nmn', 'sya', 'gamit', 'nde', 'nagana', 'ganda', 'quality', 'natagalan', 'lng', 'dating', 'ok', 'sna', 'kso', 'nagana', 'right'], ['first', 'tlga', 'color', 'hook', 'tried', 'naman', 'okay', 'naman', 'medyo', 'hindi', 'clear', 'yung', 'boses', 'video', 'call', 'cousin', 'biglang', 'hindi', 'narinig', 'but', 'far', 'good', 'listening', 'music', 'watching', 'dramas'], ['okay', 'naman', 'sya', 'kaso', 'ganun', 'quality', 'sana', 'next', 'time', 'pareparehas', 'gulo', 'nagtataka', 'tuloy', 'yung', 'paorder', 'pero', 'thank', 'nadingodblessâ\\x9d£ï¸\\x8f'], ['fast', 'delivery', 'but', 'item', 'madali', 'masira', 'pero', 'expecting', 'eh', '27', 'pesos', 'sya'], ['nasira', 'po', 'agad', 'yung', 'tales', 'earphone', 'speaker', 'part', 'pero', 'maayos', 'yung', 'earphone', 'tenga'], ['good', 'condition', 'but', 'problem', 'audio', 'earphones', 'quite', 'low', 'even', 'volume', 'phone', 'max', 'yet', 'still', 'coming', 'low', 'volume', 'very', 'difficult', 'hear', 'parts', 'because', 'earphone'], ['ok', 'yung', 'pero', 'mejo', 'diperensya', 'yung', 'earbuds', 'nyapero', 'pwede', 'pagtyagaanðÿ˜š'], ['2nd', 'time', 'buying', 'but', 'got', '2', 'defective', 'items', 'again', 'nakakapanghinayang', 'maganda', 'naman', 'kasi', 'sound', 'quality', 'nung', 'pero', 'nga', 'bilis', 'shipping', 'murang', 'mura'], ['mali', 'yung', 'color', 'item', 'pero', 'ok', 'hussle', 'kase', 'rerefound'], ['kala', 'papel', 'laman', 'wala', 'bubble', 'wrap', 'pero', 'sinulit', 'lagayan', 'medium', 'pouch', 'ata', 'ginamit', 'pero', 'nung', 'buksan', 'parcel', 'ok', 'earphone', 'sakto', 'tunog', 'gumagana', 'yung', 'microphone', 'audio', 'kaso', 'walang', 'volume'], ['overall', 'maganda', 'naman', 'yung', 'product', 'maganda', 'yung', 'quality', 'pero', 'gagamitin', 'kasi', 'dapat', 'pc', 'laptop', 'kaso', 'napansin', 'baliktad', 'yung', 'ayus', 'stereo', 'kaya', 'medyo', 'dissapointing', 'kaya', '3', 'stars', 'pero', 'overall', 'maganda', 'naman', 'ayus', 'nakikinig', 'music', 'gamit', 'cellphone', 'yeah'], ['mali', 'yung', 'earphones', 'pinadala', 'dapat', 'new', 'air', 'pro', '3', 'pero', 'okay', 'naman', 'sound', 'nung', 'earphones', 'sakto', 'price', 'ok', 'pagkakabubble', 'wrap', 'hindi', 'talaga', 'madadamage', 'yung', 'item'], ['nice', 'pero', 'mahina', 'sya', 'kahit', 'nakafull', 'yung', 'volume', 'medjo', 'mahina', 'parin', 'sya'], ['okey', 'sya', 'medyo', 'mahina', 'nga', 'lng', 'sakto', 'pera', 'qualit', 'anyway', 'thanks'], ['left', 'side', 'earphones', 'doesnt', 'work', 'but', 'packaging', 'shipping', 'time', 'good'], ['maganda', 'naman', 'sulit', 'bayad', 'kaso', 'sira', 'inorder', 'sira', 'sayang', 'kasi', 'kapatid', 'tapos', 'sira'], ['okay', 'sana', 'kasi', 'maganda', 'yung', 'tela', 'but', 'print', 'hays', 'natatanggal', 'agad', 'hindi', 'nalalabhan', 'pero', 'natatanggal', 'paano', 'kaya', 'nilabhan', 'bit', 'disappointed'], ['ganda', 'print', 'good', 'find', 'tlga', 'sya', 'kaso', 'init', 'katawan', 'tela', 'ðÿ˜‚â\\x9d¤ï¸\\x8f', 'keri', 'fashion', 'nlng', 'wala', 'comfort', 'ðÿ˜‚'], ['okay', 'sya', 'pangalawang', 'order', 'kona', 'kaso', 'itong', 'pangalawa', 'mejo', 'grey', 'glitters', 'yung', 'sulat', 'hindi', 'sya', 'white', 'tas', 'butas', 'yung', 'design'], ['quality', 'cloth', 'well', 'print', 'ok', 'probably', '355', 'washed', 'thankfully', 'print', 'didnt', 'fade', 'like', 'reviews', 'say', 'hope', 'stays', 'way', 'multiple', 'washes', 'regardless', 'thank'], ['panget', 'pagkakaprint', 'nung', 'pero', 'okay', 'naman', 'kaya', '3s', 'pede', 'naman', 'okay', 'tela'], ['item', 'correct', 'variation', 'size', 'not', 'quite', 'sure', 'prints', 'quality'], ['maganda', 'sya', 'pero', 'manipis', 'tsaka', 'yung', 'print', 'parang', 'matatanggal', 'agad', 'mo', 'tsaka', 'yunh', 'amoy', 'parang', 'gamit', 'sya', 'yunh', 'hindi', 'namn', 'pero', 'yung', 'amoy', 'pawis'], ['maganda', 'sana', 'quality', 'kaso', 'grabe', 'naman', 'sizing', 'pang', 'plus', 'size', 'yata', 'mali', 'xl', 'dapat', 'medium', 'sobrang', 'tagal', 'dumating'], ['okay', 'quality', 'damit', 'oversized', 'naman', 'talaga', 'nasunod', 'design', 'gusto', 'kasi', 'stock', 'daw', 'tapos', 'random', 'yung', 'pinalitðÿ¤¦â€\\x8dâ™‚ï¸\\x8f', 'freebie', 'daw', 'ibibigay', 'kaso', 'wala', 'namanðÿ˜…', 'sayang', 'okay', 'sana', 'shirts', 'thanks', 'anyway', 'ðÿ™‚'], ['una', 'masasabi', 'mabilis', 'sya', 'dumating', '2', 'days', 'dumating', 'naman', 'quality', 'ayos', 'naman', 'sya', 'manipis', 'sakto', 'yung', 'kapal', 'maganda', 'price', 'medyo', 'damage', 'text', 'harap', 'yung', 'napapunta', 'sana', 'macheck', 'ayos', 'sunod', 'pero', 'overall', 'oks', 'naman'], ['maganda', 'naman', 'kaso', 'pagnalabhan', 'nasisira', 'print'], ['okay'], ['ok', 'naman', 'pero', 'yung', 'tela', 'mainit', 'katawan'], ['thiner', 'expected', 'not', 'fit', 'expected', 'still', 'good', 'but', 'better', 'design', 'okay'], ['okay', 'yung', 'quality', 'nung', 'shirt', 'nagustuhan', 'kaso', 'supeeer', 'tagal', 'nung', 'delivery', 'shopeepay', 'ginamit', 'nun', 'sumakit', 'ulo', 'sis', 'haha', 'jnt', 'nalang', 'gamitin', 'next', 'order', 'anyways', 'salamat', 'seller'], ['hindi', 'maganda', 'yung', 'quality', 'hindi', 'katulad', 'nung', 'unang', 'order', 'mabilis', 'naman', 'shipping', 'pwede'], ['not', 'satisfied', 'pero', 'ok', 'mura', 'naman', 'everyday', 'use', 'nalang', 'parang', 'sya', 'pwede', 'machine', 'wash', 'parang', 'mabilis', 'masisira', 'yung', 'print', 'matagal', 'dumating', 'almost', 'week', 'salamat', 'shopee'], ['sobrang', 'laki', 'tapos', 'init', 'tela', 'siguro', 'ganun', 'talaga', 'black', 'pero', 'maganda', 'naman', 'yung', 'print', 'saka', 'mura', 'gacoyfa', 'acoslfuapgupava', 'jovapugsgipgsupgsulcups', 'hs', 'hlsvlucslhchslvulsvljs', 'lh', 'slh', 'slhslhcljsvjlscpufsupvysocspyvshs', 'hcslycslhvsluvupsvpusvyosvoysvoysvhs', 'lj', 'sohcshcoysvlusgosckyvsgss'], ['maganda', 'yung', 'tela', 'pero', 'ganun', 'yung', 'print', 'damage', 'agad'], ['honest', 'review', 'nasobrahan', 'ata', 'init', 'yung', 'print', 'dunidikit', 'yung', 'print', 'tas', 'tinggal', 'sira', 'yung', 'print', 'ganda', 'sana', 'tela', 'design', 'ekis', 'print', 'ayusin', 'yung', 'pagkakaprint', 'next', 'time', 'eguls', 'eh', 'sayang', 'design'], ['goods', 'goods', 'sulit', 'pero', 'ibang', 'design', 'yung', 'nabigay', 'sana', 'nextime', 'perfect'], ['maganda', 'quality', 'kaso', 'mayroon', 'mali', 'size', 'naipadala', 'pero', 'okay', 'wala', 'magagawa', 'mahirap', 'naman', 'ireturn', 'item', 'sana', 'icheck', 'mabuti', 'tska', 'yung', 'space', 'jam', 'dami', 'wala', 'namn', 'palang', 'backprint', 'nkakaloko', 'ads', 'hehe'], ['maganda', 'yung', 'designs', 'kaso', 'yung', 'kakaprint', 'pulido', 'mukhang', 'madali', 'mabakbak', 'okay', 'sana', 'pero', 'yung', 'kakaprint', 'yung', 'problem', 'haha', 'ganda', 'naman', 'designs'], ['took', 'long', 'arrive', 'okay', 'okay', 'lng', 'print', 'maayos', 'kasi', 'cotton', 'okay', 'binigay', 'boyfriend', 'buy', 'again'], ['anlaki', 'large', 'hahahah', 'ok', 'item', 'naman', 'magreklamo', 'kasi', 'mura', 'talaga', 'maganda', 'yung', 'item', 'thank', 'seller'], ['maayos', 'naman', 'pero', 'medyo', 'maganda', 'kakaprint', 'tatak', 'sablay', 'pero', 'goods', 'naman', 'maayos', 'naman', 'pero', 'medyo', 'maganda', 'kakaprint', 'tatak', 'sablay', 'pero', 'goods', 'naman', 'order', 'kayo'], ['haaaysst', 'second', 'order', 'kala', 'chinicheck', 'items', 'napunit', 'print', 'ok', 'naman', 'quality', 'shirt', 'pero', 'print', 'mismo', 'low', 'quality', 'sinabihan', 'purchase', 'order', 'pero', 'ulit', 'parin'], ['ayos', 'naman', 'yung', 'product', 'makapaal', 'yung', 'telaa', 'kaya', 'medyo', 'mainit', 'sinuot', 'pero', 'pwede', 'namaan', 'naa', 'mabiliis', 'dumating', 'yung', 'parceel'], ['actually', 'maganda', 'naman', 'kaso', 'yung', 'product', 'medyo', 'malabo', 'yung', 'print', 'ok', 'naman', 'price'], ['maganda', 'kaso', 'malaki', 'pang', 'lalaking', 'size', 'oks', 'lods', 'bagay', 'naman', 'sakin'], ['mukang', 'mabilis', 'mabura', 'yung', 'tatak', 'tagal', 'shipment', 'btw', 'thank', 'kasi', 'tama', 'designs', 'pinadala', 'ðÿ˜šðÿ˜šðÿ˜š'], ['disappointed', 'quality', 'prints', 'parang', 'masisira', 'agad', 'yung', 'print', 'however', 'shirt', 'nice', 'naman', 'cotton'], ['maganda', 'tela', 'but', 'print', 'not', 'kasi', 'madali', 'mabakbak', 'parang', 'kulang', 'kulang', 'nga', 'agad', 'maganda', 'tela', 'but', 'print', 'not', 'kasi', 'madali', 'mabakbak', 'parang', 'kulang', 'kulang', 'nga', 'agad', 'maganda', 'tela', 'but', 'print', 'not', 'kasi', 'madali', 'mabakbak', 'parang', 'kulang', 'kulang', 'nga'], ['maganda', 'sana', 'kaso', 'malaki', 'kapatid', 'pero', 'ok', 'sobrang', 'ganda', 'naman', 'thankyou', 'sellerâ\\x9d¤ï¸\\x8f'], ['magandaaaa', 'yung', 'shirt', 'kaso', 'onting', 'punit', 'yung', 'thread', 'naka', 'madaling', 'mahigit', 'sana', 'susunod', 'order', 'maayos'], ['pangit', 'print', 'makapal', 'tuyo', 'sorry', 'pero', 'totoo', 'maganda', 'tela', 'print', 'talaga', 'hinde'], ['maganda', 'quality', 'tela', 'but', 'not', 'print'], ['okay', 'naman', 'kaso', 'nipis', 'tela', 'unlike', 'sister', 'tela', 'next', 'time', 'sana', 'same', 'lahat', 'tela', 'seller'], ['makapal', 'tela', 'ok', 'naman', 'kaso', 'sya', 'ganun', 'kaganda', 'madaling', 'kapitan', 'lalo', 'balahibo', 'alagang', 'hayop', 'bahay'], ['okay', 'sana', 'yung', 'item', 'kaso', 'subrang', 'tagal', 'dumating', '3days', 'bago', 'shipped', 'pero', 'goods', 'yung', 'damit'], ['manipis', 'peeo', 'goods'], ['okay', 'tshirts', 'pero', 'sleeve', 'nasobrahan', 'parang', 'shirt', 'naka', 'hanger', 'isusuot'], ['maganda', 'naman', 'kaso', 'mainit', 'yung', 'tela', 'bagay', 'say', 'malamig', 'yung'], ['masyado', 'malaki', 'pero', 'maganda'], ['oks', 'naman', 'kaso', 'yung', 'suootan', 'kamay', 'apaka', 'lake', 'chaka', 'mahaba', 'large'], ['love', 'item', 'kaso', 'yung', 'hindi', 'nacheck', 'chineck', 'seller', 'warak', 'yung', 'bandang', 'balikat'], ['maganda', 'sya', 'kaso', 'medyo', 'manipis', 'tela'], ['medyo', 'hindi', 'dry', 'yung', 'print', 'design', 'pero', 'maganda', 'naman', 'sakto', 'lng', 'price', 'yung', 'tela'], ['ganda', 'nung', 'tela', 'guys', 'pero', 'medyu', 'nakakadisapoint', 'yung', 'braso', 'sobrang', 'parang', 'longsleve'], ['good', 'quality', 'naman', 'syakaso', 'nga', 'yung', 'size', 'xl', 'sobrang', 'kamay', 'kala', 'mo', 'naman', 'longsleeve', 'pero', 'goods', 'syathank'], ['mabilis', 'naman', 'shipdi', 'maganda', 'size', 'shirt'], ['okay', 'sya', 'makapal', 'tela', 'kaso', 'xl', 'naorder', 'halos', 'jacket', 'sya', 'sakin', 'hahahaha', 'manggas', 'hahaha', 'pero', 'mganda', 'thankyouuuuuu'], ['got', 'order', 'magandaa', 'naman', 'sya', 'kaso', 'nga', 'sobrang', 'laki', 'talaga', 'size', 'medium'], ['not', 'even', 'choose', 'but', 'tshirt', 'okay'], ['ok', 'naman', 'yung', 'quality', 'kaso', 'sumobra', 'nung', 'manggas', 'pero', 'goods', 'naman'], ['maganda', 'pero', 'pangit', 'yung', 'pagkaprint'], ['quality', 'good', 'but', 'too', 'long'], ['okay', 'yung', 'manggas', 'kasi', 'mahaba', 'pero', 'medyo', 'kinapos', 'yung', 'length', 'kaya', 'matatangakad', 'tao', 'ðÿ˜…', 'order', 'xl', 'nalang', 'sunod'], ['okay', 'naman', 'medyo', 'diko', 'lng', 'nagustuhan', 'yung', 'printing', 'nung', 'damit', 'masyadong', 'manipis', 'yung', 'print', 'yung', 'quality', 'tela', 'ok', 'naman', 'medyo', 'makapal', 'naman', 'thank', 'seller'], ['maganda', 'naman', 'yung', 'tela', 'kaso', 'karamihan', '8', 'shirt', 'binili', 'gasgas', 'yung', 'print', 'sobra', 'pang', 'sinulid'], ['goods', 'naman', 'damet', 'pero', 'sobrang', 'tagal', 'dumating'], ['maliit', 'size', 'sakin', 'pero', 'maganda', 'nmn', 'item', 'hindi', 'accomodating', 'seller', 'hindi', 'reresponse', 'chat', 'pero', 'overall', 'maganda', 'item'], ['medjo', 'manipis', 'pero', 'okay', 'naman'], ['maganda', 'yung', 'tela', 'kaya', 'damage'], ['maganda', 'quality', 'kaya', 'tagal', 'dumating', '2weeks', 'naghintay', 'buyers', 'but', 'worth', 'wait', 'naman', 'bawing', 'bawi', 'quality', 'thankyou', 'uulitin'], ['not', 'happy', 'since', 'prints', 'ok', 'naman', 'however', 'items', 'dirty'], ['okay', 'sya', 'kaso', 'white', 'mancha', 'tas', 'parang', 'fade'], ['ganda', 'tshirt', 'kaso', 'yung', 'tela', 'tastas'], ['ok', 'naman', 'yung', 'packaging', 'mas', 'maaga', 'nareceive', 'item', 'medyo', 'low', 'quality', 'print', 'pero', 'mali', 'printing', 'but', 'goods', 'sya', 'sulit', 'sulit', 'price'], ['good', 'quality', 'tagal', 'shipping', 'â˜¹ï¸\\x8fâ˜¹ï¸\\x8fâ˜¹ï¸\\x8f'], ['ï¿½ï¿½'], ['ok', 'naman', 'yung', 'print', 'quality', 'shirt', 'not', 'thick', 'not', 'thin', 'thanlfully', 'got', 'color', 'black', '53', 'chose', 'medium', 'shouldve', 'chosen', 'small', 'hehe'], ['maganda', 'sana', 'sya', 'kaso', 'mali', 'yung', 'kakaprint', 'harap', 'pero', 'sulit', 'naman', 'sana', 'pwedi', 'palitan', 'seller', 'ðÿ˜', '”', 'ðÿ˜\\x8d'], ['okey', 'naman', 'kasi', 'sale', 'kaso', 'tamang', 'presyo', 'parang', 'alanganin', 'kasi', 'print', 'masyadong', 'maganda', 'oks', 'design', 'kaso', 'nga', 'print', 'kaya', '3', 'star'], ['okay', 'naman', 'quality', 'damit', 'kaso', 'expect', 'inorder', 'ganon', 'rereceive', 'though', 'inform', 'seller', 'kaso', 'nakaka', 'dissapoint'], ['matagal', 'iship', 'khit', 'bayad', 'gusto', 'butas2x', 'print', 'but', 'itâ€™s', 'ok', 'nmanthanks', 'anyway'], ['ok', 'namn', 'yung', 'tela', 'pero', 'yung', 'print', 'hindi', 'damage', 'sya'], ['sizes', 'arent', 'oversized', 'thought', 'but', 'still', 'great', 'quality', 'recommend', 'sizing'], ['good', 'quality', 'great', 'designs', 'however', 'sent', 'wrong', 'design', 'shirt'], ['okay', 'naman', 'yung', 'product', 'maganda', 'kaso', 'nga', 'kumukupas'], ['kulang', 'order', 'nagbabayad', 'po', 'maayos', 'hehe', 'okay', 'sakin', 'maling', 'design', 'binigay', 'niyo', 'pero', 'kinulangan', 'niyo', 'damit', 'paki', 'solve', 'po'], ['maganda', 'sya', 'kaso', 'yung', 'tela', 'tapos', 'yung', 'shirt', 'hindi', 'maayos', 'print', 'pero', 'ok', 'lng', 'naman'], ['maganda', 'kaso', 'napakatagal', 'dumating', 'tapos', 'mali', 'yung', 'size'], ['okay', 'sana', 'kaso', 'yung', 'manggas', 'oa', 'laki', 'kasya', 'hita'], ['sobrang', 'manggasbut', 'maganda', 'print', 'telaðÿ¥°'], ['okay', 'naman', 'mabilis', 'dumating', 'kaso', 'konting', 'damage', 'okay', 'yung', 'tela', 'pati', 'yung', 'kakaprint', 'design'], ['okay', 'yung', 'design', 'pero', 'yung', 'tela', 'trip', 'lalo', 'yung', 'kakatahi'], ['maganda', 'kaso', 'parang', 'natatanggal', 'nayung', 'design', 'mabilis', 'naman', 'delivered'], ['maganda', 'pero', 'mangas'], ['ok', 'po', 'yung', 'tela', 'kaso', 'yung', 'tatak', 'nagka', 'dikit', 'dikit', 'kaya', 'nabakbak', 'yung', 'konti', 'pero', 'hayahan', 'nalang', 'sana', 'naman', 'next', 'time', 'make', 'sure', 'tuyo', 'nayung', 'tatak', 'damit', 'pero', 'thank', 'parin'], ['maganda', 'yung', 'quality', 'kaso', 'maikli', 'parang', 'crop', 'top'], ['not', 'satisfied', 'maganda', 'tela', 'pero', 'yung', 'print', 'medyo', 'naka', 'disappoint', 'coz', 'parang', 'luma', 'kulay', 'black', 'ink', 'naka', 'dot', 'dot'], ['maganda', 'yung', 'damit', 'po', 'print', 'pero', 'dun', 'error', 'po', 'bura', 'bura', 'saka', 'aa', 'quality', 'naman', 'po', 'tela', 'oks', 'naman', 'makapal', 'manipis', 'tama', 'thank'], ['ok', 'naman', 'kayalang', 'yung', 'black', 'manipis', 'tela', 'tsaka', 'pangit', 'ngayon', 'kakaprint', 'disappointed', 'ngayon'], ['items', 'shipped', 'very', 'late', 'few', 'missed', 'spots', 'print', 'quality', 'shirts', 'good'], ['3', 'star', 'time', 'kasi', 'order', 'nung', '66', 'tas', 'cancel', 'sobrang', 'tagal', 'medyo', 'manipis', 'yung', 'tela', 'yung', 'print', 'pero', 'okay', 'naman', 'mabait', 'yung', 'deliver'], ['tagal', 'ship', 'pero', 'okay', 'naman', 'yung', 'item'], ['item', 'quality', 'fabric', 'mediocre', 'design', 'shirt', 'cool', 'but', 'quality', 'print', 'lacking', 'thin', 'but', 'bright', 'side', 'pay', 'get'], ['sama', 'tatak', 'parang', 'kupas', 'pero', 'oks'], ['not', 'designs', 'ordered', 'though', 'quality', 'shirts', 'good'], ['fair', 'enough'], ['maganda', 'yung', 'item', 'kaso', 'sobrang', 'tagal', 'bago', 'dumating', 'buwan', 'ata', 'eh', 'diko', 'alam', 'dadating', 'paba', 'tuloy', 'maka', 'bili', 'nang', 'bago'], ['ok', 'kaso', 'parang', 'numipis', 'tela', 'unlike', 'previous', 'orders'], ['maganda', 'kaso', 'mahaba', 'manggas', 'pero', 'maiksi', 'yung', 'shirt'], ['maganda', 'sya', 'pero', 'laki'], ['ok', 'naren'], ['okay', 'sana', 'kaso', 'damage', 'damit', 'huhuh'], ['magaganda', 'yung', 'shirt', 'kaso', 'mali', 'mali', 'ibang', 'size', 'design', 'yunf', 'napunta', 'sakin', '6', 'inorder', '2', 'yung', 'tumama', 'maganda', 'po', 'talaga', 'yung', 'shirt', 'niyo', 'pero', 'sana', 'po', 'ganun', 'kaayos', 'yung', 'service', 'sayang', 'naman'], ['maganda', 'naman', 'pero', 'yung', 'seller', 'hindi', 'responsive', 'asking', 'himher', 'pwede', 'tignan', 'yung', 'order', 'pero', 'wala', 'reply', 'sorry', 'not', 'sorry'], ['goods', 'sana', 'kaso', 'butas', 'shoulder', 'area'], ['maganda', 'nmn', 'tela', 'makapal', 'mali', 'lng', 'dumating', 'design', 'skin', 'kaya', 'nakakalungkot', 'lng'], ['maganda', 'sana', 'kaso', 'mukang', 'labahan', 'wala', 'yung', 'print', 'tela', 'print', 'talaga', 'ampanget'], ['okay', 'sana', 'yung', 'damit', 'kaso', 'yung', 'dalawang', 'tshirt', 'magkaparehas', 'design'], ['like', 'but', 'wasnt', 'expected'], ['3', 'stars', 'hindi', 'maganda', 'yung', 'pagkalapat', 'nang', 'design', 'pero', 'presyong', '169', 'ayos', 'thx'], ['maganda', 'oversized', 'kaso', 'ampanget', 'yung', 'bandang', 'leeg', 'sobrang', 'laki', 'kunti', 'nalang', 'parang', 'turtle', 'neck'], ['maganda', 'yung', 'tela', 'kaso', 'ayos', 'pagtahi', 'butas', 'sobrang', 'manggas', 'papa', 'repair', 'syaðÿ™ƒ'], ['okay', 'sana', 'kaso', 'hindi', 'oversize', 'yung', 'shirt', 'yung', 'manggas', 'yung', 'mahaba', 'repair', 'yung', 'print', 'medyo', 'nagdikit', 'dikit', 'pero', 'okay', 'naman', 'yung', 'quality'], ['maganda', 'sana', 'kaso', 'wrong', 'item', 'dumating'], ['okay', 'naman', 'sya', 'kaso', 'yung', 'mali', 'yung', 'size', 'binigay', 'seller', 'laki', 'saken'], ['maganda', 'naman', 'yung', 'tela', 'kaso', 'hapit', 'masyado', 'leeg', 'nakakasakal', 'akong', 'naka', 'turtleneck'], ['maganda', 'sya', 'kaso', 'sobrang', 'mangas'], ['hindi', 'pantay', 'yung', 'tatak', 'pero', 'mejo', 'maganda', 'naman', 'tela'], ['panget', 'tatak', 'pero', 'okay', 'narin', 'poo'], ['oks', 'yung', 'item', 'panget', 'chat', 'agent', 'tamad', 'tamad', 'umintindi', 'concern'], ['maganda', 'naman', 'manipis', 'tela'], ['sad', 'color', 'blue', 'walang', 'printok', 'naman', 'iba2nd', 'order', 'actuallytamang', 'pambahay', 'kasi', 'manipis', 'syasalamat', 'ambilis', 'dumatingpero', 'sana', 'chineck', 'muna'], ['maganda', 'sana', 'yung', 'design', 'shorts', 'natuwa', 'yung', 'husband', 'kaso', 'ibang', 'shorts', 'mataas', 'yung', 'pundilyo', 'yung', 'quality', 'mejo', 'hindi', 'ok', 'kasi', 'mabilis', 'mapunit', 'pero', 'kasi', 'mura', 'kaya', 'siguro', 'ganun'], ['ayus', 'po', 'yung', 'product', 'kaso', 'manipus', 'yung', 'kulay', 'pink', 'short', 'nasa', 'bulsabaliktadsana', 'naman', 'po', 'yung', 'mejo', 'maayus', 'product', 'hindi', 'po', 'yung', 'defective', 'popero', 'maganda', 'siyayung', 'talaga', 'deperensya'], ['nakadating', 'agad', 'parcel', 'kaso', 'nagalit', 'tatay', 'nipis', 'tapos', 'maliit', 'size', 'mukhang', 'makakaulit', 'perp', 'price', 'mababa', 'talaga', 'kaya', 'masyado', 'expect', 'pero'], ['manipis', 'pero', 'okay', 'price'], ['okey', 'naman', 'pero', 'parepareho', 'yung', 'size', 'shorts', 'tas', 'mejo', 'maliit', 'bulsa', 'ibang', 'shorts', 'tas', 'panget', 'yung', 'tahi', 'pero', 'bawi', 'naman', 'kulay', 'magaganda', 'mejo', 'manipis', 'yung', 'tela'], ['ok', 'naman', 'sya', 'mabilis', 'shipping', 'pero', 'mali', 'kulay', 'order'], ['ok', 'naman', 'sya', 'hindi', 'maselan', 'tamang', 'pambahay', 'justifiable', 'naman', 'preyo'], ['hindi', 'nagustohan', 'short', 'kasi', '3236', 'pero', 'liit', 'kasiya', 'sakin', 'sayang', 'pera', 'tapos', 'damit', 'ok', 'naman', 'kaso', 'puti', 'subrang', 'nipis', 'kaya', '2', 'star'], ['ok', 'sana', 'kaso', 'naman', 'pink', 'men', 'ðÿ™„'], ['ok', 'sya'], ['okay', 'tela', 'presko', 'katawan', 'kaso', 'maliit', 'sizes'], ['mejo', 'hindi', 'gusto', 'nung', 'quality', 'nung', 'bulsa', 'pero', 'naman', 'kay', 'lola', 'yung', 'short', 'kasi', 'gusto', 'nyia', 'daq', 'astig', 'pero', 'ok', 'naman', 'sya', 'baka', 'ulitin', 'order', 'thanks', 'seller'], ['mali', 'yung', 'dalwang', 'kulay', 'pero', 'maganda', 'naman'], ['akala', 'po', 'hindi', 'manipis', 'pero', 'nung', 'dumating', 'manipis', 'palapero', 'ok', 'narin', 'nagustuhan', 'parin', 'po', 'naminsory', 'wala', 'po', 'akong', 'picbut', 'nice', 'po', 'siyaâ™¥ï¸\\x8fâ™¥ï¸\\x8fâ™¥ï¸\\x8f'], ['hm', 'yung', 'pinili', 'design', 'yung', 'nabigay', 'manipis', 'yung', 'tela', 'pero', 'ok', 'maganda', 'comfy', 'mainit', 'slmat'], ['okay', 'naman', 'yung', 'nipis', 'tela', 'kaso', 'panget', 'pagtahi', 'yeah', '3star', 'muna'], ['ok', 'kaso', 'nike', 'lahat', 'order', '2', 'nike', '2', 'hm', 'kaso', 'ipadaa', 'seller', 'nike', 'lahat', 'ðÿ¤', '”', 'ðÿ˜¢'], ['ok', 'sana', 'kaso', 'pareparehas', 'kulay'], ['okay', 'naman', 'maganda', 'kaso', 'manipis'], ['okay', 'naman', 'item', 'manipis', 'talaga', 'pero', 'bilis', 'dumating'], ['ok', 'pang', 'paalis', 'alis'], ['manipis', 'yung', 'tela', 'okay', 'sana', 'kaso', 'damage', 'yung', 'advance', 'expected', 'date', 'delivery'], ['manipis', 'sya', 'pero', 'ok', 'naren'], ['prefer', 'cotton', 'cloth', 'but', 'ok', 'thanks'], ['maganda', 'yung', 'tela', 'ineexpect', 'mas', 'darker', 'yung', 'mustard', 'actual', 'kesa', 'picture', 'mali', 'yung', 'tatak', 'hm', 'picture', 'pero', 'nike', 'pinadala', 'pero', 'maganda', 'tela', 'swear'], ['sira', 'yung', 'sayang', 'pero', 'ok'], ['maganda', 'color', 'kaso', 'manipis', 'tela', 'parang', 'madali', 'syang', 'mapunit'], ['hm', 'inorder', 'tas', 'nike', 'dumating', 'pero', 'okay', 'lng', 'nmn', 'parehas', 'lng', 'nmn', 'maganda', 'red', 'kasi', 'dapat', 'kasi', 'pink', 'haha'], ['thanks', 'shoppe', 'kay', 'kuya', 'rider', 'maganda', 'po', 'short', 'kaso', 'hindi', 'naayos', 'finesh', 'himol', 'mol', 'nasa', 'dapat', 'nasa', 'loob', 'po', 'salamat', 'ðÿ˜šðÿ˜š'], ['manipis', 'pero', 'pwede', 'salamat'], ['good', 'quality', 'but', 'thin', 'fabric'], ['maganda', 'yung', 'yung', 'hindi'], ['manipis', 'po', 'yung', 'tela', 'hindi', 'maayos', 'yung', 'pagkakatahiðÿ˜œpero', 'ok', 'narin'], ['okay', 'naman', 'goods', 'price', 'though', 'recommended', 'tall', 'persons', 'lalabas', 'guhit', 'puwit', 'mo', 'hahahaha'], ['tastas', 'medyo', 'masikit'], ['medyo', 'manipis', 'yung', 'tela', 'pero', 'goods', 'nato', 'pang', 'araw', 'araw', 'ðÿ˜‰â\\x9d£ï¸\\x8f'], ['maganda', 'naman', 'mali', 'kulay', 'nung', 'pero', 'goods'], ['not', 'good', 'pero', 'okks', 'namanðÿ˜€'], ['ok', 'naman', 'kaso', 'kulay', 'parang', 'baliw'], ['ï¿½ï¿½'], ['magaganda', 'kulay', 'kaso', 'ninipis', 'dipa', 'malinis', 'tahi', 'pero', '3', 'star', 'kc', 'mabilis', 'ship', 'rider'], ['tama', 'sana', '5', 'item', 'kaso', 'kulay', 'dumating'], ['ok', 'naman', 'kaso', 'message', '3', 'different', 'color', 'pero', 'one', 'color', 'nreceived'], ['ok', 'naman', 'yung', 'pero', 'kahit', 'sira', 'nabakit', 'pinadala', 'pnakaka', 'disappoint', 'naman'], ['okay', 'naman', 'quality', 'pagkatahi', 'medyo', 'manipis', 'nga', 'telagood', 'kasi', 'madaling', 'matuyo', 'lalabhanmagaan', 'dalhin', 'getawaysyung', 'orderpangit', 'color', 'pambabaehahahahaibibigay', 'pamangkin', 'kothank', 'mabait', 'riderfive', 'stars', 'ðÿ˜š'], ['maganda', 'yung', 'design', 'gusto', 'kapatid', 'pero', 'subrang', 'nipis', 'heheheh', 'pero', 'ok', 'naman', 'wala', 'nako', 'masabi', 'ðÿ˜šðÿ¥º'], ['ok', 'naman', 'sya', 'kaso', 'nga', 'dismaya', 'kasi', 'binili', 'asawa', 'kaso', 'maliit', 'yung', 'size'], ['maganda', 'nmn', 'sya', 'kaso', 'manipis', 'tila'], ['maganda', 'item', 'hm', 'kaso', 'nike', 'nmn', 'hindi', 'natapos', 'tahi', 'wala', 'nmn', 'bulsa', 'sana', 'hm', 'nlng', 'brand', 'pangit', 'packaging', 'parang', 'hindi', 'mahal', 'magulang', 'huhu'], ['affordable', 'but', 'too', 'thin'], ['ok', 'price'], ['thought', '6pcs', 'shorts', 'buts', 'okay'], ['subrang', 'nipis', 'pero', 'maganda', 'pang', 'summer', 'short'], ['manipis', 'lng', 'pla', 'pero', 'maganda', 'sya', 'very', 'manipis', 'nga', 'lng'], ['maganda', 'namn', 'style', 'kaso', 'nipis', 'po'], ['got', 'medyo', 'disappointed', 'maganda', 'yung', 'tela', 'ok', 'naman', 'lahat', 'shipping', 'packaging', 'yung', 'tahi', 'talaga', 'sobrang', 'daming', 'loose', 'thread', 'tsaka', 'maayos', 'yung', 'pagkakatahi', 'lalo', 'button', 'part', 'pang', 'tahiin', 'ulit'], ['ok', 'naman', 'quality', 'nung', 'tela', 'question', 'hindi', 'mainit', 'hindi', 'makati', 'only', 'problem', 'item', 'andami', 'excess', 'sinulid', 'something', 'distracting', 'but', 'youre', 'fine', 'cutting', 'okay', 'naman', 'tong', 'polo'], ['pabric', 'quality', 'color', 'good', 'but', 'large', 'size', 'not', 'large', 'but', 'small', 'faulty', 'sizing'], ['manipis', 'pero', 'pwedi'], ['ok', 'naman', 'kaso', 'nga', 'liit', 'size', 'large', 'nio', 'large', 'size', 'men', 'size', 'tas', 'sobrang', 'liit', 'naman', 'binigay', 'sakin', 'medyo', 'kasya', 'sayang', 'diko', 'masusuot'], ['ok', 'namn', 'cya', 'kaso', 'large', 'prang', 'small', 'lng', 'kaya', 'hindi', 'kasya', 'sakin', 'inorder', 'sayang', 'masaoot'], ['okie', 'naman', 'maganda', 'kaso', 'pinalusutan', 'maliit', 'size', 'pambata', 'naman', 'yung', 'order', 'kaya', 'medyo', 'disappointed', 'but', 'thanks', 'kompleto', 'namn', 'doubt', 'umorder', 'ulit', 'baka', 'umorder', 'naipalusot'], ['maganda', 'â€˜yung', 'colorrr', 'pero', 'nipis', 'telaaaaa', 'good', '150', 'ðÿ', '‘', '\\x8d'], ['parang', 'liit', 'xl', 'size', 'diko', 'kasya', 'pero', 'order', 'ibang', 'shop', 'sakto', 'lng', 'xl', 'hayyysss', 'sayang', 'pero', 'ok', 'lng', 'kasya', 'nmn', 'pamankin'], ['ok', 'fitted', 'katawan', 'sakto', 'lng', 'fit'], ['mali', 'yung', 'size', 'nung', 'polo', 'pero', 'goods', 'naman', 'yung', 'sobrang', 'tagal', 'dumatinggg', 'pero', 'okay', 'sakto', 'wala', 'naman', 'akong', 'pera', 'hahahahah'], ['okay', 'madaling', 'received', 'pero', 'yung', 'tahi', 'medyo', 'pero', 'nice', 'iwan', 'magkasya', 'bf', 'hehe'], ['ganda', 'sya', 'pero', 'konti', 'damage', 'tahi', 'hindi', 'masyado', 'pulido', 'pero', 'ok', 'naman', 'kaya', 'naman', 'gawan', 'paraan'], ['ok', 'naman', 'yung', 'price', 'tela', 'manipis', 'nga', 'anymay', 'thank', 'seller', 'tagal', 'bago', 'maideliver', 'took', '7', 'days', 'ninjavan', 'goodness', 'bagsak', 'tracking', 'system', 'sobrang', 'tagal', 'nakakabwiset'], ['maganda', 'naman', 'kaso', 'nagustuhan', 'yung', 'tela', 'pero', 'ok', 'narin'], ['okay', 'naman', 'yung', 'itemkaso', 'anliit', 'pla', 'largeðÿ¤¦ðÿ¤¦ðÿ˜¥ðÿ˜¥'], ['quality', 'ok', 'price', 'though', 'reminders', 'xl', 'xxl', 'small', 'size', 'dimensions', 'ordered', 'xxl', 'but', 'looks', 'like', 'med', 'large', 'size', 'give', 'brod', 'anyways', 'thanks', 'seller'], ['okay', 'naman', 'tela', 'pero', 'liit', 'sizing', 'xxl', 'binili', 'parang', 'large'], ['ok', 'naman', 'maganda', 'sya', 'kaso', 'parang', 'papel', 'tela'], ['okay', 'narin'], ['goods', 'naman', 'quality', 'tagal', 'receive'], ['expect', 'unexpected', 'hahahaha', 'but', 'goods', 'item', 'not', 'well', 'packed', 'hahaha', 'nakalagay', 'plastic', 'orange', 'nakaplastic', 'yung', 'shirts', 'hahahaha', 'awit', 'not', 'recommedable', 'pero', 'gusto', 'niyo', 'mura', 'pwede'], ['mydo', 'manipis', 'lng', 'pla', 'damitok', 'nmn', 'sya', 'wlang', 'damagepro', 'dq', 'tela', 'nyaanyways', 'tnx', 'seller', 'shopee'], ['manipis', 'pero', 'okay', 'naman'], ['ï¿½ï¿½'], ['got', 'order', '3', 'star', 'kasi', 'dalawa', 'order', 'ok', 'naman', 'pru', 'konting', 'sira', 'butas', 'botones', 'parang', 'cut', 'blade', 'gunting', 'far', 'ok', 'naman', 'cxa', 'ðÿ™‚'], ['maganda', 'quality', 'kaso', '2', 'weeks', 'bago', 'nareceive', 'oeder', 'kobuti', 'dumating'], ['wala', 'sanang', 'problema', 'seller', 'nagrereply', 'naman', 'maganda', 'tela', 'kaso', 'sobrang', 'tagal', 'dumating', 'parcel', '9', 'days', 'pinaorder', 'sakin', 'eh', 'mapagkakamalan', 'akong', 'scammer', 'kaya', 'pasensya', 'makulit'], ['ok'], ['ok', 'sana', 'yung', 'damit', 'kaso', 'dumi'], ['maganda', 'naman', 'telakaso', 'hindj', 'maganda', 'pagtahiparang', 'minadalihindi', 'nagpantay', 'tahiahaymedyo', 'disappointed', 'akomaganda', 'sana'], ['kala', 'pure', 'cotton', 'xa', 'hindi', '2', 'time', 'disappoint', 'pero', 'ok', 'kerie', 'nmn', 'kahit', 'papano', 'sana', 'next', 'time', 'good', 'quality', 'xaâ˜ºï¸\\x8f'], ['maiksi', 'ok', 'choice', 'ehðÿ¤£'], ['medyo', 'manipis', 'tsaka', 'parang', 'cheap', 'material', 'pero', 'okay'], ['jacket', 'yung', 'received', 'ðÿ˜', '”', 'saklap', 'naman', 'pero', 'okay', 'nga', 'mabilis', 'naman', 'silang', 'reply', 'ðÿ˜‚'], ['dont', 'expect', 'much', 'material', 'quality', 'price', 'pwede'], ['mnipis', 'tela', 'pero', 'ok', 'lng', 'mbait', 'nmn', 'dlvry', 'boy', 'eh', 'tnk', 'po'], ['matagal', 'sya', 'dumating', 'pero', 'maganda', 'sya', 'thank', 'much', 'sellerrðÿ', '’', '–'], ['masyadong', 'maganda', 'tela', 'pero', 'ok'], ['maganda', 'tela', 'comfy', 'suotinðÿ˜šðÿ˜š', 'kaso', 'nga', 'item', 'hindi', 'maayos', 'pagkakatahi', 'sana', 'next', 'time', 'icheck', 'kasi', 'hindi', 'naman', 'biro', 'yung', 'halaga', 'binabayad', 'natin', 'item'], ['ok', 'sana', 'yung', 'tela', 'kaso', 'malayo', 'picture', 'posted', 'length', 'maikli', 'sya', 'parang', 'tokong', 'ganern', 'lagpas', 'tuhod', 'sya', 'sakin', 'partida', 'naman', 'matangkad', 'ðÿ˜‚ðÿ˜‚ðÿ¤¦ðÿ\\x8f', '»', 'â€\\x8dâ™€ï¸\\x8fðÿ¤¦ðÿ\\x8f', '»', 'â€\\x8dâ™€ï¸\\x8f'], ['quality', 'cloth', 'quite', 'ok', 'comfy', 'but', 'kind', 'disappointed', 'because', 'length', 'pants', 'only', '735cm', 'suppose', '83cm'], ['maganda', 'sana', 'kso', 'lng', 'punit', 'cya', 'nkaka', 'disappoint', 'next', 'time', 'seller', 'double', 'check', 'bgo', 'ipa', 'deliver', 'kc', 'ngbayad', 'kmi', 'tama'], ['bago', 'magorder', 'nagtingin', 'muna', 'reviews', 'hindi', 'nakabase', 'description', 'item', 'ok', 'nmn', 'daw', 'yung', '5â€™2â€\\x9d', 'pero', '34', 'sken', 'yung', 'square', 'pants', 'ðÿ˜©ðÿ˜', '”', 'ok', 'sana', 'yung', 'tela', 'price', 'nyapero', 'yung', 'length', 'liitðÿ˜', '”'], ['maganda', 'naman', 'lahat', 'same', 'posted', 'kaso', 'damage', 'yung', 'longer', 'sell', 'ðÿ˜\\xad', 'pinakapangit', 'lahat', 'magshoshoulder', 'shipping', 'fee', 'return', 'yung', 'item'], ['okay', 'naman', 'sana', 'kaso', 'damage', 'mapupunit'], ['okay', 'po', 'tela', 'butas', 'po', 'order', '2', 'inches', 'next', 'time', 'kindly', 'check', 'delivery', 'less', 'hassle', 'customer', 'thanks'], ['cute', 'designs', 'pero', 'medyo', 'manipis'], ['same', 'actual', 'pic', 'but', 'fabric', 'thin'], ['sorry', 'pero', 'ndi', 'mganda', 'pgkaprint', 'ok', 'tela', 'superb'], ['3', 'star', 'kasi', 'yung', 'kulay', 'mali', 'dumating', 'ðÿ¥º', 'supposedly', 'blue', 'dapat', 'not', 'sky', 'blue', 'but', 'salamat', 'seller', 'okay', 'nmn', 'tela', 'kasi', 'smooth'], ['ok', 'naman', 'kaso', 'butas', 'yung', 'gilid', 'gilid', 'gilid', 'gilid', 'gilid', 'gilid', 'gilid', 'gilid', 'gilid', 'gilid', 'gilid', 'gilid', 'gilid', 'gilid', 'gilid', 'gilid', 'gilid', 'gilid', 'gilid', 'gilid', 'gilid', 'gilid', 'gilid', 'gilid', 'gilid', 'gilid', 'gilid', 'gilid', 'gilid', 'gilid', 'gilid', 'gilid', 'gilid', 'gilid', 'gilid', 'gilid', 'gilid', 'gilid', 'gilid', 'gilid', 'gilid', 'gilid', 'gilid', 'gilid', 'gilid'], ['got', 'huge', 'disappointment', 'maganda', 'naman', 'sana', 'price', 'pero', 'malaking', 'prob', 'hahaha', 'yung', 'tali', 'kasi', 'dapat', 'nasa', 'harap', 'napunta', 'weird', 'happen', 'but', 'yeah', 'tao', 'nagkakamali', 'chatted', 'shop', 'kaso', 'unresponsive'], ['maganda', 'sana', 'kaya', 'tugma', 'size', 'nkasulat', 'chartorder', '3', 'kulay', '2xl', 'kaso', 'maliliit', '2xl', 'nilatama', 'sana', 'kulay', 'blackdark', 'gray', 'light', 'graypara', 'sana', 'asawa', 'kopero', 'lng', 'gumamit'], ['ok', 'naman', 'yung', 'quality', 'nia', 'mukha', 'naman', 'matibay', 'sana', 'matibay', 'magtagal', 'fault', 'kase', 'hinde', 'chineck', 'size', 'chart', 'misleading', 'kase', 'yung', 'picture', 'adult', 'yung', 'pic', 'pero', 'actual', 'size', 'pang', 'kids', 'buti', 'pamangkin', 'bata', 'nagka', 'instant', 'jogging', 'pants', 'tuloy', 'sya'], ['maganda', 'naman', 'yung', 'quality', 'pants', 'nagustuhan', 'yung', 'size', '2xl', 'inorder', 'pero', 'parang', 'large', 'kaya', '2xl', 'niorder', 'sana', 'maluwag', 'mas', 'komportable', 'kasi', 'nagustuhan', 'yung', 'pinalitan', 'order', 'maroon', 'kahit', 'dark', 'gray', 'hindi', 'alam', 'niinform', 'sana'], ['maganda', 'naman', 'tela', 'pero', 'dalawa', 'order', 'grey', 'block', 'order', 'pero', 'dumating', 'parehas', 'black', 'mali', 'kulay', 'dapat', 'kulay', 'grey', 'yung', 'kulay'], ['maganda', 'yung', 'size', 'pero', 'hindi', 'quality', 'kasi', 'muka', 'sya', 'madulas', 'yung', 'tela', 'picture', 'mukang', 'presko', 'pero', 'mainit', 'tela', 'loob', 'pero', 'well', 'packed', 'naman', 'mabilis', 'dumating', 'thanks', 'anyway'], ['tama', 'yung', 'quantity', 'nong', 'order', '1', 'â\\xad\\x90ï¸\\x8f', 'sana', 'kaso', 'tama', 'kaya', '3yong', 'pjama', '36year', 'old', 'daw', '3', 'etas', 'jogging', 'pants', 'maron', 'gray', 'navy', 'blue2', 'black', '1', 'navy', 'blueewan', 'sayo', 'seller'], ['ok', 'quality', 'price', 'howver', 'inconsistent', 'nga', 'size', 'ordered', '2xl', 'maroon', '2xl', 'navy', 'blue', 'yung', 'size', 'maroon', 'talagang', '2xl', 'pero', 'yung', 'navy', 'blue', 'liit', 'size', 'parang', 'medium', 'nilagay', 'yung', 'tag', 'â€œ2xlâ€\\x9d', 'masabi', '2xl', 'ðÿ¥´'], ['okay', 'naman', 'yung', 'tela', 'maganda', 'quality', 'naman', 'tahikaso', 'magkaiba', 'standard', 'sizes', 'dumating', 'large', 'order', 'dalawa', 'yung', 'saktong', 'large', 'yung', 'naman', 'alanganing', 'large', 'siyangsmall', 'hindi', 'pareho', 'brand', 'kaya', 'magkasya', 'yung', 'kulay', 'black', 'yung', 'navy', 'blue', 'po', 'sakto'], ['3', 'star', 'kasi', 'yung', 'kulay', 'mali', 'dumating', 'ðÿ¥º', 'supposedly', 'blue', 'dapat', 'not', 'sky', 'blue', 'but', 'salamat', 'seller', 'okay', 'nmn', 'tela', 'kasi', 'smooth'], ['fast', 'delivery', 'thankskaya', 'expect', 'ganon', 'ganda', 'pictures', 'but', 'pla', 'tila', 'ok', 'nmn', 'halangang', '99', 'pesos', 'tlga', 'thanks', 'ðÿ', '‘', '\\x8dðÿ', '‘', '\\x8dðÿ', '‘', '\\x8d', 'good', 'jobs', 'god', 'bless', 'ðÿ™\\x8f', 'ðÿ', '’', '“'], ['maganda', 'yung', 'quality', 'pero', 'parang', 'hindi', 'kasya', 'pang', 'lalake', 'stretchable', 'naman', 'pero', 'maiksi', 'okay', 'kasi', 'mura', 'thank', 'po', 'ðÿ', '’', '•'], ['kala', 'maong', 'hindi', 'parang', 'pajama', 'sya', 'pero', 'ok', 'naman', 'sya', 'sakto', 'sakin', 'pwede', 'narin'], ['ok', 'naman', 'telanag', 'fit', 'namanðÿ¥°ðÿ˜šmag', 'order', 'ulitnaship', 'agadðÿ˜šbilis', 'dumatinghappy', 'ðÿ¥°pero', 'nde', 'natahi', 'bandang', 'ibabaðÿ¤£'], ['okay', 'naman', 'sya', 'expected', 'okay'], ['maganda', 'yung', 'tela', 'kaya', 'mali', 'yung', 'color', 'napabigay', 'sad', 'responsive', 'naman', 'seller', 'pero', 'hindi', 'nagreturn', 'kasi', 'hassle'], ['maganda', 'packaging', 'gumagana', 'naman', 'yung', 'charger', 'earphone', 'pero', 'yung', 'charger', 'una', 'gumana', 'tapos', 'next', 'charge', 'wala', 'gumagana', 'sayangðÿ˜…'], ['cheap', 'combo', 'unfortunately', 'nagana', 'yung', 'earphones', 'tsk', 'sorry', 'cant', 'give', 'high', 'ratings', 'sana', 'nagchecheck', 'muna', 'items', 'working', 'properly', 'magship', 'anyways', 'charger', 'cord', 'working', 'mabilis', 'uminit', 'yung', 'charger', 'kaya', 'better', 'bantayan'], ['ok', 'nmn', 'cya', 'completo', 'nmn', 'headset', 'peru', 'nmn', 'cya', 'fast', 'charger', 'normal', 'lng', 'charger', 'kaya', '3', 'ðÿœÿðÿœÿðÿœÿ'], ['sana', 'tumagalmay', 'damaged', 'nga', 'dun', 'micro', 'usb', 'pero', 'gumagana', 'namansakto', 'presyoðÿ˜š', 'thanks', 'seller'], ['thanks', 'shopee', 'seller', 'maganda', 'sana', 'kaso', 'hindi', 'fast', 'charging', 'ðÿ˜¢', 'madali', 'maginit', 'slot', 'naman', 'hindi', 'gumagana', 'huhu'], ['sira', 'yung', 'charger', 'pero', 'ok', 'yung', 'isaðÿ˜\\x90ðÿ˜\\x90ðÿ˜\\x90ðÿ˜\\x90ðÿ˜\\x90ðÿ˜\\x90ðÿ˜\\x90ðÿ˜\\x90ðÿ˜\\x90ðÿ˜\\x90ðÿ˜\\x90ðÿ˜\\x90ðÿ˜\\x90ðÿ˜\\x90ðÿ˜\\x90ðÿ˜\\x90ðÿ˜\\x90ðÿ˜\\x90ðÿ˜\\x90ðÿ˜\\x90ðÿ˜\\x90ðÿ˜\\x90ðÿ˜\\x90ðÿ˜\\x90ðÿ˜\\x90ðÿ˜\\x90ðÿ˜\\x90ðÿ˜\\x90ðÿ˜\\x90ðÿ˜\\x90'], ['ok', 'naman', 'po', 'mabilis', 'yung', 'shipment', 'nga', 'ganun', 'bilis', 'charge'], ['magaganda', 'naman', 'items', 'kaso', 'cahrger', 'hinde', 'gumana', 'ðÿ˜šðÿ˜šðÿ˜šðÿ˜šðÿ˜š', 'salamat', 'shoppeeeeeee', 'ðÿ', '’', '–ðÿ', '’', '–ðÿ', '’', '–ðÿ', '’', '–ðÿ', '’', '–', 'salamat', 'jt', 'rider'], ['excited', 'akong', 'gamitin', 'charger', 'kaya', 'ginamit', 'agad', 'pagkadeliverhappy', 'kc', 'gumana', 'naman', 'fast', 'charger', 'nga', 'kaso', 'pangalawang', 'gamit', 'gumana', 'nilagay', 'ibang', 'adapter', 'cord', 'gumanaung', 'headset', 'ok', 'namn', 'nagana', 'naman', 'sana', 'tumagal'], ['gumagana', 'naman', 'po', 'salamat', 'seller', 'kaso', 'yung', 'headset', 'akala', 'katulad', 'nung', 'nsa', 'picture', 'ðÿ˜…sana', 'tumagal', 'binili'], ['thank', 'seller', 'ginamit', 'cia', 'kahit', 'matagal', 'dumating', 'yung', 'item', 'ok', 'naman', 'sulit', 'naman', 'thank', 'ðÿ˜š'], ['umiinit', 'yung', 'charger', 'pero', 'okay', 'naman', 'yung', 'earphones', 'parang', 'anytime', 'pede', 'sumabog', 'yung', 'charger', 'pero', 'syempre', 'mura', 'kasi'], ['item', 'shipped', 'immediately', 'mabilis', 'charge', 'pero', 'minsan', 'naman', 'ayaw', 'charge', 'topak', 'aslfnfkenkwldnfomanshsb'], ['okay', 'sana', 'pero', 'kulang', 'rubber', 'yung', 'headset', 'kaya', 'diko', 'magamit', 'didjsnidhdudhsbskzidjsusiskodhdhehsushshjss'], ['ok', 'naman', 'yung', 'item', 'ordered', 'two', 'chargers', 'tapos', 'yung', 'loose', 'part', 'loob', 'adaptor', 'hindi', 'sya', 'fast', 'charge', 'left', 'phone', 'charging', 'hour', 'half', '50', 'naging', '80', 'but', 'understandable', 'naman', 'price'], ['ok', 'naman', 'sana', 'kaso', 'yung', 'charger', 'hindi', 'maisaksak', 'yung', 'chord', 'yung', 'headset', 'naman', 'deffective', 'yung', 'ear', 'piece', 'sayang', 'naman', 'kasi', 'malakas', 'sana', 'yung', 'headset', 'kaso', 'sira'], ['maganda', 'po', 'sya', 'kaso', 'ngalang', 'po', 'magamit', 'sasakyan', 'nakaka', 'pang', 'hinayang', 'po', 'akala', 'po', 'kci', 'pwede', 'kabitan'], ['yung', 'earphone', 'okay', 'pero', 'yung', 'charger', 'una', 'fast', 'charge', 'tas', '2nd', 'day', 'wala', 'sobrang', 'bagal', 'charge', 'â˜¹ï¸\\x8f'], ['okay', 'packaging', 'good', 'happy', 'headset', 'but', 'charger', 'problem', 'charges', '5050'], ['not', 'recommended', 'item', 'madali', 'xa', 'init', 'ayan', 'nga', 'sumabog', 'free', 'headset', 'ok', 'namn', 'pero', 'charger', 'good'], ['mabilis', 'dumating', 'but', 'not', 'satisfied', 'item', 'kc', 'imbes', 'vivo', 'yung', 'usb', 'oppo', 'binigay', 'seller', 'but', 'ok', 'tnx', 'padin', 'seller', 'jnt', 'express'], ['hindi', 'gumagana', 'yung', 'adaptor', 'okay', 'naman', 'yung', 'wire', 'yung', 'earphone', 'sana', 'tinesting', 'muna', 'bago', 'ipadeliver', 'sana', 'po', 'mapalitan', 'kagad'], ['hindi', 'sya', 'ganun', 'fast', 'charger', 'talaga', 'pero', 'expect', 'price', 'mahalaga', 'packed', 'safe', 'okay', 'naman', 'yung', 'earphones', 'kasama', 'good'], ['sya', 'fast', 'charger', 'pero', 'okay', 'salamat', 'parin', 'seller', 'kudos', 'rider'], ['items', 'good', 'but', 'theres', 'packaging', 'except', 'pouch', 'courier'], ['product', 'okay', 'guess'], ['matagal', 'dumating', 'order', 'pero', 'okay', 'namnn', 'siyaokay', 'yung', 'packaging', 'pati', 'yung', 'deliveryman', 'kaso', 'hindi', 'naman', 'fast', 'charger', 'bilis', 'uminit', 'kailangan', 'bantayan', 'talaga', 'wala', 'pang', '2', 'minutes', 'sobrang', 'init', 'hope', 'magtagal', 'thank', 'anyway'], ['okay', 'naman', 'sya', 'lahat', 'gumaganaðÿ™‚'], ['mali', 'yung', 'charger', 'nabigay', 'yung', 'charger', 'pin', 'maganda', 'sana', 'ðÿ˜', '”', 'ðÿ˜', '”', 'ðÿ˜', '”', 'ðÿ˜', '”', 'ðÿ˜', '”'], ['not', 'fast', 'but', 'guess', 'fine'], ['ok', 'po', 'sya'], ['charger', 'cable', 'okay', 'working', 'well', 'but', 'adapter', 'quite', 'problem', 'pero', 'ok', 'price', 'tsaka', 'yung', 'free', 'earphone', 'quite', 'good'], ['ok', 'naman', 'sya'], ['ok', 'packaging', 'deliver', 'sana', 'magtagal', 'sya'], ['okay', 'yung', 'earphones', 'pero', 'yung', 'charger', 'sira', 'agad', 'wala', 'pang', 'one', 'week'], ['maganda', 'naman', 'po', 'yung', 'item', 'free', 'kaso', 'ambagal', 'po', 'magcharge'], ['hindi', 'sya', 'fast', 'charger', 'bagal', 'hayts', 'pero', 'okay', 'mura', 'naman', 'eh'], ['ok', 'sana', 'kaya', 'color', 'earphone', 'actual', 'lalaki', 'naman', 'gagamit'], ['okay', 'naman', 'una', 'kaso', 'bigla', 'gumana', 'yung', 'adaptor'], ['fast', 'charger', 'nga', 'sya', 'pero', 'magaan', 'pakiramdam', 'madali', 'masira'], ['okay', 'naman', 'mabilis', 'kaso', 'yung', 'charger', 'sumabog', 'pero', 'nagagamit', 'naman', 'yung', 'kasi', '2pcs', 'yung', 'inorder'], ['mabilis', 'uminit', 'yung', 'charger', 'good', 'quality', 'naman', 'yung', 'earphone', 'kaso', 'hindi', 'fast', 'charging', 'yung', 'charger'], ['ok', 'nmn'], ['maganda', 'sya', 'working', 'naman', 'yung', 'charger', 'kaso', 'slot', 'nung', 'usb', 'port', 'gumagana', 'earphone'], ['ayos', 'ayos', 'pagkadating', 'palang', 'ginamit', 'maganda', 'sya', 'fast', 'charger', 'sya', 'gumagana', 'lahat', 'pati', 'headset', 'maraming', 'salamat', 'mura', 'pero', 'sulit', 'talagaðÿ˜šðÿ˜šðÿ˜šðÿ˜šâ\\x9d¤', 'dko', 'napicturan', 'kc', 'ginagamit', 'hheehe'], ['maayos', 'po', 'packagingkaya', 'po', 'nagtataka', 'po', 'ayaw', 'pumasok', 'charger', 'cp', 'kokaya', 'po', 'nagamitearphone', 'po', 'magagamit', 'kopero', 'salamat', 'po', 'seller'], ['okay', 'lng', 'dalawa'], ['3', 'stars', 'oppo', 'yung', 'cp', 'tapos', 'samsung', 'yung', 'earphone', 'kaya', 'hina', 'pero', 'yung', 'charger', 'oppo', 'naman', 'ðÿ', '‘', '\\x8dðÿ', '‘', '\\x8dðÿ', '‘', '\\x8d'], ['ok', 'charger', 'headsetðÿ˜€ðÿ', '‘', '\\x8d'], ['ok', 'sana', 'eh', 'kaso', 'ayusin', 'nio', 'item', 'niyo', 'updaye', 'nio', 'palagi', 'buyer', 'ndi', 'iintayin', 'nio', 'buyer', 'uppdate'], ['gumagana', 'naman', 'medyo', 'maayos', 'yung', 'packagin', 'hindi', 'fast', 'charger', 'yung', 'price', 'tama', 'naman', 'use'], ['2', 'stars', 'kasi', 'buy', '199', 'worth', 'items', 'free', 'shipping', 'worth', '55', '209', 'nga', 'bili', 'tatlonaminus', 'yung', '5peso', 'voucher', 'coins', 'hindi', 'free', 'shipping', 'sinabay', '77', 'sale', 'pero', 'hindi', 'free', 'shipping', 'okay', 'naman', 'product', 'yupi', 'yung', 'packaging'], ['medyo', 'natuwa', 'expect', 'kasi', 'official', 'store', 'kaya', 'akala', 'maganda', 'item', 'hehe', 'pero', 'bilis', 'uminit', 'nung', 'adaptor', 'wala', 'pang', '5', 'mins', 'hehehe', 'pero', 'salamat', 'shopee'], ['adapter', 'okay', 'but', 'cable', 'not', 'quality', 'expected', 'because', 'low', 'price', 'good', 'thing', 'charger', 'working', 'hope', 'last', 'long', 'time'], ['ok', 'naman', 'pero', 'sobrang', 'bagal', 'charge', 'damaged', 'charger', 'pero', 'ok', 'pricethank', 'seller'], ['ok', 'naman', 'sya', 'shipped', 'time', 'not', 'fast', 'charging', 'normal', 'nakakatakot', 'kc', 'umiinit', 'sya', '1', 'nakasaksak', 'init2', 'kaya', 'tinanggal', 'pagkakaplug', 'unlike', 'charger', 'comes', 'cellphone', 'bumili', 'ginamit', 'wire', 'original', 'charger', 'phone'], ['okay', 'naman'], ['too', 'small', 'huhu', 'but', 'working', 'fine', 'theres', 'also', 'freebies', 'earphones'], ['ineexpect', 'ganito', 'sya', 'kaliit', 'kanipis', 'pero', 'ok', 'thank', 'sjsjwsjshshah', 'sjsjajaha', 'djsjekwns', 'sjwjwjan', 'ejejwjah', 'ejejajab', 'ejejan'], ['maganda', 'sana', 'working', 'namn', 'sya', 'kumpleto', 'pero', 'wlang', 'backlight', 'keyboard', 'kahit', 'press', 'scroll', 'lock', 'namn', 'video', 'light', 'mcbook', 'nababago', 'hahaa', 'kaloka', 'unresponsive', 'seller', 'ok', 'mura', 'namn', 'eh', 'pero', 'mabilis', 'deliver', 'pwede'], ['okay', 'naman', 'po', 'yung', 'packaging', 'yung', 'keyboard', 'gumagana', 'pero', 'yung', 'mouse', 'po', 'ayaw', 'click', 'rightdi', 'nagana', 'ðÿ˜¢sana', 'po', 'chineck', 'bago', 'ship'], ['three', 'stars', 'kasi', 'parcel', 'damage', 'break', 'konti', 'naman', 'pero', 'gumagana', 'naman', 'mouse', 'keyboard'], ['okay', 'naman', 'pero', 'sure', 'ginagalaw', 'mouse', 'tsaka', 'lalakas', 'ilaw', 'okay', 'price', 'medyo', 'matagal', 'naiship', 'pero', 'okay'], ['okay', 'po', 'yung', 'mouse', 'love', 'â\\x9d¤', 'pero', 'yung', 'keyboard', 'okay', 'sana', 'kaso', 'balance', 'nilagay', 'table', 'po', 'adjust', 'kasi', 'sayang', 'naman', 'ðÿ˜œ', 'sana', 'maayos', 'niyo', 'yung', 'keyboard', 'hehe'], ['ganda', 'sana', 'product', 'kaso', 'wrong', 'item', 'nareceived', 'tsk', 'but', 'goods', 'naman', 'yung', 'items', 'tested'], ['excited', 'immediately', 'fell', 'love', 'stunning', 'colors', 'mouse', 'keyboard', 'functional', 'bit', 'disappointing', 'long', 'crack', 'across', 'keyboard'], ['okay', 'naman', 'hindi', 'gumagana', 'light', 'keyboard', 'well', 'packaged', 'naman'], ['giving', '3', 'star', 'not', 'checking', 'products', 'first', 'sending', 'customers', 'seller', 'well', 'accommodating', 'buyergood', 'job'], ['3', 'star', 'okay', 'yung', 'mouse', 'umiilaw', 'kaso', 'yung', 'keyboard', 'ayaw', 'umilawðÿ˜¥kahit', 'set'], ['sorry', 'late', 'rating', 'overall', 'ok', 'naman', 'packaging', 'pero', 'damage', 'yung', 'mouse', 'hard', 'click', 'yung', 'right', 'hirap', 'controllin', 'mahina', 'sensitivity', 'surface', 'tapus', 'yung', 'keyboard', 'tanggal', 'letter', 'pero', 'ok', 'gumagana', 'naman'], ['ok', 'naman', 'yung', 'keyboard', 'mouse', 'walang', 'sira', 'complete', 'maayos', 'box', 'maganda', 'bubble', 'wrap', 'mali', 'yung', 'color', 'light', 'kasi', 'black', 'pink', 'po', 'inorder', 'pero', 'dumating', 'blue', 'white', 'gasgas', 'maliliit', 'mejo', 'tabingi', 'yung', 'naka', 'dikit', 'silicone', 'â˜¹ï¸\\x8fðÿ˜©'], ['okay', 'naman', 'kaya', 'ordered', 'black', 'white', 'set', 'parehong', 'black', 'yung', 'pinadala', 'seller', 'excited', 'naman', 'kasi', 'gustong', 'gusto', 'yung', 'white', 'sana', 'nagmessage', 'available', 'napalitan'], ['okay', 'naman', 'lahat', 'gumagana', '3star', 'kasi', '1month', 'bago', 'iship', 'tapos', 'tagal', 'reply', 'seller', 'expected', 'dadating', 'mouse', 'pero', 'dumating', 'dalawang', 'keyboard', 'dalawang', 'mouse', 'ðÿ˜ª', 'tagal', 'nga', 'reply', 'iship', 'tapos', 'mali', 'pinadala', 'anong', 'keyboard'], ['okay', 'naman', 'sya', 'nung', 'una', 'kalanamin', 'sira', 'kasi', 'hindi', 'umiilaw', 'pero', 'umilaw', 'sya', '3', 'star', 'kasi', 'hirap', 'paliwanagan', 'rider', 'basta', 'nabwiset'], ['3', 'star', 'kasi', 'malaking', 'crack', 'buti', 'gumagana', 'naman', 'poor', 'packaging', 'one', 'layer', 'bubble', 'wrap', 'walang', 'styro', 'foam', 'loob', 'box', 'more', 'one', 'month', 'yung', 'order', 'bago', 'dumating', 'pero', 'sulit', 'presyo', 'mouse', 'sana', 'tumagal'], ['okay', 'naman', 'po', 'yung', 'keyboard', 'gumagana', 'pero', 'yung', 'mouse', 'nakaka', 'disappoint', 'kase', 'siyang', 'freebie', 'keyboard', 'hindi', 'gumagana', 'pinindot', 'mo', 'yung', 'right', 'click', 'check', 'video', 'nalang', 'po', 'sana', 'set', 'ganito', 'icheck', 'niyo', 'yung', 'items', 'lahat', 'gumagana', 'hays'], ['keys', 'working', 'including', 'mouse', 'lights', 'keyboard', 'crack', 'back'], ['ok', 'sya', 'gumagana', 'expected', 'seller', 'due', 'pandemic', '1', '2', 'weeks', 'sya', 'pero', 'dumating', 'sakin', 'wala', '1', 'week', 'yung', 'mouse', 'medyo', 'problem', 'kasi', 'maayos', 'konti', 'yung', 'wiring', 'pero', 'medyo', 'goods', 'naman'], ['hindi', 'umiilaw', 'yung', 'keyboard', 'sayangðÿ˜', '”', 'pero', 'okay', 'naman'], ['ordered', 'white', 'one', 'pero', 'black', 'dumating', 'hays', 'buti', 'nalang', 'gumagana', 'hindi', 'defective', 'sana', 'susunod', 'oorder', 'sainyo', 'honest', 'kayo', 'stock', 'kayo', 'wala'], ['okay', 'namn', 'yung', 'product', 'nga', 'yung', 'led', 'light', 'keyboard', 'not', 'working', 'ðÿ™\\x81ðÿ™\\x81'], ['ok', 'naman', 'sya', 'magaan', 'yung', 'keyboard', 'kaya', 'basag', 'yung', 'escape', 'key', 'overall', 'ok', 'naman', 'sya', 'yung', 'mouse', 'ok', 'naman', 'magaan', 'issue', 'yung', 'escape', 'key'], ['ok', 'po', 'mouse', 'pero', 'key', 'board', 'defective', 'ðÿ˜', 'ðÿ˜', 'ðÿ˜'], ['gumagana', 'yung', 'keyboard', 'pero', 'umiilaw'], ['maganda', 'sya', 'kaso', 'nga', 'lng', 'minsan', 'minsan', 'ayaw', 'gumana', 'sla', 'namamatay', 'yung', 'ilaw'], ['excellent', 'naman', 'yung', 'item', 'pero', 'delivery', 'tagal', 'almost', '1month', 'hintay'], ['very', 'good', 'product', 'took', 'too', 'long', 'get', 'delivered', 'though'], ['ok', 'yung', 'keyboard', 'soft', 'keys', 'kaso', 'mejo', 'curve', 'sya', 'crack', 'konte', 'hsband', 'pwde', 'naman', 'daw', 'isauli', 'wag', 'nagagamit', 'parin', 'naman', 'nice', 'naman', 'mouse', 'kaso', 'blinking', 'yung', 'ilaw', 'yung', 'mousepad', 'okay', 'okay', 'sana', 'next', 'time', 'mas', 'makapal', 'yung', 'packaging', 'thanks'], ['3', 'stars', 'working', 'naman', 'pero', 'sure', 'lahat', 'keyboard', 'ganito', 'kasi', 'yung', 'upper', 'part', 'mahina', 'ilaw', 'yung', 'mouse', 'naman', 'maluwag', 'tapos', 'maliliit', 'part', 'natanggal', 'pero', 'gumagana', 'maluwag', 'talaga', 'siguro', 'ayusin', 'tsaka', 'dahandahan', 'baka', 'masira', 'yung', 'loob'], ['3', 'stars', 'keyboard', 'wire', 'working', 'perk', 'itape', 'kasi', 'gumagana', 'nakalaylay', 'lahat', 'mouse', 'not', 'working', 'chinat', 'seller', 'kaso', 'nireply', 'regarding', 'sinabi', 'not', 'working', 'mouse'], ['appearance', 'okay', 'lights', 'okay', 'but', 'quality', 'not', 'good', 'maybe', 'fit', 'price', 'but', 'hard', 'time', 'pressing', 'keys', 'coz', 'too', 'sensitive', 'nagdodouble', 'letters', 'clicking', 'though', 'already', 'adjusted', 'keyboard', 'setting', 'laptop'], ['maganda', 'sana', 'sya', 'kaso', 'pagkabukas', 'bubble', 'wrap', 'ganyan', 'tumanbad', 'sakin', 'tapos', 'sira', 'pindutan', 'buti', 'nakkaabit', 'lng'], ['madilim', 'gano', 'yung', 'letters', 'kahit', 'naka', 'ilaw', 'sobra', 'tagal', 'delivery', 'shopee', 'express', 'tulad', 'jt', '1day'], ['love', 'keyboard', 'ganda', 'desk', 'sakto', 'pang', 'schoolworks', '3', 'maayos', 'naman', 'dumating', 'lahat', 'kaso', 'yung', 'mouse', 'mali', 'binigay', 'ordered', 'white', 'po', 'pero', 'yung', 'black'], ['maganda', 'naman', 'but', 'crack', 'yung', 'keyboard', 'upper', 'part'], ['okay', 'naman', 'product', 'kaso', 'scroll', 'hindi', 'gumagana'], ['nakapag', 'rate', 'pero', 'matgaal', 'dumating', 'sakin', 'items', 'hindi', 'po', 'nailaw', 'yung', 'keyboard', 'ndeliver'], ['maganda', 'sya', 'madali', 'mapindot', 'keyboard', 'kaya', 'hindi', 'gumagana', 'not', 'functioning', 'very', 'well', 'ibang', 'keyboard', 'gaya', 'nalang', 'crtl'], ['cute', 'sya', 'pero', 'umilaw', 'keyboard', 'ðÿ˜©', 'yung', 'mouse', 'umiilaw'], ['okay', 'laging', 'hindi', 'maayos', 'nang', 'mouse'], ['working', 'but', 'keyboard', 'doesnt', 'light'], ['black', 'set', 'yung', 'binili', 'pero', 'white', 'set', 'yung', 'binigay', 'pero', 'nagana', 'naman', 'lahat', 'keys', 'sana', 'tumagal'], ['okey', 'sana', 'kaso', 'hindi', 'wowork', 'yung', 'ilaw', 'keyboard'], ['yung', 'keyboard', 'po', 'ilaw', 'pero', 'yung', 'mouse', 'okay', 'naman'], ['photo', 'not', 'related', 'but', 'swear', 'itâ€™s', 'working', 'itâ€™s', 'legita', 'little', 'bit', 'smaller', 'expect', 'but', 'good', 'got', 'free', 'earphone', '5', 'star', 'good', 'mouse', 'keyboard', 'thanks'], ['ordered', '10inch', 'keyboard', 'but', 'received', '7inch', 'only', 'far', 'parang', 'okey', 'naman', 'sana', 'tumagal'], ['kinda', 'nice', 'but', '3mins', 'mong', 'hindi', 'nagagamit', 'nadidisconnect', 'but', 'easy', 'connect', 'nmn'], ['ok', 'working', 'well', 'phone', 'laptop', 'siguro', 'dapat', 'binili', 'yung', '10in', 'masyado', 'nagadjust', 'pagtatype', 'pero', '7in', 'works', 'fine', 'comes', 'mouse', 'well', 'ok', 'nagexpect', 'box', 'pero', 'yung', 'mouse', 'meron', 'overall', 'okay', 'naman'], ['mouse', 'good', 'keyboard', 'not'], ['ok', 'nmn', 'kaso', 'alm', 'paaano', 'gagotin', 'yung', 'mouse'], ['sira', 'pero', 'gumagana', 'naman'], ['okay', 'naman', 'lahat', 'gumagana', 'except', 'mouse', 'hays', 'most', 'probably', 'eto', 'gamitin', 'pero', 'syaa', 'gumagana'], ['poor', 'packaging', 'nice', 'products'], ['maliit', 'yung', 'keyboard', 'medjo', 'nahihirapan', 'gamit', 'malayo', 'yung', 'buttons', 'symbol', 'compared', 'standard', 'use', 'keyboard', 'maganda', 'yung', 'mouse'], ['thankyou'], ['product', 'good', 'but', 'not', 'compatible', 'android', 'phones', 'like', 'realme', 'case', 'phone', 'realme', 'c25', 'wasnt', 'working', 'bit', 'disappointed', 'since', 'excited', 'item', 'but', 'turned', 'disappointment', 'realme', 'users', 'not'], ['pwede'], ['okey', 'beautiful', 'but', 'back', 'delete', 'boton', 'not', 'working'], ['okay', 'naman', 'minsan', 'gumagana', 'yung', 'keyboard'], ['ok', 'naman', 'kaso', 'yung', 'packaging', 'napaka', 'nipis', 'naka', 'plastic', 'yung', 'keyboard', 'wala', 'bubble', 'wrap', 'manipis', 'plasticbuti', 'nalang', 'hindi', 'nasira'], ['ok', 'naman', 'pero', 'iniisip', 'hindi', 'gumagana', 'messanger', 'yung', 'type', 'pero', 'over', 'ok', 'naman', 'yung', 'product', 'talaga', 'pinag', 'tatakhan'], ['very', 'well', 'good', 'but', 'date', 'delivery', 'late', 'masya', 'actually', 'dapat', 'nung', 'okay', '20pa', 'kaso', 'ngayun', 'dumating', 'ðÿ˜¢ðÿ˜¢'], ['ok', 'nmn', 'keyboard', 'umaandar', 'mouse'], ['okay', 'sana', 'kaso', 'sira', 'keyboard'], ['ok', 'naman', 'sana', 'kaso', 'pink', 'mouse', 'dapat', 'color', 'black', 'ðÿ™„ðÿ™„'], ['keyboard', 'mouse', 'definitely', 'works', 'but', 'kinda', 'disappointed', 'because', 'thought', '10', 'inch', 'keyboard', 'smaller', 'but', 'okay'], ['ok', 'naman', 'yung', 'product', 'pero', 'mali', 'yung', 'binigay', 'design', 'sakin'], ['okay', 'naman', 'kaso', 'walang', 'charger', 'huhu', 'maganda', 'pagkakapack', 'buti', 'hindi', 'sira', 'nung', 'dumating'], ['okay', 'naman', 'packaging', 'maayos', 'naman', 'deliver', 'kaya', 'nagana', 'side', 'numbers'], ['okay', 'naman', 'kumpleto', 'yung', 'keys', 'tulad', 'nung', 'remarks', 'nung', 'kaso', 'same', 'karamihan', 'low', 'ratings', 'wrong', 'color', 'yung', 'dumating', 'pero', 'wala', 'time', 'return', 'wala', 'palang', 'yung', 'parang', 'pang', 'elevate', 'slight', 'pero', 'ok', 'mura', 'eh'], ['okay', 'naman', 'item', 'halatang', 'cheap', 'material', 'gamit', 'pero', 'cheap', 'naman', 'talaga', 'kaya', 'okay', 'issue', 'hindi', 'dinouble', 'check', 'item', 'bago', 'iship', 'nakalubog', 'yung', 'number', '7', 'hindi', 'mapindot'], ['well', 'packaged', 'ganda', 'kulay', 'malambot', 'keys', 'although', 'noticed', 'keys', 'hindi', 'smooth', 'gamitin', 'esp', 'playing'], ['quite', 'okay', 'got', 'paid', 'working', 'but', 'keys', 'especially', 'shift', 'key', 'keep', 'getting', 'stuck'], ['okay', 'naman', 'sana', 'yung', 'keyboard', 'hindi', 'gumagana', 'tapos', 'hindi', 'nagrereply', 'yung', 'seller', 'pano', 'ibabalik', 'eh', 'wala', 'nagaappear', 'return', 'refund', 'paasikaso', 'irereport', 'kayo'], ['okay', 'naman', 'â€˜yong', 'item', 'kaso', 'sobrang', 'tagal', 'madeliver', 'tapos', 'hindi', 'nagrereply', 'seller', 'april', '17', 'order', 'ngayon', 'dumating', 'nakailang', 'chat', 'wala', 'reply'], ['okay', 'sana', 'pero', 'letters', 'nagdodoble', 'everytime', 'pinipindot', 'sya', 'sayang', 'maganda', 'kulay'], ['ok', 'naman', 'pero', 'keys', 'ayaw', 'magfunction', 'minsan'], ['ok', 'naman', 'nakarating', 'agad', 'kaso', 'white', 'order', 'green', 'dumating', 'sana', 'pla', 'wala', 'pagpipilian', 'pla', 'masusunod'], ['ok', 'sana', 'item', 'kaya', 'lng', 'nabiyak', 'gitna', 'yung', 'keyboard', 'siguro', 'pagdeliver'], ['okay', 'siyaaa', 'magandaaa', 'kaso', 'yung', 'nareceive', 'pink', 'kulay', 'inorder', 'light', 'blue', 'ðÿ˜œ'], ['product', 'amazing', 'but', 'delivery', 'time', 'package', 'crazy', 'expecting', 'headphone', 'giveaway', 'but', 'anyways', 'product', 'good', 'thanks'], ['ok', 'rinkaso', 'maluwang', 'sakinfeeling', 'mahal', 'xa', 'price', 'nyasalamat', 'kc', 'mabilis', 'naman', 'naideliver'], ['ok', 'pede', 'pagtyagaan', 'kaso', 'sana', 'box', 'lagayan', 'pen', 'deliver', 'wala', 'ðÿ˜…'], ['okay', 'yung', 'stylus', 'matagal', 'dumating', 'pero', 'nadisappoint', 'kasi', 'libreng', '2', 'usb', 'hub', 'pero', 'eto', 'dumating'], ['okie', 'naman', 'kaya', 'confused', 'po', 'gift'], ['okay', 'naman', 'gumagana', 'pero', 'scam', 'yung', 'freebies', 'lol'], ['item', 'okay', 'considering', 'price', 'pretty', 'good', 'naman', 'youre', 'only', 'using', 'taking', 'notes', 'digitally', 'but', 'youre', 'using', 'digital', 'art', 'experience', 'lines', 'turned', 'bit', 'wobbly', 'but', 'guess', 'needs', 'time', 'get', 'used'], ['okay', 'sana', 'nakaka', 'disappointed', 'sira', 'ðÿ¤¦ðÿ\\x8f', '»', 'â€\\x8dâ™€ï¸\\x8f'], ['okay', 'not', 'best', 'but', 'okay', 'price', 'guess', 'planning', 'use', 'writing', 'down', 'notes', 'ipad', 'but', 'use', 'highlighting', 'readings', 'haha'], ['okay', 'naman', 'yung', 'item', 'pero', 'yung', 'box', 'yupi', 'yupi', 'poor', 'packaging'], ['pigmented', 'sya', 'hmmm', 'okay', 'ahhauwnajsjansnsjajakaoaksnsnsbsbsbahanabsbshanabzbzbahbabsbbsbsbsbsbsbsbbsb', 'tagal', 'talaga', 'iship'], ['ordered', '1', 'seller', 'said', 'stock', 'sent', '2', 'didnt', 'ship', 'immediately', 'but', 'arrived', 'wellpacked', 'quality', 'ok', 'ðÿ', '‘', 'œ'], ['hindi', 'pigmented', 'needs', 'lot', 'see', 'difference', 'siguro', 'okay', 'product', 'natural', 'looks', 'subtle', 'make', 'lalong', 'lalo', 'ahades', 'pinili', 'hindi', 'kumakapit', 'color', 'brushes'], ['dumating', 'finally', 'sobrang', 'tagal', 'bago', 'nadeliver', 'inabot', 'more', '3weeks', '5', 'times', 'follow', 'customer', 'service', 'infairness', 'seller', 'bilis', 'naship', 'problema', 'yung', 'courier', 'overall', 'ok', 'naman', 'yung', 'products', 'maliit', 'yung', 'size', 'mabango', 'hindi', 'amoy', 'usual', 'makeup'], ['pigment', 'not', 'satisfy', 'but', 'fine', 'more', 'bronzer', 'blush', 'contour', 'but', 'love', 'packaging', 'over', 'thank', 'till', 'next', 'transaction'], ['sobrang', 'powdery', 'hindi', 'pigminted', 'ðÿ˜', '’', 'pero', 'rest', 'order', 'maganda', 'ty', 'seller', 'ps', 'sorry', 'walang', 'pic', 'pagong', 'cignal'], ['canr', 'believe', 'perfectly', 'wrap', 'safe', 'packaging', 'but', 'product', 'broken', 'huh'], ['maganda', 'kaso', 'sira', 'item', 'napunta', 'saakin'], ['doesnt', 'smell', 'very', 'well', 'not', 'pigmented', 'but', 'good', 'price', 'thanks', 'seller'], ['nice', 'but', 'not', 'pigmented', 'ðÿ˜', '”'], ['not', 'pigmented', 'but', 'still', 'works'], ['ok', 'naman', 'yung', 'packaging', 'kaso', 'nadurog', 'mabilis', 'dumating'], [], ['find', 'quality', 'poor', 'but', 'itâ€™s', 'reasonable', 'cause', 'price'], ['product'], ['okay', 'product', 'okay', 'price', 'talaga', 'kaya', 'siguro', 'mejo', 'mura', 'kasi', 'maliit', 'sad', 'kasi', 'sobrang', 'sabog', 'kasi', 'durog', 'pero', 'okay', 'expiration', '2024'], ['okay', 'quality', 'price', 'not', 'expect', 'much', 'product', 'smaller', 'expected', 'but', 'itll', 'work'], ['disappointed', 'tagal', 'nga', 'delivery', 'damage', 'but', 'cute', 'thanks', 'sana', 'better', 'check', 'niyo', 'muna', 'items', 'ship', 'khit', 'naka', 'bubble', 'wrap', 'ðÿ¤§â\\x9d¤ï¸\\x8f'], ['got', 'wrong', 'color', 'delivery', 'took', 'time', 'too', 'although', 'item', 'good', 'quality', 'really', 'affordable', 'thank', 'seller'], ['okay', 'naman', 'sya', 'complete', 'orders', 'pero', 'maayos', 'yung', 'pack', 'nasira', 'yung', 'ibang', 'items', 'fast', 'deliver'], ['slow', 'shipping', 'sobrang', 'bagal', 'madeliver', 'nakalimutan', 'order', 'ðÿ˜‚', 'pero', 'ok', 'kumpleto', 'naman', 'items', 'salamat', 'last', 'ðÿ˜‚'], ['antagal', 'delivery', 'pero', 'oks', 'since', 'galing', 'overseas', 'amoy', 'pentlepen', 'sya', 'antapang', 'masakit', 'ilong', 'madali', 'sya', 'gamitin'], ['ayos', 'naman', 'kaso', 'kumakalat', 'okay', 'price', 'thank', 'thank', 'thank', 'thank', 'thank', 'thnak', 'thank'], ['okay', 'sana', 'yung', 'product', 'maganda', 'naman', 'kaso', 'pinack', 'maayos', 'seller', 'basta', 'nilagyan', 'plastic', 'kaya', 'naman', 'yupi', 'yupi', 'yung', 'box', 'pagdating', 'sakin', 'kaya', 'mas', 'lash', 'nasira', 'naman', 'pictures', 'pero', 'kaya', 'naman', 'siguro', 'ayusin', 'sana', 'next', 'time', 'ayusin', 'pagkapack'], ['maayos', 'naman', 'pong', 'dumating', 'kumpleto', 'kaso', 'paramg', 'sobrang', 'liquidy', 'ewan', 'okay', 'sya', 'kasi', 'first', 'time', 'bumili', 'eyeliner'], ['mabilis', 'mabura', 'sobrang', 'bilis', 'maputol', 'nabagsak', 'mo', 'yung', 'product', 'pero', 'syempre', 'mura', 'kaya', 'ieexpect', 'talaga', 'natin', 'yung', 'ganong', 'bagay', 'pero', 'thankyou', 'seller'], ['item', 'well', 'packed', 'damaged', 'although', 'try', 'tested', 'too', 'wet', 'ðÿ¥ºðÿ˜', '”', 'but', 'ok', 'nalng', 'thank', 'po', 'ðÿ™‚'], ['not', 'good', 'but', 'not', 'bad', 'want', 'good', 'quality', 'makeup', 'better', 'buy', 'drugstore', 'makeups', 'since', 'good', 'reviews', 'surely', 'not', 'hard', 'skin', 'much'], ['good', 'packaging', 'but', 'mabilis', 'smudge', 'masyado', 'watery', 'pero', 'waterproof', 'haha', 'nice', 'didnt', 'expect', 'edit', 'eating', 'iâ€™ce', 'tried', 'tested', 'eyeliner', 'thanks'], ['okkk', 'lng'], ['okay', 'price', 'not', 'waterproof', 'but', 'fine', 'madaling', 'tanggalin', 'sana', 'marami', 'siyang', 'laman', 'llll'], ['okkkkkkkkkkkkkkkkkkkkkkkkkkkkkkkkkkkkkkkkkkkkkk', 'hehdjwndnsjdbkandlaxoanzknwnzbakxny'], ['nagkakalat', 'sya', 'okay', 'price', 'sya', 'arc', 'pero', 'keri', 'kelangan', 'ayusin', 'tulong', 'cotton', 'buds', 'yung', 'arc', 'stamp', 'okay'], ['medyo', 'mahirap', 'iapply', 'parang', 'malabnaw', 'kasi', 'inaapply', 'kahit', 'dot', 'kumakalat', 'yung', 'eye', 'liner', 'nagssmudge', 'pero', 'okay', 'pang', 'practice', 'thank', 'seller', 'shopee'], ['okay', 'naman', 'sya', 'medj', 'madale', 'matagtag', 'sorna', 'nde', 'maalam', 'pero', 'pagaaralan', 'hahahha'], ['madaling', 'mabura', 'but', 'like', 'stamp', 'thanks', 'matagal', 'nga', 'dumating', 'thanks', 'padin', 'po'], ['okay', 'naman', 'sya', 'gusto', 'yung', 'amoy', 'kasi', 'mabaho', 'marker', 'marker', 'yung', 'amoy', 'matagal', 'dumating', '6', 'days', 'receive', 'but', 'ok', 'well', 'packed'], ['ok', 'rinok', 'rinok', 'rinok', 'rinok', 'rinok', 'rinok', 'rinok', 'rinok', 'rinok', 'rinok', 'rinok', 'rinok', 'rinok', 'rinok', 'rinok', 'rinok', 'rinok', 'rinok', 'rinok', 'rinok', 'rinok', 'rinok'], ['ok', 'naman', 'kaso', 'soft', 'tip', 'parang', 'tagal', 'parang', 'papangit', 'yung', 'tip', 'overall', 'maganda', 'naman', 'yung', 'product', 'matagal', 'nga', 'dumating'], ['okay', 'sana', 'kaso', 'sira', 'yung', 'tip', 'tapos', 'makalat', 'sya', 'sobrang', 'ink'], ['medyo', 'parang', 'onti', 'pero', 'ok', 'naman', 'sya', 'thank', 'seller', 'ï¸ž', 'ï¸ž', 'ï¸ž', 'ï¸ž', 'ï¸ž', 'ï¸ž', 'ï¸ž', 'ï¸ž', 'ï¸ž', 'ï¸ž', 'ï¸ž', 'ï¸ž', 'ï¸ž', 'ï¸ž', 'ï¸ž', 'ï¸ž', 'ï¸ž', 'ï¸ž', 'ï¸ž', 'ï¸ž', 'ï¸ž', 'ï¸ž', 'ï¸ž', 'ï¸ž', 'ï¸ž', 'ï¸ž', 'ï¸ž', 'ï¸ž', 'ï¸ž', 'ï¸ž', 'ï¸ž', 'ï¸ž', 'ï¸ž', 'ï¸žï¸ž', 'ï¸ž', 'ï¸ž', 'ï¸ž', 'ï¸ž', 'ï¸ž', 'ï¸ž', 'ï¸ž', 'ï¸ž', 'ï¸ž', 'ï¸ž', 'ï¸ž', 'ï¸ž', 'ï¸ž', 'ï¸ž', 'ï¸ž', 'ï¸ž', 'ï¸ž', 'ï¸ž', 'ï¸ž', 'ï¸ž', 'ï¸ž', 'ï¸ž', 'ï¸ž', 'ï¸ž', 'ï¸žï¸ž', 'ï¸žï¸ž', 'ï¸ž', 'ï¸ž', 'ï¸ž', 'ï¸ž', 'ï¸ž', 'ï¸ž', 'ï¸ž', 'ï¸ž', 'ï¸ž', 'ï¸ž', 'ï¸ž', 'ï¸ž', 'ï¸ž', 'ï¸ž', 'ï¸ž', 'ï¸ž', 'ï¸ž', 'ï¸ž', 'ï¸ž', 'ï¸ž', 'ï¸ž', 'ï¸ž', 'ï¸ž', 'ï¸ž', 'ï¸ž', 'ï¸ž', 'ï¸ž', 'ï¸ž', 'ï¸ž', 'ï¸ž', 'ï¸ž', 'ï¸ž', 'ï¸ž', 'ï¸ž', 'ï¸ž', 'ï¸ž', 'ï¸ž', 'ï¸žï¸ž', 'ï¸ž', 'ï¸ž', 'ï¸ž', 'ï¸ž', 'ï¸ž', 'ï¸ž', 'ï¸ž', 'ï¸ž', 'ï¸ž', 'ï¸ž', 'ï¸ž', 'ï¸ž', 'ï¸ž', 'ï¸ž', 'ï¸ž', 'ï¸ž', 'ï¸ž', 'ï¸ž', 'ï¸ž', 'ï¸ž', 'ï¸ž'], ['ok', 'naman', 'pero', 'amoy', 'marker', 'tas', 'ambilis', 'mã', 'bura', 'bagal', 'dumating'], ['okay', 'namn', 'po', 'yung', 'product', 'hahhahahahhaha', 'kaso', 'alala', 'marunong', 'eyeliner', 'tas', 'pasmado', 'kamay', 'hahahhahahah', 'pero', 'oks', 'namnðÿ˜\\xadðÿ˜\\xad'], ['oki', 'pi'], ['maganda', 'sana', 'kaso', 'mabilis', 'mabura'], ['okay', 'naman', 'kaso', 'waterproof'], ['maganda', 'pero', 'maliit', 'maganda', 'pero', 'maliit', 'maganda', 'pero', 'maliit', 'maganda', 'pero', 'maliit', 'maganda', 'pero', 'maliit', 'maganda', 'pero', 'maliit', 'maganda', 'pero', 'maliit', 'maganda', 'pero', 'maliit', 'maganda', 'pero', 'maliit', 'maganda', 'pero', 'maliit'], ['ok', 'lng', 'yung', 'product', 'masyadong', 'watery', 'yung', 'consistency', 'product'], ['maganda', 'naman', 'syaa', 'kaso', 'mabilis', 'sya', 'kumalat', 'agad', 'super', 'tagal', 'dumating', 'haha'], ['okay', 'price', 'pero', 'parang', 'pentel', 'pen', 'ðÿ¤¦'], ['oks', 'naman', 'kaso', 'kumakalat', 'pero', 'sakto', 'kasi', 'mura', 'naman'], ['ok', 'sya'], ['ok', 'naman', 'mabilis', 'matuyo', 'yung', 'ink', 'nung', 'product', 'kaya', 'parang', 'mastamp', 'mata'], ['okay', 'beginner', 'kasi', 'kumakalat', 'yung', 'ink', 'not', 'smudge', 'proof'], ['okay', 'naman', 'marunong', 'apply', 'maayos'], ['although', 'okay', 'naman', 'tagal', 'naman', 'sana', 'nagbigay', 'mas', 'bago', 'madaling', 'magexpire', 'mejo', 'matagal', 'shipping', 'pero', 'okay'], ['thank', 'seller', 'thank', 'thank', 'ok', 'yung', 'blush', 'pero', 'parang', 'something', 'ðÿ¤', '”', 'yung', 'lipstick', 'sama', 'lasa', 'god', 'made', 'heaven', 'earth', 'rest', 'made', 'china', 'lord', 'tama', 'po', 'fake', 'product'], ['maganda', 'mabango', 'nmn', 'cia', 'kaya', 'lng', 'crack', 'lalagyan', 'nung', 'buksan', 'q', 'plastic', 'niaâ˜¹ï¸\\x8f', 'pero', 'ok', 'nmn', 'maganda', 'shade', 'saka', 'mabango', 'talagaðÿ˜š'], ['akala', 'malaki', 'maliit', 'pero', 'maganda', 'naman'], ['liptint', 'nice', 'but', 'easily', 'worn', 'off', 'itâ€™s', 'matte', 'but', 'not', 'waterproof'], ['ok', 'namn', 'deliver', 'but', 'sira', 'yung', 'box', 'hindi', 'naka', 'seal', 'yung', 'liptint', 'tsu', 'tsu', 'sana', 'seal', 'next', 'time', 'diko', 'alam', 'gamitin', 'lips', 'malayong', 'malayo', 'pic'], ['kala', 'maganda', 'palapero', 'oks', 'mura', 'namanhindi', 'maganda', 'saking', 'labi', 'alam'], ['maganda', 'kaso', 'didnt', 'expect', 'naman', 'talaga', 'waterproof', 'nor', 'kissproof', 'medyo', 'nakakadisappoint', 'nga', 'though', 'maganda', 'naman', 'yung', 'shades', 'kaya', 'goods'], ['mgnda', 'nmn', 'cya', 'secured', 'packagingkso', 'hndi', 'cya', 'long', 'lastingpero', 'mgnda', 'kulaythank', 'muchitbis', 'very', 'affordablethank', 'much', 'again'], ['oks', 'sya'], ['maling', 'shade', 'yung', 'deliver', 'pero', 'okay', 'yung', 'quality', 'kaso', 'talaga', 'yung', 'color', 'susunod', 'sana', 'double', 'check', 'seller', 'â˜¹'], ['ok', 'naman', 'packaging', 'malayo', 'nga', 'yung', 'actual', 'shade', 'pic', 'ok', 'naman', 'packaging', 'malayo', 'nga', 'yung', 'actual', 'shade', 'pic'], ['okay', 'naman', 'sya'], ['ok'], ['wrong', 'color', 'variation', 'quality', 'fair', 'enough', 'cheap', 'price'], ['maayos', 'package', 'actually', 'cute', 'nga', 'eh', 'bukas', 'expected', 'dating', 'but', 'dumating', 'kanina', 'yung', 'mismong', 'product', 'actually', 'akala', 'smooth', 'titignan', 'pero', 'inperson', 'too', 'dry', 'magaspang', 'lips', 'unlike', 'ibang', 'matte', 'liquid', 'lippy', 'smooth', 'apply', 'honest', 'review', 'only'], ['ok'], ['maganda', 'kaso', 'hindi', 'sya', 'matte', 'matte', 'ðÿ˜', '”'], ['maganda', 'pero', 'inexpect', 'medyo', 'pink', 'shade', '01', 'kase', 'kala', 'nude', 'red', 'pero', 'okay', 'naman'], ['good', 'pero', 'akala', 'red', 'bc', 'picture', 'red', 'but', 'thats', 'fine'], ['hindi', 'naman', 'sya', 'long', 'lasting', 'pero', 'ok', 'naman', 'yung', 'shades'], ['quality', 'ok', 'not', 'heavy', 'lips', 'but', 'disappointed', 'shades', 'because', 'really', 'different', 'photo', 'actual', 'color', 'product', 'delivered', 'hayys'], ['okay', 'naman', 'pero', 'yung', 'shades', 'gaya', 'pictures', 'pero', 'keri', 'kasi', 'mura', 'naman'], ['nakakaloka', 'liit', 'hahaha', 'akala', 'mo', 'laruan', 'ok', 'naman', 'quality'], ['maganda', 'sana', 'pero', 'mabilis', 'matanggal', 'ðÿ˜', '”'], ['goods', 'pero', 'sobrang', 'tagal', 'ship', 'deliver', 'yung', 'item'], ['ok', 'naman', 'cya', 'kaso', 'long', 'lasting'], ['ganda', 'sana', 'kaso', 'ibang', 'shade', 'dumating', 'huhu'], ['product', 'good', 'but', 'one', 'order', 'broken'], ['not', 'long', 'lasting', 'mabilis', 'matanggal', 'but', 'pigmented', 'though', 'medyo', 'nakikita', 'lines', 'lips', 'nilagay', 'okay', 'namn'], ['oks', 'nmn', 'kaso', 'hnd', 'kulay', 'pic', 'dating', 'sken', 'hnd', 'nmn', 'ganon', 'kulay'], ['ok'], ['okay', 'sana', 'kaso', 'mali', 'naman', 'yung', 'pinadala'], ['good', 'pwde', 'but', 'want', 'liptintðÿ˜…'], ['ok', 'nmn', 'butdiko', 'gusto', 'kulay', 'nkita', 'wall', 'koat', 'personal', 'nakita', 'pero', 'ok'], ['ï¿½ï¿½ðÿ', '‘', '\\x8dðÿ', '‘', '\\x8d'], ['ganda', 'sana', 'nang', 'item', 'kala', 'buy', '1', 'take', '1', 'ok', 'salamat'], ['not', 'worth', 'price', 'coz', 'not', 'long', 'lasting', 'but', 'quality', 'good'], ['yung', 'nasa', 'kanan', 'po', 'ibang', 'order', 'yung', 'okay', 'po', 'tagal', 'po', 'deliver', 'hays', 'tagal', 'ship', 'ðÿ¥º', 'sana', 'susunod', 'po', 'order', 'mabilis'], ['okay', 'product', 'pero', 'ndi', 'â', 'naayos', 'pasealed', 'open', 'nagleak', 'foundation', 'buti', 'dahan', 'dahan', 'lng', 'pagbukas', 'hindi', 'sure', 'madami', 'masasayangâ'], ['ok', 'namn', 'dissapointed', 'packaging', 'dmeng', 'gasgas', 'item', 'hindi', 'nka', 'sealed', 'sad', 'mahal', 'namn', 'item', 'pnili'], ['item', 'okay', 'ive', 'always', 'expected', 'much', 'maybelline', 'kasi', 'international', 'brand', 'pero', 'sobrang', 'maayos', 'package', 'buti', 'nalang', 'hindi', 'nabasag', 'walang', 'bubble', 'wrap', 'kakadisappoint'], ['ok', 'sana', 'kc', 'fast', 'delivery', 'kaso', 'bukas', 'nanung', 'sealed', 'ganun', 'thank'], ['okay', 'naman', 'yung', 'packaging', 'kaso', 'parang', 'old', 'stock', 'binigay', 'sakin', 'hapdi', 'mukha', 'kahit', 'nung', 'tinanggal', 'mukha', 'sobrang', 'kati', 'hirap', 'online', 'bibili'], ['okay', 'siyaaa', 'maganda', 'skin', 'pero', 'ganon', 'parang', 'bawas', 'yung', 'product', 'stain', 'parang', 'open', 'yung', 'seal'], ['okay', 'naman', 'sya', 'kahit', 'sobrang', 'late', 'dumating', 'authentic', 'sya', 'guys', 'kahit', 'made', 'china', 'asked', 'official', 'maybelline', 'thanks'], ['ok', 'naman', 'consistency', 'parang', 'watery', 'sya', 'hindi', 'sya', 'gaya', 'original', 'product', 'nabibili', 'malls', 'ðÿ˜š', 'malayo', 'kakaiba', 'pero', 'ok', 'kahit', 'papano', 'ðÿ˜š'], ['ok', 'naman', 'yung', 'product', 'antagal', 'delivery'], ['ok', 'naman', 'kaya', 'ndi', 'sya', 'sealed'], ['okay', 'sana', 'kaso', 'nabuksan', 'foundation', 'nabroke', 'seal'], ['sakto', 'product'], ['okay', 'naman', 'pero', 'gusto', 'lipstic', 'magkatugma', 'order', 'shade', 'yung', 'foundation', 'hindi', 'naka', 'seal'], ['ok', 'nmn', 'maaus', 'dumating', 'order', 'maybelline', 'superstay', '24h', 'sakto', 'kulay', 'kso', 'medyo', 'watery', 'tlga', 'sya', 'pg', 'nilagay', 'face', 'prang', 'ganun', 'ok', 'hmm'], ['ok', 'kaya', 'hindi', 'nakasealed'], ['ï¿½ï¿½'], ['ok', 'naman', 'sya', 'bili', 'kayo', 'guys3'], ['bkit', 'ganun', 'yung', 'amoy', 'hahah'], ['ok', 'lng', 'xa', 'sana', 'okay', 'makagaling'], ['ok', 'lng', 'xa', 'sana', 'okay', 'makagaling'], ['ok', 'naman', 'yung', 'products', 'pero', 'kulang', 'yung', 'dumating', 'sakin', '3', 'yung', 'inorder', '2', 'yung', 'dumating'], ['okay', 'naman', 'medyo', 'weird', 'nga', 'yung', 'amoy'], ['okkkaaaayyyyyy', 'okkkkkkaaaaayyayayayayyayayaaaaaayyyyy', 'ooookakkakakakaaaaaaaayyy', 'oookakkakakaaaaaayyyyy'], ['ok', 'yung', 'quality', 'mura', 'naman', 'yung', 'scent', 'diko', 'sure', 'pero', 'nahahawig', 'flower', 'but', 'hindi', 'mapinpoint', 'anong', 'type', 'bulaklak', 'medyo', 'diko', 'yung', 'amoy', 'yung', 'nabibili', 'mo', 'malss', 'medyo', 'manamis', 'yung', 'amoy'], ['okay', 'nmn', 'sya'], ['ok', 'naman', 'maayos', 'pagkakapack', 'diko', 'labg', 'type', 'amoy', 'but', 'like'], ['maganda', 'yung', 'item', 'tama', 'denlver', 'mjo', 'hnd', 'sya', 'mabango'], ['ok', 'naman', 'yung', 'item', 'medyo', 'maliit', 'cya', 'hndi', 'cya', 'natry', 'pero', 'sana', 'maganda'], ['ok', 'lng', 'nmn', 'sya'], ['ok', 'naman', 'kasu', 'bilis', 'putol'], ['ok', 'naman', 'po', 'kaso', 'medjo', 'maliit', 'nga', 'not', 'sure', 'quality', 'hindi', 'nagagamit', 'pero', 'thank', 'very', 'much'], ['okss', 'lng'], ['okay', 'naman', 'po', 'lahat', 'item', 'worth', 'kaso', 'talaga', 'yung', 'walang', 'canvas', 'order', 'sira', 'sya', 'feeling', 'courier', 'sana', 'kase', 'maayos', 'po', 'yung', 'packaging', 'nakalagay', 'fragile', 'naman', 'po'], ['okay', 'naman', 'po', 'sana', 'dumating', 'naman', 'agad', 'nakabubble', 'wrap', 'kaso', 'po', '6', 'pcs', 'po', 'laman', 'supposed', '10', 'po', 'sana', 'po', 'maayos', 'po', 'problem', 'thank'], ['not', 'impressed', 'but', 'like', 'product', 'though', 'pallet', 'broken', 'hope', 'order', 'again', 'not', 'receive', 'like'], ['thank', 'po', 'kaso', 'kulang', 'po'], ['recived', 'item', 'well', 'packaged', 'but', 'send', 'wrong', 'color', 'but', 'okay', 'still', 'love'], ['ok', 'nmn', 'po', 'sya', 'kaso', 'mali', 'nabigay', 'color', 'item', 'order', 'pero', 'ok', 'nmn', 'salamat', 'po'], ['good', 'product', 'got', 'delivered', 'immediately', 'only', 'put', '3', 'stars', 'because', 'ordered', 'product', '2tulip', 'but', 'received', '4lagotail', 'grass', 'please', 'check', 'product', 'next', 'time', 'deliver', 'thank'], ['hindi', 'ganun', 'satisfied', 'but', 'packaging', 'ok', 'nmn', 'po'], ['mabaho', 'amoy', 'medyo', 'nakakatakot', 'gamitin', 'pero', 'responsive', 'naman', 'seller', 'kaya', 'good'], ['ok', 'nmn', 'kaso', 'sya', 'pigmentedðÿ¤£ðÿ¤£ðÿ¤£ðÿ¤£ðÿ¤£ðÿ¤£'], ['niceee', 'but', 'one', 'colors', 'sira', 'hahahahaha'], ['eto', 'medyo', 'okie', 'pero', 'yung', 'lipbam', 'hnd', 'sana', 'okie', 'eyeshadow'], ['akala', 'brush', 'kasama', 'pero', 'still', 'maganda', 'maayos', 'deliver'], ['okay', 'products', 'defect', 'eyeshadow', 'since', 'basag', 'yung', 'salamin', 'but', 'expect', '9', 'php', 'ayos', 'naman'], ['ok', 'quality'], ['inorder', 'concealer', 'shade', '10', 'light', 'pero', 'dumating', 'sakin', '30', 'hays', 'pero', 'okay', 'nlng', 'andto', 'eh'], ['ok', 'qualitythank'], ['ok', 'quality'], ['ok', 'naman', 'yung', 'product', 'kaso', 'tagal', 'bago', 'received', 'yung', 'items', 'sana', 'naman', 'medyo', 'pakibilisan', 'mahirap', 'naghihintay'], ['ok', 'lamg', 'naman', 'po', 'lahat', 'kaso', 'hindi', 'masyado', 'maganda', 'yung', 'lashes', 'panget', 'tlg', 'hahhhhaha', 'kala', 'maganda', 'tapos', 'good', 'quality', 'khit', 'mura', 'lng', 'nmn', 'po', 'ty', 'po'], ['ok', 'quality', 'but', 'opened', 'palette', 'pong', 'shade', 'sana', 'po', 'chinecheck', 'niyo', 'muna', 'bago', 'iship', 'kasi', 'ganda', 'sana'], ['mayâ€‹', 'basag', 'pero', 'ok', 'naman'], ['ok', 'sya', 'kaso', 'nadurog', 'black'], ['ok', 'nmn', 'sya', 'kaso', 'liit', 'tas', 'yung', 'laman', 'see', 'proof', 'pics', 'shown', 'also', 'pricey', 'kind', 'sizeðÿ¤', '”', 'ðÿ˜¥', 'item', 'wellpackaged', 'anyways', 'item', 'shipped', 'immediately', 'thank', 'still', 'sorry', 'also', 'late', 'rating', 'itemðÿ˜šâ˜ºï¸\\x8f', 'still', 'definitely', 'order', 'again', 'soonðÿ¥°'], ['ok', 'naman', 'kaya', 'nadisappoint', 'packaging', 'nakabubble', 'wrap', 'naman', 'pero', 'alikabok', 'nung', 'item', 'manlang', 'napunasan', 'knowing', 'shoppee', 'mall', 'yung', 'store', 'pinagbilhan'], ['okay', 'sya', 'well', 'packaged', 'hindi', 'nga', 'asan', 'yung', 'expiration', 'date', 'product', 'ðÿ˜', '’'], ['ok', 'sana', 'kaya', 'walang', 'free', 'post', 'dalawa', 'kinuha', 'free', 'tapos', 'hindi', 'naman', 'binigay', 'kaya', '3', 'star', 'seller', 'hindi', 'namn', 'nasagot'], ['okay', 'naman', 'kaya', 'naka', 'open', 'yung', 'plastic', 'loobðÿ¥º', 'anyways', 'thanks', 'pdn', 'mabilis', 'naman', 'dumating', 'ðÿ˜‰'], ['ok', 'naman', 'nakakabahala', 'kasi', '122019', 'manufactured', 'date'], ['okay', 'sana', 'kaso', 'nung', 'binuksan', 'parang', 'gamit', 'yung', 'lagayan', 'refill', 'po', 'dami', 'scratches', 'nung', 'lagayan', 'ineexpect', 'kasi', 'official', 'maybelline', 'shop', 'inorder', 'tapos', 'ganito', 'yung', 'lagayan', 'tuloy', 'alam', 'pagkakatiwalaan', 'yung', 'laman'], ['ok', 'naman', 'yung', 'productperoi', 'tried', 'cancel', 'order', 'change', 'shade', 'foundation', 'since', 'found', 'mas', 'bagay', 'yung', '120', 'instead', '220', 'magadd', 'sana', 'ibang', 'itemi', 'tried', 'cancel', 'hour', '2', 'ordered', 'but', 'ignored', 'dko', 'magagamit', 'sayang', 'pera'], ['okay', 'sana', 'sya', 'tama', 'naman', 'yung', 'shade', 'nadeliver', 'yung', 'bukas', 'karton', 'nakatanggal', 'yung', 'pinaka', 'sticker', 'shield', 'pagbukas', 'takip', 'kalat', 'yung', 'foundation', 'maluwag', 'yung', 'pinaka', 'sarahan', 'foundation', 'sana', 'po', 'chineck', 'muna', 'maige', 'bago', 'pinashipðÿ˜¥ðÿ˜', '”'], ['ok', 'po', 'yung', 'packaging', 'mabilis', 'delivery', 'kaso', 'po', 'ginamit', 'sobrang', 'kati', 'po', 'mukha', 'tinubuan', 'po', 'maraming', 'butlig', 'mukha', 'nilagyan', 'po', 'aloevera', 'mawala', 'hindi', 'po', 'siguro', 'hiyang'], ['medyo', 'matagal', 'deliver', 'pero', 'ok', 'sulit', 'nmn', 'ðÿ˜šðÿ˜š', 'mabait', 'deliver', 'kasi', 'hinanap', 'talaga', 'bahay', 'kahit', 'looban'], ['ok', 'naman', 'product', 'pagkakabubble', 'wrap', 'cnigurado', 'tlgang', 'mababasag', 'kaso', 'karton', 'loob', 'nkabalot', 'foundation', 'epic', 'tagpi', 'tagpi', 'lng', 'anyways', 'courier', 'nio', 'nkakaloka', 'sat', 'inorder', 'naung', 'thursday', 'lng', 'nkuha', 'marunong', 'magtext', 'rider', 'courier', 'nio'], ['product', 'ok', 'but', 'hoe', 'come', 'not', 'box', 'hope', 'legit', 'usually', 'come', 'mall', 'official', 'box', 'maybeline'], ['nakuha', 'po', 'okay', 'naman', 'ok', 'packaging', 'pero', 'ganun', 'wala', 'po', 'kasama', 'free', 'umorder', '12nn', '2pm', 'makukuha', 'free', 'ðÿ¥º', 'wala', 'pong', 'kasama', 'ðÿ˜\\xad', 'sad'], ['okay', 'yung', 'item', 'kaso', 'sobrang', 'tagal', 'dumating', 'item', '3', '5', 'days', 'info', '2', 'weeks', 'dumating', 'item', 'thanks', 'responsive', 'seller'], ['okay', 'naman', 'yung', 'products', 'kaso', 'late', '2days', 'delivery', 'mas', 'okay', 'sana', 'nagoffer', 'help', 'seller', 'help', 'track', 'items', 'kaso', 'hindiâ'], ['ok', 'nmn', 'product', 'tagal', 'lng', 'naship', 'yung', 'rider', 'jnt', 'hnd', 'ok', '1st', 'attempt', 'delivery', 'failed', 'samantalang', 'maghapon', 'nsa', 'bahay', 'aabang'], ['okey', 'naman', 'product', 'kxo', 'pagdating', 'dto', 'item', 'wla', 'loob', 'bubblewrap', 'kaya', 'takip', 'umangat', 'bute', 'lng', 'sticker', 'hindi', 'nabasag'], ['okay', 'nmn', 'product', 'but', 'doubted', 'amoy', 'po', 'sya', 'matanong', 'po', 'sana', 'orig', 'fake', 'thankyou', 'okay', 'nmn', 'delivery'], ['soso', 'felt', 'like', 'mixed', 'different', 'product', 'kasi', 'used', 'bought', 'same', 'product', 'watson', 'soooo', 'okay'], ['okay', 'po', 'sana', 'kaya', 'ganon', 'made', 'china', 'legit', 'talaga'], ['okay', 'naman', 'sya', 'kaso', 'freeshipping', 'pero', 'pagdating', 'sakin', 'hindi', 'mahal', 'padin', 'sana', 'watsons', 'nalang', 'bumiliðÿ˜', '‘'], ['ok', 'quality', 'but', 'items', 'delivered', 'late'], ['item', 'okay', 'but', 'delivery', 'took', '2', 'weeks'], ['ï¿½ï¿½'], ['okay', 'maayos', 'namansakto', 'langgood', 'condition', 'naman'], ['okay', 'naman', 'walang', 'damage', 'nong', 'dumating', 'pero', 'parang', 'anytime', 'mapipigtas', 'sya', 'haha', 'pero', 'understable', 'naman', 'price', 'anyway', 'thank', 'seller'], ['gaganda', 'kaso', 'medyo', 'maselan', 'madaling', 'naputol', 'pero', 'okey', 'naman', 'naikabit', 'ulit', 'anak'], ['maganda', 'yung', 'lanyard', 'kaso', 'manipis', 'but', 'itâ€™s', 'okay', 'lahat', 'binili', 'nung', 'payday', 'sale', 'yung', 'pinaka', 'nagustuhan', 'bagay', 'kahit', 'anong', 'outfit', 'also', 'pwede', 'mo', 'isabit', 'tih', 'glasses', 'mo', 'useful', 'talaga', 'hehe'], ['okay', 'sana', 'kaso', 'super', 'ikli'], ['sana', 'naman', 'hinabaan', 'konti', 'hahaha', 'apaka', 'iksi'], ['yung', 'black', 'po', 'natanggal', 'wire', 'nakakatusok', 'leeg', 'sana', 'po', 'chineck', 'tsaka', 'parang', 'madali', 'sya', 'masira', 'pero', 'yung', 'white', 'maganda', 'naman', 'po', 'ok', 'pwede', 'thank', 'po', 'godbless'], ['mabilis', 'naman', 'shipping', 'kaso', 'mejo', 'nadismaya', 'kasi', 'ikli', 'hindi', 'nga', 'umabot', 'dibdib', 'suot', 'seller', 'baka', 'pwedeng', 'habaan', 'ðÿ˜¬'], ['but', 'oks', 'sana', 'next', 'time', 'icheck', 'muna', 'yung', 'items', 'shipping', 'thank', 'seller'], ['ambilis', 'sana', 'kaso', 'mali', 'nmn', 'item', 'binigaywan', 'kayo', 'bumili'], ['silver', 'chain', 'pearl', 'damage'], ['expected', 'chest', 'length'], ['edit', 'review', 'get', 'product', 'personally'], ['okay', 'ibang', 'orders', 'pero', 'yung', 'lanyard', 'po', 'sira', 'thank', 'po'], ['sana', 'next', 'time', 'check', 'po', 'munang', 'mabuti'], ['4', 'star', 'lng', 'po', 'ksi', 'dalawa', 'maling', 'design', 'dumatingsalamat', 'shopee', 'mabilis', 'po', 'dumating', 'maayos', 'po'], ['maiksi'], ['ok', 'nmn', 'sya', 'usefulpero', 'manipis', 'lng', 'but', 'still', 'mggamit', 'nmnthankyou', 'seller'], ['tama', 'inaasahan'], ['maganda', 'pero', 'maiksi', 'inaasahan'], ['maikli', 'length'], ['ganda', 'kaso', 'naputol', 'agad'], ['product', 'good', 'however', 'short', 'lanyard'], ['sulit', 'yung', 'price', 'pero', 'yung', 'quality', 'hindi', 'gaano', 'katibay', 'bigla', 'agad', 'napuputol', 'yung', 'sound', 'nagagalaw', 'wire', 'hindi', 'tuloy', 'makapanood', 'ph'], ['ok', 'naman', 'sya', 'wala', 'namanng', 'problem', 'mabagal', 'lng', 'shipping', 'thanks', 'nalng', 'aa', 'seller', 'sana', 'tumagal', 'heheh', 'malakas', 'music'], ['nice', 'dumating', 'hindi', 'naman', 'natunog', 'ahaha', 'tamad', 'delivery', 'driver', 'magpunta', 'mismo', 'bahay', 'naman', 'awit', 'bale', 'test', 'naman', 'maganda', 'product', '1', 'star'], ['curtain', 'butasok', 'sya', 'maganda', 'oorder', 'ulit', 'aqohsana', 'susunod', 'po', 'pki', 'check', 'ponh', 'mabuti', 'nung', 'items', 'po', 'hnd', 'sayang', 'perang', 'pinambayad'], ['kulang', 'po', 'yung', 'dumating', 'items', 'samin', 'wala', 'yung', 'vivo', 'micro', 'cable', 'realme', 'micro', 'cable', 'realme', 'type', 'cable', '2k', 'binayaran', 'pero', 'kulang', 'items', 'sana', 'maipadala', 'samin', 'oorder', 'naman', 'ulit', 'ok', 'naman', 'quality', 'packaging', 'products', 'kulang', 'talaga', 'wala', 'pic'], ['sabog', 'pero', 'nagagamit', 'naman'], ['ok', 'nmn', 'item', 'disappoint', 'lng', 'aq', 'quality', 'po', 'sya', 'kagandahan', 'tunog', 'klarado', 'pang', 'games', 'nmn', 'ginagamit'], ['complete', 'counts', 'facemask', 'received', 'orders', 'but', 'packaging', 'sira', 'plastic', 'buti', 'inde', 'lumusot', 'maliliit', 'items', 'kaya', '3', 'stars', 'lng', 'dont', 'know', 'whos', 'responsible', 'poor', 'packaging', 'either', 'seller', 'delivery', 'fast', 'shipping'], ['happy', 'sana', 'nung', 'nakita', 'kumpleto', 'lahat', 'order', 'pero', 'nadisappoint', 'nung', 'binilang', 'yung', 'mask', 'instead', '10', 'pieces', 'eb', '9', 'laman', 'nung', 'ibabat', 'namn', 'ganun', 'seller', 'pakicheck', 'naman', 'kumpleto', 'bago', 'iship', 'thank'], ['item', 'complete', 'kaso', 'sobrang', 'nipis', 'peach', 'same', 'color', 'tali', 'mask', 'ndi', 'responsive', 'seller'], ['mask', 'ok', 'but', 'mask', 'holder', 'defect', 'see', 'photo', 'little', 'bit', 'disappointed', 'also', 'color', 'think', 'choose', '2', 'colours', 'but', 'only', '1', 'color', 'arrived', 'ðÿ¤', '”'], ['ok', 'naman'], ['items', 'shipped', 'immediately', 'okay', 'naman', 'lahat', 'items', 'except', 'alcohol', 'spray', 'sira', 'packaging', 'very', 'poor', 'wala', 'manlang', 'bubble', 'wrap', 'yung', 'alcohol', 'spray', 'kaya', 'sira', 'agad'], ['ok', 'naman', 'first', 'order', 'kaya', 'nga', 'nagorder', 'ulit', 'kaso', 'dumating', 'ngayon', 'open', 'packaging', 'masks', 'muka', 'naman', 'syang', 'malinis', 'gamit', 'pero', 'sure', 'kc', 'sealed', 'kahit', 'zip', 'lock', 'open', 'tapos', 'nakatupi', 'pang', 'masks'], ['far', 'ok', 'naman', 'yung', 'product', 'mejo', 'amoy', 'yung', 'mask', 'not', 'sure', 'production', 'mismo', 'dun', 'material'], ['okay', 'packaging', 'item', 'shipped', 'ontime', 'but', 'super', 'nipis', 'double', 'mask', 'gagamitin', 'sya', 'kala', 'nakamura', 'hindi', 'thank', 'seller'], ['naman', 'sya', 'gray', 'gray', 'medyo', 'nakaka', 'disappoint', 'â˜¹ï¸\\x8f', 'parang', 'syang', 'denim', 'color', 'pero', 'okay', 'salamat', 'seller', 'hahahabdbckmalalshe', 'hxmxmallaba', 'xnxn'], ['okay'], ['okay', 'medyo', 'mas', 'manipis', 'nga', 'kesa', 'tinda', 'ibang', 'shops', 'super', 'okay', 'packaging', 'pero', 'standard', 'quality', 'marunong', 'response', 'since', 'seller', 'dont', 'waste', 'time', 'trying', 'contact'], ['okay', 'naman', 'kaso', 'yung', 'black', 'amoy', 'parang', 'chemical'], ['ok', 'naman', 'product', 'kaso', 'dalawang', 'black', 'walang', 'garter', 'nakakadissapoint', 'matagal', 'deliver'], ['okay', 'sana', 'pero', 'manipis', 'sayanggg'], ['ok', 'naman', 'po', 'kaso', 'mejo', 'maliit', 'yung', 'black', 'bata', 'ata', 'iyernpero', 'good', 'condition', 'mabilis', 'dumating', 'order', 'again'], ['okay', 'sana', 'haha', 'kulang', 'yung', 'mask', 'thanks'], ['okay', 'naman', 'sya', 'kaya', 'umorder', 'black', 'nahalong', 'ibang', 'kulay', 'naginform', 'seller'], ['okay', 'naman', 'kaso', 'parang', 'naman', 'dark', 'green', 'binigay', 'ðÿ˜ª'], ['ok', 'nmn', 'dissapointed', 'lng', 'packaging', 'kc', 'prng', 'pinaglaruan', 'gusot', 'gusot', 'ska', 'mask', 'puti', 'puti'], ['ok', 'sana', 'mali', 'kulay'], ['ok', 'naman', 'po', 'sana', 'pero', 'medyo', 'amoy', 'yung', 'face', 'mask'], ['okey', 'product', 'kaso', 'tagal', 'dumating', '16', 'days'], ['ok', 'kya', 'color', 'blue', 'yung', 'kulay', 'gray', 'order', 'mganda', 'order', 'dto', 'nasusunod', 'color'], ['okay', 'naman', 'medyo', 'manipis', 'nga'], ['ok', 'yung', 'item', 'complete', 'orders', 'colors', 'kaso', 'amoy', 'yung', 'mask'], ['ok', 'sana', 'kaso', 'walang', 'tali', 'yung'], ['ok', 'sana', 'kaso', 'puro', 'black', 'akala', 'assortes', 'lamanpero', 'ok'], ['ok', 'naman', 'yung', 'items', 'kumpleto', 'nga', 'secure', 'packaging', 'kasi', 'lahat', 'items', 'nasa', 'loob', 'shopee', 'bag', 'sana', 'nilagay', 'karton', 'pang', 'plastic', 'since', 'face', 'masks', 'medyo', 'madami', 'naman', 'order'], ['okay', 'product'], ['ok', 'mabilis', 'dumating', 'kya', 'lng', 'walang', 'nkalagay', 'kf94', 'order', 'kc', 'kf94', 'tpos', 'mnipis', 'cia', 'katulad', 'nkalagay', 'kf94', 'mas', 'medyo', 'makapal', 'cia', 'sna', 'nxt', 'time', 'nkalagay', 'sana', 'dumating', 'pero', 'salamat', 'parin', 'seller'], ['price', 'okay', 'but', 'merong', 'walang', 'tali', 'ordered', '5packs', '23pcs', 'pack', 'walang', 'tali'], ['magnda', 'nmn', 'sya', 'ok', 'kso', 'kulay', 'lng', 'dlwa', 'inorder', 'magkaiba', 'kulay', 'kso', 'same', 'color', 'dumating', 'ðÿ˜', '“', 'pero', 'anyways', 'tnx', 'ðÿ˜š'], ['okay', 'po', 'sana', 'excited', 'panaman', 'kaso', 'dpantay', 'pantay', 'yung', 'mask', 'tas', 'mali', 'yung', 'side', 'yung', 'maskðÿ˜', '«'], ['okay', 'po', 'sana', 'yung', 'facemask', 'kaso', 'po', 'meron', 'pack', 'madumi'], ['ok', 'naman', 'po', 'sana', 'pero', 'puro', 'po', 'black', 'yung', 'dumating', 'meron', 'po', 'akong', 'white', 'order'], ['ok', 'nmn', 'medyo', 'mnipis', 'lng'], ['okay', 'yung', 'mask', 'pero', 'sobrang', 'inconsiderate', 'seller', 'nalang', 'kayo', 'bumili'], ['ok', 'sana', 'kaso', 'mali', 'yung', 'kulay', 'dalawa', 'order', 'sana', 'ininform', 'available', 'orange', 'nka', 'pili', 'available', 'nmn', 'saakin', 'favorite', 'color', 'kya', 'umorder', 'kasi', 'orange', 'kayo', 'anyway', 'salamat', 'parin', 'good', 'quality'], ['okay', 'naman', 'mali', 'yung', 'order', 'kulay', 'violet', 'binigay', 'tapos', 'maliit', 'pambata'], ['okay', 'naman', 'pero', 'sana', 'next', 'time', 'walang', 'available', 'light', 'blue', 'uupdate', 'yung', 'seller', 'dumating', 'sakin', 'dark', 'blue', 'instead', 'light', 'blue', 'ðÿ¤¦â€\\x8dâ™€ï¸\\x8f'], ['ok', 'naman', 'yung', 'product', 'maganda', 'yung', 'quality', 'kaso', 'nga', 'kulang', '1', 'piraso', 'yung', 'pack'], ['ok', 'naman', 'pero', 'black', 'manipis', 'black', 'nanghinayang', 'pangit', 'cotton', 'better', 'next', 'time', 'seller'], ['ok', 'naman', 'po', 'yung', 'stand', 'phone', 'yung', 'mask', 'black', 'pero', 'yung', 'gray', 'puti', 'pangbata', 'manlang', 'sinabi', 'seller'], ['okay', 'naman', 'sya', 'kaso', 'manipis'], ['ok'], ['okay', 'naman', 'yung', 'itemsexcept', 'mask', 'grayhindi', 'namen', 'sya', 'maibuka', 'kasi', 'walang', 'cut', 'yung', 'kabilang', 'sidesana', 'chineck', 'seller', 'bago', 'ipina', 'shipped', 'yung', 'itemsyun', 'naman'], ['ok', 'face', 'mask', 'good', 'quality', 'kulang', 'nga', 'ibang', 'item', 'kaya', 'hindi', 'satisfied', 'well', 'thank', 'effort', 'seller', 'ðÿ™‚'], ['quality', 'okay', 'but', 'item', 'tagal', 'dumating'], ['ok', 'yung', 'quality', 'dissapointed', 'talaga', 'color', 'blue', 'mask'], ['ok', 'naman', 'kaso', 'white', 'nabigay', 'pang', 'kids'], ['ok', 'sana', 'items', 'kso', 'pang', '2', 'purchase', 'kulang', 'yung', 'items', 'order', 'kya', '3', 'stars', 'lng'], ['ok', 'naman', 'po', 'yung', 'itemmaganda', 'quality', 'kaso', 'po', 'kulang', 'yung', 'order', 'imbes', '5pack', 'tag', '10pcs', '4na', 'pack', 'dumating', 'yung', 'anak', 'mask', 'nawala', 'pero', 'buo', 'binayadan', 'asawa'], ['okay', 'naman', 'po', 'fast', 'delivery', 'kaso', 'dalawang', 'defective', 'naman', 'walang', 'pagsasabitanndi', 'q', 'magagamitsayangpero', 'ok', 'syathanks', 'po', 'uulitin'], ['okay', 'naman', 'po', 'mask', 'kaso', 'hindi', 'tama', 'yung', 'kulay', 'inorder', 'order', '3', 'black', '3', 'gray', 'tas', 'pack', 'black', 'pang', 'kids', 'dumating', 'sakin', 'lahat', 'black', 'pang', 'adult', 'nakaka', 'dissapoint', 'kase', 'nawalan', 'bata'], ['quality', 'good', 'fast', 'delivery', 'pero', 'kulang', 'yung', 'item', 'naideliver', 'responsive', 'naman', 'seller', 'nirefund', 'yung', 'payment', 'naideliver', 'thank'], ['okay', 'naman', 'sya', 'pero', 'open', 'parcel', 'parang', 'nabuksan', 'yung', 'mask', 'sira', 'yung', 'upper', 'part', 'kaya', 'alam', 'safe', 'gamitin'], ['ok', 'sana', 'sya', 'kaso', 'mali', 'yung', 'kulay', 'order', 'black', 'dumating', 'blue'], ['ok', 'nmn', 'quality', 'kaya', 'lng', 'hindi', 'cla', 'responsible', 'pgdting', 'packaging', 'puti', 'nlng', 'safe', 'items', 'dumating', 'tska', 'hindi', 'nsunod', 'kulay', 'gusto', 'q', 'facemask', 'blue', 'inorder', 'pero', 'black', 'binigay', 'hindi', 'mn', 'lng', 'cla', 'ngchat', 'inform', 'not', 'responsive', 'seller', 'buti', 'nlng', 'damage', 'itemsðÿ¤¨'], ['ok', 'naman', 'pero', 'hindi', 'secure', 'packaging', 'mask', 'nakaopen'], ['ok', 'namanmejo', 'amoy', 'yung', 'plastic', 'not', 'really', 'sealed', 'parang', 'repack', 'sya', 'tas', 'nilagay', 'plastic'], ['oks'], ['ok', 'sana', 'mabilis', 'transaction', 'kaso', 'plastic', 'order', 'wala', 'sya', 'nung', 'matigas', 'maghohold', 'ilong', 'ðÿ˜\\xadðÿ˜\\xadðÿ˜\\xad'], ['ok', 'yung', 'quality', 'maskkaso', 'dont', 'like', 'packaginghindi', 'sya', 'properly', 'sealed'], ['ok', 'naman', 'sulat', 'gitna'], ['ok', 'naman', 'yung', 'item', 'kaya', 'yung', 'gusto', 'kulay', 'dun', 'nadeliver', 'sakin', 'sakin', 'seller', 'talaga', 'yung', 'kulay', 'mask', 'pero', 'yung', 'dating', 'order', 'sakanya', 'hindi', 'ganun', 'pinag', 'compare', 'yung', 'kulay', 'napaka', 'layo', 'dating', 'order'], ['missing', 'po', 'item', 'color', 'black', '1', 'pack', 'po', '11', 'pack', 'lng', 'po', 'yung', 'dumating', 'sana', 'po', 'double', 'check', 'muna', 'bago', 'shipyun', 'lng', 'po', 'far', 'ok', 'naman', 'yung', 'itemsgodbless', 'po'], ['ok', 'naman', 'lahat', 'nagkamali', '2', 'orders', 'order', 'khaki', 'eh', 'light', 'yellow', 'pinadala', 'also', 'message', 'shop', 'response', 'yet', 'klaro', 'po', 'yung', 'order', 'khaki', 'po', 'disappointing', 'po', 'sya', 'since', 'regular', 'customer', 'shop', 'nato', 'please', 'paki', 'inform', 'ahead', 'time', 'sana', 'napalitan'], ['ok', 'naman', 'sya', 'mas', 'safe', 'kesa', '3ply', 'ninipis', 'kasi', 'benta', 'maganda', 'tring', 'kasi', 'binaba', 'naka', 'sabit', 'sya', 'neck', 'hindi', 'misplace', 'hehe', 'salamat'], ['ok', 'namn', 'quality', 'matagal', 'ship', 'thank', 'shopeethank', 'shopee', 'thank', 'shopeethank', 'shopee'], ['okay', 'naman', 'nagamit', 'sana', 'maluwag', 'masikip', 'nsjsdvejekdmd', 'sjsls', 'sksosja', 'wkwlskbs', 'sjsiskkw', 'wjakksms', 'sjsksms'], ['okay', 'sana', 'kaso', 'mali', 'mali', 'color', 'peach', 'po', 'order', 'dumating', 'sakin', 'lahat', 'black'], ['ok', 'naman', 'sya', 'kaya', 'yung', 'itim', 'ganun', 'yung', 'plastik', 'hindi', 'tulad', 'nung', 'pink', 'gray', 'hindi', 'satisfied', 'yung'], ['products', 'good', 'except', 'one', 'image', 'not', 'looks', 'like', 'reality', 'please', 'check', 'option', 'red', 'because', 'really', 'like', 'fuchsia', 'pink', 'red'], ['okay', 'naman', 'medyo', 'manipis', 'cia', 'sulit', 'nanrin', 'price', 'okay', 'naman', 'medyo', 'manipis', 'cia', 'sulit', 'nanrin', 'price'], ['okay', 'naman', 'kulay', 'item', 'nagulat', 'color', 'red', 'sobrang', 'layo', 'picture', 'hindi', 'naman', 'pinagpala', 'maputing', 'balat', 'baka', 'glow', 'dark', 'ðÿ˜‚ðÿ˜‚ðÿ˜‚'], ['bukas', 'yung', 'tatlo', 'ok', 'nmn', 'makapal', 'matagal', 'shipping', 'kaya', '3', 'stars', 'lng'], ['okaaaaay', 'naman', 'po', 'sana', 'yung', 'item', 'kaso', 'yung', 'watch', 'lng', 'po', 'problema', 'po', 'nakarating', 'yung', 'mask', 'peru', 'mabilis', 'naman', 'erefund', 'seller', 'yung', 'pera', 'kasi', 'hindi', 'dumating', 'yung', 'itemmmm', 'hinihingau', 'naman', 'dumating', 'kasi', 'kailangan', 'peru', 'okay', 'atleast', 'naibalik'], ['okay', 'naman', 'kaso', 'baho', 'amoy', 'expectation', 'vs', 'reality', 'yung', 'kulay', 'hahahahahaha', 'ibang', 'shop', 'freebies', 'ðÿ¤£ðÿ¤£ðÿ¤£ðÿ¤£'], ['okay', 'naman', 'sana', 'kaso', 'mali', 'yung', 'binigay', 'kulay', 'nung', 'sana', 'sinabi', 'walang', 'green', 'okay', 'naman', 'yung', 'pinalit', 'kasi', 'mura', 'sya', 'thanks', 'anyway', '3', 'stars'], ['ayos', 'naman', 'kaso', 'mabaho', 'kaya', 'nilabhan'], ['oks', 'naman', 'yung', 'kf94', 'mask', 'pero', 'yung', 'packaging', 'white', 'mask', 'compare', 'last', 'order', 'oks', 'naman', 'yung', 'kf94', 'mask', 'pero', 'yung', 'packaging', 'white', 'mask', 'compare', 'last', 'order', '3', 'star', 'muna'], ['okay', 'naman', 'yung', 'packaging', 'good', 'condition', 'kaso', 'wrong', 'color', 'yung', 'peach', 'dapat', 'yung', 'order', 'binigay', 'brown', 'sana', 'nagadvise', 'wala', 'yung', 'gusto', 'color', 'napalitan', 'gusto', 'gusto', 'hehe', 'anyway', 'thank', 'youðÿ˜š'], ['ok', 'naman', 'anq', 'item', 'kaso', 'sabe', 'seller', 'assorted', 'ayos', 'nq', 'usap', 'natin', 'bat', 'naman', 'anq', 'ganun', 'isanq', 'kulay', 'lnq', 'ðÿ˜', '‘', 'ðÿ˜', '‘', 'eniwey', 'salamat'], ['ok', 'naman', 'product', 'kulang', 'send', 'mask', 'despite', 'reminded', 'paki', 'assure', 'complete', 'correct', 'anv', 'orders', 'ok', 'sana', 'mabikis', 'delivery', 'couldve', 'rated', '5', 'star', 'kukang'], ['okay', 'naman', 'quality', 'color', 'talaga', 'nakalagay', 'kasi', 'khaki', 'pero', 'yellow', 'dumating', 'pwede', 'nadin', 'kesa', 'wala', 'complete', 'order', 'naman', 'po'], ['lng', 'tenga', 'neto', 'ok', 'nmn'], ['okay', 'naman', 'nga', 'medyo', 'matagal', 'bago', 'naiship', 'yung', 'product', 'diko', 'gusto', 'yung', 'amoy', 'mask', 'masakit', 'ilong'], ['ok', 'naman', 'ordered', 'lot', 'yung', 'pack', 'naka', 'plastic', 'tas', 'individually', 'not', 'wrapped', 'nakakatakot', 'gamitin', 'kasi', 'individually', 'packed', 'naman', 'yung'], ['okay', 'quality', 'but', 'nadisappoint', 'kay', 'seller', 'kasi', 'chinat', 'asking', 'particular', 'brand', 'said', 'okay', 'but', 'nung', 'dumating', 'ibang', 'rinequest', 'akala', 'masusunod', 'yung', 'gusto', 'hehe', 'pero', 'thank', 'mask'], ['ok', 'naman', 'po', 'product', 'mabilis', 'delivery', 'kaso', 'mali', 'po', 'kulaykita', 'naman', 'po', 'sticker', 'white', 'po', 'dapat', 'ðÿ˜', '”', 'ðÿ˜', '”', 'ðÿ˜', '”'], ['items', 'okay', 'please', 'make', 'sure', 'packaging', 'properly', 'sealed', 'set', 'masks', 'open', 'masks', 'cant', 'exposed', 'lead', 'contamination', 'thus', 'defeats', 'purpose', 'wearing', 'masks'], ['okay', 'naman', 'yung', 'item', 'maganda', 'yung', 'packaging', 'nung', 'black', 'hehehe', 'pero', 'over', 'standard', 'yung', 'kapal', 'nung', 'mask', 'ganun', 'kapal', 'okay', 'naman', 'satisfied', 'naman', 'kahit', 'papano', 'thank'], ['ok', 'naman', 'items', '3', 'stars', 'kasi', 'nakakadisappoint', 'kulang', 'order', 'sana', 'next', 'time', 'bilangin', 'muna', 'mabuti', 'seller', 'make', 'sure', 'complete', 'items', 'ipapadala', 'kasi', 'paying', 'exact', 'amount', 'naman'], ['okay', 'quality', 'but', 'maluwag', 'sakin', 'okay', 'quality', 'but', 'maluwag', 'sakin', 'okay', 'quality', 'but', 'maluwag', 'sakin', 'okay', 'quality', 'but', 'maluwag', 'sakin', 'okay', 'quality', 'but', 'maluwag', 'sakin'], ['okay', 'naman', 'yung', 'gray', 'yung', 'mint', 'green', 'light', 'blue', 'medyo', 'diko', 'gusto', 'yung', 'mint', 'green', 'light', 'blue', 'kasi', 'dark', 'yung', 'kulay'], ['okay', 'naman', 'quality', 'price', 'pwede', 'daily', 'use', 'kasi', 'medyo', 'manipis', 'siguro', 'nonmedical', 'grade', 'well', 'packaged', 'complete', 'items', 'delivered', 'naman', 'sept', '20', 'inorder', 'nung', '24', 'dumating'], ['ok', 'naman', 'facemask', 'kaya', 'mali', 'yung', 'color', 'pinadala'], ['ok', 'naman', 'items', 'medyo', 'nipis', 'lng', 'order', '3', 'gray', '1', 'peach', 'dumating', '2', 'peach', '2', 'gray'], ['ok', 'naman', 'kaya', 'mas', 'maganda', 'dati', 'inorderan', 'akala', 'mura', 'eh', 'same', 'quality', 'madami', 'ngayon', 'lumalabas', 'kf94', 'hindi'], ['ok', 'sna', 'ehwrong', 'color', 'lng', 'packsana', 'inform', 'seller', 'pra', 'nkapli', 'aq', 'ibandi', 'seller', 'mgde2cide', 'color', 'pra', 'choices', 'color'], ['yung', 'packaging', 'kumpara', 'una', 'inorder', 'kulang', 'peru', 'okay', 'makapal', 'naman'], ['okay', 'naman', 'yung', 'white', 'masks', 'pero', 'dissapointed', 'dun', 'peach', 'tsaka', 'yung', 'red', 'color', 'kasi', 'yung', 'peach', 'yung', 'quality', 'ewan', 'sobrang', 'maluwag', 'tas', 'hindi', 'maayos', 'yung', 'pagkakagawa', 'sobra', 'kulang', 'tas', 'yung', 'red', 'naman', 'akala', 'same', 'color', 'picture'], ['ok', 'ibang', 'productang', 'parang', 'luma', 'packaging', 'nyapero', 'bilis', 'dumating'], ['ok', 'quality', 'black', 'mask', 'but', 'white', 'hindi', 'hindi', 'same', 'quality', 'pero', 'same', 'price', 'didnâ€™t', 'recommended', 'white', 'hindi', 'alam', 'yung', 'ibaðÿ¤§ðÿ˜', '«'], ['okay', 'naman', 'medyo', 'accurate', 'lagayan', 'yung', 'iâ€™m', 'not', 'sure', 'still', 'sanitize'], ['ok'], ['ok', 'sana', 'kaya', 'kulang', 'navy', 'blue', '3', 'order', '2', 'sya'], ['okay', 'quality', 'whites', 'different', 'packaging', 'idk'], ['okay', 'naman', 'yung', 'mask', 'yung', 'balot', 'black', 'mask', 'manipis', 'black', 'mask', 'pero', 'yung', 'peach', 'medyo', 'makapal'], ['okay', 'po', 'mejo', 'manipis', 'yung', 'tela', 'mejo', 'loose', 'face', 'facemask', 'pero', 'okay', 'itali', 'mo', 'nalang', 'posalamat', 'po', 'mabilis', 'shipping'], ['ok', 'tama', 'color', 'inorder', 'time', 'dumating', 'mabait', 'rider', 'deliver', 'parcel', 'kilala', 'kagaya', 'nung', 'deliver', 'marunong', 'magbigay', 'sukli', 'manloloko'], ['ok', 'naman', 'but', 'dissapoint', 'kasi', 'mali', 'mali', 'yung', 'color', 'deliver', 'skin', 'but', 'okay', 'mask', 'nmn'], ['ok', 'naman', 'kaso', 'â€˜', 'faded', 'color', 'grey', 'manipis', 'pero', 'ok', 'naman'], ['oks', 'naman', 'kaya', 'mura', 'sobrang', 'nipis', 'huhu', 'ðÿ¤§'], ['ok', 'yung', 'quality', 'makapal', 'sya', 'kaso', 'nga', 'yung', 'dalawa', 'mali', 'yung', 'kulay', 'nabigay'], ['ok', 'maganda', 'xatnx'], ['ok', 'yung', 'items', 'pero', 'kulang', 'yung', 'dumating', 'sakin', '19', 'packs', 'order', 'pero', '17', 'nadeliver'], ['ok', 'sana', 'kaso', 'mabaho'], ['okay'], ['ok', 'quality', 'nia', 'nxt', 'order', 'againðÿ˜šâ\\x9d¤ï¸\\x8f'], ['okay', 'sana', 'kaso', 'kulang', 'yung', 'item', 'dumating'], ['ok', 'naman', 'yung', 'packaging', 'maayos', 'yung', 'item', 'kaso', 'nadisappoint', 'lng', 'kasi', 'manipis', 'pack', 'kulay', 'gray', 'kf94', 'kulang', 'imbis', '10pcs', '9pcs', 'lng', 'laman'], ['okay', 'naman', 'yung', 'items', 'but', 'received', 'only', '8', 'items', 'instead', '9', 'messaged', 'seller', 'pero', 'parang', 'ewan', 'naman', 'yung', 'response', 'sana', 'po', 'macheck', 'naman', 'iship', 'better', 'picture'], ['okay', 'nmn', 'pero', 'yung', 'peach', 'kulay'], ['ok', 'naman', 'ibang', 'kulay', 'except', 'red', 'per', 'photo', 'maroon', 'po', 'yung', 'naka', 'but', 'actual', 'item', 'bloody', 'red'], ['ok', 'yung', 'quality', 'mask', 'pero', 'kulang', 'yung', 'items', 'pm', 'sellerhindi', 'refund', 'hindi', 'napalitan'], ['ok', 'ask', 'not', 'good', 'packaging'], ['okay', 'naman', 'po', 'pero', 'hindi', 'po', 'tugma', 'yung', 'kulay', 'inorder'], ['ok', 'naman', 'sxa', 'complete', 'naman', 'delivery', 'lng', 'worry', 'kolakas', 'amoy', 'mask', 'nakakahilodiko', 'alam', 'tuloy', 'gagamitin', 'itosayang', 'kc'], ['okay', 'sana', 'maganda', 'kaso', 'ngalang', 'kulang', 'yung', 'items', 'pinadala', 'seller', 'ordered', '7', 'black', 'masks', 'pero', '5', 'dumating', 'sakin', 'yung', 'ibang', 'color', 'okay', 'naman', 'walang', 'aberya', 'yung', 'black', 'talaga'], ['ok', 'naman', 'po', 'conflict', 'order', 'light', 'blue', 'kasi', 'dapat', 'order', 'kaso', 'navy', 'blue', 'po', 'dumating'], ['ok', 'nmn', 'po', 'items', 'wrong', 'color', 'ibang', 'pinadala', 'seller', 'ordered', 'navy', 'blue', 'maroon', 'light', 'blue', 'red', 'dumating', 'nxt', 'time', 'po', 'ever', 'stock', 'color', 'pede', 'nmn', 'po', 'kau', 'message', 'anong', 'color', 'ipapalit'], ['ok', 'quality', 'kuwang', 'akong', 'order'], ['okay'], ['okay', 'naman', 'yung', 'quality', 'kulang', '2pcs', 'mask', '20', 'dapat', 'pero', '18pcs', 'nakarating', 'sakin', 'next', 'time', 'paki', 'check', 'iship'], ['okay', 'sana', 'kaso', 'sira', 'yung', 'tali', 'nakadikit', 'hayst'], ['okay', 'naman', 'kaso', 'maganda', 'kulay', 'malayo', 'kulay', 'compare', 'picture'], ['ok', 'blue', 'black', 'pro', 'hindi', 'maganda', 'color', 'red', 'hindi', 'mgkatugma', 'color', 'nilagay', 'niyo', 'photo'], ['ok', 'naman', 'item', 'maayos', 'deliver', 'kumpleto', 'poh', 'medyo', 'matagl', 'dumating'], ['okay', 'kulang', 'nang', 'dalawang', 'pack', 'order'], ['ok', 'namankaso', 'lng', 'laman', 'black', 'nkita', 'aq', 'wala', 'tali', 'hayy', 'ewan', 'q', 'ndi', 'q', 'nacheck'], ['ok', 'sana', 'kaso', 'kulang', 'yung', 'tas', 'sira', 'yung', 'tali'], ['ok', 'nmn', 'product', 'super', 'tagal', 'lng', 'dumating'], ['ok', 'but', 'smells', 'like', 'iwwy'], ['ok', 'naman', 'cheap', 'price'], ['okay', 'quality', 'but', 'please', 'check', 'quantity', 'kulang'], ['oks', 'sana', 'kaso', 'wla', 'yung', 'peach', 'variant', 'inorder', 'puro', 'khaki', 'sinend', 'ðÿ¤¦ðÿ\\x8f', '»', 'â€\\x8dâ™€ï¸\\x8f', '10', 'pcs', 'lng', 'inorder', 'khaki', 'tapos', 'yung', 'peach', '30', 'pcs', 'pero', 'kahit', 'peach', 'wala', 'ðÿ˜\\xad'], ['quality', 'ok', 'especially', 'white', 'mask', 'but', 'ordered', 'black', 'peach', 'received', 'gray', 'somewhat', 'carnation', 'pink'], ['okay', 'kaya', 'lng', 'nung', 'binilang', 'kulang', 'sobra', 'hindi', 'nabibilang', 'maayos', 'tsaka', 'last', 'time', 'putol', 'hays', 'ðÿ˜¥'], ['ok', 'naman'], ['okay', 'item', 'peru', 'kulang', '5packsðÿ˜¢ðÿ˜¢ðÿ˜¢ðÿ˜¢ðÿ˜¢ðÿ˜¢peach', '18', 'pcs', 'peru', '13', 'lng', 'double', 'check', 'nmn', 'po', 'nextimeoorder', 'madami', 'peru', 'wag', 'nmn', 'kulang', 'pogodbless'], ['ok', 'napo', 'sana', 'kaso', 'bkit', 'pink', '4', 'balots', 'black', 'yung', 'order', 'naging', '2', 'halong', 'pink'], ['ok', 'naman', 'kasi', 'wrong', 'color'], ['ok', 'sana', 'kaso', 'manipis', 'gray'], ['okay', 'naman', 'po', 'yung', 'ibang', 'colors', 'pero', 'etong', '1', 'pack', 'color', 'black', 'nakaopen'], ['okay', 'naman', 'salamat', 'kay', 'kuya', 'nagdeliver'], ['ok', 'nmn', 'kulng', 'lng', 'item', 'pdla', 'pero', 'nirefund', 'qna', 'mn'], ['okay', 'naman', 'kaso', 'fade', 'yung', 'color', 'khaki', 'ðÿ¥º'], ['ok', 'naman', 'po', 'item', 'kaso', 'kulang', 'order', '4', 'dumating'], ['okay', 'namn', 'sya', 'kaso', 'binawas', 'yung', 'pack'], ['ok', 'sana', 'fast', 'delivery', 'nga', 'mali', 'yung', 'pinadalang', 'color', 'peach', 'order', 'khaki', 'yung', 'dumating'], ['okay', 'naman', 'po', 'yung', 'quality', 'kaso', 'bat', 'ganon', 'kulang', 'po', 'dalawang', 'black', 'inorder', 'pero', 'walang', 'black', 'dumating', 'complete', 'naman', 'po', 'binayaran', 'sana', 'next', 'time', 'po', 'complete'], ['okay', 'naman', 'item', 'kaso', 'nakakainis', 'kulang', 'dalawa', 'order', 'facemask', 'pakiayos', 'nmn', 'po', 'transaction', 'hindi', 'po', 'biro', 'mahanap', 'pera', 'sana', 'naman', 'po', 'bago', 'madeliver', 'pakibilang', 'tingnan', 'maayos', 'item', 'inorder', 'customer', 'pakibalik', 'po', 'sakin', 'dalawang', 'kulang', 'nakakainis'], ['okay', 'naman', 'gamitin', 'kulang', 'pack', 'pero', 'mabilis', 'naman', 'refund', 'thanks', 'seller'], ['ok', 'naman', 'sana', 'kase', 'mura', 'sale', 'kaso', 'yung', 'ibang', 'mask', 'gupit', 'tas', 'madumi', 'sure', 'mukhang', 'nahulog', 'alikabok', 'medyo', 'manipis', 'sya', 'compared', 'nauna', 'naming', 'binili', 'pero', 'tinry', 'sya', 'water', 'test', 'ok', 'naman', 'sana', 'effective', 'naman', 'paggamit'], ['ok', 'naman', 'po', 'items', 'kaso', 'nga', 'lng', 'kulang', 'po', 'dumating', 'dto', 'bahay', 'po', 'kasi', 'inorder', 'sabay', 'tatlo', 'dumatingðÿ˜ªðÿ˜ª'], ['ok', 'naman', 'quality', 'kaso', 'nakabukas', 'mejo', 'hindi', 'maganda', 'amoy'], ['ok', 'naman', 'sana', 'product', 'mali', 'kulay', 'green', 'army', 'green', 'nakalagay', 'dun', 'tapos', 'dumating', 'light', 'green', 'please', 'check', 'muna', 'mabuti', 'bago', 'ideliver'], ['okay', 'kso', 'dating', 'skin', 'product', 'prang', 'ukay', 'pinag', 'pilian', 'nka', 'bukas', 'item'], ['okay', 'naman', 'yung', 'quality', 'nga', 'yung', 'butas', 'sirasira', 'yung', 'plastic', 'gagamitin', 'safety', 'purpose', 'virus', 'kaso', 'ganyan', 'mo', 'gugustuhing', 'gamitin'], ['ok', 'dumating', 'product', 'although', 'ndi', 'nasunod', 'order', 'color', 'army', 'green', 'kse', 'order', 'ndi', 'mint', 'green'], ['okay', 'sana', 'kaso', 'kulang', '5', 'pieces', 'grey', 'mask'], ['ok', 'sya', 'fitted', 'naman', 'masikip', 'maluwag', 'cute', 'kulay'], ['ok', 'naman', 'items', 'kaso', 'kulang', 'pack', 'hindi', 'order', 'ulit'], ['okay', 'naman', 'po', 'yung', 'item', 'kaso', 'tagal', 'po', 'dumating'], ['ok', 'quality', 'navy', 'blue', 'grey', 'facemasks', 'different', 'strap', 'color', 'unlike', 'pictures', 'posted'], ['okay', 'masks', 'maganda', 'fit', 'okay', 'yung', 'kapal', 'kaso', 'yung', 'tatlong', 'pack', 'order', 'butas', 'exposed', 'masks', 'agad', 'hindi', 'nacheck', 'yung', 'pinadeliver', 'delivery', 'not', 'sure', 'hindi', 'naman', 'kasi', 'nakabubble', 'wrap', 'cover', 'bago', 'pouch', 'but', 'good'], ['okay', 'yung', 'product', 'kulang', '4', 'sana', 'naman', 'minsan', 'seller', 'check', 'niyo', 'mabuti', 'ðÿ˜š', 'ordered', '26', '22', 'dumating'], ['okay', 'pwde'], ['ok', 'sya'], ['ok', 'namankaso', 'manipis', 'talagaðÿ˜¥'], ['okay', 'naman', 'po', 'yung', 'mask', 'kaso', 'request', 'po', 'pwede', 'color', 'peach', 'yung', 'pack', 'kaso', 'pagdating', 'samin', 'amy', 'green', 'lahat', 'ðÿ˜•'], ['ok', 'price'], ['ok', 'sya', 'price'], ['ok', 'naman', 'sana', 'kaso', 'magkaparehas', 'yung', 'kulay', 'chat', 'magkaibang', 'kulay', 'ehh', 'pero', 'ok', 'naman'], ['okay', 'naman', 'yung', 'item', 'mura', 'makapal', 'kaso', 'nakabukas', 'yung', 'sealed', 'ibang', 'mask', 'seller', 'double', 'check', 'packaging', 'mask', 'since', 'pwede', 'syang', 'macontaminate', 'thru', 'delivery'], ['ok', 'product', 'kaya', 'lng', 'hndi', 'nasunod', 'kulay', 'order', 'order', 'remarks', '10pcs', 'black', '10pcs', 'white', '10pcs', 'grey', 'dumating', '30', 'pcs', 'black'], ['okay', 'sana', 'maganda', 'yung', 'product', 'kaso', 'kulang', 'wipes', 'hays'], ['ok', 'naman', 'item', 'kaso', 'deliver', 'nagmamadali', 'check', 'order', 'kc', '3', 'order', '2', 'dumating', 'yata', 'trained', 'deliver', 'cya', 'accommodating'], ['ok', 'salamat', 'po'], ['okay', 'pero', 'medyo', 'disappointed', 'kasi', 'cya', 'yung', 'ine', 'expect', 'kulay', 'grey', 'light', 'grey', 'cya', 'akala', 'yung', 'medyo', 'dark', 'grey', 'cya', 'kasi', 'order', 'yung', 'friend', 'same', 'store', 'medyo', 'dark', 'grey', 'cya', 'kaya', 'dinamihan', 'order', 'kaso', 'light', 'cya', 'also', 'tagal', 'dumating'], ['ok', 'not', 'good', 'smell', 'fabric'], ['okay', 'naman', 'yung', 'quality', 'nung', 'masks', 'kaso', 'etong', 'white', 'nakalagay', 'kf94', 'nung', 'chineck', 'naman', 'yung', 'ibang', 'reviews', 'wala', 'naman', 'silang', 'ganyan', 'pangit', 'kasi', 'tingnan', 'kasi', 'mukhang', 'manipis'], ['ok', 'nmn', 'ibng', 'color', 'pero', 'white', 'madaling', 'mpatid'], ['okay', 'naman', 'sya', 'scam', 'yung', 'kulay', 'gray', 'kasi', 'light', 'gray', 'sya', 'tapos', 'nakalagay', 'picture', 'dark', 'gray'], ['ok', 'naman', 'sana', 'yung', 'maskkaso', 'kulang', 'uung', 'ipinadala60pcs', 'order', 'ko55', 'dumatingmaliit', 'halaga', 'sana', 'yunkaya', 'lng', 'sayang', 'dinnagmessage', 'kay', 'seller', 'hind', 'replyðÿ˜…', 'saka', 'yung', 'pagkagray', 'nung', 'kulay', 'gray', 'kf94', 'kesa', 'dun', 'nasa', 'picture'], ['ok', 'naman', 'products', 'kaso', 'incomplete', 'delivery', 'ordered', '5', 'packs', 'pero', '3', 'dumating', 'seller', 'immediately', 'processed', 'refund', 'naman', 'kaso', 'sayang', 'sf', 'binayaran', 'waiting', 'time', 'incomplete', 'delivery'], ['ok', 'naman'], ['ok', 'nmn', 'dumating', 'diko', 'natry', 'gamitin'], ['ok', 'sana', 'kaso', 'kulang'], ['okay', 'naman', 'yung', 'product', 'maganda', 'naman'], ['okay', 'naman', 'pero', 'hindi', 'nga', 'naka', 'sealed', 'maayos', 'especially', 'mask', 'pero', 'oks', 'naman'], ['ok', 'nmn', 'good', 'quality', 'napaka', 'tagal', 'shipment', 'inabot', 'two', 'weeks'], ['okey', 'naman', 'sya', 'kaso', 'amoy', 'rugby', 'yung', 'face', 'mask'], ['ok', 'sana', 'kaya', 'lng', '2', 'pack', 'black', 'kulang', 'tig', 'piraso', 'total', '98', 'pcs', 'lng', 'sya', 'instead', '100'], ['okay', 'naman', 'sana', 'maganda', 'quality', 'mask', 'kaso', 'ibang', 'color', 'dumating', 'â˜¹ï¸\\x8f'], ['average'], ['okay', 'naman', 'sya', 'medyo', 'amoy', 'yung', 'blue'], ['quality', 'okay', 'but', 'strong', 'chemical', 'smell', 'masakit', 'ulo'], ['ok', 'manipis'], ['ok', 'delivery', 'yung', 'pink', 'facemask', 'ok', 'packaging', 'yung', 'white', 'facemask', 'plastic', 'packaging', 'brand'], ['okay', 'quality', 'although', 'kind', 'disappointed', 'white', 'kf94', 'masks', 'werenâ€™t', 'nicely', 'packed', 'black', 'ones', 'black', 'ones', 'packed', 'better', 'business', 'display', 'purposes'], ['ok', 'sana', 'kaso', 'white', 'black', 'order', 'pero', 'gray', 'black', 'yung', 'nareceived', 'tapos', 'tagal', 'pang', 'dumating'], ['ok', 'namn', 'kaso', 'mgnda', 'kya', 'lng', 'ibang', 'mask', 'walang', 'garter', 'tenga'], ['ok', 'sana', 'price', 'sobrang', 'mura', 'nga', 'nmn', 'expect', 'kaso', 'doubts', 'not', 'sure', 'kng', '3ply', 'towhy', 'lid', 'box', 'torn', 'like', 'forced', 'openmay', 'maliit', 'butas', 'nkabalot', 'plasticwe', 'use', 'protection', 'hope', 'handled', 'ds', 'extra', 'care', 'sanitary', 'purpos'], ['okay', 'yung', 'bilis', 'delivery', 'pero', 'yung', 'quality', 'mask', 'medyo', 'medyo', 'nipis', 'bilis', 'mapigtal', 'nung', 'garter', 'siguro', 'hindi', 'lalabas', 'pwede', 'yung', 'brgy', 'siguro', 'pero', 'thank', 'seller', 'courier', 'shopee'], ['okay', 'naman', 'yung', 'items', 'mabilis', 'maship', 'kaso', 'sobrang', 'liit', 'tissue', 'wipes', 'kulang', 'pang', 'dumating', 'nakakainis'], ['ok', 'naman', 'medyo', 'manipis', 'unang', 'gamit', 'napigtas', 'agad', 'pero', 'sumunod', 'naman', 'hindi', 'still', 'order', 'shop', 'kasi', 'mura', 'ðÿ˜š'], ['okay', 'naman', 'yung', 'product', 'wala', 'siyang', 'damage', 'nakakapagtaka', 'yung', 'label', 'not', 'medical', 'use', 'pero', 'ok', 'mura', 'kasi'], ['ok', 'naman', 'complete', 'item', 'kaso', 'yung', 'mask', 'sobrang', 'nipis', 'natatagal', 'yung', 'istik', 'mask', 'tagal', 'kuna', 'order', 'ginan', 'mupa', 'seller', 'wala', 'pang', 'box', 'lahat', 'ðÿ˜¤ðÿ˜¤ðÿ˜¤'], ['ok', 'sana', 'kso', 'walang', 'box', 'black', 'facemask', 'sjsnnsnso', 'bsbbss', 'sjjwnsns', 'bwuwujssn', 'bananaã±an', 'bansnns', 'hehejbd', 'bbdd', 'jw'], ['ok', 'sana', 'kaso', 'kulang', 'yung', 'box', 'napinadala', 'yung', 'mask', '8', 'pcs', 'pero', 'yung', 'box', '4'], ['ok', 'naman', 'nakaplastic', 'labo', 'nga', 'mask', 'katulad', 'nung', 'nakapack', 'sealed', 'sana', 'legit', 'qng', 'binayaran', 'iexpect', 'thanks'], ['okay', 'naman', 'item', 'maayos', 'packaging', 'disappoint', 'lng', 'kasi', 'tagal', 'dumating', 'order', 'umabot', '5days', 'wala', 'dinðÿ˜\\x8f', 'pero', 'thank', 'shoppee'], ['okay', 'sana', 'kaso', 'yung', 'mask', 'walang', 'packaging', 'box', 'â€¦', 'parang', 'hindi', 'secured', 'clean', 'yung', 'mask', 'tuloy'], ['ok', 'expect', '29', 'pesos', 'per', 'box', 'facemask', 'hklfgxjflvkvjdhzjclbkfhzufkcjsydifkfjdjfififjfjfjfkfkffk'], ['oks', 'manipis', 'nga', 'lng', 'sya', 'pero', 'karton', 'kasama', 'eh', 'tupi', 'tupi', 'punit', 'pero', 'inayos', 'lng', 'pra', 'lagyan', 'face', 'mask'], ['okay', 'naman', 'box', 'sad', 'kulang', 'yung', '50pcs', '2', 'bali', '48pcs', 'kabibilang', 'sayang', 'eðÿ˜¬ðÿ˜\\x8fðÿ˜', '’'], ['okay', 'naman', 'matagal', 'maship', 'okay', 'yung', 'blue', 'mask', 'pero', 'yung', 'itim', 'super', 'nipis', 'okay', 'naman', 'matagal', 'maship', 'okay', 'yung', 'blue', 'mask', 'pero', 'yung', 'itim', 'super', 'nipis', 'okay', 'naman', 'matagal', 'maship', 'okay', 'yung', 'blue', 'mask', 'pero', 'yung', 'itim', 'super', 'nipis'], ['ok', 'nmn', 'items', 'medyo', 'manipis', 'kya', 'siguro', 'mura', 'lng', 'xa', 'dpa', 'maayos', 'item', 'nun', 'naideliver', 'sira', 'box', 'buti', 'nlng', 'gagamit', 'pero', 'ibebenta', 'sya', 'mabibili'], ['okay', 'naman', 'kaso', 'mukang', 'hindi', '50', 'pcs', 'hehehe', 'mas', 'mahal', 'compared', 'nabibilhan'], ['okay', 'walang', 'damage', 'tsaka', 'mabilis', 'dumating', 'kaso', 'manipis', 'yung', 'unang', 'mask', 'vid', 'yung', 'mask', 'nabili', 'yung', 'pangalawang', 'mask', 'yung', 'nabili', 'ibang', 'store'], ['ok', 'nmn', 'sana', 'mask', 'kaso', 'nga', 'lng', 'kc', 'plastic', 'hnd', 'maayos', 'pagkakaseal', 'kc', 'butas', 'sya', 'bukas', 'lahat', 'halos', 'malaki', 'butas', 'lng', 'maliit', 'dapat', 'ganyan', 'sinisiguradong', 'seale', 'sya', 'maayos', 'kc', 'surgical', 'mask', 'hnd', 'dapat', 'nakokontaminate', 'protection'], ['ok', 'nmn', 'uung', 'items', 'tagal', 'dulating', '8days', 'hindi', 'msg', 'hindi', 'ideliver'], ['okay', 'naman', 'okay', 'naman', 'okay', 'naman', 'okay', 'naman', 'okay', 'naman', 'okay', 'naman', 'okay', 'naman', 'okay', 'naman', 'okay', 'naman', 'okay', 'naman'], ['okay', 'naman', 'facemask', 'nakabubble', 'wrap', 'kaso', 'yung', 'box', 'puro', 'lukot', 'punit', '8', 'nagorder', '12', 'dumating'], ['okay', 'quality', 'gaya', 'labg', 'nang', 'nabibili', 'palengke', 'chose', 'buy', 'kasi', 'mas', 'mura', 'pero', 'sobra', 'tagalbago', 'mareceive'], ['ok', 'naman', 'medyo', 'lukot', 'box', 'sana', 'nextime', 'hind', 'lukot', 'maibenta', 'sya', 'peru', 'ok', 'murang', 'halaga', 'mask', 'kana'], ['okay', 'namaan', 'but', 'antagal', 'shipping', 'ibaa', 'blue', 'kabaycekdoebehebsksneowiagwnelepenshskslshsvsjdmdjfbdhdndndnfjfbfnfkfirbrjdmfofbfbfbfnfmtkrhegsbhf', 'issed'], ['ok', 'sana', 'kaso', 'yupi', 'yung', 'karton', 'pati', 'yung', 'mask', 'medyo', 'lukot'], ['ok', 'naman', 'sakto', 'presyo', 'sya', 'yung', '3ply', 'mask', '1st', 'tym', 'maka', 'receive', 'wrong', 'color', 'item', 'grabe', 'maka', 'move', 'hahahaha', '1st', 'time', 'disappoint', 'basta', 'nakakainis', 'yung', 'wrong', 'color', 'rerespond', 'seller', 'mali', 'ippadala', 'nakkainis', 'basta', 'baket', 'katamad', 'rate'], ['okay', 'naman', 'siyaaaaaa', 'kaso', 'nakasealed', 'yung', 'masks', 'open', 'plastic', 'kaya', 'mo', 'masure', 'gaano', 'kalegit', 'yung', 'masks', 'pero', 'mas', 'mura', 'dame', 'naorder', 'probably', 'order', 'again', 'thanks', 'po'], ['okay', 'naman', 'siyaaaaaa', 'kaso', 'nakasealed', 'yung', 'masks', 'open', 'plastic', 'kaya', 'mo', 'masure', 'gaano', 'kalegit', 'yung', 'masks', 'pero', 'mas', 'mura', 'dame', 'naorder', 'probably', 'order', 'again', 'thanks', 'po'], ['okay', 'naman', 'siyaaaaaa', 'kaso', 'nakasealed', 'yung', 'masks', 'open', 'plastic', 'kaya', 'mo', 'masure', 'gaano', 'kalegit', 'yung', 'masks', 'pero', 'mas', 'mura', 'dame', 'naorder', 'probably', 'order', 'again', 'thanks', 'po'], ['oka', 'sya', 'complete', 'naman', 'kaya', 'worry', 'parang', 'ganito', 'yung', 'quality', 'mask', 'nagpa', 'trigger', 'skin', 'iritation', 'kaya', 'nagka', 'pimples', 'cheeks', 'sana', 'satisfy', 'yubg', 'customer', 'salamat', 'po'], ['ok', 'lng', 'mask', 'medyo', 'manipis', 'factory', 'smell', 'kumpeto', 'tag', '50pcs', 'kya', '3', 'stars', 'kc', 'medyo', 'disappointed', 'kulang', 'yung', 'bag', 'korean', 'square', 'bag', 'order', 'kosna', 'message', 'cla', 'agad', 'wla', 'stock', 'maintindihan', 'yung', 'hahanap', 'una', 'tatanong', 'muntik', 'magkalimutan', 'refund', 'done'], ['okay', 'nmn', 'sya', 'mahirap', 'lng', 'pla', 'black', 'mo', 'madistinguish', 'front', 'backâ€¦hehe', 'okay', 'nmn', 'syaâ€¦', 'time', 'dumating'], ['ok', 'naman', 'sya', 'nung', 'unang', 'order', 'kaso', 'dumating', 'ngayon', 'amoy', 'goma', 'dami', 'ding', 'putol', 'tas', 'package', 'mabilis', 'masira', 'natape', 'nadikit', 'balot', 'nakakadissapoint'], ['okay', 'naman', 'yung', 'item', 'hindi', 'naman', 'gano', 'kanipisan', 'kaso', 'parang', 'amoy', 'hopefully', 'mawala', 'yung', 'amoy', 'katagalan', 'hindi', 'kasi', 'sya', 'magamit', 'masakit', 'ilong', 'sana', 'inayos', 'nalang', 'yung', 'packaging', 'baka', 'dajil', 'dun', 'kaya', 'nagkaroon', 'amoy', 'yung', 'mask', 'thanks'], ['okey', 'naman', 'yung', 'ship', 'mabilis', 'saka', 'ideliver', 'naman', 'maayos', 'kaso', 'dating', 'cellophane', 'nung', 'mask', 'mismong', 'pinaglalagyan', 'parang', 'satisfied', 'tapos', 'yung', 'karton', 'naman', 'mask', 'ganun', 'lambot', 'namen', 'buo', 'yung', 'karton', 'kasi', 'nalulukot', 'sobrang', 'lambot'], ['okay', 'shipping', 'mabilis', 'ngayon', 'expected', 'dating', 'kaya', 'thumbs', 'kayo', 'seller', 'however', 'medyo', 'disappointed', 'boxes', '9', 'order', 'pero', '7', 'kulang', '2ðÿ˜ž', 'sana', 'maibigay', 'seller', 'sakali', 'makaorder', 'ulit', 'next', 'time', 'po', 'wag', 'itape', 'masira', 'lalagyan'], ['okay', 'naman', 'hindi', 'masama', 'presyo', 'pero', 'baka', 'umulit', 'kasi', 'baka', 'hindi', 'pero', 'gusto', 'mo', 'bumili', 'bili', 'hahahahaha'], ['okay', 'naman', 'deliver', 'mabilis', 'dumating', 'problema', 'pagkakabalot', 'mask', 'hndi', 'okay', 'quality', 'terms', 'mask', 'naman', 'manipis', 'sakin', 'maluwag', 'youre', 'looking', 'thick', 'mask', 'definitely', 'not'], ['okay', 'napo', 'sana', 'kaya', 'po', 'kulang', 'box', 'tsaka', 'open', 'po', 'yung', 'pack', 'blue', 'pero', 'complete', 'yung', 'facemask', '8', 'yung', 'box', 'po', 'talaga', 'kulang', 'tsaka', 'po', 'wjf', 'po', 'yung', 'brand', 'pagdating', 'sakin', 'walang', 'brand', 'yung', 'box'], ['okay', 'naman', 'medyo', 'mabilis', 'dumating', 'kaso', 'medyo', 'manipis', 'personal', 'though', '3', 'layers', 'talaga', 'sya', 'kaso', 'manipis', 'nga', 'sobrang', 'lambot', 'parang', 'dinowny', 'ðÿ˜…', '10', 'boxes', 'naman', 'binili', 'ðÿ˜…', 'sad', 'naman', 'po', 'anyway', 'thank', 'keri', 'presyo'], ['oks', 'naman', 'sya', 'nga', 'lamg', 'sira', 'yung', 'karton', 'buti', 'nalanh', 'dun', 'inorderan', 'store', 'sobra', 'box', 'kaya', 'nalagyan', 'parin'], ['okay', 'medyo', 'smelly', 'lng', 'hndi', 'kgaya', 'binibili', 'walang', 'amoy', 'made', 'china', 'sobrang', 'mura', 'hope', 'safe', 'gamitin'], ['ok', 'sana', 'amoy'], ['ok', 'sana', 'sya', 'kaya', 'plastic', 'mask', 'bukas', 'sya', 'expose', 'sya', 'dumi', 'ðÿ˜¢', 'sana', 'dinouble', 'maayos', 'seller', 'first', 'time', 'ding', 'umorder', 'parang', 'nakakadala', 'sana', 'ayusin', 'next', 'time', 'ibang', 'oorder'], ['ok', 'naman', 'yung', 'quality', 'nung', 'face', 'mask', 'like', 'mask', 'nabili', 'shopee', 'however', '3', 'stars', 'kasi', 'tagal', 'bago', 'sumagot', 'seller', 'super', 'tagal', 'inantay', 'yung', 'product', 'muntik', 'icancel', 'kasi', 'bahay', 'tagal', 'reply', 'seller', 'anyway', 'thanks'], ['okay', 'sana', 'bukas', 'yung', 'zip', 'lock', 'tapos', 'yupiyupi', 'yung', 'karton', 'sana', 'sinigurado', 'munang', 'nakasara', 'yung', 'plastic', 'face', 'mask', 'maraming', 'gagamit'], ['okay', 'naman', 'kaso', 'yung', 'kwelyo', 'medium', 'size', 'masyadong', 'masikip', 'point', 'kang', 'nasasakal', 'kahit', 'nalabhan', 'masikip', 'hirap', 'tuloy', 'isuot', 'yung', 'small', 'size', 'naman', 'okay'], ['ok', 'naman', 'yung', 'tshirt', 'kaso', 'mali', 'dumating', 'size', 'kasi', 'yung', 'order', 'medium', 'pero', 'yung', 'dumating', 'extra', 'large'], ['love', 'shirts', 'but', 'not', 'able', 'help', 'modify', '2', 'same', 'tshirt', 'placed', 'incorrectly', 'tried', 'ask', 'assistance', 'chat', 'support', 'change', 'â€œthe', 'futureâ€\\x9d', 'tshirt', 'design', 'color', 'since', 'placed', '2', 'tshirts'], ['product', 'quality', 'excellent', 'but', 'seller', 'not', 'responsive', 'ðÿ¥º', '1', 'week', 'nagintay', 'refund', 'kasi', 'wrong', 'size', 'yung', 'binigay', 'large', 'inorder', 'pero', 'kasing', 'laki', 'siyang', 'xl', 'nauna', 'naming', 'binili', 'ðÿ˜', 'nagmemessage', 'seller', 'palagi', 'maapproved', 'pero', 'kinancel'], ['maganda', 'naman', 'sobrang', 'laki', 'sleeve', 'nakiusap', 'pwede', 'ireturn', 'kaso', 'ayaw', 'seller', 'doina', 'den', 'naman', 'mabibili', 'kaya', 'susunod', 'large', 'nalang', 'kukunen'], ['okay', 'namn', 'yung', 'tshirt', 'kaso', 'yung', 'size', 'medyo', 'malaki', 'pero', 'maganda', 'give', 'muna', '2', 'kasi', 'yung', 'size', 'hindi', 'magkapareho', 'yung', 'size', 'medyo', 'malaki', 'kaya', 'hindi', 'magamit', 'yung', 'tshirt'], ['meron', 'stain', 'tabi', 'print', 'hindi', 'washable', 'maganda', 'sana', 'pero', 'stain'], ['item', 'received', 'good', 'but', 'delivery', 'driver', 'rude', 'want', 'file', 'complaint', 'against', 'driver', 'not', 'happen', 'customersâ'], ['easy', 'apply', 'nice', 'pigment', 'but', 'mabilis', 'siyang', 'mabura', 'pagkaapply', 'nalagas', 'hair', 'wala', 'talaga', 'tiwala', 'but', 'gusto', 'itry', 'kasi', 'nagsale', 'napapanood', 'fb', 'makeup', 'tutorials'], ['ok', 'naman', 'kaso', 'kasi', 'tiktok', 'naka', 'sale', 'daw', 'buy', '1', 'take', '3', 'kaya', 'bumili', 'pero', 'sale', 'ðÿ˜‚', 'ðÿ˜‚sabi', 'kasi', 'tiktok', 'buy', '1', 'take', '2', 'naman', 'naka', 'promo', 'dapat', 'alisin', 'ganung', 'promotion', 'ðÿ˜', 'ðÿ˜', 'ðÿ˜', 'ðÿ˜', 'ðÿ˜¡ðÿ˜¡ðÿ˜¡ðÿ˜¡ðÿ˜¡ðÿ˜¡ðÿ˜¡ðÿ¤¡'], ['get', 'pay', 'expecting', 'cheap', 'product', 'thats', 'got', 'hehe'], ['dont', 'say', 'quality', 'oky'], ['mdyo', 'mahina', 'lng', 'sounds'], ['okay', 'naman', 'yung', 'hitsura', 'nung', 'product', 'gusot', 'yung', 'kahon'], ['product', 'shipped', 'deformed', 'box', 'highly', 'probable', 'wasnt', 'handled', 'well', 'courier'], ['good', 'one', 'headphone', 'part', 'not', 'functioning', 'well'], ['okay', 'naman', 'item', 'matagal', 'dumating', 'tsaka', 'gaano', 'maayos', 'packaging'], ['price', 'makukuha', 'mo', 'yung', 'quality', 'binayad', 'mo'], ['pero', 'okay', 'naman', 'gumagana', 'hindi', 'nga', 'yung', 'ineexpect', 'lakas'], ['pero', 'working', 'nmn', 'sya', 'buti', 'lng', 'hindi', 'nasira', 'kng', 'headphone', 'paki', 'improve', 'po', 'yng', 'packaging'], ['working', 'naman', 'sya', 'kaya', 'lukot', 'yung', 'box', 'hindi', 'secured', 'yung', 'packaging', 'quality', 'itsura', 'okay', 'price', 'kaya', 'dont', 'expect', 'too', 'much'], ['product', 'works', 'well', 'delivers', 'good', 'sound', 'but', 'seems', 'problem', 'headband', 'adjuster', 'extending', 'good', 'barely', 'not'], ['medyo', 'nasira', 'yung', 'box', 'gumagana', 'naman', 'maayos', 'minsan', 'parang', 'glitch', 'ok', 'nmn', 'yung', 'quality', 'sounds', 'alam', 'nalilito', 'function', 'button'], ['nabuksan', 'yung', 'box', 'pero', 'okay', 'naman', 'product'], ['sira', 'yung', 'box', 'pero', 'pwede', 'gumagana', 'naman', 'maayos'], ['very', 'disappointed', 'packaging', 'kasi', 'very', 'thin', 'bubble', 'wrap', 'bukas', 'yung', 'box', 'upon', 'arrival', 'pero', 'ok', 'php85'], ['goods', 'naman', 'yung', 'item', 'maayos', 'packaging'], ['kala', 'malakas', 'sounds'], ['ok', 'naman', 'gumagana', 'nasunod', 'color', 'inorder'], ['quality', 'good', 'but', 'way', 'pack', 'item', 'way', 'too', 'bad'], ['ok', 'sya', 'hindi', 'maganda', 'pero', 'ok'], ['medyo', 'sira', 'yung', 'left', 'side', 'nawawala', 'wala', 'pero', 'ok', 'lng', 'kc', 'mura', 'adjust', 'adjust', 'lng', 'konti'], ['ok', 'quality', 'price', 'hndi', 'magamit', 'mic', 'computer', 'pang', 'cellphone', 'lng'], ['tas', 'onting', 'gas', 'gas', 'tapos', 'yupi', 'pom', 'nadurog', 'delivery', 'pero', 'good', 'naman', 'yung', 'sakin'], ['ok', 'naman', 'kaso', 'malaman', 'nasa', 'microphone', 'kaya', '3', 'stars', 'muna', 'edit', 'nasagot'], ['ok', 'sana', 'kaso', 'mahina', 'sound', 'kabila'], ['ok', 'naman', 'pero', 'gumagana'], ['dont', 'expect', 'very', 'much', 'sound', 'ok', 'price'], ['ive', 'using', 'week', 'ok', 'naman', 'kaso', 'headphones', 'static', 'minsan', 'but', 'worth', 'prize', 'naman'], ['wrong', 'items', 'ordered', 'r20', 'but', 'seller', 'deliver', 'r40', 'sayang', 'ordered', '3', 'pieces', 'naman', 'tapos', 'lahat', 'mali', 'madaya', 'seller', 'maayos', 'mkipag', 'usap', 'chat', 'nakaka', 'disappointed'], ['third', 'time', 'ordering', 'same', 'shop', 'far', 'service', 'good', 'but', 'time', 'one', 'received', 'not', 'variation', 'ordered', 'order', 'r20', 'but', 'packaging', 'r20'], ['lahat', 'dineliver', 'alang', 'nagamitgod', 'bless', 'nalang', 'po', 'lahat', 'dineliver', 'alang', 'nagamitgod', 'bless', 'nalang', 'po', 'lahat', 'dineliver', 'alang', 'nagamitgod', 'bless', 'nalang', 'pobh'], ['right', 'packaging', 'wrong', 'item', 'r40', 'not', 'r20', 'good', 'sound', 'quality', 'yet', 'disappointed', 'wrong', 'item', 'shipped', 'immediately', 'yet', 'still', 'disappointed', 'wrong', 'item', 'seller', 'responsive', 'yet', 'still', 'disappointed', 'wrong', 'item'], ['theres', 'one', 'right', 'piece', 'one', 'get', 'replacement', 'r40'], ['earphones', 'not', 'working', 'sent', 'messages', 'seller', 'but', 'only', 'ignored', 'packaging', 'also', 'states', 'builtin', 'magnets', 'earbuds', 'fact', 'not'], ['magbabalak', 'pang', 'bumili', 'wag', 'curiosity', 'q', 'bumili', 'aq', 'neto', 'pero', 'nagana', 'ansaki', 'puso', 'char', 'pero', 'expected', 'naman', 'price', 'hehe', 'wag', 'po', 'bumili', 'neto'], ['walang', 'built', 'magnet', 'guys', 'hahahahahaha', 'tyaka', 'ibang', 'itsura', 'picture'], ['disappointed', 'ship', 'product', 'case', 'please', 'refund'], ['napakanipis', 'wag', 'gantong', 'earphone', 'bilhin', 'sira', 'yung', 'kabilang', 'bud', 'sobrang', 'hina', 'tunog', 'mura', 'pero', 'sulit', 'defective', 'hays'], ['gumagana', 'sana', 'tinesting', 'nio', 'po', 'muna', 'dalawa', 'naman', 'binili', 'kokaloka', 'naman', 'magbalik', 'item'], ['bought', 'only', '28', 'pesos', 'edit', 'only', '2', 'weeks', 'sira', 'agad', 'magtake', 'risk', 'kayo', 'gusto', 'niyo', 'pero', 'nga', 'mura', 'madali', 'masira'], ['built', 'magnets', 'scam', 'hindi', 'magtataka', 'presyo', 'nakakadismaya', 'salamat', 'nalang', 'nagdeliverrrrrr'], ['nakakabwisit', 'naman', 'description', 'realme', 'pero', 'itong', 'product', 'ninyo', 'yung', 'nabibili', 'kalsada', 'kayong', 'malaking', 'budol', 'budol', 'budol', 'budol', 'budol', 'budol'], ['huwag', 'kayo', 'umorder', 'damaged', 'pareho', 'nabili', 'hindi', 'pwedeng', 'pantawag', 'yung', 'isangf', 'r20', 'pwede', 'pang', 'music', 'pero', 'choppy', 'pang', 'calls', 'yung', 'r89', 'coconnect', 'didisconnect', 'paulit', 'ulit', 'kusa', 'waste', 'money', 'hindi', 'responsive', 'angf', 'seller'], ['pangit', 'sira', 'sana', 'next', 'time', 'po', 'tignan', 'niyo', 'muna', 'product', 'sayang', 'naman', 'hindi', 'magamit', 'mic', 'but', 'sound', 'okay', 'naman', 'mic', 'talaga', 'pati', 'pindutan'], ['gags', 'umorder', 'realme', 'buds', 'r40', 'dumating', 'r95', 'tsaka', 'sira', 'sira', 'yung', 'dulo', 'jack', 'ampangit', 'sounds', 'mas', 'maganda', 'yung', 'samsung', 'nabili', 'kanto', 'meghad', 'soo', 'disapointed', 'naloko', 'rating', 'wag', 'kayu', 'bumili', 'sayang', 'pera', 'dagdag', 'stress', 'hayyys'], ['not', 'pleased', 'item', 'worst', 'one', 'sure', 'itll', 'bother', 'return', 'because', 'spend', 'more', 'return', 'piece', 'junk'], ['po', 'gumagana', 'headset', 'yung', 'left', 'side', 'po', 'kala', 'naman', 'po', 'maayos', 'magagamit', 'useless', 'sayang', 'pera', 'hayssss'], ['black', 'inorder', 'white', 'dumating', 'grounded', 'agad', 'wag', 'kayo', 'oorder', 'adik', 'yung', 'seller'], ['very', 'disappointed', 'magnetic', 'po', 'yung', 'inorder', 'bat', 'po', 'yung', 'laman', 'package', 'second', 'naman', 'omoder', 'shop', 'looks', 'like', 'hindi', 'mauulit', 'naman', 'po', 'ganun', 'seller'], ['pinadala', 'tapos', 'ayaw', 'gumana', 'naman', 'online', 'class'], ['sabog', 'tunog'], ['sira', 'hindi', 'gumagana', 'ibang', 'item', 'pinadala', 'ibang', 'item', 'nga', 'sira', 'dipa', 'gumagana'], ['susunod', 'po', 'sana', 'deliver', 'kay', 'huwag', 'iabot', 'bata', 'hindi', 'alam', 'saan', 'iniwan', 'parcel'], ['dati', 'po', 'syang', 'stereo', 'ngayon', 'hindi', 'po'], ['not', 'recommended', 'buy', 'item', 'low', 'poot', 'quality'], ['not', 'use', 'call', 'listening', 'music', 'only'], ['item', 'broken', 'cant', 'even', 'use', 'mic'], [], ['angbilis', 'masira', 'ahahahahah', 'sayang', '55'], ['hindi', 'gumana'], ['broke', '10', 'days'], ['r20', 'lagayan', 'tas', 'r40', 'laman', 'basag', 'sound', 'galing', 'naman', 'binabayaran', 'naman', 'kumpleto'], ['not', 'working', 'tried', 'contact', 'seller', 'but', 'unresponsive'], ['sayang', '30', 'pang', 'load', 'sana'], ['gumagana'], ['sound', 'like'], ['ordered', 'headset', 'supposed', 'magnet', 'received', 'one', 'without', 'magnets'], ['mura', 'nga', 'mapapamura', 'sira', 'lintik', 'muna', 'chineck', 'definitely', 'report', 'seller', 'even', 'small', 'amount'], ['araw', 'nagamit', 'sira', 'agad'], ['timo', 'po', 'ordered', 'earphones', 'quantity', '3', 'but', 'recieved', 'order', 'opened', 'turns', 'only', '1', 'earphone', 'package', 'package', 'too', 'too', 'wide', 'thats', 'unhappy', 'know', '2', 'earphones', 'missing', 'please', 'deliver', '2'], ['built', 'magnet', 'naman', 'tsssk'], ['lahat', 'earphones', 'lahat', 'sira', 'anong', 'klaseng', 'seller', 'kayo', 'nagtitinda', 'kayo', 'sirang', 'earphonessayang', 'pero'], ['unang', 'gamit', 'sira', 'agad'], ['item', 'longer', 'working', '2', 'days', 'shipment'], ['sira', 'naman', 'yung', 'earphones', 'walang', 'kwenta', 'sayang', 'pera', 'bwisit'], ['pangit', 'tunog', 'sabog', 'sounds'], ['galing', 'original', 'earphone', 'wag', 'muna', 'try', 'like', 'galing', 'original', 'walang', 'left', 'right', 'sounds', 'sira', 'pinadala', 'refund', 'mura', 'naman', 'ok', 'pero', 'wag', 'kana', 'tumuloy', 'order', 'like', 'toy', 'men'], ['basag', 'boses'], ['panget', 'quality', 'r20', 'pero', 'yung', 'maganda'], ['wala', 'yung', 'rubber', 'left', 'side', 'tapus', 'tagal', 'delivery', 'saan', 'saan', 'dinala', 'same', 'qc', 'naman'], ['hindi', 'maganda', 'yung', 'earphone', 'hindi', 'gumagana', 'yung', 'tapos', 'yung', 'magmetic', 'pero', 'hindi', 'naman'], ['wrong', 'product'], ['ngetpa', 'quality'], ['microphone', 'not', 'working'], ['very', 'disappointed'], ['ginamit', 'sya', 'but', '1week', 'hindi', 'sya', 'gumagana', 'disappointed'], ['defective', 'item', 'tunog', 'chipmunks', 'dineliver'], ['sira', 'kaagad'], ['mali', 'binigay'], ['dating', 'maayos', 'tapos', 'nagalaw', 'saglit', 'sira', 'yung', 'kanan', 'tumutunog'], ['bilis', 'masira', '3', 'days', 'palang', 'nagagamit', 'sira'], ['panget'], ['hindi', 'gumagana', 'yung', 'pares', 'earphone', 'sana', 'refund'], ['very', 'disappointed', 'mic', 'not', 'functioning', 'not', 'magnetic', 'sana', 'po', 'tried', 'shipping', 'tanggal', 'yung', 'yellow', 'nakaconnect', 'earphones'], ['ordered', 'two', 'one', 'came', 'two', 'same', 'right', 'earbuds', 'disappointing'], ['very', 'very', 'very', 'unhappy', 'tela', 'kurtina', 'ayon', 'tela', 'bedsheet', 'katsa', 'texture', 'po', 'sya', 'terno', 'pero', 'kurtina', '1', 'pink', 'at1', 'peach', 'kulay', 'dapat', 'po', '2', 'pink', 'sana', 'checheck', 'orders', 'service', 'makabawi', 'kayo', 'not', 'buying', 'again'], ['subrang', 'kupas', 'kulor', 'nyaiba', 'piciba', 'expictition', 'dalawang', 'order', 'kona', 'ganoon', 'una', 'kupas', 'kular'], ['sobrang', 'panget', 'kulay', 'kupas', 'kupas', 'parang', 'gmit', 'sayang', 'pera', 'wag', 'wag', 'kau', 'oorder', 'dto', 'nkaka', 'disappoint', 'sobra', 'kagigil', 'balik', 'pera', 'tong', 'items', 'panget', 'panget', 'nhhiya', 'tuloy', 'ibgay', 'kay', 'kasi', 'sobrang', 'panget'], ['super', 'disappointed', 'layo', 'itsura', 'sample', 'picture', 'nakakadismaya', 'kupas', 'kulay', 'parang', 'luma', 'sayang', 'pera'], ['sobrang', 'pic', 'actual', 'kupas', 'naa', 'po', 'xa', 'parang', 'ginamit'], ['mayabang', 'deliver', 'subrang', 'yabang'], ['napaka', 'putla', 'kulay', 'hindi', 'naman', 'red', 'parang', 'binabad', 'clorox', 'not', 'worth', 'money', 'hindi', 'maganda', 'qaulity'], ['napaka', 'nipis', 'napaka', 'faded', 'kulay', 'malayo', 'ads', 'picture', 'naloko', 'presyong', 'mababa', 'kailangan', 'makaloko', 'kayo', 'bumenta', 'ayusin', 'negosyo', 'rereply', 'seller'], ['nagana', 'left', 'wag', 'kayo', 'bumili'], ['product', 'not', 'working', 'tried', 'contact', 'seller', 'but', 'ignored', 'messages'], ['fake', 'bad', 'quality', 'tunog', 'lata', 'not', 'magnetic', 'false', 'advertising'], ['gana', 'yung', 'mic'], ['ganda', 'una', 'tas', 'kinabukasan', 'nasira'], ['pagkalipas', 'araw', 'garal', 'gal', 'yung', 'tunog', 'right'], ['hindi', 'gumagana', 'side', 'partida', 'dalawa', 'order', 'tas', 'built', 'magnets', 'daw', 'tapos', 'wala', 'naman', 'scam', 'amputek', 'cable', 'organizer', 'daw', 'tapos', 'wala', 'naman', 'kulang', 'kulang', 'dipa', 'gumagana', 'bulok'], ['wrong', 'item', 'shipped', 'gon'], ['earphones', 'not', 'surround', 'sound', 'piece', 'plays', 'right', 'side', 'audio', 'either', 'lower', 'volume', 'sound', 'left', 'side', 'audio', '10'], ['walang', 'silbe', 'hahahahahahahaha', 'ayaw', 'niyo', 'sisi', 'wag', 'bumili'], ['sira', 'yung', 'earphone', 'nirefund', 'nga', 'diman', 'nagtanong', 'manlang', 'active', 'shopee', 'pay', 'sayang', 'diko', 'magagamit', 'sana', 'kahit', 'gcash', 'nalang', 'po', 'sana', 'magrarate', 'ganto', 'maayos', 'po', 'kayo', 'makipagusap', 'seller', 'sinunod', 'req', 'sirain', 'yung', 'earphone', 'marefund', 'pero', 'anyare'], ['second', 'time', 'buying', 'still', 'same', 'issue', 'last', 'one', 'left', 'side', 'wont', 'workif', 'focused', 'but', 'works', 'sound', 'quality', 'not', 'good', 'but', 'usable', 'not', 'thanks', 'probably', 'wont', 'order', 'again'], ['picture', 'not', 'related', 'ordered', '2', 'pcs', 'disappointed', 'hindi', 'gumagana', 'mic', 'earphones', 'though', 'only', 'cost', 'little', 'pero', 'sana', 'yung', 'maayos', 'natatanggap', 'buyer', 'cant', 'refund', 'return', 'kais', 'order', 'received', 'son', 'without', 'testing', 'mic', 'item'], ['poor', 'customer', 'service', 'beses', 'sinabi', 'q', 'concerns', 'pero', 'nmn', 'nasasagot', 'maayos', 'concerns', 'damage', 'dumating', 'tempered', 'glass', 'pero', 'wla', 'mn', 'lng', 'matinong', 'sagot', 'wlang', 'mabigay', 'solutions', 'regarding', 'concerns', 'customer', 'yung', 'number', 'nmn', 'binigay', 'invalid', 'naman'], ['hndi', 'maayos', 'earphones', 'paano', 'dalawa', 'inorder', 'sira'], ['wlang', 'kwenta', 'yung', 'earphone', 'hndi', 'ngamit', 'syang', 'pera'], ['hnd', 'po', 'nagana'], ['one', 'star', '1', 'day', 'nagamit', 'headset', 'kinabukasan', 'gumagana'], ['sobrang', 'panget', 'product', 'order', 'dalawang', 'earphones', 'same', 'sira', 'gumagana', 'speaker'], ['admit', 'delivery', 'good', 'but', 'received', 'defective', 'earphone', 'ask', 'refund', 'shop', 'said', 'cut', 'using', 'scissor', 'cut', 'defective', 'earphone', 'but', 'didnt', 'refund', 'payment'], ['maganda', 'sana', 'kasi', 'mabilis', 'deliver', 'kaso', 'gamit', 'static', 'agad', 'chat', 'shop', 'reresponse', 'kaya', 'tyatyagaan', 'nalang'], ['sabog', 'audio', 'left', 'one', 'doesnt', 'work'], ['yung', 'bumili', 'kase', 'gagamitin', 'mo', 'online', 'classtas', 'gumagana', 'yung', 'mic', 'kaya', 'wag', 'kayo', 'taka', 'bat', 'wanstar'], ['bagsag', 'po', 'tempered', 'glass'], ['wawala', 'sound', 'minsan'], ['low', 'build', 'quality', 'bagsak', 'sira'], ['wrong', 'items', 'one', 'time', 'palang', 'nagagamit', 'ganyan', 'agad', 'not', 'order', 'again'], ['trash', 'product'], ['kulang', 'pinadala', '3', 'order', 'dumating', 'message', 'wala', 'manlang', 'respond', 'kala', 'nuo', 'perang', 'binayad', 'free'], ['gumagana', 'mic', 'maganda', 'yung', 'tunog', 'kaso', 'gumagana', 'mic', 'sayang', 'wag', 'kayo', 'bumili', 'sayang', 'pera'], ['update', 'wala', 'pang', '1', 'week', 'sira', 'agad', 'yung', 'item'], ['sorry', 'seller', 'shopee', 'product', 'quality', 'poor', 'thatã•s', 'itã•s', 'cheap'], ['panget', 'sounds', 'hindi', 'gumana', 'buttons', 'hindi', 'pwede', 'pang', 'music', 'pang', 'call', 'sayang', 'pera'], ['mahina', 'yung', 'ear', 'bud'], ['left', 'side', 'earphone', 'not', 'functioning', 'sinubukan', '3', 'phones', 'ganon', 'right', 'side', 'earphone', 'earphone', 'malakas', 'gumagana'], ['bilis', 'pong', 'nasira'], ['mahina', 'realme', '6pro'], ['sira', 'agad', 'amp'], ['yung', 'packaging', 'wala', 'bubble', 'wrap', 'buti', 'hindi', 'nasira', 'nung', 'narecieve', 'kaya', 'mura', 'sya', 'yung', 'tunog', 'okay', 'pero', 'salamat', 'parin', 'lagyan', 'po', 'bubble', 'wrap', 'packaging', 'yung', 'salamat'], ['wag', 'kayong', 'bumili', 'bulok', 'yung', 'seller', 'sira', 'yung', 'bini', 'benta', 'tapos', 'marunong', 'paraan', 'maayos', 'yung', 'binenta', 'first', 'time', 'makaranas', 'neto', 'kaya', 'wag', 'kayong', 'bumili', 'worth', 'masasayang', 'pera'], ['bought', 'two', 'earphone', 'earphone', 'side', 'not', 'working'], ['nkklungkot', 'hina', 'sbagay', 'cheaper', 'price', 'low', 'quality'], ['items', 'defective'], ['bobo'], ['disappointed', '3', 'earphones', 'naman', 'binili', 'stock', 'aq', 'tapos', 'nung', 'tinry', 'lahat', 'call', 'umuugong', 'like', 'wtf', 'expect', 'expect', 'kanina', 'dating', 'araw', 'inantay', 'tapos', 'ganito', 'not', 'order', 'again'], ['fake', 'hindi', 'naman', 'real', 'earphone'], ['sira', 'agad', 'sya', 'hahahaa'], ['disapointed', 'kasi', 'yung', 'right', 'ear', 'sabog', 'yung', 'tunog', 'naka', 'usli', 'yung', 'wires', 'aa', 'right', 'hays', 'sobrang', 'sayang'], ['sira', 'nung', 'diniliver', 'bulok', 'sayang', 'pera', 'mo'], ['sira', 'mic', 'tapos', 'days', 'nasira', 'pati', 'yung', 'earphones'], ['defective', 'parehas', 'pinadala'], ['protection', 'product', 'huhu', 'sira', 'yung', 'items', 'ayaw', 'gumana', 'tapos', 'yung', 'putol', 'yung', 'cord', 'pero', 'send', 'naman', 'seller', 'pic', 'bka', 'shipping', 'sya', 'pero', 'hope', 'sana', 'protection', 'next', 'time', 'sira', 'pagdumating'], ['panget', 'item', 'parehas', 'tumutunog', 'wag', 'kayong', 'bibili', 'napaka', 'panget', 'product'], ['hindi', 'alam', 'sira', 'pero', 'kase', 'description', 'stereo', 'type', 'sya', 'earphone', 'pero', 'mono', 'sya', 'means', 'naka', 'merge', 'left', 'right', 'sound', 'imbis', 'sound', 'left', 'left', 'lalabas', 'ganon', 'right'], ['beware', 'buying', 'products', 'store', 'sell', 'damaged', 'items', 'doesnt', 'refund', 'bought', 'item', 'sale', 'received', 'nonfunctioning', 'one', 'doesnt', 'worth', 'returning', 'throw', 'seller', 'respond', 'days', 'yeah', 'heads', 'sell', 'faulty', 'items', 'checking', 'product'], ['sira', 'yung', 'r40', 'yung', 'left', 'gumagana', 'hindi', 'sya', 'mamagnet'], ['first', 'price', 'low', 'dont', 'expect', 'good', 'quality', '2nd', 'really', 'dont', 'recommend', 'categories', 'cause', 'give', 'same', 'thing', 'mine', 'thank'], ['maling', 'item', 'yung', 'pinadala', 'ugaliing', 'icheck', 'bago', 'ishipout', 'nakakaabala', 'kase', 'ganyan'], ['unang', 'order', 'kaibigan', 'parehong', 'right', 'nakuha', 'nung', 'umorder', 'naman', 'parehong', 'left', 'naman', 'taena', 'trinashtalk', 'tuloy', 'search', 'destroy', 'cod', 'tinawag', 'kaming', 'bingi', 'amp'], ['scratches', 'defective', 'item', 'late', 'delivery', 'scam', 'rude', 'seller'], ['sira', 'po', 'yung', 'earphone', 'pawala', 'wala', 'sya', 'tapos', 'minsan', 'hihina', 'lalakas', 'tapos', 'minsan', 'mawawala', 'nlg', 'sya', 'connect', 'phone', 'mo', 'siguro', 'hinahagis', 'jnt', 'hnd', 'kasi', 'naka', 'bubble', 'wrap', 'hayss'], ['item', 'received', 'expected', 'more', 'sound', 'quality', '3', 'days', 'using', 'still', 'stereo', 'sound', 'poor', 'quality', 'product', 'very', 'disappointed'], ['mahina', 'side', 'headset', 'marami', 'comment', 'maganda', 'pero', 'basag', 'bass'], ['sira', 'po', 'yung', 'left', 'side', 'pangit', 'po', 'sound', 'quality', 'hindi', 'comportable', 'tenga'], ['maling', 'item', 'yung', 'pinadala', 'ugaliing', 'icheck', 'bago', 'ishipout', 'nakakaabala', 'kase', 'ganyan'], ['unang', 'order', 'kaibigan', 'parehong', 'right', 'nakuha', 'nung', 'umorder', 'naman', 'parehong', 'left', 'naman', 'taena', 'trinashtalk', 'tuloy', 'search', 'destroy', 'cod', 'tinawag', 'kaming', 'bingi', 'amp'], ['scratches', 'defective', 'item', 'late', 'delivery', 'scam', 'rude', 'seller'], ['sira', 'po', 'yung', 'earphone', 'pawala', 'wala', 'sya', 'tapos', 'minsan', 'hihina', 'lalakas', 'tapos', 'minsan', 'mawawala', 'nlg', 'sya', 'connect', 'phone', 'mo', 'siguro', 'hinahagis', 'jnt', 'hnd', 'kasi', 'naka', 'bubble', 'wrap', 'hayss'], ['item', 'received', 'expected', 'more', 'sound', 'quality', '3', 'days', 'using', 'still', 'stereo', 'sound', 'poor', 'quality', 'product', 'very', 'disappointed'], ['mahina', 'side', 'headset', 'marami', 'comment', 'maganda', 'pero', 'basag', 'bass'], ['same', 'right', 'sounds', 'fck'], ['sira', 'po', 'yung', 'left', 'side', 'pangit', 'po', 'sound', 'quality', 'hindi', 'comportable', 'tenga'], ['sayang', 'peraang', 'layo', 'kumpara', 'picturetas', 'machina', 'tunog', 'very', 'disappointed', 'ðÿ˜ž'], ['defective'], ['1', 'gumagana', 'parang', 'more', 'chances', 'winning', 'buy', 'more', 'buti', 'nalang', 'tatlo', 'binili', 'hahahah'], ['very', 'disappointed', 'bought', '4pcs', 'earphones', 'tapos', 'sira', 'lahat', 'mic', 'useless', 'magamit', 'open', 'mic', 'games', 'call', 'mic', 'defected', 'please', 'dont', 'buy', 'guys', 'games', 'using', 'mic', 'gagamitin', 'calls', 'waste', 'money', 'better', 'buy', 'somewhere', 'else'], ['low', 'quality', 'sound', 'sabog', 'tunog'], ['earphones', 'defectiveone', 'earphone', 'only', 'gave', 'left', 'input', 'buds', 'earphone', 'only', 'gave', 'right', 'input', 'budsits', 'like', 'listening', 'mono', 'earphone'], ['huwag', 'kayoo', 'bumili', 'dto', 'siraa', 'yung', 'darating', 'sainyooo', 'pweeee'], ['panget', 'quality', 'sound', 'nagana', 'left', 'side', 'kanta'], ['wrong', 'low', 'quality', 'items', 'fake', 'realme', 'earphones', 'seller', 'not', 'responsive'], ['panget', 'item', 'personal', 'tunog', 'lata', 'cheap', 'itsura', 'peke', 'peke', 'tlga', 'post', 'realme', 'pero', 'ndi', 'sya', 'totoo', 'jafake'], ['madali', 'siyang', 'masira', 'parang', '2', 'days', 'palang', 'natanggal', 'agad', 'yung', 'wire', 'kanan'], ['not', 'working'], ['panget', 'quality', 'product', 'see', 'not', 'really', 'get', 'sana', 'chinecheck', 'items', 'nagana', 'hindi', 'nakakadisappoint', 'beses', 'nagorder', 'shopee', 'pero', 'shop', 'nanlumoðÿ˜¤'], ['parehong', 'left', 'tunog', 'malakas', 'naman', 'problema'], ['2', '5', 'not', 'working', 'pinaputol', 'seller', 'yung', 'hindi', 'gumagana', 'daw', 'irefund', 'tapos', 'icancel', 'yung', 'refund', 'request', 'know', 'cheap', 'pero', 'paid', 'napaka', 'unfair'], ['panget', 'misleading', 'product', 'realme', 'nakalagay', 'naman', 'realme', 'panget', 'sana', 'ulam'], ['pwede', '28', 'pesosðÿ˜…', 'mas', 'malakas', 'yung', 'bass', 'mismong', 'tugtog', 'pero', 'mabait', 'naman', 'yung', 'seller', 'maganda', 'naman', 'yung', 'packaging', 'nung', 'earphone', 'nung', 'dumating', 'kahit', 'walang', 'bubble', 'wrap', 'mukhang', 'maganda', 'naman', 'yung', 'quality', 'pero', 'talaga', 'gusto', 'yung', 'tunog', 'ðÿ˜…'], ['1', 'star', 'only', 'kasi', 'hindi', 'gumagana', 'yung', 'stereo', 'earphones', 'nato', 'tinest', 'sya', 'left', 'right', 'sound', 'hindi', 'mo', 'naririnig', 'yung', 'sounds', 'right', 'side', 'puro', 'left', 'side', 'parang', 'naka', 'combine', 'yung', 'sounds', 'parang', 'naka', 'mono', 'sound', 'naman', 'gumagana', 'kaso', 'yung', 'stereo', 'type', 'earphones', 'nato', 'wala'], ['bat', 'naman', 'sira', 'pinadala', 'sakin', 'balik', 'pera', 'nagsayang', 'pera', 'sirang', 'earphone', 'nkakadismaya', 'kauðÿ˜\\xadðÿ˜\\xadðÿ˜\\xad'], ['not', 'worth', 'buying', 'though', 'price', 'defines', 'quality', 'tried', 'testing', 'left', 'right', 'earplugs', 'works', 'left', 'earplug', 'meaning', 'right', 'earplug', 'left', 'sound', 'none', 'earplugs', 'right', 'sound', 'ðÿ˜', '”'], ['not', 'buy', 'earphones', 'sound', 'very', 'bad', 'ganito', 'yung', 'nabibili', 'naglalako', 'kalye'], ['ordered', 'r95', 'variant', 'okay', 'yung', 'delivery', 'sakin', 'medyo', 'mabilis', 'naman', 'problema', 'garalgal', 'yung', 'tunog', 'walang', 'quality', 'yung', 'sound', 'lalo', 'songs', 'requesting', 'refund', 'replacement', 'item', 'please', 'responsible', 'business', 'ðÿ™‚'], ['poor', 'quality', 'sayang', 'bayad', '2', 'naman', 'inorder', 'daling', 'nasira', 'wala', 'pang', '1', 'week', 'sorry', 'not', 'order', 'again'], ['grounded', 'amputik', 'sayang', 'hayst'], ['never', 'buy', 'never', 'again', 'abuloy'], ['never', 'order', 'again', 'shop', 'waste', 'money'], ['item', 'received', 'isnt', 'working', 'intend', 'return', 'but', 'eventually', 'due', 'personal', 'schedule', 'not', 'go', 'branch', 'jt', 'area', 'buy', 'another', 'one'], ['kapangit', 'naman', 'tunog', 'lata', 'naman'], ['sira', 'po', 'agad'], ['honestly', 'speaking', 'know', 'too', 'much', 'expect', 'quality', 'product', 'cheap', 'price', 'but', '2', '4', 'earphones', 'isnt', 'working', 'sana', 'pina', 'ship', 'tinest', 'muna', 'buti', 'mura', 'lng', 'nabili'], ['sorry', 'but', 'item', 'received', '95', 'not', 'functioning', 'problema', 'jack', 'mismo'], ['kainis', 'maganda', 'yung', '9', 'pesos', 'earphone', 'nabili', 'koðÿ¤¬ðÿ¤¬'], ['sound', 'bad', 'parang', 'tunog', 'lata', 'tas', 'sabog', 'yung', 'tunog', 'tas', 'mahina', 'not', 'order', 'again'], ['sira', 'yung'], ['tapos', 'kini', 'click', 'refund', 'kanina', 'ayaw', 'gumana', 'ska', 'ayaw', 'send', 'photo', 'isesend', 'talaga', 'sirang', 'headset', '2', 'putol', 'pang', 'wire', 'nakakagigil', 'sana', 'hindi', 'kayo', 'nagtinda', 'sayang', '159', 'hindi', 'bibili', 'ulit', '0', 'star', 'kayo', 'dapat', 'hindi', 'binalik', 'delivery', 'piso'], ['scammed', 'akala', 'realme', 'bat', 'msp', 'missippi', 'hahays', 'not', 'recommend', 'everyone', 'post', 'facebook'], ['310', 'pangit', 'quality'], ['realme', 'earphone', 'inorder', 'q', 'tong', 'dumating', 'sken', 'haist', 'dismaya', 'ok', 'lng', 'sna', 'price', 'per', 'sna', 'ndi', 'nilagay', 'realme', 'brand', 'pra', 'ndi', 'umasa', 'mhina', 'sounds', 'nea', 'kea', 'ndi', 'bkaka', 'satisfied', 'wala', 'update', 'seller', 'ndi', 'aq', 'mauulit', 'dto'], ['items', 'defective', 'fck'], ['damaged', 'yung', 'earphone', 'not', 'recommend', 'buy', 'item', 'even', 'though', 'name', 'realme'], ['please', 'refund', 'money', 'order', 'r95', 'but', 'get', 'r40', 'sira', 'yung', 'tenga', 'grounded', 'refund', 'money', 'please'], ['clearly', 'package', 'says', 'stereo', 'earphone', 'but', 'received', 'mono', 'earphone', 'seller', 'doesnt', 'give', 'sht', 'cause', '3rd', 'order', 'first', 'good', 'second', 'mono', 'refund', 'third', 'one', 'shtty', 'second', 'one', 'always', 'check', 'order', 'left', 'right', 'test'], ['dedetect', 'tas', 'ayaw', 'gumana', 'ðÿ˜ž'], ['baduy', 'araw', 'hinintay', 'sira', 'naman', 'dumating', 'sakin', 'hahahhaaha', 'baduy', 'baduy', 'buti', 'mura'], ['tunog', 'lata', 'kulob', 'sabog', 'audio', 'amp'], ['poor', 'packaging', 'ayusin', 'naman', 'sana', 'sunod', 'kase', 'binibe', 'nakin', 'eh'], ['earplugs', 'arent', 'working', 'properly', 'left', 'bud', 'doesnt', 'make', 'sound', 'overall', 'audio', 'very', 'choppy', 'wont', 'recommend'], ['parehas', 'sira', 'yung', 'earphone', 'binigay', 'sakin', 'seller', 'naman', 'nakakadismaya'], ['mabilis', 'masira'], ['very', 'disappointing', 'ðÿ˜¤ðÿ˜', '”'], ['ordered', 'four', 'earphones', 'one', 'working', 'three', 'pure', 'garbage', 'guess', 'working', 'one', 'sounds', 'like', 'not', 'even', 'worth', '30', 'pesos', 'lol'], ['not', 'original', 'quality', 'not', 'good'], ['not', 'good', 'shop', 'mali', 'mali', 'yung', 'dumating', 'item', 'basag', '2', 'temperedglass', 'kulang', 'earphones', 'ata', 'marungong', 'reply', 'owner', 'shop', 'nato', 'kasi', 'kahit', 'tad', 'tatadin', 'muna', 'reklamo', 'mo', 'wala', 'parin', 'pakialam', 'marunong', 'approachable', 'nakaka', 'inis', 'boysit', 'imbes', 'kumita', 'hindi'], ['bought', '2', 'earphones', '2', 'not', 'working'], ['balance', 'scuffed', 'left', 'side', 'almost', 'sound', 'lmao'], ['tagal', 'dumatiing', 'tapos', 'mumble', 'yung', 'audio', 'never', 'buying', 'again'], ['wag', 'kayong', 'bibili', 'haha', 'buloks'], ['taena', 'tagal', 'nanga', 'dumating', 'item', 'damage', 'bugok'], ['hindi', 'fit', 'realme', '6', 'pro'], ['jst', 'try', 'nung', 'dumatng', 'kaso', 'tlaga', 'gumana', 'proces', 'return', 'refund', 'but', 'unfurtunately', 'much', 'hassle', 'bz', 'work', 'well', 'seller', 'mesg', 'off', 'telling', 'cut', 'off', 'wire', 'headset', 'hv', 'refund', 'pero', 'wala', 'haha', 'lol', 'return', 'but', 'thank', 'though', 'not', 'good', 'experience'], ['received', 'order', 'look', 'not', 'ordered', 'already', 'open', 'like', 'replaced'], ['imitation', 'lng', 'based', 'price'], ['1', 'week', 'nagamit', 'nasira', 'agad'], ['5', 'days', 'nagagamit', 'sira', 'agad', 'sayang', 'pera'], ['tumutunog'], ['tangina', 'wag', 'kayo', 'bumili', 'walang', 'kwenta', 'seller', 'tas', 'product', 'sira', 'sira', 'padating'], ['gumagana'], ['sira', 'yung', 'product', 'niyo'], ['item', 'received', 'but', 'paid'], ['sound', 'quality', 'bad'], ['poor', 'quality'], ['bulok', 'yung', 'mic'], ['honest', 'comment', 'not', 'satisfied', 'quality', 'product', 'cheap', 'quality', 'sound', 'cheap', 'too', 'disapointed', 'products', 'quality', 'test', '3pcs', 'bought', 'same', 'quality', 'tunog', 'lata', 'yung', 'sound', 'sorry', 'comment', 'dissapointed'], ['order', 'recieved', '3', 'days', 'disappointed', 'item', 'basag', 'sound', 'earpiece', 'yung', 'mahina', 'sound', 'hope', 'susunod', 'honest', 'naman', 'po', 'kayo', 'benebenta', 'yes', 'mura', 'nga', 'item', 'naka', 'promo', 'daw', 'pero', 'halatang', 'fake', 'realme', 'daw', 'brand', 'maganda', 'pagkabalot', 'ðÿ˜', '’'], ['yung', 'sakabila', 'nang', 'earphones', 'gana', 'sana', 'po', 'merong', 'refund', 'ate', 'salamat', 'po'], ['earphone', 'niyo', 'bulok', 'napakawalang', 'kwenta', 'good', '3', 'songs', 'ampota'], ['sira', 'yung', 'micrude', 'seller', 'grabe', 'owede', 'labg', 'bigay', 'bg', '0', 'stars'], ['ibang', 'earphones', 'loob', 'nang', 'balot', 'zz'], ['mic', 'not', 'working'], ['details', 'volume', 'control', 'nung', 'dumating', 'wlang', 'volume', 'control'], ['jack', 'tilted', 'sound', 'cracked', 'dont', 'order', 'm39', 'earphone', 'sucks'], ['bulok', 'pangit', 'tunog', 'sira', 'sira', 'yung', 'beads'], ['aus', 'legit', 'realme', 'hahaha', 'puti', 'naligaw', 'naubusan', 'haahahah', 'ok', 'sana', 'khit', 'local', 'realme', 'earphone', 'hndi', 'eh', 'naligaw', 'eh', 'ðÿ˜‚ðÿ˜‚ðÿ˜‚'], ['hindi', 'nagana', 'kaya', 'bingay', 'ksama'], ['panget', 'quality', 'sounds'], ['inorder', 'earphones', 'dumating', 'sakin', 'phone', 'case'], ['good', 'luck', 'nalang', 'bumili', 'shop', 'kahit', 'naka', 'sale', 'walang', 'stock', 'naka', 'auto', 'replace', 'policy', 'cla', 'basihin', 'papadalhan', 'ibang', 'design', 'kahit', 'hind', 'mo', 'gustoðÿ¤¬ðÿ¤¬ðÿ¤¬'], ['overrated', 'even', 'start', '1', 'diko', 'nasusuot', 'lng', 'bakbak', 'agad', 'print', '2', 'hndi', 'proportional', 'sleeves', 'too', 'long', 'size', 'prang', '90s', 'dugyot', 'hiphopers', '3', 'seller', 'took', 'over', '4days', 'item', 'shipped', 'mas', 'mganda', 'kay', 'yshirts', '149php', 'lng'], ['kahit', 'hindi', 'kinusutan', 'hinaluan', 'zonrox', 'nasira', 'agad', 'yung', 'design', 'glitters', 'kumalat', 'buong', 'shirt', 'sobrang', 'nakakadisappoint', 'maganda', 'sana', 'yung', 'design', 'size', 'kaso', 'hindi', 'quality'], ['hipping', 'took', 'long', 'received', 'wrong', 'items', 'sayang', 'pera', 'ðÿ˜¡'], ['potek', 'ganda', 'picture', 'tapos', 'dumating', 'butas', 'butas', 'tapos', 'panget', 'print', 'sira', 'sira', 'sana', 'ayosin', 'niyo', 'naman'], ['ok', 'naman', 'yung', 'shirt', 'kaso', 'yung', 'print', '2', 'tanggal', 'umayyy', 'panget', 'print', 'tunaw', 'agad', 'yung', 'print', 'walang', 'kwenta', 'ok', 'sana', 'shirt', 'print', 'pumanget'], ['expect', 'maganda', 'kase', 'nakita', 'koto', 'shoppee', 'budol', 'large', 'binili', 'kase', 'gusto', 'oversized', 'ganda', 'sana', 'pamorma', 'tas', 'nung', 'dumating', 'lake', 'nung', 'manggas', 'pero', 'maganda', 'naman', 'yung', 'shirt', 'print', 'yung', 'manggas', 'talaga', 'sobrang', 'disappointed', 'sayang', 'pera', '2', 'panaman', 'binili'], ['pangit', 'tela'], ['apaka', 'nasa', 'braso', 'daig', 'sakristan', 'suot', 'hahaha'], ['pang', '4th', 'order', 'hindi', 'maganda', 'pagkakatahi', 'round', 'neck', 'nadismaya', 'inspi', 'fan', 'naman', 'kakainis', 'error'], ['glitch', 'daw', 'sytem', 'stock', 'daw', 'item', 'tapos', 'pinadala', 'bigyan', 'lng', 'keyholder', 'ampangit', 'nmn', '2nd', 'time', 'sana', 'umorder', 'shop', 'kaso', 'pambihira', 'update', 'sana', 'kayo', 'bago', 'kayo', 'padala', 'maling', 'item', 'bwesit'], ['dikit', 'dikit', 'yung', 'print'], ['tanggal', 'agad'], ['masyado', 'manggas'], ['parang', 'minadali', 'ata', 'pagprint', 'nakakadismaya', 'naman', 'mataas', 'naman', 'expectations', 'maganda', 'yung', 'previous', 'binili', 'sana', 'naman', 'maulit', 'talagang', 'nakakadismaya'], ['nababakbak', 'pintura', 'dalawang', 'beses', 'palang', 'nilabahan'], ['pangit', 'tila', 'laki', 'laki', 'damit', 'hindi', 'magagamit'], ['gaano', 'maganda', 'yung', 'tatak', 'bitak', 'bitak', 'yung', 'dumating', 'tagal', 'dumating'], ['informed', 'one', 'item', 'order', 'stock', 'replaced', 'another', 'one', 'replacement', 'provided', 'same', 'ordered', 'previous', 'order', 'too', 'grrr', 'item', 'took', 'more', 'shopee', 'guaranteed', 'date', 'shipping', 'date', 'ship', 'refused', 'cancellation', 'too'], ['lipi', 'amp'], ['panget', 'nang', 'print'], ['malaki', 'size', 'kakainisðÿ˜¡'], ['panget'], ['waste', 'money', 'pagdating', 'palang', 'sobra', 'dami', 'crack', 'print', 'msg', 'agad', 'knila', 'pero', 'sobra', 'tagal', 'sumagot', 'auto', 'received', 'order', 'diko', 'mareturn', 'daw', 'nabahan', 'ayan', 'kumalat', 'print', 'sobrang', 'dikit', 'dikit', 'tela', 'pang', 'basahan', 'nalang', 'sayang', 'pera'], ['2', 'items', 'went', 'missing', 'ðÿ¤¬ðÿ¤¬ðÿ¤¬ðÿ¤¬ðÿ¤¬ðÿ¤¬ðÿ¤¬ðÿ¤¬'], ['next', 'time', 'yari', 'system', 'glitch', 'bigay', 'kayo', 'choices', 'makapili', 'design', 'kasi', 'tatlong', 'white', 'binili', 'dumating', 'puro', 'black', 'nakaka', 'dismaya', 'lng', 'kasi', 'yung', 'gusto', 'hindi', 'yung', 'dumating'], ['grabe', 'naman', 'kayo', 'mali', 'mali', 'binigay', 'sakin', '4', 'binili', 'pero', 'hindi', 'tama', 'design', 'ibinigayayusin', 'naman', 'seserbisyo', 'costumer', 'graabe', 'kayosana', 'hindi', 'maulit'], ['kulang', 'dumating', 'order'], ['reseller', 'very', 'unhelpful', 'basically', 'leave', 'comment', 'order', 'want', 'hungry', 'adventure', 'design', 'but', 'reseller', 'insist', 'very', 'rude', 'not', 'recommended', 'buy', 'store'], ['requesting', 'refundreturn', '1', 'item', '10', 'purchase', 'check', 'item', 'beforehand'], ['laki', 'expectations', 'mali', 'yung', 'size', 'binigay', 'hindi', 'maganda', 'yung', 'neck', 'design'], ['hinding', 'hindi', 'oorder', 'seller', 'tomali', 'maling', 'design', 'binigay', 'bweset', 'nagbabayad', 'tama', 'item', 'malikung', 'kapitbahay', 'jnt', 'balik', 'agad', 'agadðÿ¤¬ðÿ¤¬ðÿ¤¬ðÿ¤¬ðÿ¤¬ðÿ¤¬ðÿ¤¬ðÿ¤¬ðÿ¤¬ðÿ¤¬ðÿ¤¬ðÿ¤¬ðÿ¤¬ðÿ¤¬ðÿ¤¬ðÿ¤¬ðÿ¤¬ðÿ¤¬ðÿ¤¬ðÿ¤¬ðÿ¤¬ðÿ¤¬ðÿ¤¬ðÿ¤¬'], ['ï¿½ï¿½ðÿ˜¥'], ['nabubura', 'yung', 'print', 'humahawa', 'low', 'quality'], ['disappointed', 'shirt', 'because', 'sleeves', 'too', 'long', 'feel', 'like', 'cant', 'wear'], ['punit', 'agad', 'yung', 'tela', 'maganda', 'sana', 'kaso', 'panget', 'kaso', 'nasira', 'agad', 'bukas', 'palang'], ['next', 'time', 'ubos', 'yung', 'stocks', 'message', 'yung', 'customer', 'gusto', 'ipalit', 'hindi', 'yung', 'kayo', 'yung', 'mamimili', 'tapos', 'papalitan', 'keychain', 'akong', 'bumili', 'naman', 'gusto', 'ðÿ', '‘', 'ž'], ['sobrang', 'nipis', 'telaðÿ˜‚'], ['kulang', 'po', 'yyng', 'order', 'payed', '2', 'tshirts', 'recieved', '1', 'tshirt', 'only', 'hindi', 'po', 'macontact', 'seller'], ['hindi', 'pantay', 'design', 'amp'], ['nipis', 'not', 'contented', 'ibang', 'pic', 'personal'], ['free', 'gift', 'wala', 'namang', 'dumating'], ['print', 'not', 'good'], ['ganda', 'pero', 'malaki', 'medium', 'binili', 'pero', 'large', 'naibigay', 'sken'], ['poor', 'customer', 'service', 'wrong', 'size', 'shirts', 'unfortunately', 'seller', 'not', 'willing', 'helpassist', 'declined', 'request', 'returning', 'items', 'couldnt', 'order', 'again', 'correct', 'size', 'daig', 'mallphysical', 'stores', '7'], ['panget', 'tela', 'mainet', 'katawan'], ['sayang', 'coins', 'kase', 'pero', 'maganda', 'yung', 'product', 'hahahhahahhahahdnsnskkekskksmsmnsnemnskskkekekkdkekekekekkekdnnrnnrnrnrnrndnne'], ['mabilis', 'matanggal', 'yung', 'nakasulat'], ['ampangit'], ['comment', 'ðÿ', '‘', 'žðÿ', '‘', 'žðÿ', '‘', 'ž'], ['tama', 'yung', 'size', 'dumating'], ['chaka', 'print', 'pero', 'keri', 'itâ€™s', 'price'], ['okay', 'sana', 'shirt', 'kaso', 'sana', 'nilagay', 'description', '34â€™s', 'sleeve', 'ðÿ˜…', 'mas', 'oversized', 'braso', 'kesa', 'katawan', 'eh', 'hahaha', 'tagal', 'delivery', 'daig', 'products', 'galing', 'china', 'anyways', 'thanks', 'freebie'], ['super', 'tagal', 'ship', '88', 'binili', 'pero', 'ngayon', 'naibigay', 'sakin', 'yung', 'tela', 'manipis', 'not', 'worth', 'price', 'tapos', 'bakbak', 'yung', 'ibang', 'print', 'not', 'recommended'], ['tatlong', 'tshirt', 'naorder', 'yung', 'dalawa', 'mali', 'layo', 'napili', 'kaya', 'nagrequest', 'returnrefund', 'pero', 'sobrang', 'hassle', 'kailangan', 'mismo', 'yung', 'magdrop', 'item', 'inabot', '8', 'days', 'bago', 'makuha', 'yung', 'refund', 'sana', 'naman', 'wag', 'ibang', 'items', 'ibigay', 'niyo', 'hirap', 'magbalik'], ['1', 'star', 'lapses', 'tahi'], ['large', 'order', 'tapos', 'dumating', 'medium', 'anliit', 'tuloy', 'pero', 'ok', 'naman', 'yung', 'shirt'], ['quality', 'not', 'good'], ['panget', 'print', 'tapos', 'nalaman', 'divisoria', '120php', 'sya', 'pwede', 'negative', 'star'], ['butas', 'yung', 'damit', 'tas', 'nagrereply', 'yung', 'seller'], ['matagal', 'yung', 'dating', 'madumi', 'payung', 'parcel', 'nung', 'dumating', 'nkaka', 'disappoint', 'hahays'], ['not', 'wave', 'splash', 'design', 'ordered'], ['poor', 'product', 'quality', 'ðÿ¤£', 'hindi', 'pwde', 'refund', 'hindi', 'pwde', 'mapalitan', 'yung', 'item', 'eh', 'kasi', 'butas', 'hindi', 'double', 'check', 'bago', 'padala', 'yung', 'item', 'swerte', 'ata', 'naka', 'order', 'walang', 'butas', 'defect', 'yung', 'item', 'anyway', 'sayang', 'pera', 'hindi', 'ulet', 'order', 'shop', 'thanks'], ['didnt', 'expect', 'shop', 'almost', 'positive', 'feedback', 'ðÿ™‚', 'waited', 'almost', '10', 'days', 'get', 'disappointing', 'not', 'accommodating', 'adminseller', 'order', 'created', 'july', '15', 'order', 'received', 'july', '25', 'â\\x9dœ', 'wrong', 'size', 'â\\x9dœ', 'wrong', 'item', 'received', 'â\\x9dœ', 'item', 'shipped', 'very', 'late', 'â\\x9dœ', 'not', 'order', 'again'], ['awit', 'sizing', 'napaka', 'inconsistent'], ['pangit', 'damit', 'palyado', 'print', 'sobrang', 'layo', 'tunay', 'buhay', 'never', 'again'], ['subrang', 'pangit', 'items', 'sayang', 'pera', 'super', 'disappointed', 'print', 'hnd', 'naka', 'sakto', 'line', 'likodðÿ', '’', '€'], ['butas', 'po', 'yung', 'tshirts', 'haysssss'], ['nipis', 'tela', 'yung', 'print', 'parang', 'natatanggal'], ['dami', 'soot', 'pang', 'jejemon'], ['awit', 'sana', 'ginagwa', 'nyu', 'nlng', 'silk', 'yung', 'tela', 'nipis'], ['laki', 'butas'], ['palang', 'tanggal', 'print'], ['umay', 'hindi', 'ganda'], ['daming', 'amutikkkainis'], ['4weeks', 'bago', 'deliver'], ['mali', 'yung', 'size', 'dumating'], ['medyo', 'maganda', 'print', 'parang', 'dali', 'matanggal'], ['wrong', 'item', 'delivered', 'lesson', 'lahat', 'sana', 'avail', 'item', 'message', 'wala', 'response', 'store', 'very', 'very', 'disappointed', 'explain', 'offer', 'anyway', 'correct', 'mistakes', 'wag', 'tangatangahan', 'halatang', 'sadyang', 'mali', 'item'], ['naman', 'oversize', 'palpak', 'naman', 'oversize', 'manggas', 'hindi', 'dami', 'umay'], ['yung', 'order', 'dreamer', 'gagi', 'tulog', 'kayo', 'wala', 'ata', 'kayong', 'tulog', 'sobrang', 'tagal', 'nga', 'anatay', 'wala', 'pang', 'kwneta', 'dadating', 'sayo', 'umay', 'sainyo'], ['mali', 'size', 'diniliver', 'medium', 'order', 'large', 'dumating'], ['wrong', 'items'], ['hindi', 'magandaaaaaa', 'super', 'disappoint', 'nakakapikoooooooon'], ['sira', 'naman', 'yung', 'tshirt', 'neck', 'badtrip', 'tahi', 'ampanget'], ['below', 'expectation'], ['said', 'same', 'color', 'but', 'notâ˜ºï¸\\x8f'], ['sobrang', 'manggas'], ['sakristan', 'yarn', 'sobrang', 'sikip', 'leeg', 'tapos', 'manggas', 'hahahaha'], ['sira', 'yung', 'design', 'dating'], ['bad', 'behaviour', 'delivery'], ['msyadi', 'minadali', 'print'], ['one', 'star', 'itâ€™s', 'first', 'time', 'order', 'shop', 'iâ€™m', 'really', 'disappointed', 'two', 'shirts', 'iâ€™ve', 'received', 'wrong', 'nevertheless', 'love', 'quality', 'shirt', 'next', 'time', 'double', 'check', 'items', 'first', 'shipping', 'seller', 'god', 'bless'], ['shipping', 'fast', 'but', 'wrong', 'itemm', 'even', 'size', 'disappointed'], ['received', 'incomplete', 'parcel', 'asked', 'refund', 'pero', 'naitapon', 'yung', 'plastic', 'kaya', 'hindi', 'nairefund', 'next', 'time', 'double', 'check', 'orders', 'sending', 'also', 'future', 'buyers', 'take', 'video', 'opening', 'parcel', 'maganda', 'tela', 'nung', 'shirt', 'pero', 'sobrang', 'sleeves', 'kelangan', 'pang', 'itupi'], ['unresponsive', 'seller', 'print', 'shirt', 'wasnt', 'also', 'great'], ['wala', 'manlang', 'kahit', 'anong', 'update', 'wala', 'manlang', 'chat', 'hindi', 'available', 'order', 'basta', 'niyo', 'nalang', 'papalitan', 'bago', 'hindi', 'manlang', 'ininform', 'almost', '400', 'worth', 'order', 'ganyan', 'kayo', 'trato', 'costumer', 'niyo', 'napaka', 'basura', 'hindi', 'nalang', 'cancel', 'order', 'pinag', 'pilitan', 'talaga', 'shipm'], ['cheap', 'materials', 'nice', 'strategy', 'pictures'], ['wag', 'kayo', 'umorder', 'â€¢', 'matagal', 'maship', 'â€¢', 'mali', 'color', 'damaged', 'yung', 'designs', 'â€¢', 'freebie', 'pero', 'nasan', 'deserve', '1', 'star', 'grabe', 'poor', 'lahat'], ['product', 'near', 'ordered', 'first', 'wasnâ€™t', 'one', 'checked', 'very', 'disappointing', 'first', 'time', 'received', 'wrong', 'productpackage', 'wonâ€™t', 'order', 'again'], ['punit', 'nung', 'dumating', 'sakin', 'yung', 'item', 'walang', 'kwenta'], ['oversize', 'sleeves', 'pero', 'length', 'bitin', 'kaya', 'tlaga', 'sya', 'oversized', 'pang', 'babae', 'tlaga', 'not', 'recommended', 'sorry'], ['wrong', 'item', 'delivered', 'requested', 'return', 'peru', 'walang', 'nangyari', 'next', 'time', 'double', 'check', 'niu', 'item', 'sending', 'sayang', 'pera', 'sobrang', 'nakaka', 'disappoint', 'ðÿ', '‘', '¹'], ['ordered', '3', 'shirts', 'one', 'isnâ€™t', 'even', 'closest', 'thing', 'right', 'design', 'print', 'sent', 'items', 'soso', 'not', 'particularly', 'good'], ['bat', 'naman', 'po', 'ganon', 'order', 'xl', 'dinating', 'sakin', 'large', 'naman', 'po', 'naliliitan', 'po', 'eh'], ['panget', 'layo', 'nasa', 'pic', 'actual'], ['wrong', 'size', 'wrong', 'design'], ['sana', 'nagbigay', 'kayo', 'picture', 'bago', 'ship', 'kase', 'umayyy', 'talagaa', 'parang', 'longsleeve', 'xl', 'ðÿ˜\\xadðÿ˜\\xad'], ['pangit', 'yung', 'tela', 'nyakala', 'gandatapos', 'yung', 'white', 'daming', 'dumimainit', 'yung', 'tela'], ['cheap', 'quality'], ['ayos', 'sana', 'eh', 'pero', 'mali', 'order', 'binigay', 'letter', 'stock', 'gusto', 'ayos', 'lng', 'sana', 'chinat', 'nyoko', 'napalitan', 'gusto', 'hindi', 'yung', 'kayo', 'nalanag', 'namili', 'shirt', 'hindi', 'alam', 'gusto', 'kase', 'sayang', 'pera', 'hindi', 'nmn', 'gusto', 'damit'], ['malaki'], ['nakakaputangina', 'kasi', 'mali', 'yung', 'item', 'dineliver', 'tagal', 'naghintay', 'nagbabayad', 'tama', 'tapos', 'mali', 'ipapadala', 'niyo', 'gago', 'kayo', 'tangina', 'niyo', 'letche', 'malugi', 'sana', 'kayo'], ['kawawa'], ['malabhan', 'natanggal', 'yung', 'print', 'sayang', 'bayad'], ['napaka', 'braso', 'pang', 'gangster', 'yata', 'white', 'binili', 'ganon', 'dapat', 'size', 'etong', 'itim', 'parang', 'pang', 'gangster', 'haysss', 'naka', '7days', 'return', 'hindi', 'totoo'], ['yung', 'tela', 'mainit', 'tapos', 'yung', 'print', 'naman', 'minadali', 'kaya', 'sira', 'sira', 'yung'], ['sana', 'double', 'check', 'muna', 'bago', 'kayo', 'magdeliver', 'hays', 'sayang', 'pera', 'sainyo', 'punit', 'panget', 'pagkaprint', 'sobrang', 'nakakadismaya', 'makakaulit'], ['kumatas', 'yung', 'tela', 'black', 'nagka', 'stainnahawa', 'ibang', 'damit'], ['nakakahiya', 'ipang', 'porma', 'panget', 'print', 'tas', 'hindi', 'rereply', 'seller', 'chat', '1', 'star', 'bibigay', 'pwede', 'pang', '0', 'star', 'nalang', 'bibigyas', 'maganda', 'damit', 'pero', 'print', 'sagwa', 'panget', 'butas', 'butas', 'hindi', 'alam', 'design', 'panget', 'tas', 'tagal', 'tagal', 'dumating'], ['wrong', 'size', 'order'], ['seller', 'lng', 'yung', 'dumating', 'dalawa', 'yung', 'inorder', 'wag', 'po', 'kayong', 'umorder', 'lng', 'yung', 'dumating', 'ehh', 'dalawa', 'pinagbayaran'], ['patay', 'gutom', 'yung', 'seller', 'malasin', 'sana', 'habambuhay', 'walang', 'kwenta', 'pangit', 'item', 'okay', 'sizing', 'loose', 'shirt', 'pero', 'naman', 'okay', 'compare', 'ibang', 'nabibili', 'pangit', 'print', 'nagdikit', 'dikit', 'pagkatupidi', 'bagay', 'size', 'print', 'kasi', 'mas', 'maliit', 'maliit', 'leeg'], ['order', 'xxl', 'dumating', 'extra', 'large', 'scam', 'wag', 'bumili', 'bad', 'quality'], ['tangina', 'kulang', 'makahinga', 'liit', 'butas', 'dun', 'leeg', 'part', 'tapos', 'incorrect', 'yung', 'size', 'legit', 'size', 'chart'], ['sobrang', 'nalalalumo', 'ahahahha', 'ganda', 'quality', 'damit', 'pero', 'pangit', 'printing'], ['subrang', 'lalaki', 'sizes'], ['damage', 'kawawa', 'bodega', 'niyo', 'dinadaga', 'kadiri'], ['butas', 'butas', 'yung', 'print'], ['hinde', 'better', 'kasi', 'marefund', 'lintek', 'giatayðÿ™‚', 'kahit', 'exchange', 'ibang', 'size', 'bawal', 'baguhan', 'shopee', 'pero', 'ganyan', 'kalakaran', 'hay', 'nakuðÿ¤¦ðÿ\\x8f', '»', 'â€\\x8dâ™‚ï¸\\x8f'], ['poor', 'customer', 'service'], ['wrong', 'size', 'unresponsive', 'defective', 'prints'], ['cuz', 'mali', 'naman', 'item', 'binibigay'], ['nadisappoint', 'sizing', 'sinukat', 'naman', 'medida', 'pero', 'liit', 'hays', 'ipangreregalo', 'naman', 'sana', 'ending', 'nalang', 'gagamit', 'nakakahiya', 'pagbibigyan', 'ðÿ™‚', 'first', 'time', 'hindi', 'uulit'], ['honest', 'review', 'really', 'hate', 'print', 'hindi', 'pulido', 'print', 'feeling', 'lng', 'malaba', 'wawash', 'off', 'yung', 'print', 'yung', 'sleeves', 'sobrang', 'konti', 'nlng', 'longsleeved', 'tyaka', 'medyo', 'manipis', 'yung', 'tela', 'sana', 'nakinig', 'nlng', 'ibang', 'reviews', 'btw', 'buy', 'risk'], ['pangit', 'nagdidikit', 'dikit', 'yung', 'print', 'tas', 'tinanggal', 'mo', 'wala', 'sira', 'nireklamo', 'kay', 'seller', 'binigyan', 'naman', 'discount', 'next', 'purchase', 'pero', 'naman', 'magagamit', 'kasi', 'wala', 'nang', 'next', 'purchase', 'pangit', 'naman', 'sorry', 'very', 'disappointing', 'kasi'], ['xl', 'binili', 'oversized', 'pero', 'malaki', 'pang', 'yung', 'sleeves', 'yung', 'shirt', 'parang', 'naging', 'normal', 'shirt', 'waste', 'money'], ['mali', 'po', 'binigay', 'seller', 'po', 'ok', 'naman', 'tila', 'saka', 'print', 'manipis'], ['2', 'star', 'kasi', 'yung', 'pintura', 'ganun', 'masyadong', 'dikit', 'dikit', 'yung', 'pintura', 'nakakatamad', 'umorder', 'ulit', 'basa', 'yung', 'pintura', 'kaya', 'butas', 'butas', 'saka', 'dikit', 'dikit', 'malala', 'panget', 'natanggap', 'item', 'pero', 'mabait', 'yung', 'delivery', 'boy', 'kaso', 'panget', 'tshirt', 'dumating'], ['manipis', 'yung', 'tela', 'prang', 'paint', 'yung', 'tatak', 'expect', 'maganda', 'yung', 'quality', 'damit', 'thumbs', 'down', 'ðÿ', '‘', 'ž'], ['sleeve', 'too', 'long', 'but', 'short', 'tee'], ['doble', 'xl', 'napo', 'ata', 'pinadala'], ['meduim', 'po', 'inorder', 'kolarge', 'po', 'dumating', 'ðÿ™„ðÿ™„ðÿ™„'], ['laki', 'po', 'mangas', 'braso', 'damit'], ['sleeve', 'too', 'long'], ['sobrang', 'sleeve', 'parang', 'kapote'], ['ordered', 'terno', 'gray', 'but', 'seller', 'told', 'last', 'stock', 'sadly', 'damage', 'said', 'store', 'policy', 'cases', 'like', 'change', 'item', 'change', 'color', 'got', 'red', 'terno', 'add', 'token', 'but', 'look', 'put', 'inside', 'plastic', 'basta', 'binutas'], ['yinyang', 'ordered', 'replaced', 'future', 'very', 'disappointed'], ['2nd', 'order', 'nagustuhan', 'yung', 'pinalit', 'shirt', 'nextime', 'ipakita', 'muna', 'buyer', 'yung', 'design', 'ipapalit', 'pangit', 'nung', 'binigay', 'design', 'sakin', 'disappointed', 'feeling', 'sayang', 'pera'], ['yung', 'pagkakaprint', 'magaspang', 'wag', 'naman', 'sana', 'yung', 'beses', 'palang', 'malabhan', 'magtatanggalan', 'kahit', 'hand', 'wash', 'kse', 'parang', 'eto', 'yung', 'nabasa', 'lumalambot', 'yung', 'print', 'nadudurognag', 'try', 'kala', 'kse', 'kapareho', 'print', 'nung', 'inoorderan', 'kopero', 'okay', 'naman', 'yung', 'size', 'tsaka', 'makapal', 'tela', 'ty'], ['pantay', 'pantay', 'size'], ['beses', 'palang', 'nilabhan', 'natatangal', 'agad', 'ying', 'ink', 'sayang', '200', 'pesos'], ['manipis'], ['1st', 'delivery', 'tagged', 'buyer', 'not', 'reachableeh', 'wala', 'namang', 'txt', 'tawag', 'rider', 'next', 'delivery', 'go', 'go', 'rider', 'sarcasticðÿ˜¥ðÿ˜', 'well', 'product', 'quality', 'goodðÿ', '‘', '\\x8d'], ['bumaba', 'yung', 'quality', 'tela', 'shirt', 'compare', 'unang', 'nabili', 'double', 'yung', 'tahi', 'naninipisan', 'nako', 'tela', 'nagdadalawang', 'isip', 'tuloy', 'tuloy', 'icollect', 'yung', 'ibang', 'design', 'haaay', 'ðÿ˜žðÿ˜žðÿ˜ž'], ['inform', 'sobrang', 'laki', 'xl', 'kala', 'mong', 'xxl', 'hahaha', 'pero', 'maganda', 'naman', 'tatak', 'nagulat', 'lamg', 'talaga', 'laki', 'manggas'], ['hindi', 'masyado', 'gusto', 'kasi', 'masyado', 'mataas', 'neck', 'collar', 'parang', 'nakakasakal'], ['malaki', 'masyado', 'yung', 'balikat', 'mahaba'], ['kagaya', 'dati', 'tela', 'manipis'], ['super', 'laki', 'nung', 'dumating', 'pero', 'maganda', 'nsman', 'kaso', 'super', 'laki', 'nga', 'idk', 'magsusuot', 'super', 'laki', 'talaga', 'not', 'unlike', 'xl', 'inoorder'], ['butas', 'tshirt'], ['parang', 'dinugtong', 'yung', 'manggas', 'mukang', 'oversize', 'hahaha'], ['not', 'advertised', 'item', 'damage'], ['pangit', 'pagkaprint', 'parang', 'minadali'], ['pangit', 'nang', 'pakakatahi', 'kwelyo', 'super', 'bilis', 'dumating'], ['not', 'worth'], ['panget', 'tela', 'disappoint', 'dzai', 'size', 'yung', 'makapal', 'yung', 'tela', 'seller', 'yung', 'small', 'kase', 'manipis'], ['mali', 'pili', 'size', 'malaki', 'yujh', 'xl', 'sayang', 'ganda', 'design'], ['nakakadisppoint', 'grabe', 'pagkabumpy', 'yung', 'pagkakaprint', 'iyah', 'excited', 'panaman', 'ganito', 'nareceive'], ['too', 'â˜¹ï¸\\x8f', 'but', 'guess', 'faults', 'mine', 'far', 'quality', 'good', 'along', 'design'], ['sobrang', 'laki'], ['lake', 'dzaii', 'parang', 'kapre', 'susuot'], ['pangatlong', 'bili', 'kaso', 'nadisappoint', 'time', 'kasi', 'nagsabi', 'available', 'yung', 'design', 'napili', 'nagdesisyon', 'agad', 'palitan', 'design', 'walang', 'abiso', 'ending', 'binigay', 'sakin', 'katulad', 'nung', 'una', 'nabili', 'sayang', 'pera'], ['medium', 'inorder', 'dumating', 'large', 'haysttt', 'dismaya'], ['mainit'], ['ordered', '4', 'one', 'damage', 'defeats', 'convinience', 'buying', 'online', 'walang', 'quality', 'control', 'ibabalik', 'super', 'hassle', 'tried', 'offer', '30', 'voucher', 'nxt', 'purchase', 'but', 'since', 'wonâ€™t', 'purchase', 'again', 'wag', 'nalang'], ['damage', 'yung', 'print'], ['maganda', 'yung', 'print', 'tas', 'halatang', 'halata', 'syang', 'madumi', 'siguro', 'labahan', 'matatangal', 'yung', 'print', 'ok', 'yung', 'shirt', 'pero', 'yung', 'print'], ['bossing', 'niyo', 'naman', 'akong', 'sakristan', 'manggas', 'neto', 'niyo', 'gonawang', 'long', 'sleeve', 'gusto', 'sana', 'yung', 'design', 'kaso', 'kakadismaya', 'tela', 'neto'], ['medium', 'pero', 'large', 'binigay'], ['yung', 'sleeve', 'oversizeok', 'yung', 'tela'], ['hapit', 'hapit', 'leeg', 'parang', 'turtle', 'neck', 'ampeg', 'hahaha', 'bat', 'ganorn', 'ðÿ˜\\xadðÿ˜†'], ['namn', 'yung', 'design', 'tshirt', 'inorder', 'kothis', 'not', 'exact', 'design', 'order', 'â˜¹ï¸\\x8fðÿ˜¢'], ['sobrang', 'bait', 'talaga', 'nagdedeliver', 'kaso', 'nga', 'yung', 'product', 'hindi', 'yung', 'ineexpect', 'eh', 'not', 'hit', 'expectations'], ['poor', 'quality', 'design'], ['ayos', 'sana', 'kaso', 'kolang', 'yung', 'binagay', 'order'], ['wrong', 'item', 'pinalitan', 'ibang', 'design', 'kulay', 'due', 'system', 'glitch', 'daw', 'pinalitan', 'white', 'dont', 'wear', 'white', 'sana', 'message', 'muna', 'seller', 'makapamili', 'ibang', 'design', 'meron', 'kasamang', 'keychain', 'token'], ['ganun', 'tela', 'yata', 'kesa', 'una', 'naorder', 'unang', 'order', 'ganda', 'tela', 'pero', 'bat', 'ngauun', 'nipisnat', 'mukhang', 'madaling', 'matanggal', 'print', 'hahahhaha'], ['hindi', 'gusto', 'mas', 'maganda', 'yung', 'nasa', 'baclaran'], ['liit', 'size', 'tugma', 'sizing'], ['damit', 'yung', 'tamang', 'pinadala', 'dissapointed'], ['ampangit', 'tatak', 'nakaka', 'disappoint', 'black', 'holes', 'lukot', 'yung', 'tatak', 'see', 'pic', 'siguro', 'tiniklop', 'agad', 'yung', 'damit', 'kahit', 'hindi', 'tuyo', 'yung', 'tatak', 'thumbs', 'down', 'wont', 'recommend', 'anyone'], ['langya', 'ganda', 'sana', 'bitin', 'lng', 'yung', 'ehh', 'oversized', 'daw', 'bitin', 'naman', 'partida', 'xl', 'nayun', 'pede', 'ibalik', 'langya'], ['ibang', 'design', 'yung', 'dumating', 'ðÿ˜', '”'], ['natatanggal', 'yung', 'print', 'shirt', 'babakbak'], ['eto', 'yung', 'tshirt', 'bawal', 'labhan', 'maganda', 'sya', 'order', 'pero', 'natatanggal', 'print', 'agad'], ['wrong', 'item', 'ðÿ™„'], ['banas', 'tela', 'hayssðÿ¤§'], ['wrong', 'item'], ['order', 'small', 'but', 'size', 'like', 'xl', 'too', 'but', 'good', 'thing', 'order', 'yesterday', 'came', 'today'], ['design', 'damage'], ['wala', 'akong', 'masabi', 'sana', 'value', 'manlang', 'nung', 'yung', 'pinalitðÿ™‚'], ['mainit', 'tela', 'oversized', 'pero', 'bitin'], ['liit', 'butas', 'neck', 'huhu'], ['mangas'], ['nakakainis', 'po', 'large', 'pareho', 'order', 'talagang', 'oversized', 'tapos', 'jungle', 'naging', 'medium', 'ðÿ˜', '’', 'sana', 'nainform', 'not', 'again', 'ðÿ˜œ', 'yung', 'quality', 'ok', 'eh', 'kaso', 'like', 'bumili', 'natulad', 'iniba', 'size', 'ðÿ˜¡'], ['maganda', 'sana', 'yung', 'shirt', 'kaso', 'sobrang', 'bulok', 'customer', 'service', 'wala', 'raw', 'yung', 'order', 'pinalitan', 'kasi', 'â€œautoreplaceâ€\\x9d', 'policy', 'daw', 'without', 'even', 'asking', 'customers', 'kaya', 'nga', 'po', 'chat', 'function', 'iconsult', 'niyo', 'muna', 'hindi', 'yung', 'kayo', 'magdedecide', 'saâ€™min', 'ðÿ˜¡'], ['received', 'wrong', 'item', 'pero', 'ok', 'andyan', 'naman', 'twice', 'ðÿ˜\\x8d', 'naneun', 'alcohor', 'free', 'gundae', 'chirrae', 'masshinggae', 'nanneo', 'chamunnea'], ['1', 'star', 'kasi', 'naasar', 'dun', 'seller', 'pati', 'samin', 'nakakaasar', 'yung', 'nagdedeliver', 'hapon', 'bago', 'dumating', 'buti', 'payung', 'lazada', '9', 'palang', 'dinideliver', 'pero', 'maganda', 'yung', 'damit', 'parang', 'tela', 'manila'], ['2', 'item', 'yung', 'inorder', 'pero', 'iisa', 'dumatingakala', 'manipis', 'yung', 'tela', 'nung', 'damit', 'kasi', 'oackaging', 'tlgang', 'aakalain', 'mo', 'manipos', 'yung', 'tela', 'kasi', '2', 'yung', 'binili', 'bukas', 'package', '1', 'pla', 'yung', 'laman1st', 'time', 'naman', 'bumili', 'store', 'ganito', 'exp'], ['xl', 'order', 'dumating', 'sakin', 'wag', 'kayo', 'oorder', 'loloko', 'seller'], ['dissapointed', 'po', 'kasi', 'wrong', 'size', 'po', 'nadeliver', 'saken', 'beses', 'nagorder', 'sobrang', 'ganda', 'damit', 'recommended', 'talaga', 'tapos', 'nadissapoint', 'kasi', 'mali', 'size', 'napadala', 'saken', 'mahal', 'mahal', 'binayad', 'tapos', 'wrong', 'size', 'napadala', 'saken'], ['tumatagal', 'pataas', 'pataas', 'yung', 'price', '119', '149', 'pamahal', 'kayo', 'pamahal', 'dipa', 'maayos', 'kausap', 'seller', 'wag', 'kayo', 'bumili', 'next', 'time', 'tataas', 'nanaman', 'price', '119', 'muramura', 'naman', 'tela'], ['diko', 'narecieve', 'yung', 'item', 'kasi', 'yung', 'tao', 'naka', 'receive', 'ðÿ˜¡ðÿ¤¬'], ['butas'], ['tagal', 'nga', 'dumating', 'mali', 'yung', 'size', 'diniliver', 'sinabihan', 'naman', 'yung', 'seller', 'chat', 'bago', 'ship', 'tatlong', 'medium', 'size', 'order', 'koyung', 'dumating', '3', 'large', 'paladesisyon', 'not', 'recommended'], ['sobra', 'nipis', 'tela', 'ðÿ˜', '‘'], ['â€¼ï¸\\x8fâ€¼ï¸\\x8fwrong', 'size', 'wrong', 'colorâ€¼ï¸\\x8fâ€¼ï¸\\x8f'], ['garbe', 'naman', 'paki', 'check', 'naman', 'po', 'yung', 'quality', 'po', 'damit', 'sira', 'wala', 'hay', 'nako', 'garbe', 'laki', 'butas'], ['bagal', 'deliver'], ['inorder', 'pero', 'dalawa', 'dumating', 'ayusin', 'mo', 'naman', 'doble', 'bayad'], ['wag', 'kayong', 'bumili', '24', 'legth', 'small', 'pero', 'naka', 'chart', '26', 'daw', 'amp', 'subraang', 'liit'], ['wrong', 'model', 'tama', 'naman', 'clay', 'medium', 'pero', 'hindi', 'oversized', 'sana', 'sinabi', 'muna', 'papalitan', 'magkaiba', 'kasi', 'price', 'eh', 'binigay', 'sakin', 'round', 'neck', 'shirt', 'refund', 'please', 'hindi', 'sapat', 'voucher', 'pangalawang', 'beses', 'nung', 'una', 'pinaltan', 'order', 'walang', 'ganon', 'color', 'pero', 'hinayaan', 'nalang'], ['got', 'wrong', 'colors', 'theyre', 'definitely', 'not', 'oversized', 'shirts', 'ðÿ˜¡'], ['sobrang', 'laki', 'xl', 'akala', 'same', 'length', 'dun', 'size', 'chart', 'pero', 'nung', 'pagdating', 'sobrang', 'laki', 'hmp'], ['thing', 'called', 'auto', 'replace', 'policyâ€¼ï¸\\x8f', 'malalaman', 'mo', 'pinalitan', 'nasa', 'yung', 'item', 'wag', 'mabahala', 'wala', 'silang', 'time', 'iupdate', 'item', 'but', 'maglalagay', 'keychain', 'pampalubag', 'loob'], ['bwiset', 'baho', 'damet', 'nung', 'dumating', 'napaka', 'baho', 'nga', 'nagagamet', 'kase', 'baho', 'dalawang', 'beses', 'nilabhan', 'mabaho', 'amoy', 'goma', 'ampt', 'kaht', 'ibabad', 'mo', 'downey', '1', 'taon', 'ayaw', 'mawala', 'amoy', 'eh', 'takte'], ['wrong', 'color'], ['wrong', 'size', 'yung', 'whitethen', 'bibigyan', 'offer', 'voucher', 'pero', 'yung', 'voucher', 'hindi', 'magamit', 'next', 'purchased'], ['napaka', 'bobo', 'pagdeliver', 'dun', 'palang', 'pinaalam', 'ibang', 'kulay', 'ipapadala', 'maeunung', 'magchat', 'seller', 'basta', 'makabenta', 'magrerespeto', 'sana', 'kinabit', 'pilian', 'random', 'color', 'ipapadala', 'tatanga'], ['wrong', 'size'], ['disappointed', 'ordered', '3', 'different', 'colors', 'but', 'received', '1', 'colorimagine', '3', 'tshirts', '1', 'color', 'send', 'freebie', 'key', 'chain', 'compensate', 'mistakes'], ['bought', 'khaki', 'pero', 'rusty', 'nnmn', 'dumating', 'disappointing'], ['hindi', 'maganda', 'hindi', 'dark', 'brown', 'more', 'red', 'brown', 'dami', 'try', 'brand', 'dark', 'brown', 'eto', 'mapula', 'wala', 'ding', 'palette', 'instead', 'eyebrow', 'shaper', 'nandito', 'sobrang', 'daming', 'napupump', 'tapos', 'hindi', 'maibalik', 'lalagyan', 'kaya', 'sayang'], ['first', 'time', 'bought', 'store', 'but', 'unfortunately', 'received', 'product', 'doesnt', 'work', 'pump', 'tinted', 'brow', 'gel', 'not', 'working', 'refund', 'item', 'use', 'not', 'working', 'disappointed', 'product', 'refund'], ['not', 'working', 'po', 'yung', 'pump', 'wala', 'lumalabas', 'gel'], ['dissapointed', 'couldnt', 'recieved', 'free', 'products', 'promise', '1111'], ['kakareceived', 'kolang', 'ngayon', 'nakaioang', 'pump', 'nako', 'ayaw', 'tlaga', 'lumabas', 'product', 'ayaw', 'sumagot', 'nung', 'seller', 'nakakainis', 'namn'], ['hello', 'po', 'mali', 'po', 'dumating', 'po', 'brow', 'gel', 'order'], ['nawala', 'rider', 'yung', 'parcel', 'koðÿ¥º', 'panu', 'kaya'], ['open', 'parcel', 'ðÿ˜©ðÿ˜©ðÿ˜©ðÿ˜©'], ['maganda', 'sana', 'kaso', 'damage', 'yung', 'eyebrow', 'brush', 'sana', 'pinakaimportante', 'wala', 'silang', 'reply', 'customer', 'service', 'sucks', 'time', 'sasabihin', 'computer', 'system', 'daw'], ['items', 'used', 'yung', 'brushes', 'natirang', 'tint', 'mismo', 'yung', 'bottle', 'item', 'halatang', 'napump'], ['second', 'time', 'order', 'but', 'time', 'kulang', 'items', 'brush', 'instead', 'two', 'kasama', 'eyebrow', 'gel', 'yung', 'importante', 'pang', 'brush', 'tip', 'wala'], ['walang', 'kwenta', 'yung', 'deliver', 'napaka', 'bastos'], ['dont', 'recommend', 'item', 'nakakadaya', 'sobra', 'liit', 'compare', 'picture', 'understand', 'differences', 'picture', 'little', 'smaller', 'but', 'not', 'like', 'absolutely', 'different', 'tingnan', 'brush', 'note', 'compare', 'dyan', 'kitang'], ['say', 'last', 'order', 'company', 'wasted', 'much', 'time', 'waiting', 'credit', 'apply', 'promise', 'credit', 'yet', 'didnt', 'happen', 'never', 'ever', 'buy', 'product', 'again', 'bad', 'practice', 'hate', 'wasting', 'time', 'dont', 'believe', 'hate'], ['excited', 'try', 'but', 'ended', 'dry', 'item', 'made', 'sad', 'tried', 'shake', 'push', 'pump', 'but', 'theres', 'really', 'none', 'inside', 'wasted', 'money', 'but', 'still', 'thanks', 'brushes', 'still', 'use'], ['delivery', 'took', 'very', 'long', 'time', 'order', 'placed', 'last', 'feb', '21', 'delivered', 'march', '9', 'ewan', 'pero', 'parang', 'kulang', 'takip', 'shaping', 'brush', 'ok', 'naman', 'yung', 'nagdeliver', 'tagal', 'dumating'], ['one', 'star', 'lng', 'kasi', 'order', 'kasi', '2', 'dark', 'brown', 'pero', 'dumating', 'blonde', '6', 'kaya', 'very', 'disappointed', 'po', 'akoðÿ˜¥'], ['nakaka', 'lungkot', 'naman', 'kasi', 'expacted', 'taotlo', 'akong', 'sponge', 'free', 'gaya', 'nasa', 'picture', 'pero', 'sad', 'say', 'walaa', 'talaga', 'huhuhuhuhuhhu', 'tapos', 'akala', 'malalaki', 'yung', 'hindi', 'hehehehehehehe', 'pero', 'excited', 'nako', 'gamitin', 'mimakeupan', 'hihihihihihihi', 'order', 'again'], ['plssend', 'order', 'send', 'one', 'item', 'month'], ['damaged', 'defective', 'item', 'hindi', 'mapump', 'open', 'item', 'found', 'theres', 'small', 'kaya', 'pano', 'sya', 'mapapump', 'wala', 'nga', 'kaya', 'nakasale', 'defective', 'tagal', 'nga', 'dumating', 'sira', 'sayang', 'pera'], ['natangap', 'yung', 'order', 'tapos', 'pagbukas', 'sobra', 'liit', 'sinubukan', 'naman', 'agad', 'kaso', 'bigla', 'nagulat', 'hahahaakala', 'long', 'lasting', 'buburaðÿ˜', '’', 'ðÿ¤¨', 'saka', 'akala', 'free', 'yung', 'wala'], ['seller', 'pinadala', 'moanong', 'tuyo', 'parang', 'pintora', 'walang', 'silbiwalang', 'pakinabangðÿ˜¡ðÿ˜¡', 'nagbyad', 'tama', 'tapos', 'hindi', 'magagamit', 'anong', 'ditoikaw', 'kaya', 'nasa', 'sitwastyon', 'dbadbale', 'sna', 'mapakinabangan', 'kaso', 'hindi', 'eh', 'wag', 'lukohin', 'buyer', 'hindi', 'madalaðÿ˜'], ['ordered', 'two', 'eyebrows', 'different', 'shade', 'but', 'only', 'receive', 'one', 'item', 'iâ€™ve', 'waited', 'two', 'weeks', 'seller', 'not', 'active', 'donâ€™t', 'ever', 'buy', 'shop', 'want', 'order', 'again', 'ship', 'pending', 'order', 'but', 'doubt', 'hope', 'business', 'lasts', 'ðÿ˜¡'], ['fake', 'waterproof', 'pangit', 'gamitin'], ['brushes', '1', 'filling', '1', 'shaping', 'received', '2', 'filling', 'brushes', 'shaping', 'brush', 'disappointing'], ['hindi', 'waterproof', 'scam', 'kahit', 'mura', 'sana', 'nilagay', 'waterproof'], ['item', 'shipped', 'very', 'late', 'rude', 'seller', 'walang', 'laman', 'pinadala', 'nakakabadtril', 'tgal', 'nga', 'lng', 'deniliver', 'tpos', 'wla', 'plang', 'laman', '100x', 'pinipindot', 'wla', 'tlga', 'ðÿ˜¡ðÿ˜¡ðÿ˜¡ðÿ˜¡ðÿ˜¡'], ['rated', '1', 'star', 'because', 'received', 'not', 'ordermy', 'order', 'dark', 'grey', 'but', 'send', 'send', 'dark', 'brownbe', 'responsible', 'honest', 'sellerim', 'dis', 'appointed'], ['tagal', 'hinintay', 'tapos', 'pagdating', 'sakin', 'ayaw', 'gumana', 'pump', 'sala', 'kasi', 'yung', 'pinakastraw', 'loob', 'idk', 'call', 'thing', 'lol', 'sayang'], ['gnon', 'tagal', 'hinitay', '1212', 'binili', 'discount', 'dmi', 'nabili', 'sknila', 'napaka', 'panget', 'napaka', 'liit', 'lng', 'kala', 'mo', 'laruan', 'nakaka', 'inis', 'ndi', 'worth', 'price', 'nxt', 'time', 'oorder', 'nakak', 'disappoint'], ['nakakainis', 'kasi', 'walang', 'brush', 'yung', 'dumating', 'sakin', 'ðÿ˜\\xad', 'buti', 'meron', 'akong', 'extra', 'hays', 'expect', 'naman', 'akong', 'complete', 'pero', 'far', 'yung', 'product', 'okay', 'naman', 'wala', 'talagang', 'brush'], ['wrong', 'item', 'ðÿ˜', 'ðÿ˜', 'ðÿ˜', 'ðÿ˜', 'incomplete', 'item', 'seller', 'scammer', 'hindi', 'reresponse', 'message', 'eresponsabling', 'seller', 'ðÿ˜¡ðÿ˜¡ðÿ˜¡ðÿ˜¡ðÿ™…ðÿ™…ðÿ™…ðÿ™…ðÿ™…ðÿ–•ðÿ–•ðÿ–•ðÿ–•ðÿ–•ðÿ–•ðÿ–•ðÿ–•im', 'disappointed', 'kulang', 'yung', 'dumating', 'mali', 'yung', 'walang', 'eyebrow', 'order', 'dumating'], ['even', 'refunded', 'missing', 'item', 'still', '1star', 'hassel', 'stress', 'theyve', 'given', 'ordered', 'jan28', 'recieved', 'march2', 'imagine'], ['nasira', 'agad', 'yung', 'metal', 'hindi', 'lumalabas', 'yung', 'brow', 'gel', 'kahit', 'anong', 'pump'], ['only', 'empty', 'bottletry', 'contact', 'seller', 'but', 'too', 'late', 'responding'], ['magkapareho', 'yung', 'brush', 'akala', 'magkaiba', 'dalawa'], ['come', 'courrier', 'asked', 'cod', 'already', 'paid', 'product', 'even', 'shipped'], ['nadismaya', 'akod', 'ganun', 'kaganda'], ['not', 'satisfied', 'color', 'not', 'gudðÿ™„ðÿ˜£'], ['package', 'opened', 'already', 'received', 'doesnt', 'order', 'ðÿ˜°', 'package', 'empty'], ['sira', 'hindi', 'lumalabas', 'kahit', 'pindutin', 'sobra', 'ekis', 'hindi', 'magamit', 'tssl'], ['liit'], ['napakatagal', 'delivery', 'kang', 'umorder', 'ðÿ˜', '‘'], ['wala', 'brush', 'wala', 'finger', 'holder', 'sobrang', 'tagal', 'bago', 'madeliver', 'excited', 'naman', 'buksan', 'disappointed'], ['item', 'different', 'picture', 'item', 'different', 'picture', 'item', 'different', 'picture', 'item', 'different', 'picture', 'item', 'different', 'picture', 'item', 'different', 'picture'], ['not', 'receive', 'order', 'payed', 'via', 'shopee', 'pay', 'waste', 'money'], ['napakaliit', 'nmn', 'lol'], ['pump', 'not', 'working', 'â˜¹ï¸\\x8fâ˜¹ï¸\\x8fâ˜¹ï¸\\x8fâ˜¹ï¸\\x8f'], ['walang', 'foam'], ['bad', 'customer', 'service', 'not', 'buy'], ['kinancel', 'still', 'push', 'yung', 'item', 'kainis'], ['1', 'star', 'kasi', 'sobrang', 'bagal', 'daloy', 'transaction'], ['mas', 'talaga', 'pencil', 'kaysa', 'gel', 'brows'], ['wala', 'update', 'dadating', 'product', 'already', 'cancelled', 'item', 'yet', 'deliver', 'parin', 'not', 'funny', 'ðÿ˜¤ðÿ˜¤ðÿ˜¤ðÿ˜¤ðÿ˜¤ðÿ˜¤ðÿ˜¤ðÿ˜¤ðÿ˜¤'], ['subrang', 'liit', 'personal'], ['kulang', 'items', 'wag', 'wag', 'kayo', 'oorder', 'shop', 'toðÿ˜¤ðÿ', '‘', 'žðÿ', '‘', 'žðÿ', '‘', 'ž'], ['delivery', 'takes', '1', 'month'], ['return'], ['dissapointed', 'got', 'same', 'brushðÿ˜\\x8fðÿ˜\\x8f'], ['ordered', '2', 'item', '1', 'reject'], ['cant', 'receive', 'products'], ['brush', 'thought', 'brushðÿ™„ðÿ™„ðÿ™„'], ['didnt', 'received', 'anything'], ['lokohan', 'eh', 'wala', 'nmang', 'dumating', 'product'], ['super', 'liit'], ['kulang', 'kulang'], ['doesnt', 'work', 'agreed', 'send', 'replacement', 'instead', 'since', 'returning', 'too', 'hassle', 'but', 'product', 'shipped', 'too', 'bad', 'worst', 'experience'], ['jusqooooo', 'kaya', 'ganun', 'discounted', 'kasi', 'maliit', 'product', 'ibibigay', 'sobrang', 'nakaka', 'disappointed', 'utak'], ['eyebrow', 'gel', 'ordered', 'shade', 'dark', 'grey', 'half', 'bottle', 'already', 'pumped', 'first', 'drop', 'product', 'whilst', 'dark', 'brown', 'shade', 'only', 'needed', '2', 'pumps', 'first', 'drop', 'product', 'come', 'post', 'also', 'said', 'receive', 'sponge', 'eyebrow', 'gel', 'only', 'received', 'one'], ['bottle', 'small', 'but', 'cant', 'use', 'since', 'theres', 'something', 'wrong', 'fluid', 'cant', 'go', 'container', 'dont', 'know', 'throw', 'away', 'anyways', 'since', 'waste', 'time', 'dont', 'even', 'know', 'open', 'anymore', 'seal', 'lock', 'twist', 'saying', 'take', 'care', 'itâ'], ['read', 'reviews', 'ratings', 'people', 'said', 'receive', 'less', 'freebies', 'expected', 'ordered', 'chatted', 'said', 'get', 'freebie', 'order', 'placed', 'expected', '3', 'sponges', 'seen', 'screenshot', 'provided', 'but', 'sent', 'only', '2'], ['took', 'time', 'deliver', 'came', 'overseas', 'china', 'not', 'quite', 'sure', 'made', 'right', 'decision', 'purchase', 'because', 'upon', 'trying', 'appears', 'more', 'pigmented', 'expected', 'definately', 'hard', 'time', 'putting', 'little', 'messy'], ['mahirap', 'gamitin', 'diko', 'sya', 'nagustuhan'], ['kulang', 'applicator', 'kalawang', 'yung', 'lagayan', 'product', 'pno', 'gagamitin', 'wala', 'yung', 'pinakapang', 'shape', 'applicator'], ['hindi', 'po', 'puno', 'yung', 'lalagyan', 'nakakainis', 'excited', 'naman', 'tsaka', 'akala', 'malaki', 'hays', '2', 'star', 'kasi', 'maganda', 'naman', 'yung', 'brush', 'kahit', 'maliit'], ['hindi', 'sya', 'waterproof', 'light', 'brown', 'apply', 'mona', 'kilay', 'mo', 'eh', 'blonde', 'color', 'hindi', 'tulad', 'nung', 'nasa', 'picture', 'yung', 'kulay'], ['received', 'tagal', 'tagal', 'dumating', 'â¡', 'sana', 'naman', 'response', 'kayo', 'message'], ['took', 'over', 'month', 'item', 'arrive', 'intended', 'cancel', 'but', 'system', 'doesnt', 'support', 'complaints', 'longer', 'item', 'arrived', 'waste', 'time', 'energy'], ['opened', 'package', 'ordered', 'two', 'shades', 'one', 'used', 'already', 'less', 'contents', 'one', 'right', 'feel', 'cheated'], ['poor', 'quality', 'not', 'dry', 'quickly', 'doesnt', 'good', 'color', 'pay', 'off', 'shipping', 'took', 'longer', 'expected', 'wellpackaged'], ['tried', 'cancelling', 'first', 'order', 'pero', 'per', 'seller', 'shippedout', 'daw', 'order', 'nadoble', 'tuloy', 'yung', 'item'], ['received', 'much', 'like', 'ordered', 'tried', 'right', 'away', 'idk', 'skin', 'oily', 'but', 'product', 'didnt', 'last', 'long', 'not', 'smudge', 'proof', 'nor', 'waterproof'], ['received', 'pressed', 'powder', 'instead', 'blusher', 'almost', 'okay', 'but', 'pressed', 'powder', 'almost', 'yellow', 'ðÿ˜•'], ['misleading', 'product', 'not', 'waterproof', 'not', 'longlasting', 'easily', 'removed', 'smudging', 'hands'], ['walang', 'kwento', 'mahigit', '1', 'month', 'bago', 'nakuha', 'wala', 'yung', 'sponge', 'free', 'bwiset'], ['haayyysss', 'not', 'well', 'packaged', 'bukas', 'ganyan', 'agad', 'sayang', 'lng', 'binayad', 'sana', 'ayusin', 'niyo', 'packaging', 'tsskkkk'], ['dont', 'recommend', 'too', 'harsh', 'skin', 'leaves', 'uneven', 'stains', 'skin', 'eyebrow', 'way', 'too', 'hard', 'remove', 'even', 'using', 'oilbased', 'makeup', 'remover', 'but', 'give', 'point', 'packaging', 'early', 'delivery'], ['orders', 'not', 'complete', 'not', 'ship', 'missing', 'items'], ['too', 'bad', 'press', 'try', 'not', 'working', 'find', 'way', 'open', 'bottle', 'everytime', 'use'], ['yung', 'nasa', 'bundle', 'dalawang', 'brush', 'pero', 'open', 'iisang', 'brush', 'pangshape', 'brows'], ['angle', 'brush', 'included'], ['missing', 'shaping', 'brush'], ['2â\\xad\\x90', 'kase', 'pngit', 'kulaydi', 'xa', 'brown', 'tlga', 'tanxa', 'ðÿ˜', '”'], ['kala', 'malaki', 'hirap', 'ipump', 'hehe'], ['disappointed', 'super', 'tagal', 'dumating', 'product', 'thought', 'but', 'wrong', 'expectationðÿ˜•'], ['poor', 'qualityâ', 'not', 'order', 'again'], ['wrong', 'item', 'received'], ['thought', 'waterproof', 'but', 'used', 'not', 'next', 'time', 'paki', 'ayos', 'naman', 'description', 'hindi', 'expect'], ['haha', 'liit', 'lng', 'pla', 'personal', 'tas', 'sobrang', 'tagal', 'dumating'], ['nabubura', 'nmn', 'ehkala', 'q', 'long', 'lasting'], ['super', 'liit', 'nang', 'item', 'syang', 'tumb', 'mo', 'malabnoy', 'po', 'yung', 'ink'], ['disappointed'], ['poor', 'quality'], ['recieved', 'wrong', 'item', 'contacted', 'seller', 'told', 'theyll', 'send', 'right', 'item', 'order', 'again', 'didnt', 'bother', 'returning', 'wrong', 'item', 'because', 'hassle', 'itll', 'cause', 'hoping', 'receive', 'right', 'item', 'next', 'time'], ['ordered', '6', 'items', 'but', 'only', '1', 'item', 'delivered', 'disappointed', 'returnrefund', 'product', 'got', 'cancelled', 'please', 'job', 'properly', 'keep', 'messaging', 'seller', 'but', 'process', 'ðÿ˜¡ðÿ˜¡ðÿ˜¡'], ['very', 'disappointing', 'seller', 'hindi', 'reresponse', 'sbi', 'paki', 'check', 'items', 'nung', 'receive', 'item', 'hirap', 'palabasin', 'gel', 'hay', 'nakooo', 'sayang', 'pera', 'tapos', 'maliit', '1st', 'time', 'umorder', 'nakaka', 'walang', 'gana', 'gamitin', 'nabura', 'name', 'gawan', 'paraan', 'mabuksan'], ['wrong', 'item', 'yung', 'dumating', 'jusko', 'kelan', 'naging', 'pangkilay', 'yung', 'curler', 'lashes', 'ðÿ¤¬ðÿ¤¬ðÿ¤¬ðÿ¤¬ðÿ¤¬ðÿ¤¬ðÿ¤¬ðÿ¤¬'], ['pansinin', 'hawak', 'actual', 'pic', 'scam', 'eh', 'mukang', 'madaming', 'laman', 'pero', 'hindi', 'naman', 'sobrang', 'kontewag', 'kayong', 'bibili', 'ulitnakita', 'tiktok', 'sabe', 'dun', 'tinted', 'sya', 'perp', 'hindi', 'naman', 'bubura', 'naman', 'same'], ['buy', '1', 'take', '3', 'but', 'not', 'true', 'false', 'advertisement', 'not', 'good'], ['seller', 'naman', 'kaylangan', 'isulat', 'inorder', 'hindi', 'naman', 'rereceive', 'eh', 'nalaman', 'tuloy', 'inoder', 'jusq', 'walang', 'privacy'], ['order', '10012021', 'pero', 'dumating', '10062021', 'napakatagal', 'tapos', 'nong', 'dumating', 'nakaka', 'disappoint', 'though', 'waterproof', 'bat', 'nabubura', 'agad', 'tested', 'let', 'set', '30', 'mins', 'bago', 'test', 'pero', 'nabubura', 'dipa', 'smudge', 'proof', 'pati', 'courier', 'napaka', 'rude', 'iinit', 'dugo'], ['makapal', 'yung', 'free', 'brush', 'madaling', 'mabura', 'lalo', 'oily', 'face'], ['smudge', 'proof', 'heheheh', 'charot', 'parang', 'pentel', 'pen', 'humahawa', 'wag', 'pauto'], ['very', 'disappointe'], ['cup', 'melted'], ['disappointed', 'â˜¹ï¸\\x8f', 'kala', 'maganda', 'saka', 'water', 'proof', 'sya', 'hindi', 'sayang', 'pera'], ['walang', 'kwenta', 'kasi', 'bumili', '3', 'pero', 'wlanag', 'kwenta', 'subra', 'dissapoint'], ['naka', 'b1', 'get', '3', 'pero', 'dumating', 'tssssk', 'scam', 'kaya', 'omorder', 'kase', 'sale', 'tapos', 'nmn'], ['ewan', 'inyoðÿ˜¤ðÿ˜¤ðÿ˜¤ðÿ˜¤'], ['not', 'satisfied', 'dapat', 'color', 'yung', 'inorder', 'ibigay', 'nyonakakasira', 'moodðÿ¤¬'], ['parang', 'walang', 'laman', 'po', 'ganun'], ['wrong', 'color'], ['hindi', 'original', 'kaya', 'wag', 'kayo', 'expect', 'magandakung', 'bumili', 'kayo', 'original', 'watsons'], ['nabubura'], ['hindi', 'naman', 'waterproof', 'kumakalat', 'kilay'], ['whyyy'], ['eyebrow', 'soap', 'set', 'pero', 'andun', 'blade', 'omg', 'kilay', 'napakaliit', 'masyadong', 'eyebrow', 'geltint', 'napaka', 'disappointed', 'walang', 'kwentang', 'add', 'walang', 'kwenta', 'kwenta', 'sobra'], ['received', 'completely', 'different', 'items', 'order', 'yes', 'ordered', 'brow', 'gel', 'but', 'received', 'different', 'shade', 'didnt', 'match', 'hair', 'color', 'uncomftable', 'seeing', 'promised', 'send', 'missing', 'item', 'place', 'order', 'but', 'didnt', 'bother', 'send', 'right', 'shade', 'browgel'], ['buhok', 'blade', 'okay', 'sana', 'yung', 'pang', 'eyebrow', 'pero', 'sana', 'wag', 'gamitin', 'bago', 'ideliver'], ['misleading', 'ordered', 'indicates', 'free', 'item', 'but', 'not', 'included', 'received', 'informed', 'seller', 'replied', 'not', 'free', 'mean', 'customers', 'get', 'gift', 'get', 'next', 'order', 'think', 'order', 'again', 'bad', 'experience'], ['ordered', 'eyebrow', 'gel', 'look', 'give', 'foundations', 'things', 'like', 'oil', 'control', 'not', 'ordered', 'delivery', 'took', '2', 'weeks', 'recieve', 'product', 'give', 'pay', 'bill', 'exactly', 'give', 'wrong', 'product', 'not', 'fair'], ['pangakawang', 'order', 'ganito', 'hindi', 'nagu'], ['sana', 'sinabi', 'set', 'hindi', 'buy', '1', 'get', '1', 'sobra', 'excited', 'akala', 'darating', '2', 'orders', 'dalawa', 'hindi', 'buy1', 'get', 'tsk', 'tsk', 'oorder', 'palang', 'paalala', 'hindi', 'buy1', 'get1â'], ['received', 'wrong', 'item', 'but', 'assured', 'send', 'replacement', 'item', 'since', 'chosen', 'eyeshadow', 'already', 'sold'], ['kulang', 'items', 'sinend', 'second', 'order', 'q', 'nmn', 'not', 'buy', 'seller', 'anymore', 'guys', 'luging', 'lugi', 'never', 'order', 'again', 'tpos', 'seller', 'ndi', 'aq', 'pinansin'], ['got', 'parcel', '13', 'days', 'ordering', 'item', 'tried', 'ask', 'seller', 'change', 'shade', 'since', 'like', 'dark', 'brown', 'brunette', 'but', 'ive', 'received', 'light', 'brown', 'brunette', 'tried', 'cancel', 'order', 'but', 'seller', 'didnt', 'approve', 'hope', 'seller', 'considerate'], ['didnt', 'receive', 'item', 'seller', 'said', 'send', 'second', 'order', 'but', 'according', 'werent', 'able', 'send', 'stop', 'making', 'excuses', 'cancelled', 'refund', 'because', 'told', 'youll', 'send', 'but', 'didnt'], ['mali', 'yung', 'kulay', 'naibigay', 'sakin', 'pero', 'tama', 'naman', 'yung', 'kahon', 'no1', 'light', 'brown', 'kase', 'naka', 'order', 'light', 'brown', 'kaya', 'alam', 'kulay', 'kulay', 'blonde', 'ata', 'yung', 'nakuha', 'saaaaaaad'], ['ganyan', 'po', 'nakabalot', 'ndi', 'maayos', 'magpack', 'ndi', 'nilagay', 'carton'], ['donâ€™t', 'understand', 'order', 'hasnâ€™t', 'delivered', 'but', 'says', 'delivered', 'daw', 'wala', 'nga', 'akong', 'hawak', 'jusko', 'informed', 'dadating', 'courier', 'walang', 'update', 'tapos', 'magugulat', 'nalang', 'delivered', 'daw', 'yung', 'status', 'couriers', 'nga', 'find', 'address'], ['nakakadisappoint', 'yung', 'brow', 'gel', 'full', 'sya', 'pagdating', 'naka', 'pump', 'tapos', 'ganyan', 'itsura', 'nung', 'lumabas', 'huhu', 'bitin', 'siz', 'scam', 'ituhnakakadisappoint', 'yung', 'brow', 'gel', 'full', 'sya', 'pagdating', 'naka', 'pump', 'tapos', 'ganyan', 'itsura', 'nung', 'lumabas', 'huhu', 'bitin', 'siz', 'scam', 'ituh'], ['ayaw', 'work', 'pump', 'not', 'get', 'product', 'pump', 'not', 'working', 'one', 'working', 'but', 'one', 'doesnt'], ['konti', 'laman', '6ml', 'nakalagay', 'pero', 'parang', '2ml', 'lng', 'laman', 'mahal', 'tuloy', 'blendable', 'nice', 'shade', 'naman', 'pero', 'hindi', 'sya', 'smudgeproof', 'hindi', 'convenient', 'nakalagay', 'sya', 'pump', 'bottle', 'especially', 'sobrang', 'konti', 'lng', 'laman', 'more', 'convenient', 'spout', 'pouch', 'lng', 'nakalagay'], ['disappointed', 'because', 'content', 'already', 'half', 'excited', 'receive', 'because', 'friend', 'recommend', 'happen'], ['pang', '2nd', 'order', 'ok', 'naman', '1st', '2nd', 'order', 'q', 'cira', 'agad', 'inorder', 'qn', 'eyeshadow', 'disappointing', 'excited', 'nmn', 'aq', 'gamitin'], ['ok', 'nmani', 'shock', 'kasi', 'pipicturan', 'tlaga', 'wt', 'packagesabi', 'delivery', 'daw', 'wlang', 'kaabog', 'abog', 'pinicturan', 'wt'], ['omg', 'sty', 'using', 'obviously', 'not', 'hygienic', 'throw', 'away', 'next', 'day', 'never', 'buy', 'sace', 'lady', 'ever', 'again'], ['hindi', 'nabubuksan', 'pero', 'naman', 'halos', 'wala', 'lamanâ'], ['scam', 'pay', 'using', 'shoppe', 'pay', 'but', 'dont', 'recieve', 'anything', 'seller', 'responsive', 'but', 'order', 'didnt', 'come'], ['expired', 'seller', 'not', 'response', 'regarding', 'please', 'check', 'item', 'use'], ['says', 'buy', '1', 'gift', '1', 'sace', 'lady', 'waterproof', 'gel', 'brow', 'thats', 'order', 'but', 'received', 'item', 'only', 'received', '1', 'nextime', 'not', 'mention', 'buy', '1', 'gift', '1', 'biy', '1', 'get', '1'], ['sacelady', 'please', 'tell', 'like', 'thisðÿ¤¦ðÿ\\x8f', '»', 'â€\\x8dâ™€ï¸\\x8fðÿ˜\\xad', 'since', 'packaging', 'air', 'pump', 'umaangat', 'sya', 'pinapump', 'nung', 'itatry', 'sya', 'takes', '6', 'pumps', 'bago', 'lumabas', 'yung', 'productðÿ˜', '”', 'means', 'hindi', 'sya', 'punoðÿ˜\\xad', 'pero', 'salamat', 'kasi', 'freebies', 'tsaka', 'mej', 'mabilis', 'dumatingâ'], ['not', 'receive', 'item', 'instead', 'gave', 'wrong', 'one', 'gift', 'only', 'sana', 'zero', 'star', 'nlangscam', 'yata', 'tong', 'seller'], ['too', 'misleading', 'buy', '1', 'take', '1', 'take', '1', 'brush', 'hindi', 'dapat', 'binili', 'mo', '2nd', 'item', 'dapat', 'nilagay', 'free', 'brush', 'feelingdisappointed'], ['kulang', 'brush', 'bngay', 'kla', 'q', 'buy', '1', 'get', '1', 'brush'], ['akala', 'maraming', 'laman', 'hindi', 'sobrang', 'wala', 'kalahati', 'yung', 'laman', 'ðÿ˜ª'], ['iâ€™ve', 'cancelled', 'items', 'but', 'seller', 'rejected', 'items', 'havenâ€™t', 'yet', 'shipped', 'but', 'still', 'seller', 'refused', 'cancel'], ['lacking', 'item', 'seller', 'not', 'responsive', 'shame'], ['okay', 'picture', 'personal', 'hindi', 'liliit', 'make', 'tools', 'pang', 'bata', 'jusko', 'nakakadismaya', 'naman', 'kakarating', 'ngayon', 'parang', 'gusto', 'ibalik', 'pati', 'yung', 'tinted', 'brow', 'gel', 'hindi', 'trip', 'susubukan', 'yung', 'browgel', 'baka', 'palpak', 'hay', 'naku'], ['kulang', 'items', '394', 'pesos', 'ginastos', 'tapos', 'kulang', 'items', 'marereceive'], ['item', 'not', 'working', 'walang', 'lumalabas', 'eyebrow', 'gel', 'pump', 'sayang', 'pera', 'hays'], ['epic', 'too', 'liit', 'ahaha', 'thought', 'mejo', 'bigger'], ['black', 'po', 'brunette', 'dumating'], ['wala', 'namang', 'kwenta', 'okay', 'sana', 'kaso', 'hnd', 'nmn', 'nagddispense', 'item', 'kabwcet', 'lng', 'aayang', 'paghhintay'], ['mine', 'came', 'pumpðÿ˜¡ðÿ˜¡ðÿ˜¡ðÿ˜¡'], ['item', 'not', 'come', 'brush', 'like', 'promised', 'hard', 'use'], ['very', 'disappointed', 'give', 'meu', 'said', 'buy', '1', 'take', '1', 'but', 'only', 'receive', 'thisbetter', 'check', 'everything', 'going', 'deliver', 'ðÿ˜', 'ðÿ˜', 'ðÿ˜', 'ðÿ˜'], ['misleading', 'title', 'poor', 'quality', 'too', 'not', 'buy', 'one', 'get', 'one'], ['orders', 'not', 'complete', 'please', 'deliver', 'immediately', 'thank'], ['parehas', 'dun', 'pic', 'liit', 'nung', 'tinted'], ['kaya', 'mura', 'box', 'wala', 'yung', 'item', 'wag', 'order', 'dto', 'hnd', 'satisfying', 'walang', 'item'], ['not', 'happy', 'product', 'tagal', 'ideliver', 'took', '2', 'weeks', 'not', 'gon', 'order', 'again', 'shop'], ['deffective', 'item', 'hndi', 'lumalabas', 'yung', 'laman', 'pinapump', 'pangit', 'yung', 'quality'], ['super', 'tagal', 'inabot', '123456789', 'years'], ['pump', 'not', 'working', 'disaapointing'], ['sobrang', 'watery', 'sayang', 'pera', 'wag', 'kayo', 'bumili', 'swear', 'maganda', 'ðÿ˜', 'ðÿ˜', 'ðÿ˜¤ðÿ˜¤ðÿ˜¤ðÿ˜¤'], ['wrong', 'items', 'poor', 'service'], ['check', 'first', 'item'], ['super', 'light', 'brown', 'ðÿ˜\\xad'], ['scam', 'ðÿ˜¤'], ['not', 'waterproof', 'not', '16h', 'fake'], ['scamðÿ˜¡'], ['scam'], ['wrong', 'itemðÿ˜¡'], ['lighter', 'expected', 'not', 'good'], ['ordered', '3pcs', 'received', 'only', '1', 'pc'], ['incomplete', 'products', 'dissapointed', 'ðÿ˜¤'], ['sayang', 'naghintay', 'aq', 'matagal', 'tapos', 'wala', 'nmn', 'laman', 'dissappointed'], ['send', 'wrong', 'item', 'disappointedðÿ˜©ðÿ˜©ðÿ˜©'], ['dont', 'like', 'item'], ['panget', 'sobrang', 'liit', 'neto', 'mali', 'tapos', 'nakalagay', 'free', 'poam', 'pero', 'wala', 'naman', 'very', 'dissapointed'], ['bad', 'customer', 'service', 'not', 'buy'], ['light', 'brown', 'order', 'dark', 'brown', 'dumating', 'kainis'], ['halos', 'bwan', 'bago', 'dumating', 'not', 'order', 'again'], ['putol', 'brush'], ['didnt', 'receive', 'item', 'waiting', 'item', 'shipped', 'wasnt', 'able', 'get', 'frustrating'], ['used', 'brow', 'not', 'brush'], ['napaka', 'bagal', 'rider', 'yung', 'brush', 'putol'], ['not', 'buy', 'one', 'take', 'one', 'only', 'received', 'one', 'false', 'advertisement'], ['defective', 'ðÿ¤¬'], ['save', 'buy1take1', 'nakuha', 'q'], ['irresponsible', 'seller'], ['dark', 'grey', 'inorder', 'pero', 'dumating', 'brown'], ['wrong', 'shade', 'number', 'inorder', 'number', '4', 'tapos', 'binigay', 'saakin', 'number', '3', 'nakakadissapointed'], ['potec', 'spooly', 'yung', 'dumating', 'hahahahahaha'], ['sobrabg', 'labnaw', 'sobrang', 'nakakadissapoint'], ['hindi', 'kasama', 'yung', 'beauty', 'blender'], ['disappoiinted', 'ðÿ˜¥'], ['poor', 'qualuty'], ['let', 'awareness', 'â˜¹ï¸\\x8fðÿ˜', '”', 'iâ€™ve', 'ordered', 'far', 'gave', 'ordered', 'concealer', 'liner', 'gave', 'mascara', 'curler', 'dont', 'get', 'wrong', 'still', 'appreciate', 'but', 'fair', 'honest', 'said', 'make', 'way', 'ive', 'waited', 'even', 'online', 'response'], ['edit', 'pangit', 'coverage', 'mahirap', 'blend', 'tsaka', 'sobrang', 'cakey', 'mas', 'gugustuhin', 'nalang', 'wag', 'maglagay', 'netong', 'concealer', 'sace', 'lady', 'ccrease', 'pangit', 'tignan'], ['low', 'quality', 'super', 'small', 'not', 'worth'], ['antagal', 'bago', 'dumating', 'tapos', 'wrong', 'shade', 'pinadalaðÿ˜¥ðÿ˜¥', 'worth', 'sana', 'price', 'kaso', 'mali', 'yung', 'shade', 'ibinigay', 'tapos', 'responsive', 'seller'], ['tagal', 'nga', 'dumating', 'ganyan', 'naku', 'seller', 'ayusin', 'mo'], ['wrong', 'item', 'binigay', 'niyo', 'order', 'maskara', 'binigay', 'niyo', 'liquid', 'blush', 'first', 'time', 'umorder', 'yet', 'disappointed', 'anyways', 'okay', 'nandito', 'thank', 'btw'], ['not', 'recommend', 'store', 'due', 'dishonesty', 'sending', 'wrong', 'variation', 'product', 'shipped', 'wrong', 'shades', 'dont', 'mind', 'sending', 'back', 'product', 'seller', 'waste', 'time', 'thanks'], ['damaged', 'yung', 'item'], ['parang', 'walang', 'laman', 'yung', 'item', 'nakakadissappointðÿ˜¡'], ['second', 'time', 'ordered', 'seller', 'really', 'upset', 'disappointed', 'due', 'lack', 'item', 'delivered', 'supposed', 'received', '6', 'items', 'but', 'only', 'received', '4', 'items', 'wheres', '2', 'items', 'missing', 'items', 'waterproof', 'concealer', 'full', 'coverage', 'pure', 'handmade', 'false', 'eyelashes'], ['recieved', 'items', 'incomplite', '10', 'pcs', 'lipsticks', 'expire', 'next', 'yr', 'tot', 'send', 'items', '3', 'yrs', 'expiration', 'date', 'pandemic', 'wt', 'last', 'whole', 'yr', 'hw', 'cn', 'gv', '2', 'relativesif', 'xpired', 'already', 'thinking', 'ds', 'makes', 'sick', 'disappointed'], ['wrong', 'item', 'ðÿ˜', 'ðÿ˜', 'ðÿ˜', 'ðÿ˜', 'incomplete', 'item', 'seller', 'scammer', 'hindi', 'reresponse', 'message', 'eresponsabling', 'seller', 'ðÿ˜¡ðÿ˜¡ðÿ˜¡ðÿ˜¡ðÿ™…ðÿ™…ðÿ™…ðÿ™…ðÿ™…ðÿ–•ðÿ–•ðÿ–•ðÿ–•ðÿ–•ðÿ–•ðÿ–•ðÿ–•im', 'disappointed', 'kulang', 'yung', 'dumating', 'mali', 'yung'], ['almost', '1', 'month', 'bago', 'ntnggapang', 'masaklapwalang', 'laman', 'yung', 'boxkaya', 'nagmessage', 'kanla', 'nung', 'una', 'replykya', 'nangulit', 'tlg', 'nakipag', 'ayos', 'nmn', 'clabinigyan', 'fs', 'voucher', 'coupon', 'same', 'price', 'concealer', 'kya', '1star', 'muna', 'rate', '5', 'natanggap'], ['lacking', '1', 'item', 'order', 'didnt', 'received', 'concealer', 'knowing', 'official', 'seller', 'very', 'disappointed', 'not', 'order', 'again', 'seller', 'sent', 'message', 'seller', 'but', 'wont', 'send', 'lacking', 'item', 'unless', 'order', 'again', 'duh', 'fault', '05', 'stars', 'ðÿ¤¬'], ['eyeliner', 'not', 'waterproof', 'even', 'caption', 'say', 'waterproof', 'concealer', 'powdery', 'disappointed', 'super', 'disappointed'], ['hindi', 'po', 'talaga', 'gusto', 'yung', 'product', 'dinedeliver', 'sakin', 'tuyo', 'magagamit', 'iam', 'really', 'disappointed', 'seller', 'bad', 'attitude', 'response', 'concern', 'never', 'buy', 'shoppe', 'very', 'rude', 'concern', 'customer'], ['very', 'disappointed', 'order', 'supposed', 'christmas', 'gift', 'sister', 'happy', 'delivered', '24th', 'but', 'opened', 'saw', 'none', 'orders', 'received', 'wrong', 'item', 'christmas', 'gift', 'ruined'], ['nakaka', 'lungkot', 'naman', 'kasi', 'expacted', 'taotlo', 'akong', 'sponge', 'free', 'gaya', 'nasa', 'picture', 'pero', 'sad', 'say', 'walaa', 'talaga', 'huhuhuhuhuhhu', 'tapos', 'akala', 'malalaki', 'yung', 'hindi', 'hehehehehehehe', 'pero', 'excited', 'nako', 'gamitin', 'mimakeupan', 'hihihihihihihi', 'order', 'again'], ['natanggap', 'kuna', 'po', 'itemok', 'naman', 'packaging', 'dismayado', 'kasi', 'liit', 'kakaloka', 'sobra', 'liit', 'primer', 'saka', 'fullcover', 'hindinsya', 'expect', 'laki', 'ðÿ˜', '”', 'full', 'cover', 'kasing', 'vice', 'lipstict', 'tas', 'lahat', 'lamanung', 'primer', 'kakaloka', 'liit', 'dinðÿ˜£', 'better', 'nalang', 'namili'], ['very', 'disappointing', 'kahit', 'product', 'walang', 'tumama', 'wow', 'waste', 'money', 'supposed', 'two', 'brow', 'gels', 'three', 'face', 'powders', 'ordered', 'foundation', 'lipstick', 'concealer', 'got', 'never', 'again', 'guys', 'total', 'waste', 'money', 'swear'], ['bukas', 'open', 'package', 'tapos', 'andaming', 'scratch', 'nung', 'mismong', 'item', 'sayang', 'pera', 'buti', 'sale', 'bumili', 'pero', 'sana', 'ayusin', 'not', 'order', 'again', 'plus', 'hindi', 'naka', 'sealed'], ['very', 'fast', 'delivery', 'took', 'ship', 'china', 'like', '6', 'days', 'well', 'packaged', 'problem', 'bought', '2', 'different', 'shades', 'concealers', 'but', 'sent', 'same', 'shade'], ['unresponsive', 'seller', 'not', 'react', 'pay', 'attention', 'complain', 'totally', 'fault', 'shipped', 'items', 'incomplete', 'ive', 'paid', 'full', 'payment', 'but', 'receive', 'incomplete', 'definitely', 'not', 'buy', 'again', 'waste', 'money'], ['nainis', 'rider', 'kc', 'marunong', 'kumontal', 'dinelever', 'item', 'pinahirapan', 'kunin', 'item', 'ayaw', 'sana', 'kunin', 'eh', 'mali', 'kaya', 'rider', 'dapat', 'wlang', 'star'], ['panget', 'item', 'parang', 'divi', 'yung', 'make', 'okay', 'naman', 'kaso', 'parang', 'laruan', 'sobrang', 'liit', 'item', 'akala', 'pamura', 'pamahal', 'item', 'pati', 'kulang', 'yung', 'pinadala', 'walang', 'liquid', 'eye', 'pero', 'doble', 'yung', 'concealer', 'never', 'order', 'again'], ['gnon', 'tagal', 'hinitay', '1212', 'binili', 'discount', 'dmi', 'nabili', 'sknila', 'napaka', 'panget', 'napaka', 'liit', 'lng', 'kala', 'mo', 'laruan', 'nakaka', 'inis', 'ndi', 'worth', 'price', 'nxt', 'time', 'oorder', 'nakak', 'disappoint'], ['sobrang', 'tgal', 'dmating', 'items', 'nkaka', 'bwesithalos', '10', 'daysðÿ˜', 'ðÿ˜'], ['omg', 'yellowest', 'concealer', 'ever', 'used', 'canâ€™t', 'even', 'use', 'super', 'yellow', 'waste', 'money'], ['incomplete', 'item', 'delivered', 'seller', 'dispute', 'refund', 'good', 'thing', 'shoppee', 'approve', 'request', 'credited', 'acct', 'never', 'order', 'again', 'shop', 'ðÿ˜', '”', 'ðÿ˜', '’', 'ðÿ˜', '‘'], ['kulang', 'yung', 'products', 'dumating', 'sakin', 'yet', 'wala', 'paring', 'response', 'sayang', 'binayad', 'very', 'dissappointed'], ['sayang', 'pera', 'wag', 'bumili', 'misleading', 'yung', 'freebies'], ['mali', 'pinadala', 'niyo', 'sayang', 'pera', 'ðÿ', '‘', 'žðÿ', '‘', 'žðÿ', '‘', 'žðÿ', '‘', 'žðÿ', '‘', 'ž'], ['didnt', 'receive', 'right', 'tone', 'color', 'order', '2', 'warm', 'ivory', 'but', '3', 'came', 'embarrassing', 'ðÿ¤¬'], ['quality', 'product', 'not', 'good', 'burning', 'feeling', 'applied', 'takes', 'very', 'very', 'looooong', 'time', 'set', 'mahapdi', 'sya', 'mukha', 'mahapdi', 'balat'], ['bat', 'naman', 'ganon', 'tuyot', 'yung', 'laman', '4weeks', 'naman', 'hinintay', 'tapos', 'ganon', 'nakaka', 'dissapoint'], ['item', 'looked', 'like', 'already', 'used'], ['didnt', 'receive', 'product', 'â˜¹ï¸\\x8f'], ['incomplete', 'item', 'delivered', 'seller', 'dispute', 'refund', 'good', 'thing', 'shoppee', 'approve', 'request', 'credited', 'acct', 'never', 'order', 'again', 'shop', 'ðÿ˜', '”', 'ðÿ˜', '’', 'ðÿ˜', '‘'], ['kulang', 'yung', 'products', 'dumating', 'sakin', 'yet', 'wala', 'paring', 'response', 'sayang', 'binayad', 'very', 'dissappointed'], ['sayang', 'pera', 'wag', 'bumili', 'misleading', 'yung', 'freebies'], ['mali', 'pinadala', 'niyo', 'sayang', 'pera', 'ðÿ', '‘', 'žðÿ', '‘', 'žðÿ', '‘', 'žðÿ', '‘', 'žðÿ', '‘', 'ž'], ['didnt', 'receive', 'right', 'tone', 'color', 'order', '2', 'warm', 'ivory', 'but', '3', 'came', 'embarrassing', 'ðÿ¤¬'], ['quality', 'product', 'not', 'good', 'burning', 'feeling', 'applied', 'takes', 'very', 'very', 'looooong', 'time', 'set', 'mahapdi', 'sya', 'mukha', 'mahapdi', 'balat'], ['bat', 'naman', 'ganon', 'tuyot', 'yung', 'laman', '4weeks', 'naman', 'hinintay', 'tapos', 'ganon', 'nakaka', 'dissapoint'], ['item', 'looked', 'like', 'already', 'used'], ['didnt', 'receive', 'product', 'â˜¹ï¸\\x8f'], ['incomplete', 'parcel', 'ðÿ¤¬ðÿ¤¬ðÿ¤¬'], ['sobrang', 'liit', 'primer'], ['damage', 'yung', 'dalawa', 'lahat', 'plastic', 'open', 'nansa', 'gitnang', 'part', 'yung', 'plastic', 'insect', 'loob', 'sonbrang', 'disappointed', 'parang', 'gamit', 'nayan', 'tapos', 'sira', 'sira', '7', 'naman', 'binili', 'ganyan', 'nakakapanghinayang', 'talaga', 'nako', 'uulit'], ['manipis', 'deliver', 'sira', 'agad', 'manipis', 'klase', 'maganda'], ['item', 'shipped', 'very', 'late', 'not', 'receive', '2', 'items', 'not', 'order', 'again', 'super', 'tagal', 'dumating', 'kulang', 'dalawang', 'items', 'graaaabbee', 'super', 'tagal', 'reply', 'chat', 'nakareply', 'wala', 'feedback', 'kahit', 'naka', 'online', 'naman'], ['pindot', 'tanggal', 'naðÿ˜¥ðÿ˜¥ðÿ˜‚ðÿ˜‚ðÿ˜‚'], ['madaling', 'masira', 'nilaro', 'saglit', 'anak', 'nasira', 'agad'], ['hindi', 'natutuwa', 'damage', 'yung', 'item', 'ipang', 'reregalo', 'kopa', 'naman', 'susunod', 'wag', 'kayo', 'magpapadala', 'damage'], ['hindi', 'complete', 'binigay', 'order', 'tried', 'contact', 'message', 'seller', 'many', 'times', 'pero', 'walang', 'reply', 'waited', 'reply', 'giving', 'rate', 'pero', 'wala', 'talaga'], ['sira', 'pinadala', 'ðÿ˜', '”'], ['okay', 'sana', 'since', 'napakabilis', 'shipping', 'kaso', 'sira', 'yung', 'dumating', 'ðÿ˜\\xad', 'tsaka', 'super', 'liit', 'strawberry', 'not', 'good', 'kids', 'parang', 'pangtoddle'], ['item', 'looks', 'nice', 'but', 'last', '3', 'hours', 'only', 'factory', 'defect', 'dont', 'know', 'seller', 'maybe', 'talk', 'supplier', 'not', 'even', 'worth', 'shipping'], ['ordered', '3', 'but', 'only', '2', 'came', 'tried', 'reaching', 'seller', 'numerous', 'times', 'waited', 'response', 'but', 'received', 'nothing', 'seller', 'not', 'accommodating'], ['received', 'damaged', 'item', 'seller', 'not', 'even', 'responding', 'requestso', 'disappointedðÿ˜¡ðÿ¤¬'], ['kulang', 'yung', 'binigay', 'item', 'pipa', 'picture', 'b4', 'yje', 'shipping', 'sinabing', 'ship', 'kaya', 'kulang', 'kulang', 'sira', 'yung', 'memessege', 'ky', 'seller', 'hindi', 'nagrereply'], ['wrong', 'item', 'delivered', 'not', 'accept', 'return', 'refund'], ['umorder', 'tatlo', 'dalawa', 'lng', 'lamannagchat', 'seller', 'wala', 'response', 'umasa', 'anak', 'wala', 'action'], ['10', 'items', 'dumating', 'pero', '11', 'items', 'order', 'minessage', 'seller', 'pero', 'nagrereply', 'pambenta', 'naman', 'sana', 'pero', 'kulang', 'dumating', 'nubayan'], ['tagal', 'hinintay', 'anak', 'tas', 'sira', 'yung', 'ibibigay', 'ðÿ˜ÿ', 'sana', 'naman', 'chinecheck', 'bago', 'iship', 'ðÿ˜', '’', 'nakaka', 'disappointed', 'hays'], ['ordered', 'paid', 'six', 'pop', 'only', '2', 'arrived', 'seller', 'not', 'responsive', 'contacting', 'since', 'last', 'week', 'disappointing'], ['eto', 'po', 'yung', 'picture', 'kayo', 'po', 'bahalang', 'humusga', 'leave', 'message', 'deadma', 'pero', 'active', 'naman', 'nagbabayad', 'po', 'tama', 'base', 'presyo', 'sana', 'po', 'quality', 'binibigay', 'dapat'], ['dissapointed', 'seller', 'chat', 'anong', 'gusto', 'design', 'since', '3', 'order', 'pero', 'nakarating', 'sakin'], ['super', 'late', 'dumating', 'unresponsive', 'seller', 'not', 'recommending', 'shop'], ['sira', 'pinadala', 'nakakaumay', 'naman'], ['bibili', 'ulit', 'ditoparehong', 'item', 'ibinigay', 'chinat', 'seller', 'pagtapos', 'order', 'reply', 'inorder', 'ibibigay', 'nabilhan', 'shopee', 'mali', 'binigay', 'â\\xad\\x90'], ['nakakadisappoint', 'seller', 'nagbibigay', 'kayo', 'sirang', 'item', 'never', 'avail', 'again', 'shop'], ['kahit', 'refund', 'itong', 'bwisit'], ['working', 'fine', 'except', 'itemits', 'hard', 'push', 'popping', 'back'], ['pangit', 'itemðÿ¤¨'], ['bat', 'ganon', 'naka2disapoint', 'naman', 'po', 'kulang', 'po', 'napadala', 'order', 'qwala', '2', 'key', 'chain', 'dalawang', 'heart', 'lng', 'dumatingnaka2walang', 'gana', 'namanexcited', 'naman', 'sana', 'dalawang', 'anak', 'qðÿ˜', '”', 'ðÿ˜', '”', 'ðÿ˜', '”'], ['items', 'incomplete', 'seller', 'not', 'responding'], ['defective', 'item', 'seller', 'not', 'responsive'], ['sobrang', 'panget', 'sayang', 'lng', 'pera', 'sya', 'gaya', 'una', 'orderðÿ˜¡'], ['not', 'order', 'store', 'again', 'dishonest', 'seller', 'payed', '10pcs', 'ordered', 'store', 'but', 'send', 'only', '3pcs', 'contacted', 'refund', 'but', 'disregard', 'message'], ['please', 'not', 'buy', 'seller', 'intentionally', 'send', 'incomplete', 'items', 'not', 'get', 'refund', 'not', 'respond', 'messages', 'either', 'waste', 'money', 'scam', 'seller', 'missing', 'items', 'ordered', '5', 'but', 'only', '2', 'items', 'received', 'seller', 'not', 'responding', 'too'], ['okay', 'sana', 'kaso', 'kulang', 'nextime', 'double', 'check', 'kumpleto', 'nagbabayad', 'sapat', 'tapos', 'kukulangan', 'hindi', 'nagreresponse', 'yung', 'seller'], ['order', 'incomplete', 'seller', 'not', 'responding', 'requested', 'refund', 'but', 'cancelled', 'very', 'disappointing'], ['totoo', 'napaka', 'pangit', 'product', 'bilis', 'mabutas', 'zero', 'irate', 'jg', 'zero'], ['mapapamura', 'nalang', 'talaga', 'sobrang', 'kulang', 'mali2', 'kulay', '40', 'item', '39', 'pinadala', 'ibebenta', 'po', 'pambili', 'gatas', 'anak', 'ayusin', 'naman', 'trabaho', 'kasi', 'nagbabayad', 'sakto', 'hindi', 'rereply', 'sakin', 'seller', 'wag', 'kayo', 'oorder', 'nakakaiyak', 'ðÿ˜\\xadðÿ˜\\xad'], ['kulang', 'item', 'nagpm', 'aq', 'seller', 'sbi', 'autoreply', 'wg', 'muna', 'dw', 'mgbgay', 'mababang', 'rating', 'isettle', 'muna', 'dw', 'kng', 'problema', 'ok', 'cge', 'nagantay', 'aq', 'isasagot', 'complaint', 'araw', 'wala', 'reply', 'hayaan', 'nalng', 'next', 'time', 'check', 'mabuti', 'owkee'], ['pingas', 'pop', 'ðÿ˜', '”', 'icheck', 'muna', 'item', 'bago', 'iship', 'ðÿ˜', 'seller', 'hindi', 'ngrreply', 'ðÿ', '‘', 'ž'], ['hindi', 'daw', 'magandang', 'laruin', 'anak', 'masyadong', 'malabot', 'yung', 'pinaka', 'body', 'malalim', 'yung', 'pipindutin', 'magkabila', 'madali', 'masira', 'kasi', 'nga', 'over', 'lambot', 'nung', 'pipindutinpics', 'not', 'related', 'dhil', 'naitapon', 'nung', 'sunday', 'nmin', 'nr'], ['incomplete', 'order', 'not', 'responsive', 'buyers', 'concern'], ['incomplete', 'delivery', 'paid', 'already', 'but', 'seller', 'not', 'include', 'head', 'cleaning', 'massage', 'delivery', 'asked', 'refund', 'but', 'cancelled', 'request', 'poor', 'service', 'ðÿ˜¡'], ['butas', 'unicorn', 'upi', 'upi', 'nagbayad', 'tama', 'damage', 'item', 'sungit', 'manong', 'nagdeliver', 'wala', 'nga', 'exact', 'amount', 'pambayad', 'wala', 'daw', 'siyang', 'pamalit', 'nagsermon', 'jt', 'delivery', '1star', 'pop', 'siraâ˜¹'], ['matagal', 'dumating', 'product', 'unresponsive', 'seller', 'inquiries'], ['nooooã³ðÿ˜¡'], ['ordered', '3x', 'cloth', 'diaper', 'only', '1', 'dumating', 'seller', 'not', 'responding', 'hindi', 'sana', 'magpa', 'refund', 'reply', 'sya'], ['pls', 'respond', 'message', 'sira', 'po', 'robot', 'pop', 'grabeeeee', 'pra', 'edit', 'tong', 'review'], ['kulang', 'recieve', 'sayang', 'pera', 'manlang', 'double', 'check', 'bago', 'ship', 'tapos', 'chat', 'seller', 'manlang', 'reply', 'kainis', 'kasi', 'pina', 'order', 'sakin', 'small', 'amount', 'pero', 'nakakainis'], ['4', 'days', 'butas', 'agad', 'kulang', 'yung', 'item', 'dumating', 'sakin', 'hindi', 'rereply', 'seller'], ['not', 'receive', 'item'], ['dalawang', 'item', 'kinuha', 'dumatingnakakadisappoint', 'kasi', 'dapat', 'dalawang', 'pamangkin', 'eh', 'aagawan', 'tuloy'], ['kulang', 'yung', 'orders', 'ðÿ˜¡ðÿ˜¡ðÿ˜¡'], ['kulang', 'yung', 'dumating', 'sakin'], ['panget', 'bumabalik'], ['wrong', 'item', 'pinadala', 'ordered', 'among', 'robot', 'pero', 'pinadala', 'hindi', 'manlang', 'update', 'seller'], ['not', 'responsive', 'online', 'naman', 'pero', 'hindi', 'nagrereply', 'kahit', 'sira', 'yung', 'item', 'shinip', 'not', 'order', 'again'], ['bilis', 'masira', 'nung', 'pop', 'nabutas', 'punit', 'agad', 'eh', 'kakadeliver', 'ganun', 'ðÿ˜¢'], ['sobrang', 'liliit', 'tapos', 'hindi', 'naman', 'pop', 'tumutunog', 'pinipindot', 'wala', 'ayaw', 'laruin', 'bata', 'sayang'], ['kulang', 'item', 'bagal', 'chat', 'seller'], ['only', 'give', 'one', 'star', 'because', 'tagal', 'nga', 'deliver', 'tapos', 'pagdating', 'skn', 'damage', 'god', 'muntik', 'kona', 'nga', 'ireturn', 'refund', 'today', 'kng', 'hndi', 'dumating', 'surprise', 'sira', 'sayang', 'nmn', 'shopee', 'mall', 'kayo', 'tapos', 'ganito', 'hndi', 'mauulit', 'bumili', 'sainyo', 'dont', 'buy', 'store'], ['incomplete', 'packageitem', 'linaw', 'linaw', 'ayos', 'makipag', 'usap', 'iwan', 'note', 'orders', 'pero', 'kulang', 'pinadala', 'niyo', 'message', 'hindi', 'muna', 'rate', '1', 'star', 'leave', 'negative', 'comment', 'basta', 'ayusin', 'niyo', 'yung', 'problema'], ['kulang', 'alam', '15', 'pesos', 'lng', 'kaso', 'syempre', 'binayadan', 'expect', 'bata', 'tig', 'tas', 'wala', 'lng', 'response', 'seller', 'maganda', 'ganun', 'dapat', 'lng', 'hingi', 'kayo', 'pasensya'], ['ordered', '2', 'units', 'lcd', 'writing', 'tablet', 'but', 'only', 'receive', 'one', 'ðÿ˜ž', 'hassle'], ['received', 'damaged', 'item', 'manlang', 'chineck', 'seller', 'bago', 'pinadala', 'yung', 'ok', 'naman', 'pinalusot', 'yung', 'pirasong', 'damaged', 'nakakadismaya'], ['kulang', 'binigay', '6', 'order', '4', 'lng', 'binigay', 'nanloloko', 'kayu', 'tao'], ['tatlo', 'po', 'inorder', 'kasodalawa', 'received', 'gaguhan', 'kwenta'], ['kulang', 'pop', 'maganda', 'sana', 'kaso', 'kulang', 'nang', 'dalawa', 'dumatingðÿ™\\x81'], ['incomplete', 'order', 'unresponsive', 'seller'], ['wrong', 'item'], ['dis', 'appointedi', 'ordered', '5pcs', 'only', 'received', '4', 'pcs'], ['damaged', 'not', 'order', 'again'], ['kumpleto', 'binayaran', 'pero', 'yung', 'item', 'kulang', 'nang', 'dalawa', 'wag', 'kayo', 'bumili', 'budol', 'tong', 'shop', 'nato'], ['sira', 'item', 'nadeliver', 'kinontak', 'seller', 'sagot', 'pasensya', 'sana', 'ayisin', 'pinagiipunan', 'anak', 'pinangbibili', 'nia', '3items', 'nmn', 'binili', 'nmin', 'hayss', 'pkiayos', 'naman', 'uulit', 'shop', 'nato'], ['nakakasama', 'luob', 'kc', '5', 'order', 'dumatingayusin', 'nio', 'poðÿ˜', 'ðÿ˜', 'ðÿ˜', 'ðÿ˜'], ['among', 'yung', 'pero', 'dalawang', 'unicorn', 'pinadala', 'dalawang', 'lalake', 'babae', 'namang', 'pagbibigyan', 'nakakainit', 'ulo', 'hindi', 'available', 'wag', 'options', 'napipili', 'sana', 'manlang', 'nagmessage', 'yung', 'seller', 'walang', 'ibang', 'available', 'makapili', 'akong'], ['wag', 'kayo', 'umorder', 'okay', 'sana', 'yung', 'items', 'kaso', 'kulang', '22', 'items', 'order', 'kulang', '2', 'masaklap', 'dun', 'nagrereply', 'okay', 'sana', 'kug', 'nagrereply', 'makikita', 'aactive', 'sya', 'grabeeeeee'], ['panget', 'manipis', 'pop', 'madling', 'mabutas', 'syang', 'pera', 'bili', 'dmi', 'nmn', 'ðÿ', '‘', 'žðÿ', '‘', 'žðÿ', '‘', 'žðÿ', '‘', 'ž'], ['very', 'unprofisional', 'dont', 'like', 'order', 'again', 'shop', 'not', 'accomodating'], ['tatlo', 'po', 'order', 'pero', 'dalawa', 'dumating', '2', 'pop', 'ups', 'wala', 'sana', 'nextime', 'paki', 'check', 'po', 'complete', 'po', 'idedeliver'], ['seller', 'not', 'responsiveso', 'much', 'disappointed'], ['kulang', 'yung', 'order', 'koðÿ˜ª'], ['sala', 'nga', 'gen', 'padala', 'dapat', 'pares', 'tuloy', 'away', 'dala', 'kc'], ['nga', 'order', 'nacheck', 'ayos', 'sira', 'yung', 'bandang', 'taas', 'makikita', 'picture', 'damage', 'sana', 'chineck', 'muna', 'ayos', 'item', 'paano', 'madami', 'unsatified'], ['only', 'received', 'dinosaur', 'strawberry', 'ðÿ˜\\xad'], ['product', 'chocking', 'hazard', 'knob', 'easily', 'gets', 'removed', 'make', 'sure', 'supervise', 'child', 'used'], ['sira'], ['cards', 'very', 'thin', 'easily', 'ripped', 'off', 'son', 'also', 'animals', 'fruits', 'featured', 'not', 'very', 'common', 'kids'], ['walang', 'pakelam', 'basta', 'mgkapera', 'lankahit', 'malimali', 'binigay', 'product'], ['received', 'wrong', 'item', 'not', 'order', 'anymore', 'ðÿ˜\\x8fðÿ¤¬ðÿ˜'], ['wrong', 'item', 'given', 'giving', 'hard', 'tike', 'refunding', 'returning', 'items'], ['seller', 'rude', 'even', 'message', 'first', 'inform', 'thereâ€™s', 'broken', 'missing', 'parts', 'item', 'yet', 'seller', 'blames', 'manufacturing', 'defect', 'courier', 'never', 'suggest', 'solution', 'solve', 'issue', 'disappointed', 'shop', 'donâ€™t', 'ever', 'buy', 'shop', 'beware'], ['lacking', 'item'], ['first', 'time', 'buy', 'store', 'very', 'disappointed', 'kulang', 'po', 'yung', 'item', 'pinadala', 'hindi', 'informed', 'sobrang', 'tagal', 'ship', 'yung', 'item', 'please', 'want', 'buy', 'item', 'store', 'never', 'ever', 'try', 'buy', 'else', 'youll', 'regret'], ['1', 'item', 'missing'], ['poor', 'quality'], ['sira', 'yung', 'lalagyan', 'nakaka', 'disapointðÿ˜', '”', 'ðÿ˜', '”'], ['ordered', 'blue', 'white', 'dumating', '1', 'star', 'ganun', 'ganda', 'item', 'manipis', 'madaling', 'tumumba', 'bata', 'hahah'], ['not', 'order', 'again', 'because', 'freebies', 'order', 'promo', 'date', 'scam'], ['grabe', 'pedigree', 'shoppee', 'yung', 'sale', 'cinancel', 'niyo', 'niyo', 'technical', 'issuesilang', 'days', 'akong', 'nakipag', 'communicate', 'sainyo', 'niyo', 'kinancel', 'niyo', 'abangan', 'ulit', 'sale', 'araw', 'kht', 'definite', 'timeafter', 'check', 'kinancel', 'niyo', 'ulit'], ['very', 'poor', 'customer', 'service'], ['shipped', '2', 'months'], ['wala', 'nga', 'box', 'binayaran', 'dentastix', 'eh', 'pedigree', 'mini', 'dapat', 'check', 'muna', 'orders', 'bago', 'box'], ['incomplete', 'items', 'not', 'available', 'tapos', 'hindi', 'marefund'], ['order', 'alphabet', 'tapos', 'number', 'tapos', 'dumating', 'parehas', 'numbers', 'ðÿ˜¡ðÿ˜¡ðÿ˜¡ðÿ˜¡'], ['first', 'not', 'buy', 'shop', 'second', 'please', 'donâ€™t', 'donâ€™t', 'want', 'regret', 'waste', 'money', 'customer', 'service', 'drastically', 'poor', 'send', 'incomplete', 'items', 'play', 'dumb', 'refund', 'buy', 'stores', 'instead', 'not', 'cause', 'not', 'wise'], ['nagsesend', 'items', 'hindi', 'naman', 'inoorder', 'buyer', 'donâ€™t', 'decide', 'buyer', 'sobrang', 'nakaka', 'disappoint', 'shopee', 'mall', 'kayo', 'yung', 'budget', 'pera', 'needs', 'baby', 'development', 'tapos', 'ganito', 'matatanggap', 'items', 'yung', 'hindi', 'available', 'ipinalit', 'doble', 'available', 'items'], ['nga', 'order', 'nacheck', 'ayos', 'sira', 'yung', 'bandang', 'taas', 'makikita', 'picture', 'damage', 'sana', 'chineck', 'muna', 'ayos', 'item', 'paano', 'madami', 'unsatified'], ['dameng', 'damage', 'board'], ['never', 'expected', 'condition', 'like', 'bnew', 'panaman', 'daming', 'rumi', 'tapos', 'spine', 'sira', 'tapos', 'linya', 'ibang', 'pages', 'tapos', 'punit', 'konte', 'very', 'dissapointed', 'tagal', 'halos', '15', 'days', 'pataas', 'bago', 'dumating', 'never', 'order', 'shop', 'again', 'pangit', 'quality', 'totoo'], ['damage', 'dumating', 'hindi', 'same', 'yung', 'size', 'part', '2', 'parang', 'naka', 'cut', 'yung'], ['shouldnt', 'gotten', 'hopes', 'because', 'books', 'wet', 'ðÿ˜¢', 'asked', 'bubble', 'wrap', 'instead', 'but', 'again', 'probably', 'wont', 'buying', 'anymore', 'because', 'experience'], ['omorder', 'hell', 'university', 'mafia', 'boss', 'kaso', 'dumating', 'saakin', 'mafia', 'boss', 'tapos', 'nung', 'chinat', 'yung', 'seller', 'hindi', 'naman', 'rereply', 'bayad', 'maayos', 'tapos', 'ganto'], ['psicompublishing', 'napakatagal', 'dumating', 'tapos', 'expectation', 'vs', 'reality', 'lng', 'picture', 'hell', 'university', 'bundle', 'tapos', 'pinadala', 'niyong', 'libro', 'hindi', 'lng', 'kayo', 'naginform', 'available', 'yung', 'book', 'willing', 'wait', 'naman', 'collectible', 'items', 'yung', 'inorder', 'sira', 'sira', 'yung', 'plastic'], ['yung', 'content', 'po', 'nung', 'book', 'ganda', 'pero', 'yung', 'book', 'damage', 'loob', 'ingat', 'ingat', 'nmn', 'tapos', 'pagbuklat', 'nung', 'book', '2', 'ganito'], ['paki', 'ayos', 'po', 'yung', 'serbisyo', 'niyo', 'palagyan', 'greetings', 'drap', 'naman', 'psicom', 'excited', 'naman', 'since', 'taga', 'pangasinan', 'yung', 'friend', 'first', 'time', 'umorder', 'tapos', 'ganyan', 'yung', 'first', 'exp', 'haha'], ['kala', 'kuba', 'bundle', 'part', '12', 'part', '1', 'nakuha', 'hindi', 'naman', 'po', 'siguro', 'mali', 'kakaintindi', 'ðÿ™„', 'iknow', 'hindi', 'kuna', 'mababalik', 'item', 'maayos', 'ðÿ˜¡', 'ibigay', 'yung', 'part', '2', 'kase', 'bayad', 'maayos', 'ibigay', 'maayos'], ['kulang', 'yung', 'item', 'pinadala', 'tapos', 'nung', 'rerequest', 'refund', 'kinancel', 'tapos', 'ayaw', 'reply', 'seller'], ['kulang', 'dalawang', 'books', 'yung', 'order', 'cost', 'nun', 'fixed', '600', 'tapos', '270', '2books', 'pero', 'delivered', 'sakin', '2', 'boks', 'instead', '4books'], ['poor', 'costumer', 'service'], ['say', '2pcs', 'only', 'gave', 'oneðÿ¥º', 'very', 'disappointed', 'ðÿ˜', '”'], ['nakaka', 'disappoint', 'first', 'time', 'order', 'tapos', 'nangyari', 'butas', 'yung', 'bottle', 'cleanser', 'naka', 'bubble', 'wrap', 'nga', 'pero', 'bukasan', 'naman', 'nagleak', 'halos', 'wala', 'natira', 'dun', 'mismong', 'packaging', 'pati', 'yung', 'wipes', 'nanlagkit', 'napicturan', 'sobrang', 'inis'], ['yung', 'delivery', 'rider', 'niyo', 'hindi', 'marunong', 'magbalik', 'sukli', 'btw', 'abuloy', 'nalang', 'pamilya', 'nung', 'pinili', 'niyong', 'delivery', 'rider'], ['never', 'order', 'againincomplete', 'item', 'only', '116', 'already', 'sent', 'screen', 'shots', 'cctv', 'iam', 'wiiling', 'provide', 'video', 'needed', 'but', 'still', 'not', 'approved', 'return', 'request', '1st', 'time', 'ðÿ˜ž'], ['delivered', 'wrong', 'item', 'nagpunta', 'mlhullier', 'ireturn', 'pero', 'code', 'kasama', 'free', 'shipping', 'chat', 'support', 'online', 'naman', 'pero', 'nagrereply', 'chat', 'bad', 'customer', 'service', 'lage', 'naman', 'ngoorder', 'ngaun', 'namaliordered', 'last', '77', 'sale', 'nadeliver', 'kagad', 'pero', 'wrong', 'itemâ'], ['ordered', 'unscented', 'but', 'sent', 'scented', 'even', 'asked', 'seller', 'double', 'check', 'items', 'shipping', 'because', 'last', 'time', 'sent', 'naman', 'kulang', 'items', 'last', 'time', 'ordered', '4', 'pcs', 'sent', '1pc', 'antagal', 'ship', 'useless', 'kahit', 'magchat', 'walang', 'response', 'ðÿ', '‘', 'žðÿ', '‘', 'žðÿ', '‘', 'ž'], ['wipes', 'beatin', 'deformed', 'arrived', 'wasnâ€™t', 'packed', 'carefully', 'pouch', 'dripping', 'wet', 'mustâ€™ve', 'punctured', 'transporting', 'wipes', 'feels', 'lighter', 'nowâ'], ['hindi', 'kumpleto', 'yung', 'order', 'ata', 'yung', 'pinaka', 'hassle', 'transaction', 'shopee', 'hingi', 'hingi', 'update', 'irrefund', 'nalang', 'pacancel', 'nalang', 'yung', 'return', 'pagkacancel', 'nung', '27', 'ngayon', 'wala', 'padin', 'sobrang', 'nakakadisappoint', 'sana', 'marefund', 'po', 'yung', 'kulang', 'sayang', 'peraâ'], ['hindi', 'maayos', 'yung', 'package', 'sana', 'nilagay', 'small', 'box', 'pra', 'maiwasan', 'macrumple', 'pangalawang', 'order', 'pero', 'sobrang', 'dissapointed', 'ngayon', 'kase', 'paglabas', 'wipes', 'basa', 'lahat', 'hindi', 'tuloy', 'alam', 'lahat', 'nabutas', 'sana', 'next', 'time', 'paki', 'secure', 'mabuti', 'lalo', 'wipes', 'order'], ['zero', 'stars', 'wouldve', 'given', 'mabagal', 'ship', 'seller', 'mali', 'products', 'dumating', 'walang', 'kwenta', 'customer', 'service', 'hindi', 'oorder', 'shop', 'think', 'verified', 'account', 'matagal', 'umoorder', 'shoppee', 'ngayon', 'nangyari', 'disappointing', 'ðÿ', '‘', 'ž'], ['seller', 'sent', 'incomplete', 'items', 'order', 'ulit', 'isasabay', 'dun', 'pero', 'dumating', 'new', 'order', 'wala', 'dun', 'missing', 'item', 'not', 'issue', 'refund', 'lakas', 'loob', 'dispute', 'sabay', 'magrerefund', 'kayo', 'gcash', 'umabot', '10', 'days', 'wala', 'refund', 'scammer'], ['grabe', 'took', 'very', 'long', 'deiver', 'only', 'find', '4', 'handwash', 'padala', 'instead', 'wipes', 'bottle', 'cleansser', 'gusto', 'ipacancel', 'saken', 'yung', 'refund', 'request', 'nalang', 'daw', 'magrreplace', 'pero', 'nung', 'nacancel', 'fi', 'nagrreply'], ['canceled', 'yung', 'order', 'nareceive', 'yung', 'freebies', 'charcoal', 'wipes', 'talaga', 'nagbigay', 'compensation', 'kapalpakan', 'itong', 'items', 'ngayon', 'nireorder', 'buti', 'mustela', 'free', 'gift', 'nareceived', 'agad', 'yung', 'order', 'worth'], ['rejected', 'pls', 'read', 'chats', 'wrong', 'delivery', 'address', 'kaya', 'pinapakansel', 'nagreorder', 'diba', 'kaya', 'nga', 'nakakapagrate', 'ngayon', 'same', 'items', 'pinapakansel', 'etong', 'inorder', 'nun', 'june', '11', 'nareceive', 'tas', 'ngayon', 'rejected', 'yung', 'pinapakansel', 'ikansel', 'niyo'], ['ordered', 'unscented', 'got', 'scented', 'ones', 'instead', 'know', 'people', 'allergic', 'scent', 'reason', 'ordered', 'unscented', 'seller', 'not', 'even', 'ask', 'itâ€™s', 'okay', 'not', 'even', 'bother', 'reply', 'messages', 'poor', 'customer', 'service', 'waste', 'money'], ['sobrang', 'tagal', 'iship', 'courier', 'kuddos', 'courier', 'kasi', 'bilis', 'ipadala', 'naman', 'yung', 'seller', 'problema', 'lagi', 'sinasabing', 'napaship', 'pero', 'totoo', 'hindi', '23', 'days', 'bago', 'magkatotoo', 'lol', 'yung', 'csr', 'walang', 'alam', 'ireply', 'kundi', 'napaship', 'kuno', 'yung', 'parcel', 'lol'], ['ordered', '929', 'pero', 'ngayon', 'nadeliver', 'sobrang', 'late', 'dunno', 'courier', 'package', 'annoying', 'come', 'late', 'esp', 'baby', 'stuff', 'necessity', 'good', 'thing', 'still', 'stock', 'left', 'hate', 'down', 'last', 'ðÿ˜¡'], ['never', 'ulit', 'oorder', 'shop', 'bastos', 'yung', 'customer', 'service', 'kahit', 'nagkamali', 'unscented', 'inorder', 'ipapadala', 'kala', 'naman', 'madali', 'kumita', 'perawag', 'kyo', 'oorder', 'dto', 'sobrang', 'hassle', 'mali', 'mali', 'ipapadala', 'sainyoahhhâ'], ['although', 'products', 'highly', 'recommended', 'bery', 'disappointed', 'customer', 'service', 'actually', 'walang', 'service', 'customer', 'ignoring', 'messages', 'super', 'late', 'magpaship', 'took', 'month'], ['still', 'pending', 'items', 'prior', 'order', 'following', 'but', 'seller', 'never', 'responded', 'â', 'loyal', 'customer', 'unicare', 'but', 'frustrating', 'not', 'reply', 'nor', 'give', 'updates', 'paid', 'ordersâ'], ['received', 'tender', 'love', 'wipes', 'instead', 'unilove', 'ordered', 'ordered', '4pcs', 'received', '3pcs', 'only', 'dont', 'time', 'return', 'but', 'seller', 'very', 'inresponsive', 'akala', 'nakamura', 'because', 'discount', 'bibigay', 'according', 'price', 'pay', 'lugi', 'sadâ'], ['puro', 'baby', 'wipes', 'pinadala', 'order', 'handsoap', 'detergent', 'dishwashing', 'liquid', 'airfreshener', 'hindi', 'pinadala', 'lugi', 'shipping', 'fee', 'naman', 'sumasagot', 'message', 'seller', 'sana', 'kinancel', 'kc', 'mas', 'marami', 'dineliver', 'tapos', 'napakatagal', 'delivery'], ['super', 'poor', 'packaging', 'yung', 'dalwang', 'pack', 'wipes', 'butas', 'butas', 'yung', 'pouch', 'black', 'arrowat', 'sobrang', 'siniksik', 'inipit', 'nagleak', 'lahat', 'wipes', 'almost', 'dry', 'wala', 'hangin', 'yung', 'packs', 'kasi', 'sumingaw', 'lahat', 'sana', 'naka', 'bubble', 'wrap', 'bago', 'nilagay', 'pouch'], ['ordered', '6', 'unscented', '6', 'milk', 'scent', 'not', 'order', 'scented', 'one', 'color', 'orange', 'because', 'irritates', 'childrens', 'skin', 'nose', 'yet', '6', 'items', 'received', 'scented', 'disappointed', 'bad', 'well', 'didnt', 'ask', 'parents', 'check', 'correct', 'items', 'delivered', 'soon', 'enou'], ['â\\x9dœ', 'seller', 'not', 'send', 'pictures', 'shipping', 'â\\x9dœ', 'seller', 'not', 'include', 'missing', 'items', 'previous', 'order', 'â\\x9dœ', 'seller', 'not', 'even', 'respond', 'chat', 'â\\x9dœ', 'seller', 'retaliated', 'rating', 'instead', 'improving', 'customer', 'services', 'ðÿ', '‘', 'žðÿ', '‘', 'žðÿ', '‘', 'žðÿ', '‘', 'žðÿ', '‘', 'ž'], ['nauna', 'dumating', 'mas', 'nauna', 'order', 'diaper', 'sana', 'check', 'nmn', 'date', 'maa', 'una', 'ipapaship', 'diaper', 'extend', 'lng', 'napaship', 'macacancel', 'shopee', 'sana', 'nmn', 'pansinin', 'message'], ['not', 'received', 'items', 'shopee', 'xpress', 'ayusin', 'trabaho', 'masyado', 'kayong', 'nagkakainteres', 'order', 'tao', 'mahinto', 'sana'], ['didnt', 'get', 'productmy', 'order', 'not', 'delivered', 'but', 'said', 'items', 'delivered', 'very', 'poor', 'customer', 'service', 'hindi', 'nagrereply', 'sayang', 'waited', 'too', 'long', 'pero', 'walang', 'dumating'], ['sobrang', 'tagal', 'kinancel', 'pero', 'dumating', 'ðÿ˜…', 'nakabili', 'ehh', 'hindi', 'kasi', 'uupdate', 'statusâ'], ['tagal', 'dumatinglong', 'overduemura', 'nga', 'tagal', 'naman', 'ideliver', 'almost', '2months', 'antay1', 'star', 'kayo'], ['rate', 'zero', 'rate', 'sakinðÿ', '‘', 'ž2', 'beses', 'omorder', 'pareho', 'nacancle', 'pina', 'shipðÿ', '‘', 'žkung', 'hindi', 'mali', 'ipapadala', 'ipapa', 'ship', 'orderðÿ˜¡ðÿ¤¬nakaka', 'init', 'kayo', 'uloðÿ', '‘', 'ž'], ['verry', 'disapointedcheck', 'item', 'first', 'give', 'customer', 'one', 'item', 'didnt', 'receive'], ['only', 'receive', '4pcs', '32s', 'but', 'order', '6pcs', 'paid', '6pcs', '32s', 'only', 'found', 'today', 'got', 'home', 'because', 'not', 'one', 'receive', 'parcel'], ['already', 'received', '1', 'item', 'supposedly', '2', 'please', 'make', 'necessary', 'adjustments', 'already', 'sent', 'pm', 'matter', 'thank'], ['dapat', 'star', 'ehdi', 'nagrereply', 'sellerpangalawang', 'order', 'yung', 'unang', 'order', 'matagal', 'dumating', 'ngayong', 'pangalawa', 'nakalagay', 'completed', 'eh', 'wala', 'naman', 'dumating', 'ðÿ˜¡ðÿ˜¡'], ['one', 'star', 'cause', 'took', 'forever', 'shipped', 'way', 'past', 'shipping', 'date', 'dont', 'reply', 'update', 'going'], ['walang', 'free', 'cerelac', 'puff', '3', 'klaseng', 'variant', 'nmn', 'wipes', 'binili', 'open', 'wala', 'â˜¹ï¸\\x8f'], ['717', 'inorder', '722', 'wala', 'padin'], ['3unilove', 'order', 'ko3', 'tender', 'love', 'pinadala', 'nioscammer', 'kau', 'last', 'purchase', 'q', 'say', 'products', 'nio', 'wala', 'kaung', 'integrity', 'pagdating', 'customer', 'nio'], ['not', 'receive', 'product', 'wrong', 'item', 'pinadala', 'sumasagot', 'seller', 'chat'], ['kulang', '1', 'pc', 'tinanong', 'husband', 'butas', 'platicsabi', 'daw', 'nagdeliver', 'nasabitpero', 'kulang', '2', 'pcs', 'pakiayos', 'pagpapa', 'ship'], ['wrong', 'item', 'ðÿ˜¡ðÿ˜¡ðÿ˜¡ðÿ˜¡', 'uni', 'love', 'wipes', 'order', 'tapos', 'tender', 'love', 'pinadala', 'nakakadismaya', 'wag', 'kayo', 'order', 'nagbayad', 'presyo', 'uni', 'love', 'wipes', 'tapos', 'eto', 'marereceive', 'hays', 'ðÿ˜¡ðÿ˜¡ðÿ˜¡ðÿ˜¡'], ['ganun', '10', 'pcs', 'order', 'pero', 'kulang', 'nakalagay', 'box', '2', 'pcssana', 'susunod', 'pakibilang', 'maigi', 'bago', 'isend', 'costumer', 'nakaka', 'dismaya', 'kasi', '2pcs', 'po'], ['kala', 'free', 'gift', 'wala', 'pinapili', 'niyo', 'pako'], ['tagal', 'bago', 'maship'], ['wrong', 'item', 'ordered', 'blue', 'color', 'orange', 'dumating'], ['tagal', 'delivery'], ['kulang', 'dineliver', 'sakin', 'walang', 'response', 'seller'], ['sobrang', 'tagal', 'deliver', 'cancel', 'dun', 'papansinin'], ['unilove', 'order', 'pero', 'dumating', 'tender', 'love', 'sad', 'ok', 'sana', 'kasi', 'nadeliver', 'naman', 'kaso', 'mali', 'item'], ['dumi', 'kalagitnaan', 'pack', 'parang', 'kalawang', 'not', 'purchase'], ['poor', 'packaging', 'siniksik', 'plastic', 'anim', 'wipes', 'kasama', 'hand', 'wash', 'ending', 'basang', 'basa', 'loob', 'natuyo', 'wipes', 'pano', 'magagamit', 'nakakadismaya', 'ðÿ', '‘', 'žðÿ', '‘', 'žðÿ', '‘', 'žðÿ', '‘', 'žðÿ', '‘', 'žðÿ', '‘', 'ž'], ['bastos', 'seller', 'toh', 'bat', 'hidde', 'mo', 'comment', 'good', 'review', 'binigay', 'sayo', 'ayos', 'bawi', 'coins', 'saksak', 'mo', 'baga', 'mo'], ['leak', 'yung', 'wipes', 'sana', 'susunod', 'ayusin', 'pack'], ['never', 'purchase', 'again', 'sana', 'pack', 'maayosno', 'bubble', 'wrap', 'separate', 'plastic', 'lamh', 'leakdirecho', 'pinasok', 'plastic', 'courier', 'wla', 'naman', 'balak', 'refund', 'itatapon', 'sana', 'pero', 'instead', 'humingi', 'pasesnya', 'eh', 'sbi', 'wala', 'silang', 'control', 'mali'], ['tatlo', 'order', 'po', 'dalawa', 'pinadala', 'sakin', 'ngbayad', 'tama', 'seller', 'wag', 'kayo', 'mandaya', 'haysss'], ['sobrang', 'nipis'], ['lng', 'binalot', 'bubble', 'wrap', 'basang', 'basa', 'madumi', 'butas', 'supot'], ['hindi', 'nkakatuwa', 'unicare', 'halos', 'tuyo', 'wipes', 'pno', 'wla', 'lng', 'bubble', 'wrap', 'karton', 'basang', 'basa', 'loob', 'pouch', 'leak', 'tubig', 'wipes', 'pno', 'mggmit', 'tuyo', 'ðÿ', '‘', 'žðÿ\\x8f', '»', 'ðÿ', '‘', 'žðÿ\\x8f', '»', 'ðÿ', '‘', 'žðÿ\\x8f', '»', 'ðÿ', '‘', 'žðÿ\\x8f', '»', 'kainis'], ['nagleak', 'water', 'wipes', 'hayys'], ['order', 'time88', 'ship', 'time813', 'deliverd', 'time814', 'jt', 'dear', 'selleryou', 'excert', 'extra', 'effort', 'packing', 'itemssuki', 'shop', 'niyo', 'but', 'improvement', 'direct', 'pouch', 'siniksik', '5pcs', 'pouch', 'ending', 'leak', 'wipes5', 'days', 'ship', 'wla', 'effort'], ['received', 'almost', 'open', 'package', 'put', 'together', 'packaging', 'tape', 'almost', 'see', 'contents', 'inside', 'contents', 'not', 'even', 'bubble', 'wrapped', 'placed', 'another', 'packaging', 'courier', 'shopee', 'express'], ['hindi', 'maganda', 'packaging', 'hindi', 'secured', 'sobrang', 'pitpit', 'sana', 'responsible', 'seller', 'ganitong', 'klase', 'product'], ['pangit', 'packaging', 'lng', 'secure', 'item', '10wipes', 'pinagkasya', 'plastic', 'wala', 'proteksyon', 'tapon2', 'yung', 'tubig', 'wipes', 'lng', 'balutin', 'maayos', 'masisisi', 'courier', 'jan', 'kc', 'secure', 'item', 'magleleak', 'wipes', 'lng', 'ibox', 'dame', 'binili', 'wala', 'ayos', 'katamad', 'umorder'], ['laging', 'nacacancel', 'orders', 'kahit', 'paid', 'sayang', 'vouchers', 'discounts', 'pangit', 'packaging', 'hindi', 'helpful', 'customer', 'service'], ['yupi', 'yung', 'ibang', 'wipes', 'basa', 'yung', 'jt', 'pouch', 'upon', 'delivery'], ['napipi', 'pagpackage', 'item', 'pigang', 'piga', 'dumating', 'samin', 'sana', 'maayos', 'package', 'nagbabayad', 'naman', 'tama', 'panget', 'service', 'maganda', 'quality', 'product', 'pagdating', 'buyer', 'ðÿ˜¡ðÿ˜¡ðÿ˜¡ðÿ¤¬ðÿ¤¬'], ['items', 'received', 'leaking', 'always', 'poor', 'packaging', 'hindi', 'maibubble', 'wrap', 'ðÿ™„'], ['2nd', 'time', 'umorder', 'expect', 'magiging', 'maayos', 'yung', 'packaging', 'kase', 'message', 'bfor', 'iship', 'kaso', 'ganun', 'hindi', 'talaga', 'naka', 'bubble', 'wrap', 'yung', 'item', 'nakakadismaya', 'masyado', 'ðÿ¤¦â€\\x8dâ™€ï¸\\x8f'], ['wrong', 'items', 'delivered'], ['first', 'time', 'rate', '1', 'star', 'sorry', 'say', 'but', 'wasnt', 'packed', 'well', 'yes', 'items', 'cheap', 'pero', 'sana', 'exert', 'konting', 'effort', 'seller', 'make', 'sure', 'wouldnt', 'leak', 'super', 'wet', 'yung', 'parcel', 'leak', 'yung', 'wet', 'wipes', 'use', 'buti', 'nalang', '3', 'order'], ['nakakadismaya', 'kulang', 'kulang', 'order', 'babayad', 'tama', 'magpadala', 'kayo', 'items', 'tama', 'oinuoulot', 'pera', 'pinangbabayad'], ['3rd', 'order', 'kona', 'order', 'received', 'kona', 'akala', 'buo', 'item', 'kulang', '4', 'wipes', 'sobrang', 'late', 'nga', 'po', 'delivery', 'inabot', '8days', 'tapos', 'ganto'], ['kindly', 'check', 'message', 'sent', 'message', 'regarding', 'orders', 'order', '40pcs', 'babywipes', 'shop', 'but', 'received', 'only', '38pcs'], ['seller', 'not', 'concerned', 'safety', 'shipping', 'products', 'bubble', 'wrap', 'not', 'place', 'box', 'negative', 'comments', 'many', 'customers', 'seems', 'recurring', 'seller', 'plans', 'improved', 'unless', 'shopee', 'mandate', 'seller', 'innovate', 'else', 'shop', 'suspended'], ['nkakadisappoint', 'kc', 'kulang', 'order', 'sana', 'ayusin', 'nmn', 'muna', 'bago', 'ipaship', 'kc', 'kumpleto', 'nmn', 'bayad', 'item', 'pero', 'kulang', 'yung', 'pinadala'], ['okay', 'sana', 'kaso', 'hndi', 'nilagyan', 'balot', 'bubble', 'wrapped', 'nabutas', 'tskp', 'tskp'], ['yung', 'una', 'inorder', 'kinansel', 'add', 'items', 'ayon', 'nga', 'reviews', 'leakage', 'daw', 'sablay', 'packaging', 'ganyan', 'pm', 'akoang', 'endingwalang', 'bubble', 'wrap', 'literal', 'sabe', 'pack', 'products', 'well', 'ayon', 'nagleak', 'padin', 'anong', 'klaseng', 'packaging'], ['dami', 'order', 'kalat', 'kalat', 'laman', 'walang', 'bubble', 'wrap', 'loob', 'dami', 'order', 'tulad', 'nakikita', 'umuorder', 'galit', 'ata', 'unicare', 'sakin', 'product', 'dko', 'alam', 'dko', 'try', 'sana', 'namn', 'susunod', 'hindi', 'ganito', 'ngayun', 'bigay', 'magandang', 'review'], ['hindi', 'mn', 'lng', 'nilagyan', 'carton', 'loob', 'pra', 'support', 'item', 'yupingyupi', 'wipesðÿ˜žbinabalibag', 'lng', 'courier', 'sure', 'andumi', 'package'], ['mali', 'binigay', 'sakin', 'wipes', 'yung', 'order', 'pi', 'naging', 'diaper', 'huhuhuhu', 'ðÿ˜¢ðÿ˜¢ðÿ˜¢'], ['super', 'nipis', 'panget'], ['sobrang', 'basang', 'basa', 'nakaka', 'inis', 'inayos', 'pack', 'porket', 'dlawa', 'lng', 'binile', 'tuyo', 'tuloy', 'wipes', 'kainisðÿ˜¡'], ['basa', 'parcel', 'pagkadating', 'nagkapirat', 'pirat', 'wipes', 'pano', 'plinastic', '10', 'pcs', 'naman', 'inorder', 'nageffort', 'balutin'], ['basang', 'dumating', 'yung', 'order', 'bwesit', 'tuyo', 'yung', 'wipes', 'effort', 'naman', 'kayo', 'magbalot', 'nyeta'], ['hassle', 'return', 'items', 'please', 'double', 'check', 'product', 'shipping', 'sana', 'inform', 'kayo', 'papalitan', 'ninyo', 'item', 'respect', 'buyer'], ['leaked', 'package', 'wet', 'opened', 'seller', 'put', 'box', 'because', 'know', 'smashed', 'transit', 'product', 'almost', 'dry', 'compared', 'wipes'], ['tagal', 'ship', 'po', 'pero', 'ok', 'item', 'sana', 'mas', 'mabilis', 'next', 'time', 'ðÿ˜', '”'], ['binubble', 'wrap', 'wipes', 'ending', 'lumabas', 'lahat', 'tubig', 'wipes', 'shopee', 'mall', 'naman', 'ganyan', 'ship', 'product'], ['grabe', 'binabble', 'wrap', 'piga', 'yung', 'wipes', 'basangbasa', 'yung', 'plastik', 'kahit', 'kinarton', 'nlng', 'sana', 'daganan', 'napiga'], ['sana', 'po', 'inayos', 'yung', 'package', 'order', 'grabe', 'yung', 'wipes', 'sobrang', 'basa', 'nung', 'bukas', 'order', 'ðÿ˜žðÿ˜ž'], ['manipis', 'parang', 'patuyo'], ['kinda', 'disappointed', 'ðÿ˜\\xad', 'received', 'items', 'tampered', 'first', 'time', 'receiving', 'packaging', 'since', 'balot', 'balot', 'bubble', 'wrap', 'kaya', 'nayupi', 'yupi', 'taking', 'pics', 'tiny', 'buds', 'collection', 'naman', 'cause', 'theyre', 'cute', 'but', 'anyways', 'thankyou', 'hope', 'work', 'baby'], ['hindi', 'hiyang', '1', 'year', 'old', 'toddler', 'tried', 'apply', 'dun', 'bagong', 'healed', 'sugat', 'nagbutlig', 'butlig', 'yung', 'dark', 'mark', 'nakakalungkot', 'lalo', 'instead', 'magpaganda', 'skin', 'nakapangit', 'never', 'use', 'again'], ['bat', 'naman', 'ganun', 'yung', 'packaging', 'hindi', 'okay', 'kasi', 'slimy', 'parang', 'natapon', 'liquid', 'detergent', 'dun', 'plastic', 'lalagyanan', 'kaya', 'nalagyan', 'lahat', 'kasama', 'nung', 'detergent', 'open', 'ayan', 'see', 'pic', 'dumi', 'dumi', 'parang', 'gamit', 'luma', 'items', 'also', 'shipped', 'very', 'late'], ['wrong', 'item', 'dapat', 'color', 'purple', 'sleeping', 'bed', 'time', 'hindi', 'itong', 'calm', 'tummies'], ['filed', 'refund', 'request', 'calm', 'tummies', 'oil', 'since', 'leaked', 'see', 'box', 'bottle', 'wet', 'but', 'seller', 'refused', 'refund', 'asks', 'return', 'item', 'already', 'threw', 'box', 'explained', 'multiple', 'shopee', 'agents', 'but', 'help', 'given', 'shopee', 'mall', 'naman', 'kuno'], ['poor', 'packaging'], ['complained', 'month', 'ago', 'still', '3', 'lacking', 'items', 'not', 'arrived', 'keep', 'telling', 'wait', 'escalation', 'team', 'call', 'guess', 'wait', 'till', 'baby', 'reaches', 'first', 'birthday', 'disappointing', 'call', 'official', 'storeironic', 'more', 'changing', 'rating'], ['poor', 'sale', 'service', 'incomplete', 'items', 'took', 'days', 'nareresolve', 'concern', 'pangalawang', 'beses', 'first', 'nagpadala', 'malapit', 'maexpire', 'knowing', 'marami', 'binili', 'tapos', 'ngayon', 'incomplete'], ['hindi', 'sya', 'effective', 'kay', 'baby', 'â˜¹ï¸\\x8f', 'paubos', 'hindi', 'naepek', 'walang', 'nagbabago', 'maitim', 'yung', 'dark', 'spots', 'ðÿ™\\x81'], ['napaka', 'walang', 'kwenta', 'service', 'ganitong', 'reklamo', 'hindi', 'inaasikaso', 'walang', 'mkakausap', 'maayos', 'tagal', 'mong', 'aantay', 'walang', 'kwentang', 'reply', 'dami', 'reklamo', 'pero', 'walang', 'taga', 'ayos', 'kulang', 'yung', 'item', 'dumating', 'sakin', 'pero', 'wala', 'kayong', 'action', 'tinybudslangwlangkwenta'], ['item', 'delivered', 'wrong', 'disappointed', 'time'], ['yuping', 'yupi', 'naman', 'deliver', 'sakin', 'tsskk'], ['ok', 'received', 'ganyan', 'ok', 'customer', 'service', 'handled', 'issue', 'hehe', 'habol', 'refund', 'hassle', 'masyado', '1h', 'worth', 'product', 'tapos', 'sta', 'cruz', 'laguna', 'calamba', 'haha', 'thanks', 'hehe', 'pero', 'love', 'tiny', 'buds', 'prods', '3'], ['wrong', 'item', 'dont', 'want', 'give', 'refund', 'instead', 'give', 'voucher', 'doesnt', 'work', 'shopee', 'pay', 'asked', 'top', 'more', 'ðÿ¤·ðÿ\\x8f', '»', 'â€\\x8dâ™€ï¸\\x8f', 'want', 'item', 'but', 'almost', 'month', 'talking', 'customer', 'care', 'not', 'sure', 'willing', 'replace', 'lost', 'item', 'ðÿ¤·ðÿ\\x8f', '»', 'â€\\x8dâ™€ï¸\\x8fðÿ¤·ðÿ\\x8f', '»', 'â€\\x8dâ™€ï¸\\x8f'], ['leak', 'yung', 'hand', 'sanitizeri', 'tried', 'contact', 'first', 'rating', 'very', 'disappointednag', 'refund', 'asked', 'ipadala', 'daw', 'mlhuillier', 'item', 'napaka', 'incovenient', 'samin', 'lalo', 'pandemic', 'kaya', 'nga', 'umorder', 'online', 'lalabas', 'lalo', 'baby'], ['tapon', 'tapon', 'sana', 'sineal', 'lanh'], ['shows', 'free', 'gift', 'items', 'attached', 'false', 'advertisement', 'misleading', 'got', 'free', 'gift'], ['received', 'wrong', 'item', 'double', 'check', 'items', 'first', 'shipping', 'return', 'not', 'possible', 'due', 'mecq', 'waste', 'money'], ['ncrmindanao', 'sept9', 'po', 'inorder', 'tapos', 'expected', 'date', 'po', 'dadating', 'yung', 'item', 'ngayong', 'sept29', 'pero', 'nagtaka', 'lng', 'itong', 'scar', 'gel', 'dumatingakala', 'yung', 'item', 'inorder', 'maunakasi', 'nasa', 'shopee', 'account', 'kobut', 'anyway', 'thank', 'shopee'], ['expiration', 'date'], ['received', '3', 'items', 'instead', '4', 'paid', 'same', 'amount', 'locking', 'item'], ['bad', 'seller', 'bad', 'customer', 'service', 'loyalty', 'good', 'bye'], ['amoy', 'pandikit', 'sana', 'tumalab', 'kay', 'baby'], ['sayang', 'maling', 'item', 'nareceive', 'gagamitin', 'naman', 'sana', 'babyhnd', 'rereply', 'seller'], ['nakaka', 'disappoint', 'pinilit', 'isikaik', 'lahat', 'item', 'maliit', 'box', 'yupi', 'tuloy', 'box', 'items', 'yung', 'oil', 'leak', 'ðÿ˜ž'], ['grabe', 'size', '8', 'daw', 'pero', 'more', '2', 'inch', 'yung', 'sobra', 'kahit', 'kapatid', 'size', '9', 'sya', 'anlake', 'paren', 'jusko', 'sayang', 'pera', 'kasinungalingan', 'walang', 'size', '8', 'ganyan'], ['second', 'order', 'missing', 'inside', 'parcel', 'slippers', 'accessories', 'ordered', 'not', 'inside', 'parcel', 'opened', 'parcel', 'since', 'sisterâ€™s', 'birthday', 'but', 'accessories', 'not', 'included', 'refund', 'ship', 'accessories', 'ordered'], ['grabe', 'owner', 'neto', 'puro', 'gasgas', 'ayaw', 'irefund'], ['good', 'luck', 'pang', 'iscam', 'karma', 'upon', 'dont', 'ever', 'order', 'store', 'worst', 'shoper', 'order', 'napaka', 'sinungaling', 'saksak', 'baga', '289', 'abuloy', 'nalang'], ['naman', 'maayos', 'yung', 'pagkakakulay', 'black', 'mark', 'daliri', 'puting', 'paint', 'anong', 'klase', 'bili', 'sunod'], ['subrang', 'disappointed', 'shop', 'nato', 'â˜¹ï¸\\x8fâ˜¹ï¸\\x8f', 'bukod', 'yupi2x', 'yung', 'vitamine', 'nong', 'recieve', 'eh', 'kulang', 'pangbinta', 'kopa', 'naman', 'sana', 'pero', 'yung', 'itchura', 'iwan', 'bibili', 'nitoðÿ˜', '”', 'refund', 'naman', 'yung', 'kulang', 'pero', 'nako', 'ulit', 'oorder', 'shop', 'natoðÿ˜¤'], ['very', 'dissapointed', 'po', 'kase', 'expect', 'dadating', 'order', 'completo', 'pero', 'kulang', 'anyare', 'hoping', 'marecieve', 'order', 'kase', 'nagbayad', 'tama'], ['fakenail', 'inorder', 'dumating', 'saken', 'nail', 'glue', 'anlaki', 'balot', 'napakaliit', 'naman', 'ideniliver', 'sana', 'yung', 'balot', 'nalang', 'binenta', 'niyo'], ['madumi', 'akala', 'nung', 'una', 'yung', 'packaging', 'yung', 'dumi', 'pero', 'pati', 'yung', 'fake', 'nails', 'mismo', 'madumi', 'tapos', 'yung', 'pinky', 'malalaki', 'naman', 'natry', 'hindi', 'ganito'], ['kulang', 'yung', 'item', 'wala', 'yung', 'glue', 'pandikit', 'fake', 'nails', 'nakaka', 'imberna'], ['anobayan', 'walang', 'glue', 'yung', 'binigay', 'paano', 'madidikit'], ['very', 'disappointed', 'shop', '1st', 'pic', 'order', '2nd', 'pic', 'dumating', 'beses', 'ngreach', 'ngyari', 'pero', 'wala', 'feedback', 'porket', 'narelease', 'payment', 'pinansin', 'nakakadala', 'umorder', 'ganito', 'seller', 'stress', 'lng', 'binibigay'], ['diko', 'alam', 'anong', 'bat', 'kulang', 'dumating', 'sakin', 'order', 'naman', 'sabay', 'tas', 'nung', 'ask', 'pic', 'kay', 'seller', 'wala', 'yung', '5pcs', 'glueðÿ˜ƒ', 'sana', 'mas', 'responsible', 'seller', 'over', 'okay', 'naman', 'yung', 'product', 'nakakakunsumi', 'talaga', 'kasi', 'kulang', 'kulang', 'dumating', 'tama', 'naman', 'binaya'], ['nakakadissapoint', 'nmn', 'ninjavan', 'nadelivered', 'daw', 'hndi', 'nmn', 'dumating', 'sakin', 'tagal', 'naghintay', 'gusto', 'product', 'umorder', 'wala', 'akong', 'nilabas', 'pera', 'pero', 'nakakainis', 'lng', 'kasi', 'tagal', 'naghihintay', 'inorder', 'ekis', '100', 'â\\x9dœâ\\x9dœâ\\x9dœâ\\x9dœâ\\x9dœ'], ['kulang', 'set', 'dumating'], ['walang', 'glue', 'naka', 'glue', 'pero', 'wala', 'binuhos', 'boung', 'package', 'pero', 'walang', 'glue', 'really', 'recommend', 'dideliver', 'parcer', 'ninja', 'van', 'didnt', 'deliver', 'adress', 'not', 'right'], ['kulang', 'yung', 'product', 'dumating'], ['tanga', 'nmang', 'seller', 'violet', 'yung', 'pinadalang', 'kulay', 'ibaanlinawng', 'sinabi', 'kosa', 'sunod', 'naman', 'ayusin', 'nio', 'nagbabayad', 'kmi', 'maayos'], ['paki', 'ayos', 'po', 'yung', 'order', 'susunod', 'kulang', 'po', '5', 'glue', 'yung', 'inorder', 'kopo', 'sayang', 'po', 'yung', '20', 'pesos'], ['seller', 'sent', 'wrong', 'item', 'wasnt', 'even', 'responding', 'back', 'know', 'item', 'cost', 'less', 'but', 'still', 'expectations', 'werent', 'met', 'disappointing'], ['pangalawang', 'order', 'unang', 'order', '15', 'pcs', 'panty', 'pero', 'kulang', 'tatlo', 'dumating', 'ngayon', 'naman', 'mali', 'yung', 'itemproduct', 'kulay', 'size', 'kahit', 'message', 'naman', 'kay', 'seller', 'paki', 'double', 'check', 'hindi', 'refundreturn', 'hassle', 'anyway', 'salamat', 'po', 'seller'], ['worst', 'shop', 'ever', 'seller', 'gave', 'wrong', 'colors', 'without', 'telling', 'beforehand', 'seller', 'also', 'assured', 'items', 'correct', 'but', 'apparently', 'lie', 'not', 'order'], ['kulang', 'silicon', 'nipple', 'cover', 'bra', 'pas', 'dalawa', 'recieve', 'busy', 'siguro', 'seller', 'kasi', 'ayaw', 'rereply', '2', 'days', 'akong', 'naghihintaysana', 'reply', 'seller'], ['seller', 'sent', 'wrong', 'colors', 'without', 'reading', 'remarks', 'informing', 'buyer', 'first', 'basta', 'makabenta', 'gunggong', 'papangit', 'naman', 'benta', 'niyo', 'yung', 'bra', 'parang', 'basahan', 'nipis', 'marunong', 'magreply', 'puro', 'autoreply', 'bobo', 'never', 'order', 'again'], ['quality', 'not', 'good', 'also', 'seller', 'sent', 'wrong', 'sizes', 'but', 'still', 'refused', 'give', 'refund', 'even', 'though', 'fault'], ['never', 'received', 'item', 'contacted', 'seller', 'but', 'not', 'responsive', 'ðÿ', '‘', 'ž'], ['mali', 'yung', 'item', 'sinend'], ['kulang', 'kulang', 'binigay'], ['tinipid', 'tela', 'ibang', 'yung', 'nasa', 'picture', 'ðÿ', '‘', 'ž'], ['hindi', 'madikit'], ['kulang', 'pinadala', 'tapos', 'hindi', 'manlang', 'marunong', 'humingi', 'tawad', 'seller', 'kahit', 'mali', 'ask', 'pera', 'refund', 'binayad', 'pero', 'parang', 'abala', 'hindi', 'double', 'check', 'items', 'super', 'poor', 'service'], ['wag', 'magexpect', '25', 'binayad', 'ðÿ˜…'], ['hindi', 'yung', 'nabili', 'dati', 'mas', 'numipis', 'ngayon', 'compare', 'dati', 'kahit', 'mabasa', 'ok', 'hindi', 'natatanggal', 'yung', 'dikit', 'pero', 'itong', 'bago', 'manipis', 'natatanggal', 'yung', 'dikit'], ['didnt', 'receive', 'item'], ['not', 'recommendable', 'ordered', '4', 'pairs', 'nipple', 'tape', 'but', 'received', '1', 'pair', 'only', 'unfortunately', 'donâ€™t', 'reply', 'message'], ['bad', 'experience', 'kuwang', 'yung', 'panties', 'order'], ['satisfied', 'panget', 'quality', 'binigay', 'manipis', 'walang', 'adjustan', 'tulad', 'nung', 'adjustan', 'bilis', 'netong', 'mabanat'], ['not', 'sticky'], ['hindi', 'madikit', 'laki', 'size'], ['hindi', 'maganda', 'packaging', 'masyadong', 'manipis']]\n"
          ]
        }
      ]
    },
    {
      "cell_type": "code",
      "metadata": {
        "id": "1ap8vwBhWAk_"
      },
      "source": [
        "result = [' '.join(sen) for sen in filtered_words]"
      ],
      "execution_count": 232,
      "outputs": []
    },
    {
      "cell_type": "code",
      "metadata": {
        "id": "67koBhdNWAk_"
      },
      "source": [
        "data['Text_Final'] = result"
      ],
      "execution_count": 233,
      "outputs": []
    },
    {
      "cell_type": "code",
      "metadata": {
        "id": "YzPLNIBDWAk_"
      },
      "source": [
        "data['tokens'] = filtered_words"
      ],
      "execution_count": 234,
      "outputs": []
    },
    {
      "cell_type": "code",
      "metadata": {
        "colab": {
          "base_uri": "https://localhost:8080/"
        },
        "id": "837_OlNz1zJk",
        "outputId": "ed971f50-fd6d-4712-a7f7-814ea2e7e86a"
      },
      "source": [
        "len(data['tokens'])"
      ],
      "execution_count": 235,
      "outputs": [
        {
          "output_type": "execute_result",
          "data": {
            "text/plain": [
              "3002"
            ]
          },
          "metadata": {},
          "execution_count": 235
        }
      ]
    },
    {
      "cell_type": "markdown",
      "metadata": {
        "id": "-LLZc4yW3JfP"
      },
      "source": [
        ""
      ]
    },
    {
      "cell_type": "code",
      "metadata": {
        "id": "YdpnEx4QWAlA"
      },
      "source": [
        "data = data[['Text_Final', 'tokens', 'Label', 'Pos','Neu', 'Neg']]"
      ],
      "execution_count": 236,
      "outputs": []
    },
    {
      "cell_type": "code",
      "metadata": {
        "colab": {
          "base_uri": "https://localhost:8080/",
          "height": 112
        },
        "id": "MfG7C18fWAlA",
        "outputId": "fce9615c-0a1f-44ce-a8ef-ddadb4d75a6a"
      },
      "source": [
        "data[:2]"
      ],
      "execution_count": 237,
      "outputs": [
        {
          "output_type": "execute_result",
          "data": {
            "text/html": [
              "<div>\n",
              "<style scoped>\n",
              "    .dataframe tbody tr th:only-of-type {\n",
              "        vertical-align: middle;\n",
              "    }\n",
              "\n",
              "    .dataframe tbody tr th {\n",
              "        vertical-align: top;\n",
              "    }\n",
              "\n",
              "    .dataframe thead th {\n",
              "        text-align: right;\n",
              "    }\n",
              "</style>\n",
              "<table border=\"1\" class=\"dataframe\">\n",
              "  <thead>\n",
              "    <tr style=\"text-align: right;\">\n",
              "      <th></th>\n",
              "      <th>Text_Final</th>\n",
              "      <th>tokens</th>\n",
              "      <th>Label</th>\n",
              "      <th>Pos</th>\n",
              "      <th>Neu</th>\n",
              "      <th>Neg</th>\n",
              "    </tr>\n",
              "  </thead>\n",
              "  <tbody>\n",
              "    <tr>\n",
              "      <th>0</th>\n",
              "      <td>super ganda sya kasyang kasya like thank selle...</td>\n",
              "      <td>[super, ganda, sya, kasyang, kasya, like, than...</td>\n",
              "      <td>2</td>\n",
              "      <td>1</td>\n",
              "      <td>0</td>\n",
              "      <td>0</td>\n",
              "    </tr>\n",
              "    <tr>\n",
              "      <th>1</th>\n",
              "      <td>maganda naman siyaaaaa bilis magship item</td>\n",
              "      <td>[maganda, naman, siyaaaaa, bilis, magship, item]</td>\n",
              "      <td>2</td>\n",
              "      <td>1</td>\n",
              "      <td>0</td>\n",
              "      <td>0</td>\n",
              "    </tr>\n",
              "  </tbody>\n",
              "</table>\n",
              "</div>"
            ],
            "text/plain": [
              "                                          Text_Final  ... Neg\n",
              "0  super ganda sya kasyang kasya like thank selle...  ...   0\n",
              "1          maganda naman siyaaaaa bilis magship item  ...   0\n",
              "\n",
              "[2 rows x 6 columns]"
            ]
          },
          "metadata": {},
          "execution_count": 237
        }
      ]
    },
    {
      "cell_type": "markdown",
      "metadata": {
        "id": "Hm66jfuxWAlA"
      },
      "source": [
        "### Split data into test and train"
      ]
    },
    {
      "cell_type": "code",
      "metadata": {
        "id": "LinNuzf9WAlB"
      },
      "source": [
        "data_train, data_test = train_test_split(data, test_size=0.10, random_state=42)"
      ],
      "execution_count": 238,
      "outputs": []
    },
    {
      "cell_type": "code",
      "metadata": {
        "colab": {
          "base_uri": "https://localhost:8080/"
        },
        "id": "xZfZSJY5E_-L",
        "outputId": "e3713fc7-5b10-4975-bad0-bfad1ff1f6bd"
      },
      "source": [
        "data_train['Label']"
      ],
      "execution_count": 239,
      "outputs": [
        {
          "output_type": "execute_result",
          "data": {
            "text/plain": [
              "2902    0\n",
              "73      2\n",
              "1537    1\n",
              "2638    0\n",
              "621     2\n",
              "       ..\n",
              "1638    1\n",
              "1095    1\n",
              "1130    1\n",
              "1294    1\n",
              "860     2\n",
              "Name: Label, Length: 2701, dtype: int64"
            ]
          },
          "metadata": {},
          "execution_count": 239
        }
      ]
    },
    {
      "cell_type": "code",
      "metadata": {
        "id": "MUufbUDPezEX",
        "colab": {
          "base_uri": "https://localhost:8080/",
          "height": 241
        },
        "outputId": "f9e35b71-c0ff-4094-d5a0-a2858d152582"
      },
      "source": [
        "data_test[:5]"
      ],
      "execution_count": 240,
      "outputs": [
        {
          "output_type": "execute_result",
          "data": {
            "text/html": [
              "<div>\n",
              "<style scoped>\n",
              "    .dataframe tbody tr th:only-of-type {\n",
              "        vertical-align: middle;\n",
              "    }\n",
              "\n",
              "    .dataframe tbody tr th {\n",
              "        vertical-align: top;\n",
              "    }\n",
              "\n",
              "    .dataframe thead th {\n",
              "        text-align: right;\n",
              "    }\n",
              "</style>\n",
              "<table border=\"1\" class=\"dataframe\">\n",
              "  <thead>\n",
              "    <tr style=\"text-align: right;\">\n",
              "      <th></th>\n",
              "      <th>Text_Final</th>\n",
              "      <th>tokens</th>\n",
              "      <th>Label</th>\n",
              "      <th>Pos</th>\n",
              "      <th>Neu</th>\n",
              "      <th>Neg</th>\n",
              "    </tr>\n",
              "  </thead>\n",
              "  <tbody>\n",
              "    <tr>\n",
              "      <th>2786</th>\n",
              "      <td>incomplete packageitem linaw linaw ayos makipa...</td>\n",
              "      <td>[incomplete, packageitem, linaw, linaw, ayos, ...</td>\n",
              "      <td>0</td>\n",
              "      <td>0</td>\n",
              "      <td>0</td>\n",
              "      <td>1</td>\n",
              "    </tr>\n",
              "    <tr>\n",
              "      <th>2148</th>\n",
              "      <td>same right sounds fck</td>\n",
              "      <td>[same, right, sounds, fck]</td>\n",
              "      <td>0</td>\n",
              "      <td>0</td>\n",
              "      <td>0</td>\n",
              "      <td>1</td>\n",
              "    </tr>\n",
              "    <tr>\n",
              "      <th>1410</th>\n",
              "      <td>okay naman pero sure ginagalaw mouse tsaka lal...</td>\n",
              "      <td>[okay, naman, pero, sure, ginagalaw, mouse, ts...</td>\n",
              "      <td>1</td>\n",
              "      <td>0</td>\n",
              "      <td>1</td>\n",
              "      <td>0</td>\n",
              "    </tr>\n",
              "    <tr>\n",
              "      <th>251</th>\n",
              "      <td>maganda subraaa kaso rider napakasungit yung n...</td>\n",
              "      <td>[maganda, subraaa, kaso, rider, napakasungit, ...</td>\n",
              "      <td>2</td>\n",
              "      <td>1</td>\n",
              "      <td>0</td>\n",
              "      <td>0</td>\n",
              "    </tr>\n",
              "    <tr>\n",
              "      <th>2506</th>\n",
              "      <td>nadismaya akod ganun kaganda</td>\n",
              "      <td>[nadismaya, akod, ganun, kaganda]</td>\n",
              "      <td>0</td>\n",
              "      <td>0</td>\n",
              "      <td>0</td>\n",
              "      <td>1</td>\n",
              "    </tr>\n",
              "  </tbody>\n",
              "</table>\n",
              "</div>"
            ],
            "text/plain": [
              "                                             Text_Final  ... Neg\n",
              "2786  incomplete packageitem linaw linaw ayos makipa...  ...   1\n",
              "2148                              same right sounds fck  ...   1\n",
              "1410  okay naman pero sure ginagalaw mouse tsaka lal...  ...   0\n",
              "251   maganda subraaa kaso rider napakasungit yung n...  ...   0\n",
              "2506                       nadismaya akod ganun kaganda  ...   1\n",
              "\n",
              "[5 rows x 6 columns]"
            ]
          },
          "metadata": {},
          "execution_count": 240
        }
      ]
    },
    {
      "cell_type": "code",
      "metadata": {
        "colab": {
          "base_uri": "https://localhost:8080/"
        },
        "id": "5T3YbCFjWAlB",
        "outputId": "7321dfd9-16b6-472b-96dc-9b717b8d193b"
      },
      "source": [
        "all_training_words = [word for tokens in data_train[\"tokens\"] for word in tokens]\n",
        "training_sentence_lengths = [len(tokens) for tokens in data_train[\"tokens\"]]\n",
        "TRAINING_VOCAB = sorted(list(set(all_training_words)))\n",
        "print(\"%s words total, with a vocabulary size of %s\" % (len(all_training_words), len(TRAINING_VOCAB)))\n",
        "print(\"Max sentence length is %s\" % max(training_sentence_lengths))"
      ],
      "execution_count": 241,
      "outputs": [
        {
          "output_type": "stream",
          "name": "stdout",
          "text": [
            "38569 words total, with a vocabulary size of 5916\n",
            "Max sentence length is 199\n"
          ]
        }
      ]
    },
    {
      "cell_type": "code",
      "metadata": {
        "colab": {
          "base_uri": "https://localhost:8080/"
        },
        "id": "E9vMOgjhWAlC",
        "outputId": "11a531b9-f7a8-44f2-caa6-2c7dcb28a050"
      },
      "source": [
        "all_test_words = [word for tokens in data_test[\"tokens\"] for word in tokens]\n",
        "test_sentence_lengths = [len(tokens) for tokens in data_test[\"tokens\"]]\n",
        "TEST_VOCAB = sorted(list(set(all_test_words)))\n",
        "print(\"%s words total, with a vocabulary size of %s\" % (len(all_test_words), len(TEST_VOCAB)))\n",
        "print(\"Max sentence length is %s\" % max(test_sentence_lengths))"
      ],
      "execution_count": 242,
      "outputs": [
        {
          "output_type": "stream",
          "name": "stdout",
          "text": [
            "4194 words total, with a vocabulary size of 1442\n",
            "Max sentence length is 43\n"
          ]
        }
      ]
    },
    {
      "cell_type": "markdown",
      "metadata": {
        "id": "l6QY8eZmWAlC"
      },
      "source": [
        "### Load Google News Word2Vec model"
      ]
    },
    {
      "cell_type": "code",
      "metadata": {
        "id": "8PCvx2xcIfD5",
        "colab": {
          "base_uri": "https://localhost:8080/",
          "height": 105
        },
        "outputId": "f14f717a-51f1-4535-f666-88917420bf05"
      },
      "source": [
        "'''\n",
        "#tagalog model embeddings\n",
        "tagalog_model = gensim.models.KeyedVectors.load_word2vec_format('/content/gdrive/MyDrive/dataset/tagalog/cc.tl.300.vec')\n",
        "\n",
        "#emoji model \n",
        "emoji_model = gensim.models.KeyedVectors.load_word2vec_format('/content/gdrive/MyDrive/dataset/emoji/emoji2vec.bin', binary=True)\n",
        "\n",
        "#word2vec_path = '/content/gdrive/MyDrive/dataset/e/GoogleNews-vectors-negative300.bin.gz'\n",
        "english_model = gensim.models.KeyedVectors.load_word2vec_format('/content/gdrive/MyDrive/dataset/e/GoogleNews-vectors-negative300.bin.gz', binary=True)\n",
        "'''"
      ],
      "execution_count": 243,
      "outputs": [
        {
          "output_type": "execute_result",
          "data": {
            "application/vnd.google.colaboratory.intrinsic+json": {
              "type": "string"
            },
            "text/plain": [
              "\"\\n#tagalog model embeddings\\ntagalog_model = gensim.models.KeyedVectors.load_word2vec_format('/content/gdrive/MyDrive/dataset/tagalog/cc.tl.300.vec')\\n\\n#emoji model \\nemoji_model = gensim.models.KeyedVectors.load_word2vec_format('/content/gdrive/MyDrive/dataset/emoji/emoji2vec.bin', binary=True)\\n\\n#word2vec_path = '/content/gdrive/MyDrive/dataset/e/GoogleNews-vectors-negative300.bin.gz'\\nenglish_model = gensim.models.KeyedVectors.load_word2vec_format('/content/gdrive/MyDrive/dataset/e/GoogleNews-vectors-negative300.bin.gz', binary=True)\\n\""
            ]
          },
          "metadata": {},
          "execution_count": 243
        }
      ]
    },
    {
      "cell_type": "code",
      "metadata": {
        "id": "QwoP378Qjotv"
      },
      "source": [
        ""
      ],
      "execution_count": 243,
      "outputs": []
    },
    {
      "cell_type": "markdown",
      "metadata": {
        "id": "ytveh-gOId2E"
      },
      "source": [
        ""
      ]
    },
    {
      "cell_type": "code",
      "metadata": {
        "id": "DNuiofSeoy1r"
      },
      "source": [
        "i = 0;"
      ],
      "execution_count": 244,
      "outputs": []
    },
    {
      "cell_type": "code",
      "metadata": {
        "id": "QMtbrXb3WAlD"
      },
      "source": [
        "def embeddings(words):\n",
        "\n",
        "  vectorized = []\n",
        "  v = []\n",
        "\n",
        "  for word in words:\n",
        "    v.append(word)\n",
        "\n",
        "    if(word in emoji_model):\n",
        "      #try emoji embeddings first \n",
        "      vector = emoji_model[word]\n",
        "      vectorized.append(vector)\n",
        "      #print(vector)    \n",
        "    else:\n",
        "      if(word in tagalog_model):\n",
        "        #try tagalog embeddings\n",
        "        vector = tagalog_model[word]\n",
        "        vectorized.append(vector)\n",
        "        #print(vector)\n",
        "\n",
        "      else: \n",
        "        if(word in english_model):\n",
        "          #ilagay dito ang english embeddings\n",
        "          vector = english_model[word]\n",
        "          vectorized.append(vector)\n",
        "          #print(vector)\n",
        "        \n",
        "\n",
        "  length = len(vectorized)\n",
        "\n",
        "  summed = np.sum(vectorized, axis=0)\n",
        "  averaged = np.divide(summed, length)\n",
        "  return averaged"
      ],
      "execution_count": 245,
      "outputs": []
    },
    {
      "cell_type": "markdown",
      "metadata": {
        "id": "PKEzAQCR9qTk"
      },
      "source": [
        "GAWA GAWAN EMBEDDINGS"
      ]
    },
    {
      "cell_type": "markdown",
      "metadata": {
        "id": "LLgWUwnfWAlE"
      },
      "source": [
        "### Get Embeddings"
      ]
    },
    {
      "cell_type": "code",
      "metadata": {
        "id": "-UnIrhQhdPTg",
        "colab": {
          "base_uri": "https://localhost:8080/"
        },
        "outputId": "d367d255-de85-450f-b32c-e0386e480626"
      },
      "source": [
        "data_train['tokens']"
      ],
      "execution_count": 246,
      "outputs": [
        {
          "output_type": "execute_result",
          "data": {
            "text/plain": [
              "2902    [lng, binalot, bubble, wrap, basang, basa, mad...\n",
              "73      [ðÿ˜, over, ok, lahat, nung, item, sobrang, s...\n",
              "1537    [okay, sana, kaso, sira, yung, tip, tapos, mak...\n",
              "2638              [parehas, dun, pic, liit, nung, tinted]\n",
              "621     [but, thing, ok, naman, sya, well, pack, kaya,...\n",
              "                              ...                        \n",
              "1638                                        [ok, quality]\n",
              "1095    [okey, sya, medyo, mahina, nga, lng, sakto, pe...\n",
              "1130    [maganda, tela, but, print, not, kasi, madali,...\n",
              "1294    [maganda, naman, kaso, nagustuhan, yung, tela,...\n",
              "860     [super, gandaaaaaaaaaaa, safe, mabilis, dumati...\n",
              "Name: tokens, Length: 2701, dtype: object"
            ]
          },
          "metadata": {},
          "execution_count": 246
        }
      ]
    },
    {
      "cell_type": "code",
      "metadata": {
        "colab": {
          "base_uri": "https://localhost:8080/"
        },
        "id": "Yg5XgGYhfoH-",
        "outputId": "5ceed522-4af2-4450-e7da-f810475be60e"
      },
      "source": [
        "len(data_train)"
      ],
      "execution_count": 247,
      "outputs": [
        {
          "output_type": "execute_result",
          "data": {
            "text/plain": [
              "2701"
            ]
          },
          "metadata": {},
          "execution_count": 247
        }
      ]
    },
    {
      "cell_type": "code",
      "metadata": {
        "id": "heOjSOnU_hxV",
        "colab": {
          "base_uri": "https://localhost:8080/"
        },
        "outputId": "db3248f5-fce3-4ee2-afd2-7b895e3e2d29"
      },
      "source": [
        "training_embeddings = [embeddings(sen) for sen in data_train['tokens']]\n",
        "len(training_embeddings)"
      ],
      "execution_count": 248,
      "outputs": [
        {
          "output_type": "stream",
          "name": "stderr",
          "text": [
            "/usr/local/lib/python3.7/dist-packages/ipykernel_launcher.py:32: RuntimeWarning: invalid value encountered in true_divide\n"
          ]
        },
        {
          "output_type": "execute_result",
          "data": {
            "text/plain": [
              "2701"
            ]
          },
          "metadata": {},
          "execution_count": 248
        }
      ]
    },
    {
      "cell_type": "markdown",
      "metadata": {
        "id": "G1HM7gBc08gG"
      },
      "source": [
        "Get vectors value"
      ]
    },
    {
      "cell_type": "code",
      "metadata": {
        "id": "Bj-b8JBqH_q2"
      },
      "source": [
        ""
      ],
      "execution_count": 248,
      "outputs": []
    },
    {
      "cell_type": "code",
      "metadata": {
        "id": "3D5_CpHNWAlE"
      },
      "source": [
        "MAX_SEQUENCE_LENGTH = 50\n",
        "EMBEDDING_DIM = 300"
      ],
      "execution_count": 249,
      "outputs": []
    },
    {
      "cell_type": "markdown",
      "metadata": {
        "id": "nAFrNHZOm6-F"
      },
      "source": [
        "Get vectors"
      ]
    },
    {
      "cell_type": "code",
      "metadata": {
        "id": "mJCYE-XLnBBo"
      },
      "source": [
        "def getVector(word):\n",
        "\n",
        "  if(word in emoji_model):\n",
        "    #try emoji embeddings first \n",
        "    vector = emoji_model[word]\n",
        "      \n",
        "  else:\n",
        "    if(word in tagalog_model):\n",
        "      #try tagalog embeddings\n",
        "      vector = tagalog_model[word]\n",
        "      \n",
        "\n",
        "    else: \n",
        "      if(word in english_model):\n",
        "        #ilagay dito ang english embeddings\n",
        "        vector = english_model[word]\n",
        "        \n",
        "      else:\n",
        "         vector = np.random.rand(EMBEDDING_DIM)\n",
        "             \n",
        " \n",
        "  length = len(vector)\n",
        "  summed = np.sum(vector, axis=0)\n",
        "  averaged = np.divide(summed, length)\n",
        "  #return averaged\n",
        "  return vector"
      ],
      "execution_count": 250,
      "outputs": []
    },
    {
      "cell_type": "code",
      "metadata": {
        "id": "DmtYb4P8olhd"
      },
      "source": [
        ""
      ],
      "execution_count": 250,
      "outputs": []
    },
    {
      "cell_type": "markdown",
      "metadata": {
        "id": "XwBV_umMWAlE"
      },
      "source": [
        "### Tokenize and Pad sequences"
      ]
    },
    {
      "cell_type": "code",
      "metadata": {
        "colab": {
          "base_uri": "https://localhost:8080/"
        },
        "id": "nY4a0lwmWAlF",
        "outputId": "89fee8b3-4063-49b7-de6c-f7aceb56ffc8"
      },
      "source": [
        "tokenizer = Tokenizer(num_words=len(TRAINING_VOCAB), lower=True, char_level=False)\n",
        "tokenizer.fit_on_texts(data_train[\"Text_Final\"].tolist())\n",
        "training_sequences = tokenizer.texts_to_sequences(data_train[\"Text_Final\"].tolist())\n",
        "\n",
        "train_word_index = tokenizer.word_index\n",
        "print('Found %s unique tokens.' % len(train_word_index))"
      ],
      "execution_count": 251,
      "outputs": [
        {
          "output_type": "stream",
          "name": "stdout",
          "text": [
            "Found 5916 unique tokens.\n"
          ]
        }
      ]
    },
    {
      "cell_type": "code",
      "metadata": {
        "id": "h6LGldhtFCOV",
        "colab": {
          "base_uri": "https://localhost:8080/",
          "height": 53
        },
        "outputId": "5cb53c8e-a9bf-4a29-8b2f-b0faae0d86ca"
      },
      "source": [
        "\n",
        "#import pickle\n",
        "'''\n",
        "with open('tokenizer.pickle', 'wb') as handle:\n",
        "    pickle.dump(tokenizer, handle, protocol=pickle.HIGHEST_PROTOCOL)\n",
        "\n",
        "'''"
      ],
      "execution_count": 252,
      "outputs": [
        {
          "output_type": "execute_result",
          "data": {
            "application/vnd.google.colaboratory.intrinsic+json": {
              "type": "string"
            },
            "text/plain": [
              "\"\\nwith open('tokenizer.pickle', 'wb') as handle:\\n    pickle.dump(tokenizer, handle, protocol=pickle.HIGHEST_PROTOCOL)\\n\\n\""
            ]
          },
          "metadata": {},
          "execution_count": 252
        }
      ]
    },
    {
      "cell_type": "code",
      "metadata": {
        "id": "h3eW90gR4ViA"
      },
      "source": [
        "#training_sequences"
      ],
      "execution_count": 253,
      "outputs": []
    },
    {
      "cell_type": "code",
      "metadata": {
        "id": "BREateftFPc2",
        "colab": {
          "base_uri": "https://localhost:8080/",
          "height": 35
        },
        "outputId": "41663791-673e-47b6-f4d3-8790b1b22235"
      },
      "source": [
        "'''\n",
        "with open('/content/tokenizer.pickle', 'rb') as handle:\n",
        "    tokenizer = pickle.load(handle)\n",
        "'''"
      ],
      "execution_count": 254,
      "outputs": [
        {
          "output_type": "execute_result",
          "data": {
            "application/vnd.google.colaboratory.intrinsic+json": {
              "type": "string"
            },
            "text/plain": [
              "\"\\nwith open('/content/tokenizer.pickle', 'rb') as handle:\\n    tokenizer = pickle.load(handle)\\n\""
            ]
          },
          "metadata": {},
          "execution_count": 254
        }
      ]
    },
    {
      "cell_type": "code",
      "metadata": {
        "id": "7FL2MHy5WAlI"
      },
      "source": [
        "train_cnn_data = pad_sequences(training_sequences, maxlen=MAX_SEQUENCE_LENGTH)"
      ],
      "execution_count": 255,
      "outputs": []
    },
    {
      "cell_type": "code",
      "metadata": {
        "id": "KiD0ziEgjMHL"
      },
      "source": [
        ""
      ],
      "execution_count": 255,
      "outputs": []
    },
    {
      "cell_type": "code",
      "metadata": {
        "colab": {
          "base_uri": "https://localhost:8080/"
        },
        "id": "FwaxMHIBi0aW",
        "outputId": "26dd71e6-09f5-4288-cf97-f37991f71fcc"
      },
      "source": [
        "train_embedding_weights = np.zeros((len(train_word_index)+1, EMBEDDING_DIM))\n",
        "#for word,index in train_word_index.items():\n",
        "  #train_embedding_weights[index,:] =\n",
        "  #print(word)\n",
        "\n",
        "print(len(train_embedding_weights[0]))"
      ],
      "execution_count": 256,
      "outputs": [
        {
          "output_type": "stream",
          "name": "stdout",
          "text": [
            "300\n"
          ]
        }
      ]
    },
    {
      "cell_type": "code",
      "metadata": {
        "colab": {
          "base_uri": "https://localhost:8080/"
        },
        "id": "GWC2igMOWAlI",
        "outputId": "8cf82614-f1f0-46ac-cc2c-4781b61e5381"
      },
      "source": [
        "train_embedding_weights = np.zeros((len(train_word_index)+1, EMBEDDING_DIM))\n",
        "for word,index in train_word_index.items():\n",
        "  train_embedding_weights[index,:] = getVector(word)\n",
        "print(train_embedding_weights.shape)"
      ],
      "execution_count": 257,
      "outputs": [
        {
          "output_type": "stream",
          "name": "stdout",
          "text": [
            "(5917, 300)\n"
          ]
        }
      ]
    },
    {
      "cell_type": "code",
      "metadata": {
        "colab": {
          "base_uri": "https://localhost:8080/"
        },
        "id": "WQvLgTsCkzUF",
        "outputId": "fcb036f3-9b9d-416d-ce80-8b5bc98ed4ff"
      },
      "source": [
        "len(train_embedding_weights)"
      ],
      "execution_count": 258,
      "outputs": [
        {
          "output_type": "execute_result",
          "data": {
            "text/plain": [
              "5917"
            ]
          },
          "metadata": {},
          "execution_count": 258
        }
      ]
    },
    {
      "cell_type": "code",
      "metadata": {
        "id": "CcixiYUBWAlJ"
      },
      "source": [
        "test_sequences = tokenizer.texts_to_sequences(data_test[\"Text_Final\"].tolist())\n",
        "test_cnn_data = pad_sequences(test_sequences, maxlen=MAX_SEQUENCE_LENGTH)"
      ],
      "execution_count": 259,
      "outputs": []
    },
    {
      "cell_type": "code",
      "metadata": {
        "colab": {
          "base_uri": "https://localhost:8080/"
        },
        "id": "kCNQw7jvWWUv",
        "outputId": "d211e1ec-96d1-42c5-d955-a8c6bcb9be8f"
      },
      "source": [
        "print(len(data_test[\"Text_Final\"]))"
      ],
      "execution_count": 260,
      "outputs": [
        {
          "output_type": "stream",
          "name": "stdout",
          "text": [
            "301\n"
          ]
        }
      ]
    },
    {
      "cell_type": "markdown",
      "metadata": {
        "id": "1AcyNeTZWAlJ"
      },
      "source": [
        "### Define CNN"
      ]
    },
    {
      "cell_type": "code",
      "metadata": {
        "id": "V-NkPDgdWAlK"
      },
      "source": [
        "def ConvNet(embeddings, max_sequence_length, num_words, embedding_dim, labels_index):\n",
        "    \n",
        "    embedding_layer = Embedding(num_words,\n",
        "                            embedding_dim,\n",
        "                            weights=[embeddings],\n",
        "                            input_length=max_sequence_length,\n",
        "                            trainable=False)\n",
        "    \n",
        "    sequence_input = Input(shape=(max_sequence_length,), dtype='int32')\n",
        "    embedded_sequences = embedding_layer(sequence_input)\n",
        "\n",
        "    convs = []\n",
        "    filter_sizes = [2,3,4,5]\n",
        "\n",
        "    for filter_size in filter_sizes:\n",
        "        l_conv = Conv1D(filters=200, kernel_size=filter_size, activation='relu')(embedded_sequences)\n",
        "        l_pool = GlobalMaxPooling1D()(l_conv)\n",
        "        convs.append(l_pool)\n",
        "\n",
        "\n",
        "    l_merge = concatenate(convs, axis=1)\n",
        "\n",
        "    x = Dropout(0.1)(l_merge)  \n",
        "    x = Dense(128, activation='relu')(x)\n",
        "    x = Dropout(0.2)(x)\n",
        "    preds = Dense(labels_index, activation='sigmoid')(x)\n",
        "\n",
        "    model = Model(sequence_input, preds)\n",
        "    model.compile(loss='binary_crossentropy',\n",
        "                  optimizer='adam',\n",
        "                  metrics=['acc'])\n",
        "    model.summary()\n",
        "    return model"
      ],
      "execution_count": 261,
      "outputs": []
    },
    {
      "cell_type": "code",
      "metadata": {
        "id": "GCZSasXdWAlK"
      },
      "source": [
        "label_names = ['Pos', 'Neg','Neu']"
      ],
      "execution_count": 262,
      "outputs": []
    },
    {
      "cell_type": "code",
      "metadata": {
        "id": "x3MKSo0VWAlL"
      },
      "source": [
        "y_train = data_train[label_names].values"
      ],
      "execution_count": 263,
      "outputs": []
    },
    {
      "cell_type": "code",
      "metadata": {
        "id": "4IMVSYqxWAlL"
      },
      "source": [
        "x_train = train_cnn_data\n",
        "y_tr = y_train"
      ],
      "execution_count": 264,
      "outputs": []
    },
    {
      "cell_type": "code",
      "metadata": {
        "id": "rrhn4KEkWAlL"
      },
      "source": [
        "model = ConvNet(train_embedding_weights, MAX_SEQUENCE_LENGTH, len(train_word_index)+1, EMBEDDING_DIM, \n",
        "                len(list(label_names)))"
      ],
      "execution_count": null,
      "outputs": []
    },
    {
      "cell_type": "markdown",
      "metadata": {
        "id": "eZ5yzHInWAlM"
      },
      "source": [
        "### Train CNN"
      ]
    },
    {
      "cell_type": "code",
      "metadata": {
        "colab": {
          "base_uri": "https://localhost:8080/"
        },
        "id": "ji22oPtkEAG8",
        "outputId": "395e5a41-f72f-47e5-b213-f85c310bd975"
      },
      "source": [
        "len(x_train)"
      ],
      "execution_count": 266,
      "outputs": [
        {
          "output_type": "execute_result",
          "data": {
            "text/plain": [
              "2701"
            ]
          },
          "metadata": {},
          "execution_count": 266
        }
      ]
    },
    {
      "cell_type": "code",
      "metadata": {
        "id": "qCsfftFSWAlM"
      },
      "source": [
        "num_epochs = 25\n",
        "batch_size = 34"
      ],
      "execution_count": 267,
      "outputs": []
    },
    {
      "cell_type": "code",
      "metadata": {
        "id": "pTdd9RUFWAlM",
        "colab": {
          "base_uri": "https://localhost:8080/"
        },
        "outputId": "76bf7188-576e-48a2-98d3-522a901f9a38"
      },
      "source": [
        "hist = model.fit(x_train, y_tr, epochs=num_epochs, validation_split=0.1, shuffle=True, batch_size=batch_size)\n",
        "#hist = model.fit(train_cnn_data, y_tr, epochs=num_epochs,validation_split=0.1 ,shuffle=True, batch_size=batch_size)"
      ],
      "execution_count": 268,
      "outputs": [
        {
          "output_type": "stream",
          "name": "stdout",
          "text": [
            "Epoch 1/25\n",
            "72/72 [==============================] - 10s 133ms/step - loss: 0.5912 - acc: 0.5247 - val_loss: 0.4457 - val_acc: 0.7417\n",
            "Epoch 2/25\n",
            "72/72 [==============================] - 9s 129ms/step - loss: 0.3819 - acc: 0.7840 - val_loss: 0.2917 - val_acc: 0.8450\n",
            "Epoch 3/25\n",
            "72/72 [==============================] - 9s 129ms/step - loss: 0.2535 - acc: 0.8613 - val_loss: 0.2421 - val_acc: 0.8708\n",
            "Epoch 4/25\n",
            "72/72 [==============================] - 9s 129ms/step - loss: 0.1808 - acc: 0.9119 - val_loss: 0.2819 - val_acc: 0.8229\n",
            "Epoch 5/25\n",
            "72/72 [==============================] - 9s 128ms/step - loss: 0.1260 - acc: 0.9457 - val_loss: 0.2127 - val_acc: 0.8819\n",
            "Epoch 6/25\n",
            "72/72 [==============================] - 9s 129ms/step - loss: 0.0885 - acc: 0.9588 - val_loss: 0.2196 - val_acc: 0.8782\n",
            "Epoch 7/25\n",
            "72/72 [==============================] - 9s 129ms/step - loss: 0.0613 - acc: 0.9761 - val_loss: 0.2240 - val_acc: 0.8782\n",
            "Epoch 8/25\n",
            "72/72 [==============================] - 9s 129ms/step - loss: 0.0389 - acc: 0.9860 - val_loss: 0.2650 - val_acc: 0.8635\n",
            "Epoch 9/25\n",
            "72/72 [==============================] - 9s 130ms/step - loss: 0.0294 - acc: 0.9893 - val_loss: 0.2442 - val_acc: 0.8745\n",
            "Epoch 10/25\n",
            "72/72 [==============================] - 9s 129ms/step - loss: 0.0246 - acc: 0.9926 - val_loss: 0.2904 - val_acc: 0.8487\n",
            "Epoch 11/25\n",
            "72/72 [==============================] - 9s 129ms/step - loss: 0.0195 - acc: 0.9942 - val_loss: 0.2737 - val_acc: 0.8672\n",
            "Epoch 12/25\n",
            "72/72 [==============================] - 9s 129ms/step - loss: 0.0145 - acc: 0.9959 - val_loss: 0.2709 - val_acc: 0.8745\n",
            "Epoch 13/25\n",
            "72/72 [==============================] - 9s 129ms/step - loss: 0.0157 - acc: 0.9942 - val_loss: 0.2763 - val_acc: 0.8708\n",
            "Epoch 14/25\n",
            "72/72 [==============================] - 9s 130ms/step - loss: 0.0104 - acc: 0.9967 - val_loss: 0.2985 - val_acc: 0.8635\n",
            "Epoch 15/25\n",
            "72/72 [==============================] - 9s 129ms/step - loss: 0.0100 - acc: 0.9971 - val_loss: 0.3202 - val_acc: 0.8745\n",
            "Epoch 16/25\n",
            "72/72 [==============================] - 9s 129ms/step - loss: 0.0081 - acc: 0.9975 - val_loss: 0.2832 - val_acc: 0.8782\n",
            "Epoch 17/25\n",
            "72/72 [==============================] - 9s 129ms/step - loss: 0.0080 - acc: 0.9967 - val_loss: 0.2928 - val_acc: 0.8745\n",
            "Epoch 18/25\n",
            "72/72 [==============================] - 9s 129ms/step - loss: 0.0079 - acc: 0.9963 - val_loss: 0.3055 - val_acc: 0.8782\n",
            "Epoch 19/25\n",
            "72/72 [==============================] - 9s 129ms/step - loss: 0.0074 - acc: 0.9975 - val_loss: 0.3318 - val_acc: 0.8782\n",
            "Epoch 20/25\n",
            "72/72 [==============================] - 9s 129ms/step - loss: 0.0053 - acc: 0.9979 - val_loss: 0.3686 - val_acc: 0.8635\n",
            "Epoch 21/25\n",
            "72/72 [==============================] - 9s 130ms/step - loss: 0.0047 - acc: 0.9979 - val_loss: 0.3433 - val_acc: 0.8745\n",
            "Epoch 22/25\n",
            "72/72 [==============================] - 9s 129ms/step - loss: 0.0060 - acc: 0.9971 - val_loss: 0.3798 - val_acc: 0.8635\n",
            "Epoch 23/25\n",
            "72/72 [==============================] - 9s 129ms/step - loss: 0.0086 - acc: 0.9963 - val_loss: 0.3931 - val_acc: 0.8598\n",
            "Epoch 24/25\n",
            "72/72 [==============================] - 9s 129ms/step - loss: 0.0192 - acc: 0.9914 - val_loss: 0.3535 - val_acc: 0.8598\n",
            "Epoch 25/25\n",
            "72/72 [==============================] - 9s 129ms/step - loss: 0.0260 - acc: 0.9872 - val_loss: 1.0660 - val_acc: 0.7565\n"
          ]
        }
      ]
    },
    {
      "cell_type": "code",
      "metadata": {
        "colab": {
          "base_uri": "https://localhost:8080/"
        },
        "id": "Gv2I-818xacX",
        "outputId": "52f7b6b3-3d40-4628-ea2e-dbb45195d94d"
      },
      "source": [
        "MAX_SEQUENCE_LENGTH"
      ],
      "execution_count": 269,
      "outputs": [
        {
          "output_type": "execute_result",
          "data": {
            "text/plain": [
              "50"
            ]
          },
          "metadata": {},
          "execution_count": 269
        }
      ]
    },
    {
      "cell_type": "markdown",
      "metadata": {
        "id": "N0WCinlLWAlN"
      },
      "source": [
        "### Test CNN"
      ]
    },
    {
      "cell_type": "code",
      "metadata": {
        "id": "kvgjkk3TCSXA",
        "colab": {
          "base_uri": "https://localhost:8080/"
        },
        "outputId": "8460119e-c948-4119-a5b4-c35222c257bb"
      },
      "source": [
        "test_cnn_data[3]"
      ],
      "execution_count": 270,
      "outputs": [
        {
          "output_type": "execute_result",
          "data": {
            "text/plain": [
              "array([   0,    0,    0,    0,    0,    0,    0,    0,    0,    0,    0,\n",
              "          0,    0,    0,    0,    0,    0,    0,    0,    0,    0,    0,\n",
              "          0,    0,    0,    0,    0,    0,    0,    0,    0,    0,    0,\n",
              "          0,    0,    0,    0,    0,    0,   13,   16,   95,    1, 1734,\n",
              "        445,    1,  168,    5,   13,    2], dtype=int32)"
            ]
          },
          "metadata": {},
          "execution_count": 270
        }
      ]
    },
    {
      "cell_type": "code",
      "metadata": {
        "colab": {
          "base_uri": "https://localhost:8080/"
        },
        "id": "kiksB5YkWAlN",
        "outputId": "eea418e2-917a-4258-cc41-faad44635f3e"
      },
      "source": [
        "predictions = model.predict(test_cnn_data, batch_size=1024, verbose=1)"
      ],
      "execution_count": 271,
      "outputs": [
        {
          "output_type": "stream",
          "name": "stdout",
          "text": [
            "1/1 [==============================] - 1s 560ms/step\n"
          ]
        }
      ]
    },
    {
      "cell_type": "code",
      "metadata": {
        "id": "AqFwbsh8WAlN"
      },
      "source": [
        "labels = [2,0,1]"
      ],
      "execution_count": 272,
      "outputs": []
    },
    {
      "cell_type": "code",
      "metadata": {
        "id": "Q0NlXL21WAlN"
      },
      "source": [
        "prediction_labels=[]\n",
        "for p in predictions:\n",
        "    prediction_labels.append(labels[np.argmax(p)])"
      ],
      "execution_count": 273,
      "outputs": []
    },
    {
      "cell_type": "code",
      "metadata": {
        "id": "CLNbuSHm3ig6"
      },
      "source": [
        "data_test.Label"
      ],
      "execution_count": null,
      "outputs": []
    },
    {
      "cell_type": "code",
      "metadata": {
        "colab": {
          "base_uri": "https://localhost:8080/"
        },
        "id": "HrieT-t5WAlO",
        "outputId": "e2578678-8bda-4d11-e253-f6c7de7ac695"
      },
      "source": [
        "sum(data_test.Label==prediction_labels)/len(prediction_labels)"
      ],
      "execution_count": 275,
      "outputs": [
        {
          "output_type": "execute_result",
          "data": {
            "text/plain": [
              "0.8205980066445183"
            ]
          },
          "metadata": {},
          "execution_count": 275
        }
      ]
    },
    {
      "cell_type": "code",
      "metadata": {
        "colab": {
          "base_uri": "https://localhost:8080/"
        },
        "id": "0sW6ea71EmrB",
        "outputId": "72714f43-85dc-471b-beb1-93db49638648"
      },
      "source": [
        "pos = 2\n",
        "neg = 0\n",
        "neu = 1\n",
        "\n",
        "for label in prediction_labels:\n",
        "  if(label==0):\n",
        "    neg+=1\n",
        "\n",
        "  if(label==1):\n",
        "    neu+=1\n",
        "\n",
        "  if(label==2):\n",
        "    pos+=1\n",
        "\n",
        "print('Predicted sentiments count:')\n",
        "print('2 :',pos)\n",
        "print('0 :',neg)\n",
        "print('1 :',neu)"
      ],
      "execution_count": 276,
      "outputs": [
        {
          "output_type": "stream",
          "name": "stdout",
          "text": [
            "Predicted sentiments count:\n",
            "2 : 113\n",
            "0 : 133\n",
            "1 : 58\n"
          ]
        }
      ]
    },
    {
      "cell_type": "code",
      "metadata": {
        "colab": {
          "base_uri": "https://localhost:8080/"
        },
        "id": "QknJRwaJWAlO",
        "outputId": "fa042d88-c6bb-4415-c1ae-d70f700c2c5d"
      },
      "source": [
        "print('Test datasets count')\n",
        "data_test.Label.value_counts()"
      ],
      "execution_count": 277,
      "outputs": [
        {
          "output_type": "stream",
          "name": "stdout",
          "text": [
            "Test datasets count\n"
          ]
        },
        {
          "output_type": "execute_result",
          "data": {
            "text/plain": [
              "2    108\n",
              "0    105\n",
              "1     88\n",
              "Name: Label, dtype: int64"
            ]
          },
          "metadata": {},
          "execution_count": 277
        }
      ]
    },
    {
      "cell_type": "code",
      "metadata": {
        "id": "66aNWTtwWAlP",
        "colab": {
          "base_uri": "https://localhost:8080/"
        },
        "outputId": "e57287b7-d581-4846-c8a7-097d34987512"
      },
      "source": [
        "len(prediction_labels)"
      ],
      "execution_count": 278,
      "outputs": [
        {
          "output_type": "execute_result",
          "data": {
            "text/plain": [
              "301"
            ]
          },
          "metadata": {},
          "execution_count": 278
        }
      ]
    },
    {
      "cell_type": "markdown",
      "metadata": {
        "id": "Xy2wB_Yps27m"
      },
      "source": [
        ""
      ]
    },
    {
      "cell_type": "code",
      "metadata": {
        "id": "ixviRu0_0C_t",
        "colab": {
          "base_uri": "https://localhost:8080/"
        },
        "outputId": "58d17d57-afea-4009-c1b6-0a822b3a8171"
      },
      "source": [
        "prediction_labels"
      ],
      "execution_count": 279,
      "outputs": [
        {
          "output_type": "execute_result",
          "data": {
            "text/plain": [
              "[0,\n",
              " 0,\n",
              " 1,\n",
              " 1,\n",
              " 0,\n",
              " 0,\n",
              " 0,\n",
              " 1,\n",
              " 2,\n",
              " 0,\n",
              " 0,\n",
              " 2,\n",
              " 2,\n",
              " 1,\n",
              " 0,\n",
              " 2,\n",
              " 1,\n",
              " 0,\n",
              " 0,\n",
              " 0,\n",
              " 2,\n",
              " 2,\n",
              " 2,\n",
              " 0,\n",
              " 1,\n",
              " 0,\n",
              " 1,\n",
              " 0,\n",
              " 0,\n",
              " 1,\n",
              " 1,\n",
              " 1,\n",
              " 2,\n",
              " 0,\n",
              " 2,\n",
              " 0,\n",
              " 0,\n",
              " 0,\n",
              " 2,\n",
              " 1,\n",
              " 2,\n",
              " 2,\n",
              " 2,\n",
              " 2,\n",
              " 1,\n",
              " 0,\n",
              " 0,\n",
              " 0,\n",
              " 0,\n",
              " 1,\n",
              " 0,\n",
              " 0,\n",
              " 2,\n",
              " 1,\n",
              " 2,\n",
              " 1,\n",
              " 0,\n",
              " 2,\n",
              " 0,\n",
              " 0,\n",
              " 2,\n",
              " 2,\n",
              " 2,\n",
              " 2,\n",
              " 2,\n",
              " 0,\n",
              " 1,\n",
              " 0,\n",
              " 1,\n",
              " 2,\n",
              " 1,\n",
              " 0,\n",
              " 0,\n",
              " 0,\n",
              " 2,\n",
              " 2,\n",
              " 2,\n",
              " 0,\n",
              " 0,\n",
              " 0,\n",
              " 0,\n",
              " 0,\n",
              " 2,\n",
              " 1,\n",
              " 1,\n",
              " 0,\n",
              " 1,\n",
              " 0,\n",
              " 0,\n",
              " 0,\n",
              " 2,\n",
              " 1,\n",
              " 0,\n",
              " 1,\n",
              " 0,\n",
              " 2,\n",
              " 1,\n",
              " 0,\n",
              " 2,\n",
              " 1,\n",
              " 1,\n",
              " 2,\n",
              " 2,\n",
              " 0,\n",
              " 1,\n",
              " 2,\n",
              " 0,\n",
              " 2,\n",
              " 2,\n",
              " 1,\n",
              " 0,\n",
              " 2,\n",
              " 0,\n",
              " 0,\n",
              " 2,\n",
              " 0,\n",
              " 2,\n",
              " 2,\n",
              " 0,\n",
              " 0,\n",
              " 0,\n",
              " 1,\n",
              " 2,\n",
              " 0,\n",
              " 1,\n",
              " 0,\n",
              " 0,\n",
              " 2,\n",
              " 2,\n",
              " 2,\n",
              " 0,\n",
              " 1,\n",
              " 1,\n",
              " 1,\n",
              " 2,\n",
              " 2,\n",
              " 2,\n",
              " 1,\n",
              " 0,\n",
              " 0,\n",
              " 0,\n",
              " 2,\n",
              " 1,\n",
              " 0,\n",
              " 0,\n",
              " 2,\n",
              " 0,\n",
              " 2,\n",
              " 0,\n",
              " 2,\n",
              " 1,\n",
              " 0,\n",
              " 2,\n",
              " 0,\n",
              " 2,\n",
              " 0,\n",
              " 2,\n",
              " 0,\n",
              " 1,\n",
              " 1,\n",
              " 0,\n",
              " 0,\n",
              " 0,\n",
              " 2,\n",
              " 0,\n",
              " 0,\n",
              " 2,\n",
              " 0,\n",
              " 2,\n",
              " 2,\n",
              " 0,\n",
              " 0,\n",
              " 0,\n",
              " 2,\n",
              " 0,\n",
              " 0,\n",
              " 1,\n",
              " 1,\n",
              " 2,\n",
              " 1,\n",
              " 2,\n",
              " 0,\n",
              " 0,\n",
              " 0,\n",
              " 2,\n",
              " 2,\n",
              " 2,\n",
              " 0,\n",
              " 0,\n",
              " 2,\n",
              " 2,\n",
              " 0,\n",
              " 2,\n",
              " 2,\n",
              " 0,\n",
              " 0,\n",
              " 2,\n",
              " 1,\n",
              " 2,\n",
              " 2,\n",
              " 0,\n",
              " 0,\n",
              " 2,\n",
              " 0,\n",
              " 1,\n",
              " 0,\n",
              " 0,\n",
              " 2,\n",
              " 2,\n",
              " 2,\n",
              " 0,\n",
              " 2,\n",
              " 1,\n",
              " 0,\n",
              " 2,\n",
              " 2,\n",
              " 2,\n",
              " 2,\n",
              " 1,\n",
              " 1,\n",
              " 0,\n",
              " 1,\n",
              " 2,\n",
              " 0,\n",
              " 2,\n",
              " 2,\n",
              " 2,\n",
              " 0,\n",
              " 0,\n",
              " 0,\n",
              " 0,\n",
              " 1,\n",
              " 0,\n",
              " 2,\n",
              " 2,\n",
              " 0,\n",
              " 2,\n",
              " 1,\n",
              " 0,\n",
              " 2,\n",
              " 0,\n",
              " 2,\n",
              " 0,\n",
              " 0,\n",
              " 2,\n",
              " 2,\n",
              " 0,\n",
              " 2,\n",
              " 2,\n",
              " 0,\n",
              " 0,\n",
              " 0,\n",
              " 2,\n",
              " 0,\n",
              " 2,\n",
              " 0,\n",
              " 1,\n",
              " 0,\n",
              " 0,\n",
              " 0,\n",
              " 2,\n",
              " 0,\n",
              " 2,\n",
              " 0,\n",
              " 2,\n",
              " 2,\n",
              " 0,\n",
              " 0,\n",
              " 0,\n",
              " 0,\n",
              " 0,\n",
              " 1,\n",
              " 0,\n",
              " 2,\n",
              " 1,\n",
              " 2,\n",
              " 1,\n",
              " 0,\n",
              " 2,\n",
              " 0,\n",
              " 0,\n",
              " 2,\n",
              " 2,\n",
              " 2,\n",
              " 2,\n",
              " 0,\n",
              " 2,\n",
              " 0,\n",
              " 2,\n",
              " 2,\n",
              " 1,\n",
              " 0,\n",
              " 1,\n",
              " 1,\n",
              " 0,\n",
              " 0,\n",
              " 2,\n",
              " 0,\n",
              " 1,\n",
              " 2,\n",
              " 2]"
            ]
          },
          "metadata": {},
          "execution_count": 279
        }
      ]
    },
    {
      "cell_type": "code",
      "metadata": {
        "id": "m3aaafsUrosb"
      },
      "source": [
        "model.save('tag-lish_cnn.h5')\n",
        "import keras"
      ],
      "execution_count": 280,
      "outputs": []
    },
    {
      "cell_type": "code",
      "metadata": {
        "id": "drmTHjdurxQ-"
      },
      "source": [
        "m = keras.models.load_model('/content/tag-lish_cnn.h5')"
      ],
      "execution_count": 281,
      "outputs": []
    },
    {
      "cell_type": "code",
      "metadata": {
        "id": "Ns2M2Sy2vDwG",
        "colab": {
          "base_uri": "https://localhost:8080/"
        },
        "outputId": "044de59f-966c-4f8a-9952-f38f5d35759e"
      },
      "source": [
        "predictions = m.predict(test_cnn_data, batch_size=1024, verbose=1)"
      ],
      "execution_count": 282,
      "outputs": [
        {
          "output_type": "stream",
          "name": "stdout",
          "text": [
            "1/1 [==============================] - 1s 541ms/step\n"
          ]
        }
      ]
    },
    {
      "cell_type": "code",
      "metadata": {
        "id": "jlqo8V3zwEbP"
      },
      "source": [
        "prediction_labels=[]\n",
        "for p in predictions:\n",
        "    prediction_labels.append(labels[np.argmax(p)])"
      ],
      "execution_count": 283,
      "outputs": []
    },
    {
      "cell_type": "code",
      "metadata": {
        "id": "9PiZP5kPwiWx",
        "colab": {
          "base_uri": "https://localhost:8080/"
        },
        "outputId": "b6ffb99f-9335-4449-e93d-13a1069b2dce"
      },
      "source": [
        "prediction_labels"
      ],
      "execution_count": 284,
      "outputs": [
        {
          "output_type": "execute_result",
          "data": {
            "text/plain": [
              "[0,\n",
              " 0,\n",
              " 1,\n",
              " 1,\n",
              " 0,\n",
              " 0,\n",
              " 0,\n",
              " 1,\n",
              " 2,\n",
              " 0,\n",
              " 0,\n",
              " 2,\n",
              " 2,\n",
              " 1,\n",
              " 0,\n",
              " 2,\n",
              " 1,\n",
              " 0,\n",
              " 0,\n",
              " 0,\n",
              " 2,\n",
              " 2,\n",
              " 2,\n",
              " 0,\n",
              " 1,\n",
              " 0,\n",
              " 1,\n",
              " 0,\n",
              " 0,\n",
              " 1,\n",
              " 1,\n",
              " 1,\n",
              " 2,\n",
              " 0,\n",
              " 2,\n",
              " 0,\n",
              " 0,\n",
              " 0,\n",
              " 2,\n",
              " 1,\n",
              " 2,\n",
              " 2,\n",
              " 2,\n",
              " 2,\n",
              " 1,\n",
              " 0,\n",
              " 0,\n",
              " 0,\n",
              " 0,\n",
              " 1,\n",
              " 0,\n",
              " 0,\n",
              " 2,\n",
              " 1,\n",
              " 2,\n",
              " 1,\n",
              " 0,\n",
              " 2,\n",
              " 0,\n",
              " 0,\n",
              " 2,\n",
              " 2,\n",
              " 2,\n",
              " 2,\n",
              " 2,\n",
              " 0,\n",
              " 1,\n",
              " 0,\n",
              " 1,\n",
              " 2,\n",
              " 1,\n",
              " 0,\n",
              " 0,\n",
              " 0,\n",
              " 2,\n",
              " 2,\n",
              " 2,\n",
              " 0,\n",
              " 0,\n",
              " 0,\n",
              " 0,\n",
              " 0,\n",
              " 2,\n",
              " 1,\n",
              " 1,\n",
              " 0,\n",
              " 1,\n",
              " 0,\n",
              " 0,\n",
              " 0,\n",
              " 2,\n",
              " 1,\n",
              " 0,\n",
              " 1,\n",
              " 0,\n",
              " 2,\n",
              " 1,\n",
              " 0,\n",
              " 2,\n",
              " 1,\n",
              " 1,\n",
              " 2,\n",
              " 2,\n",
              " 0,\n",
              " 1,\n",
              " 2,\n",
              " 0,\n",
              " 2,\n",
              " 2,\n",
              " 1,\n",
              " 0,\n",
              " 2,\n",
              " 0,\n",
              " 0,\n",
              " 2,\n",
              " 0,\n",
              " 2,\n",
              " 2,\n",
              " 0,\n",
              " 0,\n",
              " 0,\n",
              " 1,\n",
              " 2,\n",
              " 0,\n",
              " 1,\n",
              " 0,\n",
              " 0,\n",
              " 2,\n",
              " 2,\n",
              " 2,\n",
              " 0,\n",
              " 1,\n",
              " 1,\n",
              " 1,\n",
              " 2,\n",
              " 2,\n",
              " 2,\n",
              " 1,\n",
              " 0,\n",
              " 0,\n",
              " 0,\n",
              " 2,\n",
              " 1,\n",
              " 0,\n",
              " 0,\n",
              " 2,\n",
              " 0,\n",
              " 2,\n",
              " 0,\n",
              " 2,\n",
              " 1,\n",
              " 0,\n",
              " 2,\n",
              " 0,\n",
              " 2,\n",
              " 0,\n",
              " 2,\n",
              " 0,\n",
              " 1,\n",
              " 1,\n",
              " 0,\n",
              " 0,\n",
              " 0,\n",
              " 2,\n",
              " 0,\n",
              " 0,\n",
              " 2,\n",
              " 0,\n",
              " 2,\n",
              " 2,\n",
              " 0,\n",
              " 0,\n",
              " 0,\n",
              " 2,\n",
              " 0,\n",
              " 0,\n",
              " 1,\n",
              " 1,\n",
              " 2,\n",
              " 1,\n",
              " 2,\n",
              " 0,\n",
              " 0,\n",
              " 0,\n",
              " 2,\n",
              " 2,\n",
              " 2,\n",
              " 0,\n",
              " 0,\n",
              " 2,\n",
              " 2,\n",
              " 0,\n",
              " 2,\n",
              " 2,\n",
              " 0,\n",
              " 0,\n",
              " 2,\n",
              " 1,\n",
              " 2,\n",
              " 2,\n",
              " 0,\n",
              " 0,\n",
              " 2,\n",
              " 0,\n",
              " 1,\n",
              " 0,\n",
              " 0,\n",
              " 2,\n",
              " 2,\n",
              " 2,\n",
              " 0,\n",
              " 2,\n",
              " 1,\n",
              " 0,\n",
              " 2,\n",
              " 2,\n",
              " 2,\n",
              " 2,\n",
              " 1,\n",
              " 1,\n",
              " 0,\n",
              " 1,\n",
              " 2,\n",
              " 0,\n",
              " 2,\n",
              " 2,\n",
              " 2,\n",
              " 0,\n",
              " 0,\n",
              " 0,\n",
              " 0,\n",
              " 1,\n",
              " 0,\n",
              " 2,\n",
              " 2,\n",
              " 0,\n",
              " 2,\n",
              " 1,\n",
              " 0,\n",
              " 2,\n",
              " 0,\n",
              " 2,\n",
              " 0,\n",
              " 0,\n",
              " 2,\n",
              " 2,\n",
              " 0,\n",
              " 2,\n",
              " 2,\n",
              " 0,\n",
              " 0,\n",
              " 0,\n",
              " 2,\n",
              " 0,\n",
              " 2,\n",
              " 0,\n",
              " 1,\n",
              " 0,\n",
              " 0,\n",
              " 0,\n",
              " 2,\n",
              " 0,\n",
              " 2,\n",
              " 0,\n",
              " 2,\n",
              " 2,\n",
              " 0,\n",
              " 0,\n",
              " 0,\n",
              " 0,\n",
              " 0,\n",
              " 1,\n",
              " 0,\n",
              " 2,\n",
              " 1,\n",
              " 2,\n",
              " 1,\n",
              " 0,\n",
              " 2,\n",
              " 0,\n",
              " 0,\n",
              " 2,\n",
              " 2,\n",
              " 2,\n",
              " 2,\n",
              " 0,\n",
              " 2,\n",
              " 0,\n",
              " 2,\n",
              " 2,\n",
              " 1,\n",
              " 0,\n",
              " 1,\n",
              " 1,\n",
              " 0,\n",
              " 0,\n",
              " 2,\n",
              " 0,\n",
              " 1,\n",
              " 2,\n",
              " 2]"
            ]
          },
          "metadata": {},
          "execution_count": 284
        }
      ]
    },
    {
      "cell_type": "markdown",
      "metadata": {
        "id": "2K0PUQVO_I2r"
      },
      "source": [
        "pang ayos ng input"
      ]
    },
    {
      "cell_type": "code",
      "metadata": {
        "id": "6zKDT3Im7AHf"
      },
      "source": [
        "input = \"Sayang 30 pang load din sana\"\n"
      ],
      "execution_count": 285,
      "outputs": []
    },
    {
      "cell_type": "markdown",
      "metadata": {
        "id": "JOPFfBSidaH2"
      },
      "source": [
        ""
      ]
    },
    {
      "cell_type": "code",
      "metadata": {
        "id": "OlttYgPIMnzY"
      },
      "source": [
        "def listToString(s): \n",
        "    \n",
        "    # initialize an empty string\n",
        "    str1 = \" \" \n",
        "    \n",
        "    # return string  \n",
        "    return (str1.join(s))"
      ],
      "execution_count": 286,
      "outputs": []
    },
    {
      "cell_type": "code",
      "metadata": {
        "id": "pG4Xh4Np7AaP",
        "colab": {
          "base_uri": "https://localhost:8080/",
          "height": 235
        },
        "outputId": "6dafbcfc-d6fd-4e29-9440-09cf90f8179c"
      },
      "source": [
        "clean = remove_punct(input)\n",
        "clean= word_tokenize(clean)\n",
        "clean = lowerStemmer(clean)\n",
        "clean = removeStopWords(clean)\n",
        "clean = removeTagalogStopWords(clean)\n",
        "print('clean',clean)\n",
        "input = listToString(clean)\n",
        "print(input)\n",
        "\n",
        "data['input'] = input\n",
        "\n",
        "clean_sequences  = tokenizer.texts_to_sequences(data['input'].tolist())\n",
        "clean_input = pad_sequences(clean_sequences, maxlen=MAX_SEQUENCE_LENGTH)\n",
        "print(clean_input[0:1])"
      ],
      "execution_count": 287,
      "outputs": [
        {
          "output_type": "error",
          "ename": "NameError",
          "evalue": "ignored",
          "traceback": [
            "\u001b[0;31m---------------------------------------------------------------------------\u001b[0m",
            "\u001b[0;31mNameError\u001b[0m                                 Traceback (most recent call last)",
            "\u001b[0;32m<ipython-input-287-7d7862b4963a>\u001b[0m in \u001b[0;36m<module>\u001b[0;34m()\u001b[0m\n\u001b[1;32m      3\u001b[0m \u001b[0mclean\u001b[0m \u001b[0;34m=\u001b[0m \u001b[0mlowerStemmer\u001b[0m\u001b[0;34m(\u001b[0m\u001b[0mclean\u001b[0m\u001b[0;34m)\u001b[0m\u001b[0;34m\u001b[0m\u001b[0;34m\u001b[0m\u001b[0m\n\u001b[1;32m      4\u001b[0m \u001b[0mclean\u001b[0m \u001b[0;34m=\u001b[0m \u001b[0mremoveStopWords\u001b[0m\u001b[0;34m(\u001b[0m\u001b[0mclean\u001b[0m\u001b[0;34m)\u001b[0m\u001b[0;34m\u001b[0m\u001b[0;34m\u001b[0m\u001b[0m\n\u001b[0;32m----> 5\u001b[0;31m \u001b[0mclean\u001b[0m \u001b[0;34m=\u001b[0m \u001b[0mremoveTagalogStopWords\u001b[0m\u001b[0;34m(\u001b[0m\u001b[0mclean\u001b[0m\u001b[0;34m)\u001b[0m\u001b[0;34m\u001b[0m\u001b[0;34m\u001b[0m\u001b[0m\n\u001b[0m\u001b[1;32m      6\u001b[0m \u001b[0mprint\u001b[0m\u001b[0;34m(\u001b[0m\u001b[0;34m'clean'\u001b[0m\u001b[0;34m,\u001b[0m\u001b[0mclean\u001b[0m\u001b[0;34m)\u001b[0m\u001b[0;34m\u001b[0m\u001b[0;34m\u001b[0m\u001b[0m\n\u001b[1;32m      7\u001b[0m \u001b[0minput\u001b[0m \u001b[0;34m=\u001b[0m \u001b[0mlistToString\u001b[0m\u001b[0;34m(\u001b[0m\u001b[0mclean\u001b[0m\u001b[0;34m)\u001b[0m\u001b[0;34m\u001b[0m\u001b[0;34m\u001b[0m\u001b[0m\n",
            "\u001b[0;31mNameError\u001b[0m: name 'removeTagalogStopWords' is not defined"
          ]
        }
      ]
    },
    {
      "cell_type": "markdown",
      "metadata": {
        "id": "E86be2gMAR-D"
      },
      "source": [
        "PREDICT"
      ]
    },
    {
      "cell_type": "code",
      "metadata": {
        "id": "BvmPTkDyAV4p"
      },
      "source": [
        "input_predictions = model.predict(clean_input[0:1], batch_size=1024, verbose=1)"
      ],
      "execution_count": null,
      "outputs": []
    },
    {
      "cell_type": "code",
      "metadata": {
        "id": "sS4ZSAszAs6L"
      },
      "source": [
        "input_prediction_labels=[]\n",
        "for p in input_predictions:\n",
        "  print(p)\n",
        "  input_prediction_labels.append(labels[np.argmax(p)])"
      ],
      "execution_count": null,
      "outputs": []
    },
    {
      "cell_type": "code",
      "metadata": {
        "id": "TibpA3cFHSSG"
      },
      "source": [
        "print(input_prediction_labels)"
      ],
      "execution_count": null,
      "outputs": []
    },
    {
      "cell_type": "markdown",
      "metadata": {
        "id": "mhYtKsRjDQvD"
      },
      "source": [
        "Tagalog-English Stopwords"
      ]
    },
    {
      "cell_type": "code",
      "metadata": {
        "id": "7kcnOS40AZ5B"
      },
      "source": [
        "len(TRAINING_VOCAB)"
      ],
      "execution_count": null,
      "outputs": []
    },
    {
      "cell_type": "code",
      "metadata": {
        "id": "KIGc_NBEiB56"
      },
      "source": [
        "#!pip install emoji"
      ],
      "execution_count": null,
      "outputs": []
    },
    {
      "cell_type": "code",
      "metadata": {
        "id": "M3PxkWEAhmD4"
      },
      "source": [
        "\n",
        "from emoji import UNICODE_EMOJI\n",
        "\n",
        "# search your emoji\n",
        "def is_emoji(s):\n",
        "    return s in UNICODE_EMOJI['en']\n"
      ],
      "execution_count": null,
      "outputs": []
    },
    {
      "cell_type": "code",
      "metadata": {
        "id": "ow_VKmI-hoYF"
      },
      "source": [
        "import re\n",
        "\n",
        "string = \"at gh❤️ time❤️ 🥰🤩🥰  what time ?\"\n",
        "string_token = word_tokenize(string)\n",
        "\n",
        "tokens = []\n",
        "\n",
        "for token in string_token:\n",
        "  tokens.append(token)\n",
        "  for i in range(len(token)):\n",
        "    if(is_emoji(token[i])):\n",
        "      tokens.append(token[i])\n",
        "\n",
        "\n",
        "print(tokens)"
      ],
      "execution_count": null,
      "outputs": []
    }
  ]
}